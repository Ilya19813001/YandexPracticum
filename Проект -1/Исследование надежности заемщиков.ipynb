{
 "cells": [
  {
   "cell_type": "markdown",
   "id": "bd16b56d",
   "metadata": {
    "deletable": false,
    "editable": false,
    "id": "c81daeeb"
   },
   "source": [
    "# Исследование надежности заемщиков\n"
   ]
  },
  {
   "cell_type": "markdown",
   "id": "094dc21c",
   "metadata": {
    "deletable": false,
    "editable": false,
    "id": "827c20bf"
   },
   "source": [
    "Во второй части проекта вы выполните шаги 3 и 4. Их вручную проверит ревьюер.\n",
    "Чтобы вам не пришлось писать код заново для шагов 1 и 2, мы добавили авторские решения в ячейки с кодом. \n",
    "\n"
   ]
  },
  {
   "cell_type": "markdown",
   "id": "73776c13",
   "metadata": {
    "deletable": false,
    "editable": false,
    "id": "744d7639"
   },
   "source": [
    "## Откройте таблицу и изучите общую информацию о данных"
   ]
  },
  {
   "cell_type": "markdown",
   "id": "2bb42808",
   "metadata": {
    "deletable": false,
    "editable": false,
    "id": "e7a14c31"
   },
   "source": [
    "**Задание 1. Импортируйте библиотеку pandas. Считайте данные из csv-файла в датафрейм и сохраните в переменную `data`. Путь к файлу:**\n",
    "\n",
    "`/datasets/data.csv`"
   ]
  },
  {
   "cell_type": "code",
   "execution_count": 1,
   "id": "108c2ce0",
   "metadata": {
    "deletable": false,
    "id": "7bcf75c9"
   },
   "outputs": [],
   "source": [
    "import pandas as pd\n",
    "\n",
    "try:\n",
    "    data = pd.read_csv('/datasets/data.csv')\n",
    "except:\n",
    "    data = pd.read_csv('https://code.s3.yandex.net/datasets/data.csv')"
   ]
  },
  {
   "cell_type": "markdown",
   "id": "812fdcfa",
   "metadata": {
    "deletable": false,
    "editable": false,
    "id": "b8038fe3"
   },
   "source": [
    "**Задание 2. Выведите первые 20 строчек датафрейма `data` на экран.**"
   ]
  },
  {
   "cell_type": "code",
   "execution_count": 2,
   "id": "09d73786",
   "metadata": {
    "deletable": false,
    "id": "2a7cab99",
    "outputId": "1a8f3ef2-d323-4ec2-ddf7-89670b5944c4"
   },
   "outputs": [
    {
     "data": {
      "text/html": [
       "<div>\n",
       "<style scoped>\n",
       "    .dataframe tbody tr th:only-of-type {\n",
       "        vertical-align: middle;\n",
       "    }\n",
       "\n",
       "    .dataframe tbody tr th {\n",
       "        vertical-align: top;\n",
       "    }\n",
       "\n",
       "    .dataframe thead th {\n",
       "        text-align: right;\n",
       "    }\n",
       "</style>\n",
       "<table border=\"1\" class=\"dataframe\">\n",
       "  <thead>\n",
       "    <tr style=\"text-align: right;\">\n",
       "      <th></th>\n",
       "      <th>children</th>\n",
       "      <th>days_employed</th>\n",
       "      <th>dob_years</th>\n",
       "      <th>education</th>\n",
       "      <th>education_id</th>\n",
       "      <th>family_status</th>\n",
       "      <th>family_status_id</th>\n",
       "      <th>gender</th>\n",
       "      <th>income_type</th>\n",
       "      <th>debt</th>\n",
       "      <th>total_income</th>\n",
       "      <th>purpose</th>\n",
       "    </tr>\n",
       "  </thead>\n",
       "  <tbody>\n",
       "    <tr>\n",
       "      <th>0</th>\n",
       "      <td>1</td>\n",
       "      <td>-8437.673028</td>\n",
       "      <td>42</td>\n",
       "      <td>высшее</td>\n",
       "      <td>0</td>\n",
       "      <td>женат / замужем</td>\n",
       "      <td>0</td>\n",
       "      <td>F</td>\n",
       "      <td>сотрудник</td>\n",
       "      <td>0</td>\n",
       "      <td>253875.639453</td>\n",
       "      <td>покупка жилья</td>\n",
       "    </tr>\n",
       "    <tr>\n",
       "      <th>1</th>\n",
       "      <td>1</td>\n",
       "      <td>-4024.803754</td>\n",
       "      <td>36</td>\n",
       "      <td>среднее</td>\n",
       "      <td>1</td>\n",
       "      <td>женат / замужем</td>\n",
       "      <td>0</td>\n",
       "      <td>F</td>\n",
       "      <td>сотрудник</td>\n",
       "      <td>0</td>\n",
       "      <td>112080.014102</td>\n",
       "      <td>приобретение автомобиля</td>\n",
       "    </tr>\n",
       "    <tr>\n",
       "      <th>2</th>\n",
       "      <td>0</td>\n",
       "      <td>-5623.422610</td>\n",
       "      <td>33</td>\n",
       "      <td>Среднее</td>\n",
       "      <td>1</td>\n",
       "      <td>женат / замужем</td>\n",
       "      <td>0</td>\n",
       "      <td>M</td>\n",
       "      <td>сотрудник</td>\n",
       "      <td>0</td>\n",
       "      <td>145885.952297</td>\n",
       "      <td>покупка жилья</td>\n",
       "    </tr>\n",
       "    <tr>\n",
       "      <th>3</th>\n",
       "      <td>3</td>\n",
       "      <td>-4124.747207</td>\n",
       "      <td>32</td>\n",
       "      <td>среднее</td>\n",
       "      <td>1</td>\n",
       "      <td>женат / замужем</td>\n",
       "      <td>0</td>\n",
       "      <td>M</td>\n",
       "      <td>сотрудник</td>\n",
       "      <td>0</td>\n",
       "      <td>267628.550329</td>\n",
       "      <td>дополнительное образование</td>\n",
       "    </tr>\n",
       "    <tr>\n",
       "      <th>4</th>\n",
       "      <td>0</td>\n",
       "      <td>340266.072047</td>\n",
       "      <td>53</td>\n",
       "      <td>среднее</td>\n",
       "      <td>1</td>\n",
       "      <td>гражданский брак</td>\n",
       "      <td>1</td>\n",
       "      <td>F</td>\n",
       "      <td>пенсионер</td>\n",
       "      <td>0</td>\n",
       "      <td>158616.077870</td>\n",
       "      <td>сыграть свадьбу</td>\n",
       "    </tr>\n",
       "    <tr>\n",
       "      <th>5</th>\n",
       "      <td>0</td>\n",
       "      <td>-926.185831</td>\n",
       "      <td>27</td>\n",
       "      <td>высшее</td>\n",
       "      <td>0</td>\n",
       "      <td>гражданский брак</td>\n",
       "      <td>1</td>\n",
       "      <td>M</td>\n",
       "      <td>компаньон</td>\n",
       "      <td>0</td>\n",
       "      <td>255763.565419</td>\n",
       "      <td>покупка жилья</td>\n",
       "    </tr>\n",
       "    <tr>\n",
       "      <th>6</th>\n",
       "      <td>0</td>\n",
       "      <td>-2879.202052</td>\n",
       "      <td>43</td>\n",
       "      <td>высшее</td>\n",
       "      <td>0</td>\n",
       "      <td>женат / замужем</td>\n",
       "      <td>0</td>\n",
       "      <td>F</td>\n",
       "      <td>компаньон</td>\n",
       "      <td>0</td>\n",
       "      <td>240525.971920</td>\n",
       "      <td>операции с жильем</td>\n",
       "    </tr>\n",
       "    <tr>\n",
       "      <th>7</th>\n",
       "      <td>0</td>\n",
       "      <td>-152.779569</td>\n",
       "      <td>50</td>\n",
       "      <td>СРЕДНЕЕ</td>\n",
       "      <td>1</td>\n",
       "      <td>женат / замужем</td>\n",
       "      <td>0</td>\n",
       "      <td>M</td>\n",
       "      <td>сотрудник</td>\n",
       "      <td>0</td>\n",
       "      <td>135823.934197</td>\n",
       "      <td>образование</td>\n",
       "    </tr>\n",
       "    <tr>\n",
       "      <th>8</th>\n",
       "      <td>2</td>\n",
       "      <td>-6929.865299</td>\n",
       "      <td>35</td>\n",
       "      <td>ВЫСШЕЕ</td>\n",
       "      <td>0</td>\n",
       "      <td>гражданский брак</td>\n",
       "      <td>1</td>\n",
       "      <td>F</td>\n",
       "      <td>сотрудник</td>\n",
       "      <td>0</td>\n",
       "      <td>95856.832424</td>\n",
       "      <td>на проведение свадьбы</td>\n",
       "    </tr>\n",
       "    <tr>\n",
       "      <th>9</th>\n",
       "      <td>0</td>\n",
       "      <td>-2188.756445</td>\n",
       "      <td>41</td>\n",
       "      <td>среднее</td>\n",
       "      <td>1</td>\n",
       "      <td>женат / замужем</td>\n",
       "      <td>0</td>\n",
       "      <td>M</td>\n",
       "      <td>сотрудник</td>\n",
       "      <td>0</td>\n",
       "      <td>144425.938277</td>\n",
       "      <td>покупка жилья для семьи</td>\n",
       "    </tr>\n",
       "    <tr>\n",
       "      <th>10</th>\n",
       "      <td>2</td>\n",
       "      <td>-4171.483647</td>\n",
       "      <td>36</td>\n",
       "      <td>высшее</td>\n",
       "      <td>0</td>\n",
       "      <td>женат / замужем</td>\n",
       "      <td>0</td>\n",
       "      <td>M</td>\n",
       "      <td>компаньон</td>\n",
       "      <td>0</td>\n",
       "      <td>113943.491460</td>\n",
       "      <td>покупка недвижимости</td>\n",
       "    </tr>\n",
       "    <tr>\n",
       "      <th>11</th>\n",
       "      <td>0</td>\n",
       "      <td>-792.701887</td>\n",
       "      <td>40</td>\n",
       "      <td>среднее</td>\n",
       "      <td>1</td>\n",
       "      <td>женат / замужем</td>\n",
       "      <td>0</td>\n",
       "      <td>F</td>\n",
       "      <td>сотрудник</td>\n",
       "      <td>0</td>\n",
       "      <td>77069.234271</td>\n",
       "      <td>покупка коммерческой недвижимости</td>\n",
       "    </tr>\n",
       "    <tr>\n",
       "      <th>12</th>\n",
       "      <td>0</td>\n",
       "      <td>NaN</td>\n",
       "      <td>65</td>\n",
       "      <td>среднее</td>\n",
       "      <td>1</td>\n",
       "      <td>гражданский брак</td>\n",
       "      <td>1</td>\n",
       "      <td>M</td>\n",
       "      <td>пенсионер</td>\n",
       "      <td>0</td>\n",
       "      <td>NaN</td>\n",
       "      <td>сыграть свадьбу</td>\n",
       "    </tr>\n",
       "    <tr>\n",
       "      <th>13</th>\n",
       "      <td>0</td>\n",
       "      <td>-1846.641941</td>\n",
       "      <td>54</td>\n",
       "      <td>неоконченное высшее</td>\n",
       "      <td>2</td>\n",
       "      <td>женат / замужем</td>\n",
       "      <td>0</td>\n",
       "      <td>F</td>\n",
       "      <td>сотрудник</td>\n",
       "      <td>0</td>\n",
       "      <td>130458.228857</td>\n",
       "      <td>приобретение автомобиля</td>\n",
       "    </tr>\n",
       "    <tr>\n",
       "      <th>14</th>\n",
       "      <td>0</td>\n",
       "      <td>-1844.956182</td>\n",
       "      <td>56</td>\n",
       "      <td>высшее</td>\n",
       "      <td>0</td>\n",
       "      <td>гражданский брак</td>\n",
       "      <td>1</td>\n",
       "      <td>F</td>\n",
       "      <td>компаньон</td>\n",
       "      <td>1</td>\n",
       "      <td>165127.911772</td>\n",
       "      <td>покупка жилой недвижимости</td>\n",
       "    </tr>\n",
       "    <tr>\n",
       "      <th>15</th>\n",
       "      <td>1</td>\n",
       "      <td>-972.364419</td>\n",
       "      <td>26</td>\n",
       "      <td>среднее</td>\n",
       "      <td>1</td>\n",
       "      <td>женат / замужем</td>\n",
       "      <td>0</td>\n",
       "      <td>F</td>\n",
       "      <td>сотрудник</td>\n",
       "      <td>0</td>\n",
       "      <td>116820.904450</td>\n",
       "      <td>строительство собственной недвижимости</td>\n",
       "    </tr>\n",
       "    <tr>\n",
       "      <th>16</th>\n",
       "      <td>0</td>\n",
       "      <td>-1719.934226</td>\n",
       "      <td>35</td>\n",
       "      <td>среднее</td>\n",
       "      <td>1</td>\n",
       "      <td>женат / замужем</td>\n",
       "      <td>0</td>\n",
       "      <td>F</td>\n",
       "      <td>сотрудник</td>\n",
       "      <td>0</td>\n",
       "      <td>289202.704229</td>\n",
       "      <td>недвижимость</td>\n",
       "    </tr>\n",
       "    <tr>\n",
       "      <th>17</th>\n",
       "      <td>0</td>\n",
       "      <td>-2369.999720</td>\n",
       "      <td>33</td>\n",
       "      <td>высшее</td>\n",
       "      <td>0</td>\n",
       "      <td>гражданский брак</td>\n",
       "      <td>1</td>\n",
       "      <td>M</td>\n",
       "      <td>сотрудник</td>\n",
       "      <td>0</td>\n",
       "      <td>90410.586745</td>\n",
       "      <td>строительство недвижимости</td>\n",
       "    </tr>\n",
       "    <tr>\n",
       "      <th>18</th>\n",
       "      <td>0</td>\n",
       "      <td>400281.136913</td>\n",
       "      <td>53</td>\n",
       "      <td>среднее</td>\n",
       "      <td>1</td>\n",
       "      <td>вдовец / вдова</td>\n",
       "      <td>2</td>\n",
       "      <td>F</td>\n",
       "      <td>пенсионер</td>\n",
       "      <td>0</td>\n",
       "      <td>56823.777243</td>\n",
       "      <td>на покупку подержанного автомобиля</td>\n",
       "    </tr>\n",
       "    <tr>\n",
       "      <th>19</th>\n",
       "      <td>0</td>\n",
       "      <td>-10038.818549</td>\n",
       "      <td>48</td>\n",
       "      <td>СРЕДНЕЕ</td>\n",
       "      <td>1</td>\n",
       "      <td>в разводе</td>\n",
       "      <td>3</td>\n",
       "      <td>F</td>\n",
       "      <td>сотрудник</td>\n",
       "      <td>0</td>\n",
       "      <td>242831.107982</td>\n",
       "      <td>на покупку своего автомобиля</td>\n",
       "    </tr>\n",
       "  </tbody>\n",
       "</table>\n",
       "</div>"
      ],
      "text/plain": [
       "    children  days_employed  dob_years            education  education_id  \\\n",
       "0          1   -8437.673028         42               высшее             0   \n",
       "1          1   -4024.803754         36              среднее             1   \n",
       "2          0   -5623.422610         33              Среднее             1   \n",
       "3          3   -4124.747207         32              среднее             1   \n",
       "4          0  340266.072047         53              среднее             1   \n",
       "5          0    -926.185831         27               высшее             0   \n",
       "6          0   -2879.202052         43               высшее             0   \n",
       "7          0    -152.779569         50              СРЕДНЕЕ             1   \n",
       "8          2   -6929.865299         35               ВЫСШЕЕ             0   \n",
       "9          0   -2188.756445         41              среднее             1   \n",
       "10         2   -4171.483647         36               высшее             0   \n",
       "11         0    -792.701887         40              среднее             1   \n",
       "12         0            NaN         65              среднее             1   \n",
       "13         0   -1846.641941         54  неоконченное высшее             2   \n",
       "14         0   -1844.956182         56               высшее             0   \n",
       "15         1    -972.364419         26              среднее             1   \n",
       "16         0   -1719.934226         35              среднее             1   \n",
       "17         0   -2369.999720         33               высшее             0   \n",
       "18         0  400281.136913         53              среднее             1   \n",
       "19         0  -10038.818549         48              СРЕДНЕЕ             1   \n",
       "\n",
       "       family_status  family_status_id gender income_type  debt  \\\n",
       "0    женат / замужем                 0      F   сотрудник     0   \n",
       "1    женат / замужем                 0      F   сотрудник     0   \n",
       "2    женат / замужем                 0      M   сотрудник     0   \n",
       "3    женат / замужем                 0      M   сотрудник     0   \n",
       "4   гражданский брак                 1      F   пенсионер     0   \n",
       "5   гражданский брак                 1      M   компаньон     0   \n",
       "6    женат / замужем                 0      F   компаньон     0   \n",
       "7    женат / замужем                 0      M   сотрудник     0   \n",
       "8   гражданский брак                 1      F   сотрудник     0   \n",
       "9    женат / замужем                 0      M   сотрудник     0   \n",
       "10   женат / замужем                 0      M   компаньон     0   \n",
       "11   женат / замужем                 0      F   сотрудник     0   \n",
       "12  гражданский брак                 1      M   пенсионер     0   \n",
       "13   женат / замужем                 0      F   сотрудник     0   \n",
       "14  гражданский брак                 1      F   компаньон     1   \n",
       "15   женат / замужем                 0      F   сотрудник     0   \n",
       "16   женат / замужем                 0      F   сотрудник     0   \n",
       "17  гражданский брак                 1      M   сотрудник     0   \n",
       "18    вдовец / вдова                 2      F   пенсионер     0   \n",
       "19         в разводе                 3      F   сотрудник     0   \n",
       "\n",
       "     total_income                                 purpose  \n",
       "0   253875.639453                           покупка жилья  \n",
       "1   112080.014102                 приобретение автомобиля  \n",
       "2   145885.952297                           покупка жилья  \n",
       "3   267628.550329              дополнительное образование  \n",
       "4   158616.077870                         сыграть свадьбу  \n",
       "5   255763.565419                           покупка жилья  \n",
       "6   240525.971920                       операции с жильем  \n",
       "7   135823.934197                             образование  \n",
       "8    95856.832424                   на проведение свадьбы  \n",
       "9   144425.938277                 покупка жилья для семьи  \n",
       "10  113943.491460                    покупка недвижимости  \n",
       "11   77069.234271       покупка коммерческой недвижимости  \n",
       "12            NaN                         сыграть свадьбу  \n",
       "13  130458.228857                 приобретение автомобиля  \n",
       "14  165127.911772              покупка жилой недвижимости  \n",
       "15  116820.904450  строительство собственной недвижимости  \n",
       "16  289202.704229                            недвижимость  \n",
       "17   90410.586745              строительство недвижимости  \n",
       "18   56823.777243      на покупку подержанного автомобиля  \n",
       "19  242831.107982            на покупку своего автомобиля  "
      ]
     },
     "execution_count": 2,
     "metadata": {},
     "output_type": "execute_result"
    }
   ],
   "source": [
    "data.head(20)"
   ]
  },
  {
   "cell_type": "markdown",
   "id": "4816dcf5",
   "metadata": {
    "deletable": false,
    "editable": false,
    "id": "1c12e233"
   },
   "source": [
    "**Задание 3. Выведите основную информацию о датафрейме с помощью метода `info()`.**"
   ]
  },
  {
   "cell_type": "code",
   "execution_count": 3,
   "id": "e30a6a8e",
   "metadata": {
    "deletable": false,
    "id": "2b757bca",
    "outputId": "15376089-8dad-46c9-b520-c05248d43158"
   },
   "outputs": [
    {
     "name": "stdout",
     "output_type": "stream",
     "text": [
      "<class 'pandas.core.frame.DataFrame'>\n",
      "RangeIndex: 21525 entries, 0 to 21524\n",
      "Data columns (total 12 columns):\n",
      " #   Column            Non-Null Count  Dtype  \n",
      "---  ------            --------------  -----  \n",
      " 0   children          21525 non-null  int64  \n",
      " 1   days_employed     19351 non-null  float64\n",
      " 2   dob_years         21525 non-null  int64  \n",
      " 3   education         21525 non-null  object \n",
      " 4   education_id      21525 non-null  int64  \n",
      " 5   family_status     21525 non-null  object \n",
      " 6   family_status_id  21525 non-null  int64  \n",
      " 7   gender            21525 non-null  object \n",
      " 8   income_type       21525 non-null  object \n",
      " 9   debt              21525 non-null  int64  \n",
      " 10  total_income      19351 non-null  float64\n",
      " 11  purpose           21525 non-null  object \n",
      "dtypes: float64(2), int64(5), object(5)\n",
      "memory usage: 2.0+ MB\n"
     ]
    }
   ],
   "source": [
    "data.info()"
   ]
  },
  {
   "cell_type": "markdown",
   "id": "3e96183c",
   "metadata": {
    "deletable": false,
    "editable": false,
    "id": "333ec665"
   },
   "source": [
    "## Предобработка данных"
   ]
  },
  {
   "cell_type": "markdown",
   "id": "74375cee",
   "metadata": {
    "deletable": false,
    "editable": false,
    "id": "02d92d53"
   },
   "source": [
    "### Удаление пропусков"
   ]
  },
  {
   "cell_type": "markdown",
   "id": "7ef5ccda",
   "metadata": {
    "deletable": false,
    "editable": false,
    "id": "cd84967c"
   },
   "source": [
    "**Задание 4. Выведите количество пропущенных значений для каждого столбца. Используйте комбинацию двух методов.**"
   ]
  },
  {
   "cell_type": "code",
   "execution_count": 4,
   "id": "17d165c6",
   "metadata": {
    "deletable": false,
    "id": "7f9b2309",
    "outputId": "81f4d817-781c-465c-ed15-91ce4446810d"
   },
   "outputs": [
    {
     "data": {
      "text/plain": [
       "children               0\n",
       "days_employed       2174\n",
       "dob_years              0\n",
       "education              0\n",
       "education_id           0\n",
       "family_status          0\n",
       "family_status_id       0\n",
       "gender                 0\n",
       "income_type            0\n",
       "debt                   0\n",
       "total_income        2174\n",
       "purpose                0\n",
       "dtype: int64"
      ]
     },
     "execution_count": 4,
     "metadata": {},
     "output_type": "execute_result"
    }
   ],
   "source": [
    "data.isna().sum()"
   ]
  },
  {
   "cell_type": "markdown",
   "id": "cc281277",
   "metadata": {
    "deletable": false,
    "editable": false,
    "id": "db86e27b"
   },
   "source": [
    "**Задание 5. В двух столбцах есть пропущенные значения. Один из них — `days_employed`. Пропуски в этом столбце вы обработаете на следующем этапе. Другой столбец с пропущенными значениями — `total_income` — хранит данные о доходах. На сумму дохода сильнее всего влияет тип занятости, поэтому заполнить пропуски в этом столбце нужно медианным значением по каждому типу из столбца `income_type`. Например, у человека с типом занятости `сотрудник` пропуск в столбце `total_income` должен быть заполнен медианным доходом среди всех записей с тем же типом.**"
   ]
  },
  {
   "cell_type": "code",
   "execution_count": 5,
   "id": "e312975d",
   "metadata": {
    "deletable": false,
    "id": "42006a93"
   },
   "outputs": [],
   "source": [
    "for t in data['income_type'].unique():\n",
    "    data.loc[(data['income_type'] == t) & (data['total_income'].isna()), 'total_income'] = \\\n",
    "    data.loc[(data['income_type'] == t), 'total_income'].median()"
   ]
  },
  {
   "cell_type": "markdown",
   "id": "1e07294d",
   "metadata": {
    "deletable": false,
    "editable": false,
    "id": "89da5ece"
   },
   "source": [
    "### Обработка аномальных значений"
   ]
  },
  {
   "cell_type": "markdown",
   "id": "4acafc9d",
   "metadata": {
    "deletable": false,
    "editable": false,
    "id": "57964554"
   },
   "source": [
    "**Задание 6. В данных могут встречаться артефакты (аномалии) — значения, которые не отражают действительность и появились по какой-то ошибке. таким артефактом будет отрицательное количество дней трудового стажа в столбце `days_employed`. Для реальных данных это нормально. Обработайте значения в этом столбце: замените все отрицательные значения положительными с помощью метода `abs()`.**"
   ]
  },
  {
   "cell_type": "code",
   "execution_count": 6,
   "id": "9c6602d1",
   "metadata": {
    "deletable": false,
    "id": "f6f055bf"
   },
   "outputs": [],
   "source": [
    "data['days_employed'] = data['days_employed'].abs()"
   ]
  },
  {
   "cell_type": "markdown",
   "id": "7cca433d",
   "metadata": {
    "deletable": false,
    "editable": false,
    "id": "6107dd2f"
   },
   "source": [
    "**Задание 7. Для каждого типа занятости выведите медианное значение трудового стажа `days_employed` в днях.**"
   ]
  },
  {
   "cell_type": "code",
   "execution_count": 7,
   "id": "7b5baeb0",
   "metadata": {
    "deletable": false,
    "id": "85a5faf6",
    "outputId": "801ef80e-522b-4668-f34e-565af7432bcf"
   },
   "outputs": [
    {
     "data": {
      "text/plain": [
       "income_type\n",
       "безработный        366413.652744\n",
       "в декрете            3296.759962\n",
       "госслужащий          2689.368353\n",
       "компаньон            1547.382223\n",
       "пенсионер          365213.306266\n",
       "предприниматель       520.848083\n",
       "сотрудник            1574.202821\n",
       "студент               578.751554\n",
       "Name: days_employed, dtype: float64"
      ]
     },
     "execution_count": 7,
     "metadata": {},
     "output_type": "execute_result"
    }
   ],
   "source": [
    "data.groupby('income_type')['days_employed'].agg('median')"
   ]
  },
  {
   "cell_type": "markdown",
   "id": "264313bb",
   "metadata": {
    "deletable": false,
    "editable": false,
    "id": "38d1a030"
   },
   "source": [
    "У двух типов (безработные и пенсионеры) получатся аномально большие значения. Исправить такие значения сложно, поэтому оставьте их как есть. Тем более этот столбец не понадобится вам для исследования."
   ]
  },
  {
   "cell_type": "markdown",
   "id": "eca8ae3a",
   "metadata": {
    "deletable": false,
    "editable": false,
    "id": "d8a9f147"
   },
   "source": [
    "**Задание 8. Выведите перечень уникальных значений столбца `children`.**"
   ]
  },
  {
   "cell_type": "code",
   "execution_count": 8,
   "id": "540c8cd2",
   "metadata": {
    "deletable": false,
    "id": "ef5056eb",
    "outputId": "6975b15c-7f95-4697-d16d-a0c79b657b03"
   },
   "outputs": [
    {
     "data": {
      "text/plain": [
       "array([ 1,  0,  3,  2, -1,  4, 20,  5])"
      ]
     },
     "execution_count": 8,
     "metadata": {},
     "output_type": "execute_result"
    }
   ],
   "source": [
    "data['children'].unique()"
   ]
  },
  {
   "cell_type": "markdown",
   "id": "4a787240",
   "metadata": {
    "deletable": false,
    "editable": false,
    "id": "40b9ebf2"
   },
   "source": [
    "**Задание 9. В столбце `children` есть два аномальных значения. Удалите строки, в которых встречаются такие аномальные значения из датафрейма `data`.**"
   ]
  },
  {
   "cell_type": "code",
   "execution_count": 9,
   "id": "94c8eada",
   "metadata": {
    "deletable": false,
    "id": "3ff9801d"
   },
   "outputs": [],
   "source": [
    "data = data[(data['children'] != -1) & (data['children'] != 20)]"
   ]
  },
  {
   "cell_type": "markdown",
   "id": "7a9c5f91",
   "metadata": {
    "deletable": false,
    "editable": false,
    "id": "bbc4d0ce"
   },
   "source": [
    "**Задание 10. Ещё раз выведите перечень уникальных значений столбца `children`, чтобы убедиться, что артефакты удалены.**"
   ]
  },
  {
   "cell_type": "code",
   "execution_count": 10,
   "id": "04256a52",
   "metadata": {
    "deletable": false,
    "id": "ad4fa8b7",
    "outputId": "b2097101-d49d-44d9-901b-32a65c9463d1"
   },
   "outputs": [
    {
     "data": {
      "text/plain": [
       "array([1, 0, 3, 2, 4, 5])"
      ]
     },
     "execution_count": 10,
     "metadata": {},
     "output_type": "execute_result"
    }
   ],
   "source": [
    "data['children'].unique()"
   ]
  },
  {
   "cell_type": "markdown",
   "id": "940ee9d8",
   "metadata": {
    "deletable": false,
    "editable": false,
    "id": "75440b63"
   },
   "source": [
    "### Удаление пропусков (продолжение)"
   ]
  },
  {
   "cell_type": "markdown",
   "id": "9dfb7bf2",
   "metadata": {
    "deletable": false,
    "editable": false,
    "id": "f4ea573f"
   },
   "source": [
    "**Задание 11. Заполните пропуски в столбце `days_employed` медианными значениями по каждого типа занятости `income_type`.**"
   ]
  },
  {
   "cell_type": "code",
   "execution_count": 11,
   "id": "ab1b116a",
   "metadata": {
    "deletable": false,
    "id": "af6b1a7e"
   },
   "outputs": [],
   "source": [
    "for t in data['income_type'].unique():\n",
    "    data.loc[(data['income_type'] == t) & (data['days_employed'].isna()), 'days_employed'] = \\\n",
    "    data.loc[(data['income_type'] == t), 'days_employed'].median()"
   ]
  },
  {
   "cell_type": "markdown",
   "id": "f6ec11c7",
   "metadata": {
    "deletable": false,
    "editable": false,
    "id": "2753f40d"
   },
   "source": [
    "**Задание 12. Убедитесь, что все пропуски заполнены. Проверьте себя и ещё раз выведите количество пропущенных значений для каждого столбца с помощью двух методов.**"
   ]
  },
  {
   "cell_type": "code",
   "execution_count": 12,
   "id": "6bd214bf",
   "metadata": {
    "deletable": false,
    "id": "55f78bc2",
    "outputId": "8da1e4e1-358e-4e87-98c9-f261bce0a7b2"
   },
   "outputs": [
    {
     "data": {
      "text/plain": [
       "children            0\n",
       "days_employed       0\n",
       "dob_years           0\n",
       "education           0\n",
       "education_id        0\n",
       "family_status       0\n",
       "family_status_id    0\n",
       "gender              0\n",
       "income_type         0\n",
       "debt                0\n",
       "total_income        0\n",
       "purpose             0\n",
       "dtype: int64"
      ]
     },
     "execution_count": 12,
     "metadata": {},
     "output_type": "execute_result"
    }
   ],
   "source": [
    "data.isna().sum()"
   ]
  },
  {
   "cell_type": "markdown",
   "id": "c5b595b4",
   "metadata": {
    "deletable": false,
    "editable": false,
    "id": "ddc81e43"
   },
   "source": [
    "### Изменение типов данных"
   ]
  },
  {
   "cell_type": "markdown",
   "id": "39f1965c",
   "metadata": {
    "deletable": false,
    "editable": false,
    "id": "42d19d24"
   },
   "source": [
    "**Задание 13. Замените вещественный тип данных в столбце `total_income` на целочисленный с помощью метода `astype()`.**"
   ]
  },
  {
   "cell_type": "code",
   "execution_count": 13,
   "id": "d7fa2603",
   "metadata": {
    "deletable": false,
    "id": "920b65ad"
   },
   "outputs": [],
   "source": [
    "data['total_income'] = data['total_income'].astype(int)"
   ]
  },
  {
   "cell_type": "markdown",
   "id": "9d54a6e5",
   "metadata": {
    "deletable": false,
    "editable": false,
    "id": "80c420ba"
   },
   "source": [
    "### Обработка дубликатов"
   ]
  },
  {
   "cell_type": "markdown",
   "id": "e1df6964",
   "metadata": {
    "deletable": false,
    "editable": false
   },
   "source": [
    "**Задание 14. Обработайте неявные дубликаты в столбце `education`. В этом столбце есть одни и те же значения, но записанные по-разному: с использованием заглавных и строчных букв. Приведите их к нижнему регистру. Проверьте остальные столбцы.**"
   ]
  },
  {
   "cell_type": "code",
   "execution_count": 14,
   "id": "666a4f77",
   "metadata": {
    "deletable": false
   },
   "outputs": [],
   "source": [
    "data['education'] = data['education'].str.lower()"
   ]
  },
  {
   "cell_type": "markdown",
   "id": "c9e8bba1",
   "metadata": {
    "deletable": false,
    "editable": false,
    "id": "dc587695"
   },
   "source": [
    "**Задание 15. Выведите на экран количество строк-дубликатов в данных. Если такие строки присутствуют, удалите их.**"
   ]
  },
  {
   "cell_type": "code",
   "execution_count": 15,
   "id": "fac92431",
   "metadata": {
    "deletable": false,
    "id": "3ee445e4",
    "outputId": "9684deba-1934-42d1-99e1-cda61740f822"
   },
   "outputs": [
    {
     "data": {
      "text/plain": [
       "71"
      ]
     },
     "execution_count": 15,
     "metadata": {},
     "output_type": "execute_result"
    }
   ],
   "source": [
    "data.duplicated().sum()"
   ]
  },
  {
   "cell_type": "code",
   "execution_count": 16,
   "id": "5aa23dbb",
   "metadata": {
    "deletable": false,
    "id": "8575fe05"
   },
   "outputs": [],
   "source": [
    "data = data.drop_duplicates()"
   ]
  },
  {
   "cell_type": "markdown",
   "id": "aeecbd9f",
   "metadata": {
    "deletable": false,
    "editable": false,
    "id": "9904cf55"
   },
   "source": [
    "### Категоризация данных"
   ]
  },
  {
   "cell_type": "markdown",
   "id": "9e106072",
   "metadata": {
    "deletable": false,
    "editable": false,
    "id": "72fcc8a2"
   },
   "source": [
    "**Задание 16. На основании диапазонов, указанных ниже, создайте в датафрейме `data` столбец `total_income_category` с категориями:**\n",
    "\n",
    "- 0–30000 — `'E'`;\n",
    "- 30001–50000 — `'D'`;\n",
    "- 50001–200000 — `'C'`;\n",
    "- 200001–1000000 — `'B'`;\n",
    "- 1000001 и выше — `'A'`.\n",
    "\n",
    "\n",
    "**Например, кредитополучателю с доходом 25000 нужно назначить категорию `'E'`, а клиенту, получающему 235000, — `'B'`. Используйте собственную функцию с именем `categorize_income()` и метод `apply()`.**"
   ]
  },
  {
   "cell_type": "code",
   "execution_count": 17,
   "id": "9b91c423",
   "metadata": {
    "deletable": false,
    "id": "e1771346"
   },
   "outputs": [],
   "source": [
    "def categorize_income(income):\n",
    "    try:\n",
    "        if 0 <= income <= 30000:\n",
    "            return 'E'\n",
    "        elif 30001 <= income <= 50000:\n",
    "            return 'D'\n",
    "        elif 50001 <= income <= 200000:\n",
    "            return 'C'\n",
    "        elif 200001 <= income <= 1000000:\n",
    "            return 'B'\n",
    "        elif income >= 1000001:\n",
    "            return 'A'\n",
    "    except:\n",
    "        pass"
   ]
  },
  {
   "cell_type": "code",
   "execution_count": 18,
   "id": "ac2d3e68",
   "metadata": {
    "deletable": false,
    "id": "d5f3586d"
   },
   "outputs": [],
   "source": [
    "data['total_income_category'] = data['total_income'].apply(categorize_income)"
   ]
  },
  {
   "cell_type": "markdown",
   "id": "8a6e5861",
   "metadata": {
    "deletable": false,
    "editable": false,
    "id": "dde49b5c"
   },
   "source": [
    "**Задание 17. Выведите на экран перечень уникальных целей взятия кредита из столбца `purpose`.**"
   ]
  },
  {
   "cell_type": "code",
   "execution_count": 19,
   "id": "9b93429e",
   "metadata": {
    "deletable": false,
    "id": "f67ce9b3",
    "outputId": "673c12d9-7d7e-4ae0-9812-c622c89dd244"
   },
   "outputs": [
    {
     "data": {
      "text/plain": [
       "array(['покупка жилья', 'приобретение автомобиля',\n",
       "       'дополнительное образование', 'сыграть свадьбу',\n",
       "       'операции с жильем', 'образование', 'на проведение свадьбы',\n",
       "       'покупка жилья для семьи', 'покупка недвижимости',\n",
       "       'покупка коммерческой недвижимости', 'покупка жилой недвижимости',\n",
       "       'строительство собственной недвижимости', 'недвижимость',\n",
       "       'строительство недвижимости', 'на покупку подержанного автомобиля',\n",
       "       'на покупку своего автомобиля',\n",
       "       'операции с коммерческой недвижимостью',\n",
       "       'строительство жилой недвижимости', 'жилье',\n",
       "       'операции со своей недвижимостью', 'автомобили',\n",
       "       'заняться образованием', 'сделка с подержанным автомобилем',\n",
       "       'получение образования', 'автомобиль', 'свадьба',\n",
       "       'получение дополнительного образования', 'покупка своего жилья',\n",
       "       'операции с недвижимостью', 'получение высшего образования',\n",
       "       'свой автомобиль', 'сделка с автомобилем',\n",
       "       'профильное образование', 'высшее образование',\n",
       "       'покупка жилья для сдачи', 'на покупку автомобиля', 'ремонт жилью',\n",
       "       'заняться высшим образованием'], dtype=object)"
      ]
     },
     "execution_count": 19,
     "metadata": {},
     "output_type": "execute_result"
    }
   ],
   "source": [
    "data['purpose'].unique()"
   ]
  },
  {
   "cell_type": "markdown",
   "id": "d9750509",
   "metadata": {
    "deletable": false,
    "editable": false,
    "id": "85d0aef0"
   },
   "source": [
    "**Задание 18. Создайте функцию, которая на основании данных из столбца `purpose` сформирует новый столбец `purpose_category`, в который войдут следующие категории:**\n",
    "\n",
    "- `'операции с автомобилем'`,\n",
    "- `'операции с недвижимостью'`,\n",
    "- `'проведение свадьбы'`,\n",
    "- `'получение образования'`.\n",
    "\n",
    "**Например, если в столбце `purpose` находится подстрока `'на покупку автомобиля'`, то в столбце `purpose_category` должна появиться строка `'операции с автомобилем'`.**\n",
    "\n",
    "**Используйте собственную функцию с именем `categorize_purpose()` и метод `apply()`. Изучите данные в столбце `purpose` и определите, какие подстроки помогут вам правильно определить категорию.**"
   ]
  },
  {
   "cell_type": "code",
   "execution_count": 20,
   "id": "3efabdc5",
   "metadata": {
    "deletable": false,
    "id": "e149fab4"
   },
   "outputs": [],
   "source": [
    "def categorize_purpose(row):\n",
    "    try:\n",
    "        if 'автом' in row:\n",
    "            return 'операции с автомобилем'\n",
    "        elif 'жил' in row or 'недвиж' in row:\n",
    "            return 'операции с недвижимостью'\n",
    "        elif 'свад' in row:\n",
    "            return 'проведение свадьбы'\n",
    "        elif 'образов' in row:\n",
    "            return 'получение образования'\n",
    "    except:\n",
    "        return 'нет категории'"
   ]
  },
  {
   "cell_type": "code",
   "execution_count": 21,
   "id": "9e2c5649",
   "metadata": {
    "deletable": false,
    "id": "bf36e69b"
   },
   "outputs": [],
   "source": [
    "data['purpose_category'] = data['purpose'].apply(categorize_purpose)"
   ]
  },
  {
   "cell_type": "markdown",
   "id": "aff071a3",
   "metadata": {
    "deletable": false,
    "editable": false,
    "id": "09b242bf"
   },
   "source": [
    "### Шаг 3. Исследуйте данные и ответьте на вопросы"
   ]
  },
  {
   "cell_type": "markdown",
   "id": "dfc9cc80",
   "metadata": {
    "deletable": false,
    "editable": false,
    "id": "c5d66278"
   },
   "source": [
    "#### 3.1 Есть ли зависимость между количеством детей и возвратом кредита в срок?"
   ]
  },
  {
   "cell_type": "code",
   "execution_count": 22,
   "id": "f0b89ce4",
   "metadata": {
    "deletable": false,
    "id": "2cacfc4a"
   },
   "outputs": [
    {
     "data": {
      "text/html": [
       "<div>\n",
       "<style scoped>\n",
       "    .dataframe tbody tr th:only-of-type {\n",
       "        vertical-align: middle;\n",
       "    }\n",
       "\n",
       "    .dataframe tbody tr th {\n",
       "        vertical-align: top;\n",
       "    }\n",
       "\n",
       "    .dataframe thead th {\n",
       "        text-align: right;\n",
       "    }\n",
       "</style>\n",
       "<table border=\"1\" class=\"dataframe\">\n",
       "  <thead>\n",
       "    <tr style=\"text-align: right;\">\n",
       "      <th>debt</th>\n",
       "      <th>количество заемщиков</th>\n",
       "      <th>количество должников</th>\n",
       "      <th>процент должников</th>\n",
       "    </tr>\n",
       "    <tr>\n",
       "      <th>children</th>\n",
       "      <th></th>\n",
       "      <th></th>\n",
       "      <th></th>\n",
       "    </tr>\n",
       "  </thead>\n",
       "  <tbody>\n",
       "    <tr>\n",
       "      <th>0</th>\n",
       "      <td>13028.0</td>\n",
       "      <td>1063.0</td>\n",
       "      <td>8.159349</td>\n",
       "    </tr>\n",
       "    <tr>\n",
       "      <th>1</th>\n",
       "      <td>4364.0</td>\n",
       "      <td>444.0</td>\n",
       "      <td>10.174152</td>\n",
       "    </tr>\n",
       "    <tr>\n",
       "      <th>2</th>\n",
       "      <td>1858.0</td>\n",
       "      <td>194.0</td>\n",
       "      <td>10.441335</td>\n",
       "    </tr>\n",
       "    <tr>\n",
       "      <th>3</th>\n",
       "      <td>303.0</td>\n",
       "      <td>27.0</td>\n",
       "      <td>8.910891</td>\n",
       "    </tr>\n",
       "    <tr>\n",
       "      <th>4</th>\n",
       "      <td>37.0</td>\n",
       "      <td>4.0</td>\n",
       "      <td>10.810811</td>\n",
       "    </tr>\n",
       "    <tr>\n",
       "      <th>5</th>\n",
       "      <td>9.0</td>\n",
       "      <td>NaN</td>\n",
       "      <td>NaN</td>\n",
       "    </tr>\n",
       "  </tbody>\n",
       "</table>\n",
       "</div>"
      ],
      "text/plain": [
       "debt      количество заемщиков  количество должников  процент должников\n",
       "children                                                               \n",
       "0                      13028.0                1063.0           8.159349\n",
       "1                       4364.0                 444.0          10.174152\n",
       "2                       1858.0                 194.0          10.441335\n",
       "3                        303.0                  27.0           8.910891\n",
       "4                         37.0                   4.0          10.810811\n",
       "5                          9.0                   NaN                NaN"
      ]
     },
     "execution_count": 22,
     "metadata": {},
     "output_type": "execute_result"
    }
   ],
   "source": [
    "data_pivot_ch = data.pivot_table(index=['children'], columns='debt', values='education', aggfunc='count') # Получим таблицу , где видно количество детей и наличие просроченного долга\n",
    "data_pivot_ch = data_pivot_ch.rename(columns={0:'количество заемщиков',1:'количество должников'}) # переименуем названия столбцов\n",
    "data_pivot_ch['процент должников'] = ((data_pivot_ch['количество должников']/data_pivot_ch['количество заемщиков'])*100)\n",
    "data_pivot_ch # вывод на экран"
   ]
  },
  {
   "cell_type": "markdown",
   "id": "0a2b4965",
   "metadata": {
    "deletable": false,
    "id": "3a6b99ec"
   },
   "source": [
    "**Вывод:** По результатам анализа предоставленной статистики, делаю вывод, что нет зависимости между количеством детей у заемщика и своевременным погашением ссудной задолженности. Доля должников составляет 8-10%, в даипазоне от 0 до 5 детей. При этом, при наличии 5 детей процент не возврата кредитов равен нулю."
   ]
  },
  {
   "cell_type": "markdown",
   "id": "84b14a08",
   "metadata": {
    "deletable": false,
    "editable": false,
    "id": "97be82ca"
   },
   "source": [
    "#### 3.2 Есть ли зависимость между семейным положением и возвратом кредита в срок?"
   ]
  },
  {
   "cell_type": "code",
   "execution_count": 23,
   "id": "155457f5",
   "metadata": {
    "deletable": false,
    "id": "dc3f7ee8"
   },
   "outputs": [
    {
     "data": {
      "text/html": [
       "<div>\n",
       "<style scoped>\n",
       "    .dataframe tbody tr th:only-of-type {\n",
       "        vertical-align: middle;\n",
       "    }\n",
       "\n",
       "    .dataframe tbody tr th {\n",
       "        vertical-align: top;\n",
       "    }\n",
       "\n",
       "    .dataframe thead th {\n",
       "        text-align: right;\n",
       "    }\n",
       "</style>\n",
       "<table border=\"1\" class=\"dataframe\">\n",
       "  <thead>\n",
       "    <tr style=\"text-align: right;\">\n",
       "      <th>debt</th>\n",
       "      <th>количество заемщиков не имеющих просрочки</th>\n",
       "      <th>количество должников</th>\n",
       "      <th>Всего заемщиков</th>\n",
       "      <th>процент должников</th>\n",
       "    </tr>\n",
       "    <tr>\n",
       "      <th>family_status</th>\n",
       "      <th></th>\n",
       "      <th></th>\n",
       "      <th></th>\n",
       "      <th></th>\n",
       "    </tr>\n",
       "  </thead>\n",
       "  <tbody>\n",
       "    <tr>\n",
       "      <th>Не женат / не замужем</th>\n",
       "      <td>2523</td>\n",
       "      <td>273</td>\n",
       "      <td>2796</td>\n",
       "      <td>10.820452</td>\n",
       "    </tr>\n",
       "    <tr>\n",
       "      <th>в разводе</th>\n",
       "      <td>1105</td>\n",
       "      <td>84</td>\n",
       "      <td>1189</td>\n",
       "      <td>7.601810</td>\n",
       "    </tr>\n",
       "    <tr>\n",
       "      <th>вдовец / вдова</th>\n",
       "      <td>888</td>\n",
       "      <td>63</td>\n",
       "      <td>951</td>\n",
       "      <td>7.094595</td>\n",
       "    </tr>\n",
       "    <tr>\n",
       "      <th>гражданский брак</th>\n",
       "      <td>3749</td>\n",
       "      <td>385</td>\n",
       "      <td>4134</td>\n",
       "      <td>10.269405</td>\n",
       "    </tr>\n",
       "    <tr>\n",
       "      <th>женат / замужем</th>\n",
       "      <td>11334</td>\n",
       "      <td>927</td>\n",
       "      <td>12261</td>\n",
       "      <td>8.178931</td>\n",
       "    </tr>\n",
       "  </tbody>\n",
       "</table>\n",
       "</div>"
      ],
      "text/plain": [
       "debt                   количество заемщиков не имеющих просрочки  \\\n",
       "family_status                                                      \n",
       "Не женат / не замужем                                       2523   \n",
       "в разводе                                                   1105   \n",
       "вдовец / вдова                                               888   \n",
       "гражданский брак                                            3749   \n",
       "женат / замужем                                            11334   \n",
       "\n",
       "debt                   количество должников  Всего заемщиков  \\\n",
       "family_status                                                  \n",
       "Не женат / не замужем                   273             2796   \n",
       "в разводе                                84             1189   \n",
       "вдовец / вдова                           63              951   \n",
       "гражданский брак                        385             4134   \n",
       "женат / замужем                         927            12261   \n",
       "\n",
       "debt                   процент должников  \n",
       "family_status                             \n",
       "Не женат / не замужем          10.820452  \n",
       "в разводе                       7.601810  \n",
       "вдовец / вдова                  7.094595  \n",
       "гражданский брак               10.269405  \n",
       "женат / замужем                 8.178931  "
      ]
     },
     "execution_count": 23,
     "metadata": {},
     "output_type": "execute_result"
    }
   ],
   "source": [
    "data_pivot_fs = data.pivot_table(index=['family_status'], columns='debt', values='family_status_id', aggfunc='count') # Получим таблицу , где видно семейное положение и наличие просроченного долга\n",
    "data_pivot_fs = data_pivot_fs.rename(columns={0:'количество заемщиков не имеющих просрочки',1:'количество должников'}) # переименуем названия столбцов\n",
    "data_pivot_fs['Всего заемщиков'] = (data_pivot_fs['количество должников'] + data_pivot_fs['количество заемщиков не имеющих просрочки'])  # найдем итого  заемщиков\n",
    "data_pivot_fs ['процент должников'] = ((data_pivot_fs['количество должников']/data_pivot_fs['количество заемщиков не имеющих просрочки'])*100) # найдем процент должников\n",
    "data_pivot_fs # вывод на экран"
   ]
  },
  {
   "cell_type": "markdown",
   "id": "7e9b245c",
   "metadata": {
    "deletable": false,
    "id": "1cef7837"
   },
   "source": [
    "**Вывод:** Обнаружена зависимость между семейным положением и возвратом кредита в срок. Видим наиболее высокий процент должников среди не женатых заемщиков и заемщиков, состоящих в гражданском браке (примерно одинаковый процент в размере 10,8% и 10,3%). Доля должников среди женатых заемщиков составляет 8,2%, что в среднем на 2% меньше по сравнению с не женатыми или состоящими в гражданском браке. Минимальный процент должников среди разведенных или вдовцов - 7,6% и 7,1% соответственно. "
   ]
  },
  {
   "cell_type": "markdown",
   "id": "c2ba311e",
   "metadata": {
    "deletable": false,
    "editable": false,
    "id": "1e8b2fca"
   },
   "source": [
    "#### 3.3 Есть ли зависимость между уровнем дохода и возвратом кредита в срок?"
   ]
  },
  {
   "cell_type": "code",
   "execution_count": 54,
   "id": "386fceb9",
   "metadata": {
    "deletable": false,
    "id": "cd7e3720"
   },
   "outputs": [
    {
     "data": {
      "text/html": [
       "<div>\n",
       "<style scoped>\n",
       "    .dataframe tbody tr th:only-of-type {\n",
       "        vertical-align: middle;\n",
       "    }\n",
       "\n",
       "    .dataframe tbody tr th {\n",
       "        vertical-align: top;\n",
       "    }\n",
       "\n",
       "    .dataframe thead th {\n",
       "        text-align: right;\n",
       "    }\n",
       "</style>\n",
       "<table border=\"1\" class=\"dataframe\">\n",
       "  <thead>\n",
       "    <tr style=\"text-align: right;\">\n",
       "      <th></th>\n",
       "      <th>sum_debt</th>\n",
       "      <th>count_debt</th>\n",
       "      <th>mean_debt</th>\n",
       "    </tr>\n",
       "    <tr>\n",
       "      <th>total_income_category</th>\n",
       "      <th></th>\n",
       "      <th></th>\n",
       "      <th></th>\n",
       "    </tr>\n",
       "  </thead>\n",
       "  <tbody>\n",
       "    <tr>\n",
       "      <th>A</th>\n",
       "      <td>2</td>\n",
       "      <td>25</td>\n",
       "      <td>0.080000</td>\n",
       "    </tr>\n",
       "    <tr>\n",
       "      <th>B</th>\n",
       "      <td>354</td>\n",
       "      <td>5014</td>\n",
       "      <td>0.070602</td>\n",
       "    </tr>\n",
       "    <tr>\n",
       "      <th>C</th>\n",
       "      <td>1353</td>\n",
       "      <td>15921</td>\n",
       "      <td>0.084982</td>\n",
       "    </tr>\n",
       "    <tr>\n",
       "      <th>D</th>\n",
       "      <td>21</td>\n",
       "      <td>349</td>\n",
       "      <td>0.060172</td>\n",
       "    </tr>\n",
       "    <tr>\n",
       "      <th>E</th>\n",
       "      <td>2</td>\n",
       "      <td>22</td>\n",
       "      <td>0.090909</td>\n",
       "    </tr>\n",
       "  </tbody>\n",
       "</table>\n",
       "</div>"
      ],
      "text/plain": [
       "                       sum_debt  count_debt  mean_debt\n",
       "total_income_category                                 \n",
       "A                             2          25   0.080000\n",
       "B                           354        5014   0.070602\n",
       "C                          1353       15921   0.084982\n",
       "D                            21         349   0.060172\n",
       "E                             2          22   0.090909"
      ]
     },
     "execution_count": 54,
     "metadata": {},
     "output_type": "execute_result"
    }
   ],
   "source": [
    "data_pivot_inc = data.pivot_table(index=['total_income_category'], values=['debt'], aggfunc=['sum', 'count', 'mean']) # сформирует таблицу по категориям доходности со столбцами (кол-во задолжников, общее кол-во, их отношение)\n",
    "data_pivot_inc.columns=['sum_debt','count_debt','mean_debt'] #присвоим новые названия столбцам\n",
    "\n",
    "data_pivot_inc #вывод на экран\n"
   ]
  },
  {
   "cell_type": "markdown",
   "id": "800bec3e",
   "metadata": {
    "deletable": false,
    "id": "e8593def"
   },
   "source": [
    "**Вывод:** Разделили заемщиков на 5 групп в зависимости от суммы доходов.Исходя из имеющихся данных, видно отстутствие  зависимости между уровнем дохода и возврата кредита в срок.    \n",
    "   Видно что, наибольшее количество кредитов взято заемщиками с относительно средним доходом из категории \"С\",\"В\",\"D\". И заемщики с самым высоким и самым низким доходами, не особо оформляют кредиты. \n",
    "   Минимальное количество должников 6%, находятся в категориях \"D\" - с доходом до 50тыс.\n",
    "   Должники в категории \"В\" составляют 7%. Далее 8% - это должники в категории \"А\" с доходом свыше 1млн.\n",
    "   Должники в категории \"С\" составляют 8,4%.\n",
    "   И 9% составляют должники с наименьшим доходом до 30тыс. в категории \"Е\"."
   ]
  },
  {
   "cell_type": "markdown",
   "id": "76c95cdd",
   "metadata": {
    "deletable": false,
    "editable": false,
    "id": "99ecbd1f"
   },
   "source": [
    "#### 3.4 Как разные цели кредита влияют на его возврат в срок?"
   ]
  },
  {
   "cell_type": "code",
   "execution_count": 56,
   "id": "83904e5e",
   "metadata": {
    "deletable": false,
    "id": "2b687290"
   },
   "outputs": [
    {
     "data": {
      "text/html": [
       "<div>\n",
       "<style scoped>\n",
       "    .dataframe tbody tr th:only-of-type {\n",
       "        vertical-align: middle;\n",
       "    }\n",
       "\n",
       "    .dataframe tbody tr th {\n",
       "        vertical-align: top;\n",
       "    }\n",
       "\n",
       "    .dataframe thead th {\n",
       "        text-align: right;\n",
       "    }\n",
       "</style>\n",
       "<table border=\"1\" class=\"dataframe\">\n",
       "  <thead>\n",
       "    <tr style=\"text-align: right;\">\n",
       "      <th></th>\n",
       "      <th>sum_debt</th>\n",
       "      <th>count_debt</th>\n",
       "      <th>mean_debt</th>\n",
       "    </tr>\n",
       "    <tr>\n",
       "      <th>purpose_category</th>\n",
       "      <th></th>\n",
       "      <th></th>\n",
       "      <th></th>\n",
       "    </tr>\n",
       "  </thead>\n",
       "  <tbody>\n",
       "    <tr>\n",
       "      <th>операции с автомобилем</th>\n",
       "      <td>400</td>\n",
       "      <td>4279</td>\n",
       "      <td>0.093480</td>\n",
       "    </tr>\n",
       "    <tr>\n",
       "      <th>операции с недвижимостью</th>\n",
       "      <td>780</td>\n",
       "      <td>10751</td>\n",
       "      <td>0.072551</td>\n",
       "    </tr>\n",
       "    <tr>\n",
       "      <th>получение образования</th>\n",
       "      <td>369</td>\n",
       "      <td>3988</td>\n",
       "      <td>0.092528</td>\n",
       "    </tr>\n",
       "    <tr>\n",
       "      <th>проведение свадьбы</th>\n",
       "      <td>183</td>\n",
       "      <td>2313</td>\n",
       "      <td>0.079118</td>\n",
       "    </tr>\n",
       "  </tbody>\n",
       "</table>\n",
       "</div>"
      ],
      "text/plain": [
       "                          sum_debt  count_debt  mean_debt\n",
       "purpose_category                                         \n",
       "операции с автомобилем         400        4279   0.093480\n",
       "операции с недвижимостью       780       10751   0.072551\n",
       "получение образования          369        3988   0.092528\n",
       "проведение свадьбы             183        2313   0.079118"
      ]
     },
     "execution_count": 56,
     "metadata": {},
     "output_type": "execute_result"
    }
   ],
   "source": [
    "data_pivot_pur = data.pivot_table(index=['purpose_category'], values=['debt'], aggfunc=['sum', 'count', 'mean']) # разделение заемщиков по целям получения кредита\n",
    "data_pivot_pur.columns=['sum_debt','count_debt','mean_debt'] #присвоим новые названия столбцам\n",
    "data_pivot_pur# Ваш код будет здесь. Вы можете создавать новые ячейки."
   ]
  },
  {
   "cell_type": "markdown",
   "id": "f88ff21d",
   "metadata": {
    "deletable": false,
    "id": "b4bb2ce6"
   },
   "source": [
    "**Вывод:** Исходя из имеющихся данных,обнаружено наличие зависимости цели кредита на его возврат в срок. Выявлено что при оформлении кредита с целью решения вопрос связанных с недвижимостью и с целью проведения свадьбы процент не возврата в срок состовляет всего 7%. Против 9% процентов по целям : операции с автомобилем и получение образования. Можно предположить что первые надежнее вторых, даже с учетом объема количества выданных кредитов.\n",
    "  "
   ]
  },
  {
   "cell_type": "markdown",
   "id": "3197129c",
   "metadata": {
    "deletable": false,
    "editable": false,
    "id": "09c3ac4c"
   },
   "source": [
    "#### 3.5 Приведите возможные причины появления пропусков в исходных данных."
   ]
  },
  {
   "cell_type": "markdown",
   "id": "60e61ecb",
   "metadata": {
    "deletable": false,
    "id": "9da2ceda"
   },
   "source": [
    "*Ответ:* Так, стоит учитывать человеческий фактор (кто-то что-то не ввел, умышленно или нет) также может стать причиной пропусков в данных."
   ]
  },
  {
   "cell_type": "markdown",
   "id": "9de3c32e",
   "metadata": {
    "deletable": false,
    "editable": false,
    "id": "7b0487d6"
   },
   "source": [
    "#### 3.6 Объясните, почему заполнить пропуски медианным значением — лучшее решение для количественных переменных."
   ]
  },
  {
   "cell_type": "markdown",
   "id": "9c529b99",
   "metadata": {
    "deletable": false,
    "id": "7ecf2b8e"
   },
   "source": [
    "*Ответ:* Среднее и медиана оценивают значения в центре выборки. Если диапазон значений приемлемый - среднее подойдет. Но когда есть оторванные от основной массы лидеры, их результаты сильно смещают значение среднего вверх. Вот почему оценивать значения в большом диапазоне лучше медианой."
   ]
  },
  {
   "cell_type": "markdown",
   "id": "7cdf533f",
   "metadata": {
    "deletable": false,
    "editable": false,
    "id": "6db5255a"
   },
   "source": [
    "### Шаг 4: общий вывод."
   ]
  },
  {
   "cell_type": "markdown",
   "id": "96557324",
   "metadata": {
    "deletable": false,
    "id": "bad65432"
   },
   "source": [
    "Для корректного исследования надежности заемщиков привели данные в  порядок чтобы с ними можно было работать и получить актуальную информацию для анализа:\n",
    " - Импортировали данные, очистили данные, удалили пропуска,дубликаты, обработали аномалии, сделали категоризацию данных;\n",
    "\n",
    "Работа была направлена на выявление зависимостей между возвратом кредита в срок и :\n",
    "\n",
    "количеством детей.По результатам анализа предоставленной статистики, делаю вывод, что нет зависимости между количеством детей у заемщика и своевременным погашением ссудной задолженности.;\n",
    "\n",
    "семейным положением - Обнаружена зависимость между семейным положением и возвратом кредита в срок. Видим наиболее высокий процент должников среди не женатых заемщиков и заемщиков, состоящих в гражданском браке (примерно одинаковый процент в размере 10,8% и 10,3%).;\n",
    "\n",
    "уровнем дохода - зависимость бросается в глаза,не берем в расчет полярные величины, наглядно видна прямопропорциональная зависимость между уровнем дохода и возвратом кредита в срок. ;\n",
    "\n",
    "целью кредита  - зависимость есть, наибольшая доля должников взяла кредит на операции с недвижимостью состовляет 50% и по 18-20 на цели: автомобиль и образование.Это несомненно является маркером для скоринга.\n",
    "\n",
    "Исходя из выше изложенного можно сделать вывод, что при анализе заемщиков уровень дохода и цель кредита является наиоболее показательными, для возврата кредита в срок. Семейное положение как дополнение показывает что \"женатые/замужние\" , незначительно но надежнее других категорий. И количество детей не выявило зависимостей и других закономерностей по отношение к возврату кредита в срок."
   ]
  },
  {
   "cell_type": "code",
   "execution_count": null,
   "id": "6fea2dd2",
   "metadata": {},
   "outputs": [],
   "source": []
  }
 ],
 "metadata": {
  "ExecuteTimeLog": [
   {
    "duration": 48,
    "start_time": "2022-09-25T12:34:16.580Z"
   },
   {
    "duration": 6,
    "start_time": "2022-09-25T12:35:55.852Z"
   },
   {
    "duration": 7,
    "start_time": "2022-09-25T12:36:04.554Z"
   },
   {
    "duration": 7,
    "start_time": "2022-09-25T12:36:07.807Z"
   },
   {
    "duration": 6,
    "start_time": "2022-09-25T12:39:32.807Z"
   },
   {
    "duration": 5,
    "start_time": "2022-09-25T12:40:22.109Z"
   },
   {
    "duration": 717,
    "start_time": "2022-09-25T12:42:22.803Z"
   },
   {
    "duration": 20,
    "start_time": "2022-09-25T12:42:23.522Z"
   },
   {
    "duration": 13,
    "start_time": "2022-09-25T12:42:23.544Z"
   },
   {
    "duration": 9,
    "start_time": "2022-09-25T12:42:23.558Z"
   },
   {
    "duration": 40,
    "start_time": "2022-09-25T12:42:23.569Z"
   },
   {
    "duration": 4,
    "start_time": "2022-09-25T12:42:23.610Z"
   },
   {
    "duration": 12,
    "start_time": "2022-09-25T12:42:23.616Z"
   },
   {
    "duration": 5,
    "start_time": "2022-09-25T12:42:23.629Z"
   },
   {
    "duration": 10,
    "start_time": "2022-09-25T12:42:23.635Z"
   },
   {
    "duration": 4,
    "start_time": "2022-09-25T12:42:23.647Z"
   },
   {
    "duration": 34,
    "start_time": "2022-09-25T12:42:23.652Z"
   },
   {
    "duration": 9,
    "start_time": "2022-09-25T12:42:23.710Z"
   },
   {
    "duration": 5,
    "start_time": "2022-09-25T12:42:23.720Z"
   },
   {
    "duration": 11,
    "start_time": "2022-09-25T12:42:23.728Z"
   },
   {
    "duration": 20,
    "start_time": "2022-09-25T12:42:23.740Z"
   },
   {
    "duration": 17,
    "start_time": "2022-09-25T12:42:23.762Z"
   },
   {
    "duration": 30,
    "start_time": "2022-09-25T12:42:23.780Z"
   },
   {
    "duration": 10,
    "start_time": "2022-09-25T12:42:23.812Z"
   },
   {
    "duration": 7,
    "start_time": "2022-09-25T12:42:23.824Z"
   },
   {
    "duration": 5,
    "start_time": "2022-09-25T12:42:23.832Z"
   },
   {
    "duration": 14,
    "start_time": "2022-09-25T12:42:23.839Z"
   },
   {
    "duration": 30,
    "start_time": "2022-09-25T12:42:23.855Z"
   },
   {
    "duration": 23,
    "start_time": "2022-09-25T12:42:23.886Z"
   },
   {
    "duration": 5,
    "start_time": "2022-09-25T12:42:23.911Z"
   },
   {
    "duration": 7,
    "start_time": "2022-09-25T12:42:23.918Z"
   },
   {
    "duration": 59,
    "start_time": "2022-09-25T12:58:31.234Z"
   },
   {
    "duration": 13,
    "start_time": "2022-09-25T12:58:54.229Z"
   },
   {
    "duration": 27,
    "start_time": "2022-09-25T12:59:16.327Z"
   },
   {
    "duration": 20,
    "start_time": "2022-09-25T13:12:04.209Z"
   },
   {
    "duration": 20,
    "start_time": "2022-09-25T14:21:24.923Z"
   },
   {
    "duration": 92,
    "start_time": "2022-09-25T14:25:26.292Z"
   },
   {
    "duration": 20,
    "start_time": "2022-09-25T14:26:17.856Z"
   },
   {
    "duration": 19,
    "start_time": "2022-09-25T14:26:30.566Z"
   },
   {
    "duration": 13,
    "start_time": "2022-09-25T14:33:05.569Z"
   },
   {
    "duration": 16,
    "start_time": "2022-09-25T14:33:19.746Z"
   },
   {
    "duration": 186,
    "start_time": "2022-09-25T14:47:37.483Z"
   },
   {
    "duration": 15,
    "start_time": "2022-09-25T14:47:55.573Z"
   },
   {
    "duration": 57,
    "start_time": "2022-09-25T14:48:03.367Z"
   },
   {
    "duration": 18,
    "start_time": "2022-09-25T14:48:08.836Z"
   },
   {
    "duration": 904,
    "start_time": "2022-09-25T14:55:03.191Z"
   },
   {
    "duration": 542,
    "start_time": "2022-09-25T14:55:05.557Z"
   },
   {
    "duration": 1019,
    "start_time": "2022-09-25T14:55:11.853Z"
   },
   {
    "duration": 620,
    "start_time": "2022-09-25T14:55:15.928Z"
   },
   {
    "duration": 20,
    "start_time": "2022-09-25T14:55:37.728Z"
   },
   {
    "duration": 17,
    "start_time": "2022-09-25T14:58:37.953Z"
   },
   {
    "duration": 17,
    "start_time": "2022-09-25T15:00:55.004Z"
   },
   {
    "duration": 18,
    "start_time": "2022-09-25T15:01:09.527Z"
   },
   {
    "duration": 1087,
    "start_time": "2022-09-25T15:07:12.522Z"
   },
   {
    "duration": 20,
    "start_time": "2022-09-25T15:07:27.690Z"
   },
   {
    "duration": 45,
    "start_time": "2022-09-25T17:46:10.552Z"
   },
   {
    "duration": 7,
    "start_time": "2022-09-25T17:46:27.655Z"
   },
   {
    "duration": 6,
    "start_time": "2022-09-25T17:46:40.714Z"
   },
   {
    "duration": 658,
    "start_time": "2022-09-25T17:46:59.884Z"
   },
   {
    "duration": 20,
    "start_time": "2022-09-25T17:47:00.543Z"
   },
   {
    "duration": 34,
    "start_time": "2022-09-25T17:47:00.564Z"
   },
   {
    "duration": 17,
    "start_time": "2022-09-25T17:47:00.600Z"
   },
   {
    "duration": 69,
    "start_time": "2022-09-25T17:47:00.618Z"
   },
   {
    "duration": 4,
    "start_time": "2022-09-25T17:47:00.688Z"
   },
   {
    "duration": 29,
    "start_time": "2022-09-25T17:47:00.693Z"
   },
   {
    "duration": 30,
    "start_time": "2022-09-25T17:47:00.724Z"
   },
   {
    "duration": 19,
    "start_time": "2022-09-25T17:47:00.755Z"
   },
   {
    "duration": 18,
    "start_time": "2022-09-25T17:47:00.776Z"
   },
   {
    "duration": 66,
    "start_time": "2022-09-25T17:47:00.796Z"
   },
   {
    "duration": 10,
    "start_time": "2022-09-25T17:47:00.864Z"
   },
   {
    "duration": 15,
    "start_time": "2022-09-25T17:47:00.875Z"
   },
   {
    "duration": 23,
    "start_time": "2022-09-25T17:47:00.892Z"
   },
   {
    "duration": 28,
    "start_time": "2022-09-25T17:47:00.917Z"
   },
   {
    "duration": 32,
    "start_time": "2022-09-25T17:47:00.946Z"
   },
   {
    "duration": 4,
    "start_time": "2022-09-25T17:47:00.979Z"
   },
   {
    "duration": 15,
    "start_time": "2022-09-25T17:47:00.984Z"
   },
   {
    "duration": 13,
    "start_time": "2022-09-25T17:47:01.001Z"
   },
   {
    "duration": 37,
    "start_time": "2022-09-25T17:47:01.015Z"
   },
   {
    "duration": 29,
    "start_time": "2022-09-25T17:47:01.053Z"
   },
   {
    "duration": 36,
    "start_time": "2022-09-25T17:47:01.084Z"
   },
   {
    "duration": 21,
    "start_time": "2022-09-25T17:47:01.121Z"
   },
   {
    "duration": 13,
    "start_time": "2022-09-25T17:47:01.143Z"
   },
   {
    "duration": 18,
    "start_time": "2022-09-25T17:47:01.158Z"
   },
   {
    "duration": 20,
    "start_time": "2022-09-25T17:50:13.147Z"
   },
   {
    "duration": 20,
    "start_time": "2022-09-25T17:50:19.810Z"
   },
   {
    "duration": 20,
    "start_time": "2022-09-25T17:53:42.360Z"
   },
   {
    "duration": 27,
    "start_time": "2022-09-25T17:56:18.656Z"
   },
   {
    "duration": 8,
    "start_time": "2022-09-25T18:08:50.270Z"
   },
   {
    "duration": 29,
    "start_time": "2022-09-25T18:12:46.826Z"
   },
   {
    "duration": 59,
    "start_time": "2022-09-25T18:20:05.863Z"
   },
   {
    "duration": 7,
    "start_time": "2022-09-25T18:21:02.960Z"
   },
   {
    "duration": 8,
    "start_time": "2022-09-25T18:21:36.796Z"
   },
   {
    "duration": 7,
    "start_time": "2022-09-25T18:22:47.929Z"
   },
   {
    "duration": 23,
    "start_time": "2022-09-25T18:23:28.866Z"
   },
   {
    "duration": 15,
    "start_time": "2022-09-25T18:24:30.043Z"
   },
   {
    "duration": 16,
    "start_time": "2022-09-25T18:24:33.640Z"
   },
   {
    "duration": 19,
    "start_time": "2022-09-25T18:24:52.497Z"
   },
   {
    "duration": 13,
    "start_time": "2022-09-25T18:31:39.518Z"
   },
   {
    "duration": 14,
    "start_time": "2022-09-25T18:36:31.553Z"
   },
   {
    "duration": 40,
    "start_time": "2022-09-25T18:37:15.346Z"
   },
   {
    "duration": 19,
    "start_time": "2022-09-25T18:37:26.310Z"
   },
   {
    "duration": 58,
    "start_time": "2022-09-25T19:08:31.869Z"
   },
   {
    "duration": 15,
    "start_time": "2022-09-25T19:09:12.719Z"
   },
   {
    "duration": 8,
    "start_time": "2022-09-25T19:15:20.659Z"
   },
   {
    "duration": 9,
    "start_time": "2022-09-25T19:15:38.854Z"
   },
   {
    "duration": 26,
    "start_time": "2022-09-25T19:16:59.844Z"
   },
   {
    "duration": 30,
    "start_time": "2022-09-25T19:19:45.644Z"
   },
   {
    "duration": 28,
    "start_time": "2022-09-25T19:24:58.302Z"
   },
   {
    "duration": 41,
    "start_time": "2022-09-25T19:25:59.238Z"
   },
   {
    "duration": 40,
    "start_time": "2022-09-25T19:29:03.093Z"
   },
   {
    "duration": 37,
    "start_time": "2022-09-25T19:29:11.333Z"
   },
   {
    "duration": 42,
    "start_time": "2022-09-25T19:31:20.306Z"
   },
   {
    "duration": 32,
    "start_time": "2022-09-25T19:32:17.533Z"
   },
   {
    "duration": 14,
    "start_time": "2022-09-25T19:36:30.240Z"
   },
   {
    "duration": 15,
    "start_time": "2022-09-25T19:36:55.387Z"
   },
   {
    "duration": 13,
    "start_time": "2022-09-25T19:37:23.382Z"
   },
   {
    "duration": 12,
    "start_time": "2022-09-25T19:37:29.087Z"
   },
   {
    "duration": 13,
    "start_time": "2022-09-25T19:37:39.917Z"
   },
   {
    "duration": 7,
    "start_time": "2022-09-25T19:38:32.985Z"
   },
   {
    "duration": 12,
    "start_time": "2022-09-25T19:39:01.381Z"
   },
   {
    "duration": 12,
    "start_time": "2022-09-25T19:39:05.317Z"
   },
   {
    "duration": 11,
    "start_time": "2022-09-25T19:39:38.320Z"
   },
   {
    "duration": 11,
    "start_time": "2022-09-25T19:39:41.584Z"
   },
   {
    "duration": 11,
    "start_time": "2022-09-25T19:42:21.337Z"
   },
   {
    "duration": 16,
    "start_time": "2022-09-25T19:42:42.981Z"
   },
   {
    "duration": 16,
    "start_time": "2022-09-25T19:43:32.467Z"
   },
   {
    "duration": 14,
    "start_time": "2022-09-25T19:44:01.043Z"
   },
   {
    "duration": 19,
    "start_time": "2022-09-25T19:54:05.029Z"
   },
   {
    "duration": 17,
    "start_time": "2022-09-25T19:54:27.086Z"
   },
   {
    "duration": 13,
    "start_time": "2022-09-25T19:54:41.601Z"
   },
   {
    "duration": 18,
    "start_time": "2022-09-25T20:01:53.083Z"
   },
   {
    "duration": 473,
    "start_time": "2022-09-25T20:02:00.238Z"
   },
   {
    "duration": 24,
    "start_time": "2022-09-25T20:02:00.713Z"
   },
   {
    "duration": 58,
    "start_time": "2022-09-25T20:02:00.738Z"
   },
   {
    "duration": 38,
    "start_time": "2022-09-25T20:02:00.799Z"
   },
   {
    "duration": 48,
    "start_time": "2022-09-25T20:02:00.839Z"
   },
   {
    "duration": 4,
    "start_time": "2022-09-25T20:02:00.889Z"
   },
   {
    "duration": 29,
    "start_time": "2022-09-25T20:02:00.894Z"
   },
   {
    "duration": 18,
    "start_time": "2022-09-25T20:02:00.925Z"
   },
   {
    "duration": 52,
    "start_time": "2022-09-25T20:02:00.945Z"
   },
   {
    "duration": 24,
    "start_time": "2022-09-25T20:02:01.000Z"
   },
   {
    "duration": 44,
    "start_time": "2022-09-25T20:02:01.025Z"
   },
   {
    "duration": 10,
    "start_time": "2022-09-25T20:02:01.070Z"
   },
   {
    "duration": 45,
    "start_time": "2022-09-25T20:02:01.081Z"
   },
   {
    "duration": 29,
    "start_time": "2022-09-25T20:02:01.127Z"
   },
   {
    "duration": 74,
    "start_time": "2022-09-25T20:02:01.158Z"
   },
   {
    "duration": 37,
    "start_time": "2022-09-25T20:02:01.233Z"
   },
   {
    "duration": 17,
    "start_time": "2022-09-25T20:02:01.271Z"
   },
   {
    "duration": 40,
    "start_time": "2022-09-25T20:02:01.290Z"
   },
   {
    "duration": 31,
    "start_time": "2022-09-25T20:02:01.332Z"
   },
   {
    "duration": 11,
    "start_time": "2022-09-25T20:02:01.365Z"
   },
   {
    "duration": 72,
    "start_time": "2022-09-25T20:02:01.377Z"
   },
   {
    "duration": 51,
    "start_time": "2022-09-25T20:02:01.451Z"
   },
   {
    "duration": 29,
    "start_time": "2022-09-25T20:02:01.504Z"
   },
   {
    "duration": 54,
    "start_time": "2022-09-25T20:02:01.535Z"
   },
   {
    "duration": 25,
    "start_time": "2022-09-25T20:02:01.591Z"
   },
   {
    "duration": 13,
    "start_time": "2022-09-25T20:04:41.886Z"
   },
   {
    "duration": 15,
    "start_time": "2022-09-25T20:13:54.202Z"
   },
   {
    "duration": 14,
    "start_time": "2022-09-25T20:14:31.487Z"
   },
   {
    "duration": 832,
    "start_time": "2022-09-25T20:29:30.920Z"
   },
   {
    "duration": 787,
    "start_time": "2022-09-25T20:29:55.683Z"
   },
   {
    "duration": 768,
    "start_time": "2022-09-25T20:29:58.103Z"
   },
   {
    "duration": 1492,
    "start_time": "2022-09-25T20:30:00.894Z"
   },
   {
    "duration": 471,
    "start_time": "2022-09-25T20:31:13.233Z"
   },
   {
    "duration": 21,
    "start_time": "2022-09-25T20:31:13.706Z"
   },
   {
    "duration": 14,
    "start_time": "2022-09-25T20:31:13.729Z"
   },
   {
    "duration": 9,
    "start_time": "2022-09-25T20:31:13.744Z"
   },
   {
    "duration": 30,
    "start_time": "2022-09-25T20:31:13.755Z"
   },
   {
    "duration": 3,
    "start_time": "2022-09-25T20:31:13.787Z"
   },
   {
    "duration": 10,
    "start_time": "2022-09-25T20:31:13.791Z"
   },
   {
    "duration": 5,
    "start_time": "2022-09-25T20:31:13.802Z"
   },
   {
    "duration": 11,
    "start_time": "2022-09-25T20:31:13.833Z"
   },
   {
    "duration": 3,
    "start_time": "2022-09-25T20:31:13.847Z"
   },
   {
    "duration": 34,
    "start_time": "2022-09-25T20:31:13.852Z"
   },
   {
    "duration": 8,
    "start_time": "2022-09-25T20:31:13.888Z"
   },
   {
    "duration": 8,
    "start_time": "2022-09-25T20:31:13.898Z"
   },
   {
    "duration": 13,
    "start_time": "2022-09-25T20:31:13.907Z"
   },
   {
    "duration": 36,
    "start_time": "2022-09-25T20:31:13.933Z"
   },
   {
    "duration": 25,
    "start_time": "2022-09-25T20:31:13.970Z"
   },
   {
    "duration": 4,
    "start_time": "2022-09-25T20:31:13.997Z"
   },
   {
    "duration": 28,
    "start_time": "2022-09-25T20:31:14.002Z"
   },
   {
    "duration": 36,
    "start_time": "2022-09-25T20:31:14.031Z"
   },
   {
    "duration": 4,
    "start_time": "2022-09-25T20:31:14.068Z"
   },
   {
    "duration": 10,
    "start_time": "2022-09-25T20:31:14.073Z"
   },
   {
    "duration": 23,
    "start_time": "2022-09-25T20:31:14.085Z"
   },
   {
    "duration": 18,
    "start_time": "2022-09-25T20:31:14.109Z"
   },
   {
    "duration": 916,
    "start_time": "2022-09-25T20:31:14.128Z"
   },
   {
    "duration": 0,
    "start_time": "2022-09-25T20:31:15.046Z"
   },
   {
    "duration": 661,
    "start_time": "2022-09-25T20:32:37.181Z"
   },
   {
    "duration": 676,
    "start_time": "2022-09-25T20:32:39.157Z"
   },
   {
    "duration": 708,
    "start_time": "2022-09-25T20:39:29.222Z"
   },
   {
    "duration": 728,
    "start_time": "2022-09-25T20:39:32.469Z"
   },
   {
    "duration": 837,
    "start_time": "2022-09-25T20:39:56.086Z"
   },
   {
    "duration": 989,
    "start_time": "2022-09-25T20:39:58.969Z"
   },
   {
    "duration": 17,
    "start_time": "2022-09-25T20:40:09.861Z"
   },
   {
    "duration": 17,
    "start_time": "2022-09-25T20:40:42.591Z"
   },
   {
    "duration": 19,
    "start_time": "2022-09-25T20:58:50.581Z"
   },
   {
    "duration": 19,
    "start_time": "2022-09-25T20:59:30.737Z"
   },
   {
    "duration": 47,
    "start_time": "2022-09-25T22:56:34.338Z"
   },
   {
    "duration": 579,
    "start_time": "2022-09-25T22:56:38.971Z"
   },
   {
    "duration": 24,
    "start_time": "2022-09-25T22:56:39.552Z"
   },
   {
    "duration": 19,
    "start_time": "2022-09-25T22:56:39.578Z"
   },
   {
    "duration": 11,
    "start_time": "2022-09-25T22:56:39.599Z"
   },
   {
    "duration": 43,
    "start_time": "2022-09-25T22:56:39.612Z"
   },
   {
    "duration": 3,
    "start_time": "2022-09-25T22:56:39.657Z"
   },
   {
    "duration": 21,
    "start_time": "2022-09-25T22:56:39.662Z"
   },
   {
    "duration": 8,
    "start_time": "2022-09-25T22:56:39.685Z"
   },
   {
    "duration": 26,
    "start_time": "2022-09-25T22:56:39.695Z"
   },
   {
    "duration": 16,
    "start_time": "2022-09-25T22:56:39.724Z"
   },
   {
    "duration": 53,
    "start_time": "2022-09-25T22:56:39.742Z"
   },
   {
    "duration": 10,
    "start_time": "2022-09-25T22:56:39.796Z"
   },
   {
    "duration": 6,
    "start_time": "2022-09-25T22:56:39.808Z"
   },
   {
    "duration": 24,
    "start_time": "2022-09-25T22:56:39.816Z"
   },
   {
    "duration": 32,
    "start_time": "2022-09-25T22:56:39.842Z"
   },
   {
    "duration": 19,
    "start_time": "2022-09-25T22:56:39.876Z"
   },
   {
    "duration": 4,
    "start_time": "2022-09-25T22:56:39.896Z"
   },
   {
    "duration": 22,
    "start_time": "2022-09-25T22:56:39.902Z"
   },
   {
    "duration": 9,
    "start_time": "2022-09-25T22:56:39.926Z"
   },
   {
    "duration": 4,
    "start_time": "2022-09-25T22:56:39.937Z"
   },
   {
    "duration": 11,
    "start_time": "2022-09-25T22:56:39.942Z"
   },
   {
    "duration": 41,
    "start_time": "2022-09-25T22:56:39.955Z"
   },
   {
    "duration": 320,
    "start_time": "2022-09-25T22:56:39.998Z"
   },
   {
    "duration": 25,
    "start_time": "2022-09-25T22:56:40.320Z"
   },
   {
    "duration": 19,
    "start_time": "2022-09-25T22:56:40.346Z"
   },
   {
    "duration": 42,
    "start_time": "2022-09-25T22:56:40.366Z"
   },
   {
    "duration": 27,
    "start_time": "2022-09-25T22:58:04.398Z"
   },
   {
    "duration": 22,
    "start_time": "2022-09-25T23:00:37.135Z"
   },
   {
    "duration": 22,
    "start_time": "2022-09-25T23:00:43.706Z"
   },
   {
    "duration": 60,
    "start_time": "2022-09-26T09:01:46.341Z"
   },
   {
    "duration": 47,
    "start_time": "2022-09-26T09:02:05.047Z"
   },
   {
    "duration": 786,
    "start_time": "2022-09-26T09:02:24.507Z"
   },
   {
    "duration": 28,
    "start_time": "2022-09-26T09:02:25.295Z"
   },
   {
    "duration": 25,
    "start_time": "2022-09-26T09:02:25.325Z"
   },
   {
    "duration": 9,
    "start_time": "2022-09-26T09:02:25.352Z"
   },
   {
    "duration": 33,
    "start_time": "2022-09-26T09:02:25.363Z"
   },
   {
    "duration": 23,
    "start_time": "2022-09-26T09:02:25.398Z"
   },
   {
    "duration": 13,
    "start_time": "2022-09-26T09:02:25.423Z"
   },
   {
    "duration": 7,
    "start_time": "2022-09-26T09:02:25.438Z"
   },
   {
    "duration": 10,
    "start_time": "2022-09-26T09:02:25.447Z"
   },
   {
    "duration": 4,
    "start_time": "2022-09-26T09:02:25.463Z"
   },
   {
    "duration": 82,
    "start_time": "2022-09-26T09:02:25.469Z"
   },
   {
    "duration": 9,
    "start_time": "2022-09-26T09:02:25.553Z"
   },
   {
    "duration": 4,
    "start_time": "2022-09-26T09:02:25.563Z"
   },
   {
    "duration": 16,
    "start_time": "2022-09-26T09:02:25.568Z"
   },
   {
    "duration": 44,
    "start_time": "2022-09-26T09:02:25.586Z"
   },
   {
    "duration": 21,
    "start_time": "2022-09-26T09:02:25.633Z"
   },
   {
    "duration": 4,
    "start_time": "2022-09-26T09:02:25.656Z"
   },
   {
    "duration": 18,
    "start_time": "2022-09-26T09:02:25.661Z"
   },
   {
    "duration": 14,
    "start_time": "2022-09-26T09:02:25.680Z"
   },
   {
    "duration": 29,
    "start_time": "2022-09-26T09:02:25.695Z"
   },
   {
    "duration": 26,
    "start_time": "2022-09-26T09:02:25.727Z"
   },
   {
    "duration": 25,
    "start_time": "2022-09-26T09:02:25.754Z"
   },
   {
    "duration": 22,
    "start_time": "2022-09-26T09:02:25.781Z"
   },
   {
    "duration": 43,
    "start_time": "2022-09-26T09:02:25.804Z"
   },
   {
    "duration": 20,
    "start_time": "2022-09-26T09:02:25.849Z"
   },
   {
    "duration": 2702,
    "start_time": "2022-09-26T10:06:59.669Z"
   },
   {
    "duration": 20,
    "start_time": "2022-09-26T10:07:31.439Z"
   },
   {
    "duration": 17,
    "start_time": "2022-09-26T10:08:46.342Z"
   },
   {
    "duration": 21,
    "start_time": "2022-09-26T10:11:48.659Z"
   },
   {
    "duration": 29,
    "start_time": "2022-09-26T10:14:06.802Z"
   },
   {
    "duration": 20,
    "start_time": "2022-09-26T10:14:40.029Z"
   },
   {
    "duration": 1063,
    "start_time": "2022-09-26T10:22:10.080Z"
   },
   {
    "duration": 1096,
    "start_time": "2022-09-26T10:23:55.682Z"
   },
   {
    "duration": 1922,
    "start_time": "2022-09-26T10:24:31.458Z"
   },
   {
    "duration": 1365,
    "start_time": "2022-09-26T10:25:33.287Z"
   },
   {
    "duration": 472,
    "start_time": "2022-09-26T10:25:53.946Z"
   },
   {
    "duration": 24,
    "start_time": "2022-09-26T10:25:54.420Z"
   },
   {
    "duration": 18,
    "start_time": "2022-09-26T10:25:54.446Z"
   },
   {
    "duration": 14,
    "start_time": "2022-09-26T10:25:54.466Z"
   },
   {
    "duration": 68,
    "start_time": "2022-09-26T10:25:54.483Z"
   },
   {
    "duration": 3,
    "start_time": "2022-09-26T10:25:54.553Z"
   },
   {
    "duration": 24,
    "start_time": "2022-09-26T10:25:54.558Z"
   },
   {
    "duration": 9,
    "start_time": "2022-09-26T10:25:54.584Z"
   },
   {
    "duration": 17,
    "start_time": "2022-09-26T10:25:54.594Z"
   },
   {
    "duration": 10,
    "start_time": "2022-09-26T10:25:54.613Z"
   },
   {
    "duration": 52,
    "start_time": "2022-09-26T10:25:54.625Z"
   },
   {
    "duration": 11,
    "start_time": "2022-09-26T10:25:54.679Z"
   },
   {
    "duration": 8,
    "start_time": "2022-09-26T10:25:54.692Z"
   },
   {
    "duration": 18,
    "start_time": "2022-09-26T10:25:54.703Z"
   },
   {
    "duration": 27,
    "start_time": "2022-09-26T10:25:54.723Z"
   },
   {
    "duration": 19,
    "start_time": "2022-09-26T10:25:54.752Z"
   },
   {
    "duration": 4,
    "start_time": "2022-09-26T10:25:54.772Z"
   },
   {
    "duration": 15,
    "start_time": "2022-09-26T10:25:54.778Z"
   },
   {
    "duration": 27,
    "start_time": "2022-09-26T10:25:54.795Z"
   },
   {
    "duration": 4,
    "start_time": "2022-09-26T10:25:54.823Z"
   },
   {
    "duration": 15,
    "start_time": "2022-09-26T10:25:54.829Z"
   },
   {
    "duration": 29,
    "start_time": "2022-09-26T10:25:54.845Z"
   },
   {
    "duration": 23,
    "start_time": "2022-09-26T10:25:54.876Z"
   },
   {
    "duration": 1775,
    "start_time": "2022-09-26T10:25:54.901Z"
   },
   {
    "duration": 0,
    "start_time": "2022-09-26T10:25:56.679Z"
   },
   {
    "duration": 2060,
    "start_time": "2022-09-26T10:26:12.538Z"
   },
   {
    "duration": 2081,
    "start_time": "2022-09-26T10:26:15.848Z"
   },
   {
    "duration": 20,
    "start_time": "2022-09-26T10:26:31.041Z"
   },
   {
    "duration": 1959,
    "start_time": "2022-09-26T10:30:37.098Z"
   },
   {
    "duration": 1796,
    "start_time": "2022-09-26T10:31:09.872Z"
   },
   {
    "duration": 451,
    "start_time": "2022-09-26T10:31:21.657Z"
   },
   {
    "duration": 24,
    "start_time": "2022-09-26T10:31:22.110Z"
   },
   {
    "duration": 15,
    "start_time": "2022-09-26T10:31:22.136Z"
   },
   {
    "duration": 9,
    "start_time": "2022-09-26T10:31:22.154Z"
   },
   {
    "duration": 37,
    "start_time": "2022-09-26T10:31:22.165Z"
   },
   {
    "duration": 4,
    "start_time": "2022-09-26T10:31:22.221Z"
   },
   {
    "duration": 13,
    "start_time": "2022-09-26T10:31:22.226Z"
   },
   {
    "duration": 4,
    "start_time": "2022-09-26T10:31:22.241Z"
   },
   {
    "duration": 11,
    "start_time": "2022-09-26T10:31:22.247Z"
   },
   {
    "duration": 5,
    "start_time": "2022-09-26T10:31:22.261Z"
   },
   {
    "duration": 62,
    "start_time": "2022-09-26T10:31:22.267Z"
   },
   {
    "duration": 10,
    "start_time": "2022-09-26T10:31:22.330Z"
   },
   {
    "duration": 4,
    "start_time": "2022-09-26T10:31:22.341Z"
   },
   {
    "duration": 14,
    "start_time": "2022-09-26T10:31:22.347Z"
   },
   {
    "duration": 22,
    "start_time": "2022-09-26T10:31:22.363Z"
   },
   {
    "duration": 41,
    "start_time": "2022-09-26T10:31:22.387Z"
   },
   {
    "duration": 4,
    "start_time": "2022-09-26T10:31:22.430Z"
   },
   {
    "duration": 23,
    "start_time": "2022-09-26T10:31:22.435Z"
   },
   {
    "duration": 6,
    "start_time": "2022-09-26T10:31:22.460Z"
   },
   {
    "duration": 4,
    "start_time": "2022-09-26T10:31:22.468Z"
   },
   {
    "duration": 16,
    "start_time": "2022-09-26T10:31:22.474Z"
   },
   {
    "duration": 40,
    "start_time": "2022-09-26T10:31:22.492Z"
   },
   {
    "duration": 25,
    "start_time": "2022-09-26T10:31:22.534Z"
   },
   {
    "duration": 4119,
    "start_time": "2022-09-26T10:31:22.561Z"
   },
   {
    "duration": 0,
    "start_time": "2022-09-26T10:31:26.681Z"
   },
   {
    "duration": 2533,
    "start_time": "2022-09-26T10:31:46.598Z"
   },
   {
    "duration": 22,
    "start_time": "2022-09-26T10:33:24.000Z"
   },
   {
    "duration": 1807,
    "start_time": "2022-09-26T10:34:31.039Z"
   },
   {
    "duration": 3010,
    "start_time": "2022-09-26T10:37:08.091Z"
   },
   {
    "duration": 2481,
    "start_time": "2022-09-26T10:40:09.169Z"
   },
   {
    "duration": 1761,
    "start_time": "2022-09-26T10:41:26.685Z"
   },
   {
    "duration": 2485,
    "start_time": "2022-09-26T10:41:44.241Z"
   },
   {
    "duration": 4468,
    "start_time": "2022-09-26T10:41:59.120Z"
   },
   {
    "duration": 22,
    "start_time": "2022-09-26T10:44:40.028Z"
   },
   {
    "duration": 11,
    "start_time": "2022-09-26T10:55:22.928Z"
   },
   {
    "duration": 15,
    "start_time": "2022-09-26T11:05:57.728Z"
   },
   {
    "duration": 16,
    "start_time": "2022-09-26T11:19:22.307Z"
   },
   {
    "duration": 18,
    "start_time": "2022-09-26T11:19:41.947Z"
   },
   {
    "duration": 32,
    "start_time": "2022-09-26T11:22:12.179Z"
   },
   {
    "duration": 19,
    "start_time": "2022-09-26T11:23:05.580Z"
   },
   {
    "duration": 936,
    "start_time": "2022-09-26T11:31:45.632Z"
   },
   {
    "duration": 19,
    "start_time": "2022-09-26T12:01:19.385Z"
   },
   {
    "duration": 32,
    "start_time": "2022-09-26T12:01:47.233Z"
   },
   {
    "duration": 20,
    "start_time": "2022-09-26T12:22:10.937Z"
   },
   {
    "duration": 21,
    "start_time": "2022-09-26T12:25:11.960Z"
   },
   {
    "duration": 36,
    "start_time": "2022-09-26T12:37:04.481Z"
   },
   {
    "duration": 22,
    "start_time": "2022-09-26T12:41:43.532Z"
   },
   {
    "duration": 30,
    "start_time": "2022-09-26T12:45:29.006Z"
   },
   {
    "duration": 22,
    "start_time": "2022-09-26T12:46:00.756Z"
   },
   {
    "duration": 50,
    "start_time": "2022-09-26T12:48:37.980Z"
   },
   {
    "duration": 31,
    "start_time": "2022-09-26T12:48:57.318Z"
   },
   {
    "duration": 31,
    "start_time": "2022-09-26T12:50:17.228Z"
   },
   {
    "duration": 7,
    "start_time": "2022-09-26T12:56:50.694Z"
   },
   {
    "duration": 31,
    "start_time": "2022-09-26T12:57:01.154Z"
   },
   {
    "duration": 29,
    "start_time": "2022-09-26T13:01:57.146Z"
   },
   {
    "duration": 40,
    "start_time": "2022-09-26T13:34:20.902Z"
   },
   {
    "duration": 39,
    "start_time": "2022-09-26T13:36:37.750Z"
   }
  ],
  "colab": {
   "name": "dpp_template_part2.ipynb",
   "provenance": []
  },
  "kernelspec": {
   "display_name": "Python 3 (ipykernel)",
   "language": "python",
   "name": "python3"
  },
  "language_info": {
   "codemirror_mode": {
    "name": "ipython",
    "version": 3
   },
   "file_extension": ".py",
   "mimetype": "text/x-python",
   "name": "python",
   "nbconvert_exporter": "python",
   "pygments_lexer": "ipython3",
   "version": "3.9.13"
  },
  "toc": {
   "base_numbering": 1,
   "nav_menu": {},
   "number_sections": true,
   "sideBar": true,
   "skip_h1_title": true,
   "title_cell": "Table of Contents",
   "title_sidebar": "Contents",
   "toc_cell": false,
   "toc_position": {},
   "toc_section_display": true,
   "toc_window_display": true
  }
 },
 "nbformat": 4,
 "nbformat_minor": 5
}
