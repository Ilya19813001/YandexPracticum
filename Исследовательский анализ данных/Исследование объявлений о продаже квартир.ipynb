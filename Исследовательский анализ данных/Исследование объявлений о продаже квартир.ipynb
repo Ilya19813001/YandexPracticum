{
 "cells": [
  {
   "cell_type": "markdown",
   "metadata": {},
   "source": [
    "# Исследование объявлений о продаже квартир\n",
    "\n",
    "В вашем распоряжении данные сервиса Яндекс.Недвижимость — архив объявлений о продаже квартир в Санкт-Петербурге и соседних населённых пунктов за несколько лет. Нужно научиться определять рыночную стоимость объектов недвижимости. Ваша задача — установить параметры. Это позволит построить автоматизированную систему: она отследит аномалии и мошенническую деятельность. \n",
    "\n",
    "По каждой квартире на продажу доступны два вида данных. Первые вписаны пользователем, вторые — получены автоматически на основе картографических данных. Например, расстояние до центра, аэропорта, ближайшего парка и водоёма. "
   ]
  },
  {
   "cell_type": "markdown",
   "metadata": {},
   "source": [
    "### Откройте файл с данными и изучите общую информацию. "
   ]
  },
  {
   "cell_type": "code",
   "execution_count": 1,
   "metadata": {},
   "outputs": [],
   "source": [
    "import pandas as pd # импортируем библиотеку Pandas\n",
    "import matplotlib.pyplot as plt # импортируем библиотеку matplotlib для построения графиков\n",
    "import datetime # импортируем элемент для управления датой и временем\n",
    "import seaborn # импортируем библиотеку seaborn\n",
    "import numpy as np\n"
   ]
  },
  {
   "cell_type": "code",
   "execution_count": 2,
   "metadata": {},
   "outputs": [],
   "source": [
    "data = pd.read_csv('/datasets/real_estate_data',sep='\\t' ) # загрузим файл real_estate_data и применим разделитель '\\t'"
   ]
  },
  {
   "cell_type": "code",
   "execution_count": 3,
   "metadata": {},
   "outputs": [
    {
     "data": {
      "text/html": [
       "<div>\n",
       "<style scoped>\n",
       "    .dataframe tbody tr th:only-of-type {\n",
       "        vertical-align: middle;\n",
       "    }\n",
       "\n",
       "    .dataframe tbody tr th {\n",
       "        vertical-align: top;\n",
       "    }\n",
       "\n",
       "    .dataframe thead th {\n",
       "        text-align: right;\n",
       "    }\n",
       "</style>\n",
       "<table border=\"1\" class=\"dataframe\">\n",
       "  <thead>\n",
       "    <tr style=\"text-align: right;\">\n",
       "      <th></th>\n",
       "      <th>total_images</th>\n",
       "      <th>last_price</th>\n",
       "      <th>total_area</th>\n",
       "      <th>rooms</th>\n",
       "      <th>ceiling_height</th>\n",
       "      <th>floors_total</th>\n",
       "      <th>living_area</th>\n",
       "      <th>floor</th>\n",
       "      <th>kitchen_area</th>\n",
       "      <th>balcony</th>\n",
       "      <th>airports_nearest</th>\n",
       "      <th>cityCenters_nearest</th>\n",
       "      <th>parks_around3000</th>\n",
       "      <th>parks_nearest</th>\n",
       "      <th>ponds_around3000</th>\n",
       "      <th>ponds_nearest</th>\n",
       "      <th>days_exposition</th>\n",
       "    </tr>\n",
       "  </thead>\n",
       "  <tbody>\n",
       "    <tr>\n",
       "      <th>count</th>\n",
       "      <td>23699.000000</td>\n",
       "      <td>2.369900e+04</td>\n",
       "      <td>23699.000000</td>\n",
       "      <td>23699.000000</td>\n",
       "      <td>14504.000000</td>\n",
       "      <td>23613.000000</td>\n",
       "      <td>21796.000000</td>\n",
       "      <td>23699.000000</td>\n",
       "      <td>21421.000000</td>\n",
       "      <td>12180.000000</td>\n",
       "      <td>18157.000000</td>\n",
       "      <td>18180.000000</td>\n",
       "      <td>18181.000000</td>\n",
       "      <td>8079.000000</td>\n",
       "      <td>18181.000000</td>\n",
       "      <td>9110.000000</td>\n",
       "      <td>20518.000000</td>\n",
       "    </tr>\n",
       "    <tr>\n",
       "      <th>mean</th>\n",
       "      <td>9.858475</td>\n",
       "      <td>6.541549e+06</td>\n",
       "      <td>60.348651</td>\n",
       "      <td>2.070636</td>\n",
       "      <td>2.771499</td>\n",
       "      <td>10.673824</td>\n",
       "      <td>34.457852</td>\n",
       "      <td>5.892358</td>\n",
       "      <td>10.569807</td>\n",
       "      <td>1.150082</td>\n",
       "      <td>28793.672193</td>\n",
       "      <td>14191.277833</td>\n",
       "      <td>0.611408</td>\n",
       "      <td>490.804555</td>\n",
       "      <td>0.770255</td>\n",
       "      <td>517.980900</td>\n",
       "      <td>180.888634</td>\n",
       "    </tr>\n",
       "    <tr>\n",
       "      <th>std</th>\n",
       "      <td>5.682529</td>\n",
       "      <td>1.088701e+07</td>\n",
       "      <td>35.654083</td>\n",
       "      <td>1.078405</td>\n",
       "      <td>1.261056</td>\n",
       "      <td>6.597173</td>\n",
       "      <td>22.030445</td>\n",
       "      <td>4.885249</td>\n",
       "      <td>5.905438</td>\n",
       "      <td>1.071300</td>\n",
       "      <td>12630.880622</td>\n",
       "      <td>8608.386210</td>\n",
       "      <td>0.802074</td>\n",
       "      <td>342.317995</td>\n",
       "      <td>0.938346</td>\n",
       "      <td>277.720643</td>\n",
       "      <td>219.727988</td>\n",
       "    </tr>\n",
       "    <tr>\n",
       "      <th>min</th>\n",
       "      <td>0.000000</td>\n",
       "      <td>1.219000e+04</td>\n",
       "      <td>12.000000</td>\n",
       "      <td>0.000000</td>\n",
       "      <td>1.000000</td>\n",
       "      <td>1.000000</td>\n",
       "      <td>2.000000</td>\n",
       "      <td>1.000000</td>\n",
       "      <td>1.300000</td>\n",
       "      <td>0.000000</td>\n",
       "      <td>0.000000</td>\n",
       "      <td>181.000000</td>\n",
       "      <td>0.000000</td>\n",
       "      <td>1.000000</td>\n",
       "      <td>0.000000</td>\n",
       "      <td>13.000000</td>\n",
       "      <td>1.000000</td>\n",
       "    </tr>\n",
       "    <tr>\n",
       "      <th>25%</th>\n",
       "      <td>6.000000</td>\n",
       "      <td>3.400000e+06</td>\n",
       "      <td>40.000000</td>\n",
       "      <td>1.000000</td>\n",
       "      <td>2.520000</td>\n",
       "      <td>5.000000</td>\n",
       "      <td>18.600000</td>\n",
       "      <td>2.000000</td>\n",
       "      <td>7.000000</td>\n",
       "      <td>0.000000</td>\n",
       "      <td>18585.000000</td>\n",
       "      <td>9238.000000</td>\n",
       "      <td>0.000000</td>\n",
       "      <td>288.000000</td>\n",
       "      <td>0.000000</td>\n",
       "      <td>294.000000</td>\n",
       "      <td>45.000000</td>\n",
       "    </tr>\n",
       "    <tr>\n",
       "      <th>50%</th>\n",
       "      <td>9.000000</td>\n",
       "      <td>4.650000e+06</td>\n",
       "      <td>52.000000</td>\n",
       "      <td>2.000000</td>\n",
       "      <td>2.650000</td>\n",
       "      <td>9.000000</td>\n",
       "      <td>30.000000</td>\n",
       "      <td>4.000000</td>\n",
       "      <td>9.100000</td>\n",
       "      <td>1.000000</td>\n",
       "      <td>26726.000000</td>\n",
       "      <td>13098.500000</td>\n",
       "      <td>0.000000</td>\n",
       "      <td>455.000000</td>\n",
       "      <td>1.000000</td>\n",
       "      <td>502.000000</td>\n",
       "      <td>95.000000</td>\n",
       "    </tr>\n",
       "    <tr>\n",
       "      <th>75%</th>\n",
       "      <td>14.000000</td>\n",
       "      <td>6.800000e+06</td>\n",
       "      <td>69.900000</td>\n",
       "      <td>3.000000</td>\n",
       "      <td>2.800000</td>\n",
       "      <td>16.000000</td>\n",
       "      <td>42.300000</td>\n",
       "      <td>8.000000</td>\n",
       "      <td>12.000000</td>\n",
       "      <td>2.000000</td>\n",
       "      <td>37273.000000</td>\n",
       "      <td>16293.000000</td>\n",
       "      <td>1.000000</td>\n",
       "      <td>612.000000</td>\n",
       "      <td>1.000000</td>\n",
       "      <td>729.000000</td>\n",
       "      <td>232.000000</td>\n",
       "    </tr>\n",
       "    <tr>\n",
       "      <th>max</th>\n",
       "      <td>50.000000</td>\n",
       "      <td>7.630000e+08</td>\n",
       "      <td>900.000000</td>\n",
       "      <td>19.000000</td>\n",
       "      <td>100.000000</td>\n",
       "      <td>60.000000</td>\n",
       "      <td>409.700000</td>\n",
       "      <td>33.000000</td>\n",
       "      <td>112.000000</td>\n",
       "      <td>5.000000</td>\n",
       "      <td>84869.000000</td>\n",
       "      <td>65968.000000</td>\n",
       "      <td>3.000000</td>\n",
       "      <td>3190.000000</td>\n",
       "      <td>3.000000</td>\n",
       "      <td>1344.000000</td>\n",
       "      <td>1580.000000</td>\n",
       "    </tr>\n",
       "  </tbody>\n",
       "</table>\n",
       "</div>"
      ],
      "text/plain": [
       "       total_images    last_price    total_area         rooms  ceiling_height  \\\n",
       "count  23699.000000  2.369900e+04  23699.000000  23699.000000    14504.000000   \n",
       "mean       9.858475  6.541549e+06     60.348651      2.070636        2.771499   \n",
       "std        5.682529  1.088701e+07     35.654083      1.078405        1.261056   \n",
       "min        0.000000  1.219000e+04     12.000000      0.000000        1.000000   \n",
       "25%        6.000000  3.400000e+06     40.000000      1.000000        2.520000   \n",
       "50%        9.000000  4.650000e+06     52.000000      2.000000        2.650000   \n",
       "75%       14.000000  6.800000e+06     69.900000      3.000000        2.800000   \n",
       "max       50.000000  7.630000e+08    900.000000     19.000000      100.000000   \n",
       "\n",
       "       floors_total   living_area         floor  kitchen_area       balcony  \\\n",
       "count  23613.000000  21796.000000  23699.000000  21421.000000  12180.000000   \n",
       "mean      10.673824     34.457852      5.892358     10.569807      1.150082   \n",
       "std        6.597173     22.030445      4.885249      5.905438      1.071300   \n",
       "min        1.000000      2.000000      1.000000      1.300000      0.000000   \n",
       "25%        5.000000     18.600000      2.000000      7.000000      0.000000   \n",
       "50%        9.000000     30.000000      4.000000      9.100000      1.000000   \n",
       "75%       16.000000     42.300000      8.000000     12.000000      2.000000   \n",
       "max       60.000000    409.700000     33.000000    112.000000      5.000000   \n",
       "\n",
       "       airports_nearest  cityCenters_nearest  parks_around3000  parks_nearest  \\\n",
       "count      18157.000000         18180.000000      18181.000000    8079.000000   \n",
       "mean       28793.672193         14191.277833          0.611408     490.804555   \n",
       "std        12630.880622          8608.386210          0.802074     342.317995   \n",
       "min            0.000000           181.000000          0.000000       1.000000   \n",
       "25%        18585.000000          9238.000000          0.000000     288.000000   \n",
       "50%        26726.000000         13098.500000          0.000000     455.000000   \n",
       "75%        37273.000000         16293.000000          1.000000     612.000000   \n",
       "max        84869.000000         65968.000000          3.000000    3190.000000   \n",
       "\n",
       "       ponds_around3000  ponds_nearest  days_exposition  \n",
       "count      18181.000000    9110.000000     20518.000000  \n",
       "mean           0.770255     517.980900       180.888634  \n",
       "std            0.938346     277.720643       219.727988  \n",
       "min            0.000000      13.000000         1.000000  \n",
       "25%            0.000000     294.000000        45.000000  \n",
       "50%            1.000000     502.000000        95.000000  \n",
       "75%            1.000000     729.000000       232.000000  \n",
       "max            3.000000    1344.000000      1580.000000  "
      ]
     },
     "execution_count": 3,
     "metadata": {},
     "output_type": "execute_result"
    }
   ],
   "source": [
    "data.describe() # опишем и изучим таблицу"
   ]
  },
  {
   "cell_type": "code",
   "execution_count": 4,
   "metadata": {
    "scrolled": false
   },
   "outputs": [
    {
     "data": {
      "text/html": [
       "<div>\n",
       "<style scoped>\n",
       "    .dataframe tbody tr th:only-of-type {\n",
       "        vertical-align: middle;\n",
       "    }\n",
       "\n",
       "    .dataframe tbody tr th {\n",
       "        vertical-align: top;\n",
       "    }\n",
       "\n",
       "    .dataframe thead th {\n",
       "        text-align: right;\n",
       "    }\n",
       "</style>\n",
       "<table border=\"1\" class=\"dataframe\">\n",
       "  <thead>\n",
       "    <tr style=\"text-align: right;\">\n",
       "      <th></th>\n",
       "      <th>total_images</th>\n",
       "      <th>last_price</th>\n",
       "      <th>total_area</th>\n",
       "      <th>first_day_exposition</th>\n",
       "      <th>rooms</th>\n",
       "      <th>ceiling_height</th>\n",
       "      <th>floors_total</th>\n",
       "      <th>living_area</th>\n",
       "      <th>floor</th>\n",
       "      <th>is_apartment</th>\n",
       "      <th>...</th>\n",
       "      <th>kitchen_area</th>\n",
       "      <th>balcony</th>\n",
       "      <th>locality_name</th>\n",
       "      <th>airports_nearest</th>\n",
       "      <th>cityCenters_nearest</th>\n",
       "      <th>parks_around3000</th>\n",
       "      <th>parks_nearest</th>\n",
       "      <th>ponds_around3000</th>\n",
       "      <th>ponds_nearest</th>\n",
       "      <th>days_exposition</th>\n",
       "    </tr>\n",
       "  </thead>\n",
       "  <tbody>\n",
       "    <tr>\n",
       "      <th>0</th>\n",
       "      <td>20</td>\n",
       "      <td>13000000.0</td>\n",
       "      <td>108.0</td>\n",
       "      <td>2019-03-07T00:00:00</td>\n",
       "      <td>3</td>\n",
       "      <td>2.70</td>\n",
       "      <td>16.0</td>\n",
       "      <td>51.0</td>\n",
       "      <td>8</td>\n",
       "      <td>NaN</td>\n",
       "      <td>...</td>\n",
       "      <td>25.0</td>\n",
       "      <td>NaN</td>\n",
       "      <td>Санкт-Петербург</td>\n",
       "      <td>18863.0</td>\n",
       "      <td>16028.0</td>\n",
       "      <td>1.0</td>\n",
       "      <td>482.0</td>\n",
       "      <td>2.0</td>\n",
       "      <td>755.0</td>\n",
       "      <td>NaN</td>\n",
       "    </tr>\n",
       "    <tr>\n",
       "      <th>1</th>\n",
       "      <td>7</td>\n",
       "      <td>3350000.0</td>\n",
       "      <td>40.4</td>\n",
       "      <td>2018-12-04T00:00:00</td>\n",
       "      <td>1</td>\n",
       "      <td>NaN</td>\n",
       "      <td>11.0</td>\n",
       "      <td>18.6</td>\n",
       "      <td>1</td>\n",
       "      <td>NaN</td>\n",
       "      <td>...</td>\n",
       "      <td>11.0</td>\n",
       "      <td>2.0</td>\n",
       "      <td>посёлок Шушары</td>\n",
       "      <td>12817.0</td>\n",
       "      <td>18603.0</td>\n",
       "      <td>0.0</td>\n",
       "      <td>NaN</td>\n",
       "      <td>0.0</td>\n",
       "      <td>NaN</td>\n",
       "      <td>81.0</td>\n",
       "    </tr>\n",
       "    <tr>\n",
       "      <th>2</th>\n",
       "      <td>10</td>\n",
       "      <td>5196000.0</td>\n",
       "      <td>56.0</td>\n",
       "      <td>2015-08-20T00:00:00</td>\n",
       "      <td>2</td>\n",
       "      <td>NaN</td>\n",
       "      <td>5.0</td>\n",
       "      <td>34.3</td>\n",
       "      <td>4</td>\n",
       "      <td>NaN</td>\n",
       "      <td>...</td>\n",
       "      <td>8.3</td>\n",
       "      <td>0.0</td>\n",
       "      <td>Санкт-Петербург</td>\n",
       "      <td>21741.0</td>\n",
       "      <td>13933.0</td>\n",
       "      <td>1.0</td>\n",
       "      <td>90.0</td>\n",
       "      <td>2.0</td>\n",
       "      <td>574.0</td>\n",
       "      <td>558.0</td>\n",
       "    </tr>\n",
       "    <tr>\n",
       "      <th>3</th>\n",
       "      <td>0</td>\n",
       "      <td>64900000.0</td>\n",
       "      <td>159.0</td>\n",
       "      <td>2015-07-24T00:00:00</td>\n",
       "      <td>3</td>\n",
       "      <td>NaN</td>\n",
       "      <td>14.0</td>\n",
       "      <td>NaN</td>\n",
       "      <td>9</td>\n",
       "      <td>NaN</td>\n",
       "      <td>...</td>\n",
       "      <td>NaN</td>\n",
       "      <td>0.0</td>\n",
       "      <td>Санкт-Петербург</td>\n",
       "      <td>28098.0</td>\n",
       "      <td>6800.0</td>\n",
       "      <td>2.0</td>\n",
       "      <td>84.0</td>\n",
       "      <td>3.0</td>\n",
       "      <td>234.0</td>\n",
       "      <td>424.0</td>\n",
       "    </tr>\n",
       "    <tr>\n",
       "      <th>4</th>\n",
       "      <td>2</td>\n",
       "      <td>10000000.0</td>\n",
       "      <td>100.0</td>\n",
       "      <td>2018-06-19T00:00:00</td>\n",
       "      <td>2</td>\n",
       "      <td>3.03</td>\n",
       "      <td>14.0</td>\n",
       "      <td>32.0</td>\n",
       "      <td>13</td>\n",
       "      <td>NaN</td>\n",
       "      <td>...</td>\n",
       "      <td>41.0</td>\n",
       "      <td>NaN</td>\n",
       "      <td>Санкт-Петербург</td>\n",
       "      <td>31856.0</td>\n",
       "      <td>8098.0</td>\n",
       "      <td>2.0</td>\n",
       "      <td>112.0</td>\n",
       "      <td>1.0</td>\n",
       "      <td>48.0</td>\n",
       "      <td>121.0</td>\n",
       "    </tr>\n",
       "  </tbody>\n",
       "</table>\n",
       "<p>5 rows × 22 columns</p>\n",
       "</div>"
      ],
      "text/plain": [
       "   total_images  last_price  total_area first_day_exposition  rooms  \\\n",
       "0            20  13000000.0       108.0  2019-03-07T00:00:00      3   \n",
       "1             7   3350000.0        40.4  2018-12-04T00:00:00      1   \n",
       "2            10   5196000.0        56.0  2015-08-20T00:00:00      2   \n",
       "3             0  64900000.0       159.0  2015-07-24T00:00:00      3   \n",
       "4             2  10000000.0       100.0  2018-06-19T00:00:00      2   \n",
       "\n",
       "   ceiling_height  floors_total  living_area  floor is_apartment  ...  \\\n",
       "0            2.70          16.0         51.0      8          NaN  ...   \n",
       "1             NaN          11.0         18.6      1          NaN  ...   \n",
       "2             NaN           5.0         34.3      4          NaN  ...   \n",
       "3             NaN          14.0          NaN      9          NaN  ...   \n",
       "4            3.03          14.0         32.0     13          NaN  ...   \n",
       "\n",
       "   kitchen_area  balcony    locality_name  airports_nearest  \\\n",
       "0          25.0      NaN  Санкт-Петербург           18863.0   \n",
       "1          11.0      2.0   посёлок Шушары           12817.0   \n",
       "2           8.3      0.0  Санкт-Петербург           21741.0   \n",
       "3           NaN      0.0  Санкт-Петербург           28098.0   \n",
       "4          41.0      NaN  Санкт-Петербург           31856.0   \n",
       "\n",
       "  cityCenters_nearest  parks_around3000  parks_nearest  ponds_around3000  \\\n",
       "0             16028.0               1.0          482.0               2.0   \n",
       "1             18603.0               0.0            NaN               0.0   \n",
       "2             13933.0               1.0           90.0               2.0   \n",
       "3              6800.0               2.0           84.0               3.0   \n",
       "4              8098.0               2.0          112.0               1.0   \n",
       "\n",
       "   ponds_nearest  days_exposition  \n",
       "0          755.0              NaN  \n",
       "1            NaN             81.0  \n",
       "2          574.0            558.0  \n",
       "3          234.0            424.0  \n",
       "4           48.0            121.0  \n",
       "\n",
       "[5 rows x 22 columns]"
      ]
     },
     "execution_count": 4,
     "metadata": {},
     "output_type": "execute_result"
    }
   ],
   "source": [
    "data.head() # данные для работы, интерсено посмотреть"
   ]
  },
  {
   "cell_type": "code",
   "execution_count": 5,
   "metadata": {
    "scrolled": true
   },
   "outputs": [
    {
     "name": "stdout",
     "output_type": "stream",
     "text": [
      "<class 'pandas.core.frame.DataFrame'>\n",
      "RangeIndex: 23699 entries, 0 to 23698\n",
      "Data columns (total 22 columns):\n",
      " #   Column                Non-Null Count  Dtype  \n",
      "---  ------                --------------  -----  \n",
      " 0   total_images          23699 non-null  int64  \n",
      " 1   last_price            23699 non-null  float64\n",
      " 2   total_area            23699 non-null  float64\n",
      " 3   first_day_exposition  23699 non-null  object \n",
      " 4   rooms                 23699 non-null  int64  \n",
      " 5   ceiling_height        14504 non-null  float64\n",
      " 6   floors_total          23613 non-null  float64\n",
      " 7   living_area           21796 non-null  float64\n",
      " 8   floor                 23699 non-null  int64  \n",
      " 9   is_apartment          2775 non-null   object \n",
      " 10  studio                23699 non-null  bool   \n",
      " 11  open_plan             23699 non-null  bool   \n",
      " 12  kitchen_area          21421 non-null  float64\n",
      " 13  balcony               12180 non-null  float64\n",
      " 14  locality_name         23650 non-null  object \n",
      " 15  airports_nearest      18157 non-null  float64\n",
      " 16  cityCenters_nearest   18180 non-null  float64\n",
      " 17  parks_around3000      18181 non-null  float64\n",
      " 18  parks_nearest         8079 non-null   float64\n",
      " 19  ponds_around3000      18181 non-null  float64\n",
      " 20  ponds_nearest         9110 non-null   float64\n",
      " 21  days_exposition       20518 non-null  float64\n",
      "dtypes: bool(2), float64(14), int64(3), object(3)\n",
      "memory usage: 3.7+ MB\n",
      "10    1798\n",
      "9     1725\n",
      "20    1694\n",
      "8     1585\n",
      "7     1521\n",
      "6     1482\n",
      "11    1362\n",
      "5     1301\n",
      "12    1225\n",
      "0     1059\n",
      "13    1015\n",
      "4      986\n",
      "14     986\n",
      "15     948\n",
      "1      872\n",
      "3      769\n",
      "16     761\n",
      "17     650\n",
      "18     642\n",
      "2      640\n",
      "19     603\n",
      "23      16\n",
      "21      12\n",
      "24       8\n",
      "22       8\n",
      "26       5\n",
      "28       4\n",
      "32       4\n",
      "29       3\n",
      "50       3\n",
      "27       2\n",
      "35       2\n",
      "30       2\n",
      "31       2\n",
      "39       1\n",
      "25       1\n",
      "42       1\n",
      "37       1\n",
      "Name: total_images, dtype: int64\n",
      "4500000.0     342\n",
      "3500000.0     291\n",
      "4000000.0     260\n",
      "4300000.0     260\n",
      "4200000.0     259\n",
      "             ... \n",
      "10430000.0      1\n",
      "9917600.0       1\n",
      "3180500.0       1\n",
      "7297000.0       1\n",
      "4386000.0       1\n",
      "Name: last_price, Length: 2978, dtype: int64\n",
      "45.00     419\n",
      "42.00     383\n",
      "60.00     347\n",
      "31.00     346\n",
      "44.00     345\n",
      "         ... \n",
      "44.24       1\n",
      "56.85       1\n",
      "37.92       1\n",
      "115.60      1\n",
      "55.06       1\n",
      "Name: total_area, Length: 2182, dtype: int64\n",
      "2018-02-01T00:00:00    368\n",
      "2017-11-10T00:00:00    240\n",
      "2017-10-13T00:00:00    124\n",
      "2017-09-27T00:00:00    111\n",
      "2018-03-26T00:00:00     97\n",
      "                      ... \n",
      "2015-05-09T00:00:00      1\n",
      "2015-12-06T00:00:00      1\n",
      "2015-01-12T00:00:00      1\n",
      "2015-09-17T00:00:00      1\n",
      "2014-12-23T00:00:00      1\n",
      "Name: first_day_exposition, Length: 1491, dtype: int64\n",
      "1     8047\n",
      "2     7940\n",
      "3     5814\n",
      "4     1180\n",
      "5      326\n",
      "0      197\n",
      "6      105\n",
      "7       59\n",
      "8       12\n",
      "9        8\n",
      "10       3\n",
      "11       2\n",
      "14       2\n",
      "19       1\n",
      "16       1\n",
      "12       1\n",
      "15       1\n",
      "Name: rooms, dtype: int64\n",
      "2.50     3515\n",
      "2.60     1646\n",
      "2.70     1574\n",
      "3.00     1112\n",
      "2.80      993\n",
      "         ... \n",
      "4.25        1\n",
      "3.39        1\n",
      "3.93        1\n",
      "10.30       1\n",
      "4.65        1\n",
      "Name: ceiling_height, Length: 183, dtype: int64\n",
      "5.0     5788\n",
      "9.0     3761\n",
      "16.0    1376\n",
      "12.0    1362\n",
      "4.0     1200\n",
      "10.0    1174\n",
      "25.0    1075\n",
      "6.0      914\n",
      "17.0     833\n",
      "3.0      668\n",
      "7.0      592\n",
      "14.0     553\n",
      "18.0     505\n",
      "24.0     469\n",
      "8.0      390\n",
      "2.0      383\n",
      "15.0     365\n",
      "23.0     352\n",
      "19.0     339\n",
      "22.0     286\n",
      "20.0     271\n",
      "13.0     229\n",
      "11.0     203\n",
      "27.0     164\n",
      "21.0     158\n",
      "26.0     124\n",
      "1.0       25\n",
      "35.0      24\n",
      "28.0      21\n",
      "36.0       3\n",
      "37.0       1\n",
      "34.0       1\n",
      "33.0       1\n",
      "60.0       1\n",
      "29.0       1\n",
      "52.0       1\n",
      "Name: floors_total, dtype: int64\n",
      "18.00    882\n",
      "17.00    675\n",
      "30.00    598\n",
      "16.00    486\n",
      "20.00    481\n",
      "        ... \n",
      "96.40      1\n",
      "50.26      1\n",
      "43.81      1\n",
      "54.43      1\n",
      "16.74      1\n",
      "Name: living_area, Length: 1782, dtype: int64\n",
      "2     3368\n",
      "3     3073\n",
      "1     2917\n",
      "4     2804\n",
      "5     2621\n",
      "6     1305\n",
      "7     1218\n",
      "8     1083\n",
      "9     1051\n",
      "10     687\n",
      "12     526\n",
      "11     523\n",
      "13     379\n",
      "15     343\n",
      "14     337\n",
      "16     315\n",
      "17     227\n",
      "18     178\n",
      "19     147\n",
      "21     125\n",
      "22     113\n",
      "20     110\n",
      "23     100\n",
      "24      63\n",
      "25      46\n",
      "26      24\n",
      "27      10\n",
      "28       1\n",
      "29       1\n",
      "32       1\n",
      "30       1\n",
      "33       1\n",
      "31       1\n",
      "Name: floor, dtype: int64\n",
      "False    2725\n",
      "True       50\n",
      "Name: is_apartment, dtype: int64\n",
      "False    23550\n",
      "True       149\n",
      "Name: studio, dtype: int64\n",
      "False    23632\n",
      "True        67\n",
      "Name: open_plan, dtype: int64\n",
      "6.00     1300\n",
      "10.00    1262\n",
      "8.00     1110\n",
      "9.00     1101\n",
      "7.00     1062\n",
      "         ... \n",
      "7.12        1\n",
      "13.73       1\n",
      "14.74       1\n",
      "53.10       1\n",
      "16.74       1\n",
      "Name: kitchen_area, Length: 971, dtype: int64\n",
      "1.0    4195\n",
      "0.0    3758\n",
      "2.0    3659\n",
      "5.0     304\n",
      "4.0     183\n",
      "3.0      81\n",
      "Name: balcony, dtype: int64\n",
      "Санкт-Петербург                                            15721\n",
      "посёлок Мурино                                               522\n",
      "посёлок Шушары                                               440\n",
      "Всеволожск                                                   398\n",
      "Пушкин                                                       369\n",
      "                                                           ...  \n",
      "поселок Лисий Нос                                              1\n",
      "поселок Жилпосёлок                                             1\n",
      "деревня Вахнова Кара                                           1\n",
      "посёлок Мыза-Ивановка                                          1\n",
      "садоводческое некоммерческое товарищество Лесная Поляна        1\n",
      "Name: locality_name, Length: 364, dtype: int64\n",
      "37434.0    61\n",
      "21928.0    32\n",
      "39946.0    30\n",
      "44870.0    30\n",
      "18732.0    27\n",
      "           ..\n",
      "53478.0     1\n",
      "20335.0     1\n",
      "33699.0     1\n",
      "26945.0     1\n",
      "20875.0     1\n",
      "Name: airports_nearest, Length: 8275, dtype: int64\n",
      "8460.0     61\n",
      "20802.0    32\n",
      "10720.0    30\n",
      "8434.0     27\n",
      "20444.0    27\n",
      "           ..\n",
      "5278.0      1\n",
      "11575.0     1\n",
      "3205.0      1\n",
      "12747.0     1\n",
      "4234.0      1\n",
      "Name: cityCenters_nearest, Length: 7642, dtype: int64\n",
      "0.0    10106\n",
      "1.0     5681\n",
      "2.0     1747\n",
      "3.0      647\n",
      "Name: parks_around3000, dtype: int64\n",
      "441.0     67\n",
      "392.0     41\n",
      "173.0     41\n",
      "456.0     40\n",
      "471.0     32\n",
      "          ..\n",
      "2489.0     1\n",
      "786.0      1\n",
      "793.0      1\n",
      "92.0       1\n",
      "929.0      1\n",
      "Name: parks_nearest, Length: 995, dtype: int64\n",
      "0.0    9071\n",
      "1.0    5717\n",
      "2.0    1892\n",
      "3.0    1501\n",
      "Name: ponds_around3000, dtype: int64\n",
      "427.0     70\n",
      "454.0     41\n",
      "153.0     40\n",
      "433.0     39\n",
      "564.0     37\n",
      "          ..\n",
      "1075.0     1\n",
      "74.0       1\n",
      "1236.0     1\n",
      "395.0      1\n",
      "995.0      1\n",
      "Name: ponds_nearest, Length: 1096, dtype: int64\n",
      "45.0      880\n",
      "60.0      538\n",
      "7.0       234\n",
      "30.0      208\n",
      "90.0      204\n",
      "         ... \n",
      "969.0       1\n",
      "1.0         1\n",
      "1147.0      1\n",
      "1148.0      1\n",
      "1174.0      1\n",
      "Name: days_exposition, Length: 1141, dtype: int64\n"
     ]
    }
   ],
   "source": [
    "data.info()\n",
    "data.head()\n",
    "for column in data.columns:\n",
    "    print(data[column].value_counts()) # изучим тип данных"
   ]
  },
  {
   "cell_type": "code",
   "execution_count": 6,
   "metadata": {
    "scrolled": true
   },
   "outputs": [
    {
     "data": {
      "text/plain": [
       "array([[<AxesSubplot:title={'center':'total_images'}>,\n",
       "        <AxesSubplot:title={'center':'last_price'}>,\n",
       "        <AxesSubplot:title={'center':'total_area'}>,\n",
       "        <AxesSubplot:title={'center':'rooms'}>],\n",
       "       [<AxesSubplot:title={'center':'ceiling_height'}>,\n",
       "        <AxesSubplot:title={'center':'floors_total'}>,\n",
       "        <AxesSubplot:title={'center':'living_area'}>,\n",
       "        <AxesSubplot:title={'center':'floor'}>],\n",
       "       [<AxesSubplot:title={'center':'kitchen_area'}>,\n",
       "        <AxesSubplot:title={'center':'balcony'}>,\n",
       "        <AxesSubplot:title={'center':'airports_nearest'}>,\n",
       "        <AxesSubplot:title={'center':'cityCenters_nearest'}>],\n",
       "       [<AxesSubplot:title={'center':'parks_around3000'}>,\n",
       "        <AxesSubplot:title={'center':'parks_nearest'}>,\n",
       "        <AxesSubplot:title={'center':'ponds_around3000'}>,\n",
       "        <AxesSubplot:title={'center':'ponds_nearest'}>],\n",
       "       [<AxesSubplot:title={'center':'days_exposition'}>, <AxesSubplot:>,\n",
       "        <AxesSubplot:>, <AxesSubplot:>]], dtype=object)"
      ]
     },
     "execution_count": 6,
     "metadata": {},
     "output_type": "execute_result"
    },
    {
     "data": {
      "image/png": "[encoded data removed]",
      "text/plain": [
       "<Figure size 1080x1440 with 20 Axes>"
      ]
     },
     "metadata": {
      "needs_background": "light"
     },
     "output_type": "display_data"
    }
   ],
   "source": [
    "data.hist(figsize=(15, 20)) # построим гистограммы"
   ]
  },
  {
   "cell_type": "markdown",
   "metadata": {},
   "source": [
    "Исходный данные представляют собой таблицу, содержащую 23699 записей и 22 признака. В качестве разделителя в csv файле используется знак табуляции (\\t), вместо типичной точки с запятой. Первичный анализ показывает, что таблица содержит множество пустых значенений, которые в последующих частях проекта будут рассмотрены более подробно и обработаны."
   ]
  },
  {
   "cell_type": "markdown",
   "metadata": {},
   "source": [
    "<div class=\"alert alert-success\">\n",
    "<b>Комментарий ревьюера v.1</b> \n",
    "    \n",
    "👍 Хорошая вводная часть.\n",
    "</div>"
   ]
  },
  {
   "cell_type": "markdown",
   "metadata": {},
   "source": [
    "### Предобработка данных"
   ]
  },
  {
   "cell_type": "code",
   "execution_count": 7,
   "metadata": {},
   "outputs": [
    {
     "data": {
      "text/plain": [
       "Index(['total_images', 'last_price', 'total_area', 'first_day_exposition',\n",
       "       'rooms', 'ceiling_height', 'floors_total', 'living_area', 'floor',\n",
       "       'is_apartment', 'studio', 'open_plan', 'kitchen_area', 'balcony',\n",
       "       'locality_name', 'airports_nearest', 'city_centers_nearest',\n",
       "       'parks_around3000', 'parks_nearest', 'ponds_around3000',\n",
       "       'ponds_nearest', 'days_exposition'],\n",
       "      dtype='object')"
      ]
     },
     "execution_count": 7,
     "metadata": {},
     "output_type": "execute_result"
    }
   ],
   "source": [
    "data = data.rename(columns={'cityCenters_nearest':'city_centers_nearest'}) # переименуем столбец (придерживаемся стиля)\n",
    "data.columns # проверим переименование"
   ]
  },
  {
   "cell_type": "code",
   "execution_count": 8,
   "metadata": {},
   "outputs": [
    {
     "data": {
      "text/plain": [
       "total_images                0\n",
       "last_price                  0\n",
       "total_area                  0\n",
       "first_day_exposition        0\n",
       "rooms                       0\n",
       "ceiling_height           9195\n",
       "floors_total               86\n",
       "living_area              1903\n",
       "floor                       0\n",
       "is_apartment            20924\n",
       "studio                      0\n",
       "open_plan                   0\n",
       "kitchen_area             2278\n",
       "balcony                 11519\n",
       "locality_name              49\n",
       "airports_nearest         5542\n",
       "city_centers_nearest     5519\n",
       "parks_around3000         5518\n",
       "parks_nearest           15620\n",
       "ponds_around3000         5518\n",
       "ponds_nearest           14589\n",
       "days_exposition          3181\n",
       "dtype: int64"
      ]
     },
     "execution_count": 8,
     "metadata": {},
     "output_type": "execute_result"
    }
   ],
   "source": [
    "data.isna().sum()"
   ]
  },
  {
   "cell_type": "markdown",
   "metadata": {},
   "source": [
    "          1.Пропуски в столбце \"balcony\" заменим на 0. Допустим, что балконы не указаны из-за их отсутствия.\n"
   ]
  },
  {
   "cell_type": "code",
   "execution_count": 9,
   "metadata": {},
   "outputs": [],
   "source": [
    "data['balcony'] = data['balcony'].fillna(0).astype('int') # заменим пропуски на ноль."
   ]
  },
  {
   "cell_type": "markdown",
   "metadata": {},
   "source": [
    "                                 2.Обработаем столбец - высоту потолков"
   ]
  },
  {
   "cell_type": "code",
   "execution_count": 10,
   "metadata": {},
   "outputs": [
    {
     "data": {
      "text/plain": [
       "2.50     3515\n",
       "2.60     1646\n",
       "2.70     1574\n",
       "3.00     1112\n",
       "2.80      993\n",
       "         ... \n",
       "4.25        1\n",
       "3.39        1\n",
       "3.93        1\n",
       "10.30       1\n",
       "4.65        1\n",
       "Name: ceiling_height, Length: 183, dtype: int64"
      ]
     },
     "execution_count": 10,
     "metadata": {},
     "output_type": "execute_result"
    }
   ],
   "source": [
    "data['ceiling_height'].value_counts() # обнаружено 5 объектов с нестандартной высотой потолков, похоже что это не ошибки , а реальные данные обЪектов, не плановой застройки.\n"
   ]
  },
  {
   "cell_type": "code",
   "execution_count": 11,
   "metadata": {},
   "outputs": [
    {
     "data": {
      "text/plain": [
       "array([[<AxesSubplot:title={'center':'ceiling_height'}>]], dtype=object)"
      ]
     },
     "execution_count": 11,
     "metadata": {},
     "output_type": "execute_result"
    },
    {
     "data": {
      "image/png": "[encoded data removed]",
      "text/plain": [
       "<Figure size 432x288 with 1 Axes>"
      ]
     },
     "metadata": {
      "needs_background": "light"
     },
     "output_type": "display_data"
    }
   ],
   "source": [
    "data.hist(column= 'ceiling_height', bins=10, range=(0,15))"
   ]
  },
  {
   "cell_type": "code",
   "execution_count": 12,
   "metadata": {},
   "outputs": [
    {
     "data": {
      "text/plain": [
       "2.65"
      ]
     },
     "execution_count": 12,
     "metadata": {},
     "output_type": "execute_result"
    }
   ],
   "source": [
    "data['ceiling_height'].median() # найдем медиану высоты потолков"
   ]
  },
  {
   "cell_type": "code",
   "execution_count": 13,
   "metadata": {},
   "outputs": [],
   "source": [
    "data['ceiling_height'] = data['ceiling_height'].fillna(2.65) #заменим пропуски в столбце \"ceiling_height\" на медианное значение"
   ]
  },
  {
   "cell_type": "code",
   "execution_count": 14,
   "metadata": {
    "scrolled": true
   },
   "outputs": [
    {
     "data": {
      "image/png": "[encoded data removed]",
      "text/plain": [
       "<Figure size 432x288 with 1 Axes>"
      ]
     },
     "metadata": {
      "needs_background": "light"
     },
     "output_type": "display_data"
    }
   ],
   "source": [
    "data.hist(column= 'ceiling_height', bins=10, range=(0,15)) # построим гистограмму после замены пропусков на медиану\n",
    "plt.xlabel('Высота потолков')\n",
    "plt.ylabel('Количество предложений')\n",
    "plt.show()"
   ]
  },
  {
   "cell_type": "markdown",
   "metadata": {},
   "source": [
    "*Потолки это довольно стандартизированнная величина, поэтому заменим пропуски на медианное значение.Также медиана устойчива к выбросам*"
   ]
  },
  {
   "cell_type": "markdown",
   "metadata": {},
   "source": [
    "<div class=\"alert alert-danger\">\n",
    "<b>Комментарий ревьюера v.1</b> \n",
    "    \n",
    "✍ \n",
    "Потолки это довольно стандартизированная величина, поэтому можно безболезненно заменить их медианой. Также медиана устойчива к выбросам.\n",
    "</div>"
   ]
  },
  {
   "cell_type": "markdown",
   "metadata": {},
   "source": [
    "<div class=\"alert alert-success\">\n",
    "<b>Комментарий ревьюера v.2</b> \n",
    "    \n",
    "👍 \n",
    "\n",
    "</div>"
   ]
  },
  {
   "cell_type": "markdown",
   "metadata": {},
   "source": [
    "                                   3. Столбец \"floors_total\" - - этажность"
   ]
  },
  {
   "cell_type": "code",
   "execution_count": 15,
   "metadata": {
    "scrolled": true
   },
   "outputs": [
    {
     "data": {
      "text/html": [
       "<div>\n",
       "<style scoped>\n",
       "    .dataframe tbody tr th:only-of-type {\n",
       "        vertical-align: middle;\n",
       "    }\n",
       "\n",
       "    .dataframe tbody tr th {\n",
       "        vertical-align: top;\n",
       "    }\n",
       "\n",
       "    .dataframe thead th {\n",
       "        text-align: right;\n",
       "    }\n",
       "</style>\n",
       "<table border=\"1\" class=\"dataframe\">\n",
       "  <thead>\n",
       "    <tr style=\"text-align: right;\">\n",
       "      <th></th>\n",
       "      <th>total_images</th>\n",
       "      <th>last_price</th>\n",
       "      <th>total_area</th>\n",
       "      <th>first_day_exposition</th>\n",
       "      <th>rooms</th>\n",
       "      <th>ceiling_height</th>\n",
       "      <th>floors_total</th>\n",
       "      <th>living_area</th>\n",
       "      <th>floor</th>\n",
       "      <th>is_apartment</th>\n",
       "      <th>...</th>\n",
       "      <th>kitchen_area</th>\n",
       "      <th>balcony</th>\n",
       "      <th>locality_name</th>\n",
       "      <th>airports_nearest</th>\n",
       "      <th>city_centers_nearest</th>\n",
       "      <th>parks_around3000</th>\n",
       "      <th>parks_nearest</th>\n",
       "      <th>ponds_around3000</th>\n",
       "      <th>ponds_nearest</th>\n",
       "      <th>days_exposition</th>\n",
       "    </tr>\n",
       "  </thead>\n",
       "  <tbody>\n",
       "    <tr>\n",
       "      <th>186</th>\n",
       "      <td>12</td>\n",
       "      <td>11640000.0</td>\n",
       "      <td>65.2</td>\n",
       "      <td>2018-10-02T00:00:00</td>\n",
       "      <td>2</td>\n",
       "      <td>2.65</td>\n",
       "      <td>NaN</td>\n",
       "      <td>30.80</td>\n",
       "      <td>4</td>\n",
       "      <td>NaN</td>\n",
       "      <td>...</td>\n",
       "      <td>12.00</td>\n",
       "      <td>0</td>\n",
       "      <td>Санкт-Петербург</td>\n",
       "      <td>39197.0</td>\n",
       "      <td>12373.0</td>\n",
       "      <td>1.0</td>\n",
       "      <td>123.0</td>\n",
       "      <td>0.0</td>\n",
       "      <td>NaN</td>\n",
       "      <td>49.0</td>\n",
       "    </tr>\n",
       "    <tr>\n",
       "      <th>237</th>\n",
       "      <td>4</td>\n",
       "      <td>2438033.0</td>\n",
       "      <td>28.1</td>\n",
       "      <td>2016-11-23T00:00:00</td>\n",
       "      <td>1</td>\n",
       "      <td>2.65</td>\n",
       "      <td>NaN</td>\n",
       "      <td>20.75</td>\n",
       "      <td>1</td>\n",
       "      <td>NaN</td>\n",
       "      <td>...</td>\n",
       "      <td>NaN</td>\n",
       "      <td>0</td>\n",
       "      <td>Санкт-Петербург</td>\n",
       "      <td>22041.0</td>\n",
       "      <td>17369.0</td>\n",
       "      <td>0.0</td>\n",
       "      <td>NaN</td>\n",
       "      <td>1.0</td>\n",
       "      <td>374.0</td>\n",
       "      <td>251.0</td>\n",
       "    </tr>\n",
       "    <tr>\n",
       "      <th>457</th>\n",
       "      <td>4</td>\n",
       "      <td>9788348.0</td>\n",
       "      <td>70.8</td>\n",
       "      <td>2015-08-01T00:00:00</td>\n",
       "      <td>2</td>\n",
       "      <td>2.65</td>\n",
       "      <td>NaN</td>\n",
       "      <td>38.40</td>\n",
       "      <td>12</td>\n",
       "      <td>NaN</td>\n",
       "      <td>...</td>\n",
       "      <td>10.63</td>\n",
       "      <td>0</td>\n",
       "      <td>Санкт-Петербург</td>\n",
       "      <td>37364.0</td>\n",
       "      <td>8322.0</td>\n",
       "      <td>2.0</td>\n",
       "      <td>309.0</td>\n",
       "      <td>2.0</td>\n",
       "      <td>706.0</td>\n",
       "      <td>727.0</td>\n",
       "    </tr>\n",
       "    <tr>\n",
       "      <th>671</th>\n",
       "      <td>4</td>\n",
       "      <td>6051191.0</td>\n",
       "      <td>93.6</td>\n",
       "      <td>2017-04-06T00:00:00</td>\n",
       "      <td>3</td>\n",
       "      <td>2.65</td>\n",
       "      <td>NaN</td>\n",
       "      <td>47.10</td>\n",
       "      <td>8</td>\n",
       "      <td>NaN</td>\n",
       "      <td>...</td>\n",
       "      <td>16.80</td>\n",
       "      <td>0</td>\n",
       "      <td>Санкт-Петербург</td>\n",
       "      <td>22041.0</td>\n",
       "      <td>17369.0</td>\n",
       "      <td>0.0</td>\n",
       "      <td>NaN</td>\n",
       "      <td>1.0</td>\n",
       "      <td>374.0</td>\n",
       "      <td>123.0</td>\n",
       "    </tr>\n",
       "    <tr>\n",
       "      <th>1757</th>\n",
       "      <td>5</td>\n",
       "      <td>3600000.0</td>\n",
       "      <td>39.0</td>\n",
       "      <td>2017-04-22T00:00:00</td>\n",
       "      <td>1</td>\n",
       "      <td>2.65</td>\n",
       "      <td>NaN</td>\n",
       "      <td>NaN</td>\n",
       "      <td>9</td>\n",
       "      <td>NaN</td>\n",
       "      <td>...</td>\n",
       "      <td>NaN</td>\n",
       "      <td>0</td>\n",
       "      <td>Санкт-Петербург</td>\n",
       "      <td>22735.0</td>\n",
       "      <td>11618.0</td>\n",
       "      <td>1.0</td>\n",
       "      <td>835.0</td>\n",
       "      <td>1.0</td>\n",
       "      <td>652.0</td>\n",
       "      <td>77.0</td>\n",
       "    </tr>\n",
       "  </tbody>\n",
       "</table>\n",
       "<p>5 rows × 22 columns</p>\n",
       "</div>"
      ],
      "text/plain": [
       "      total_images  last_price  total_area first_day_exposition  rooms  \\\n",
       "186             12  11640000.0        65.2  2018-10-02T00:00:00      2   \n",
       "237              4   2438033.0        28.1  2016-11-23T00:00:00      1   \n",
       "457              4   9788348.0        70.8  2015-08-01T00:00:00      2   \n",
       "671              4   6051191.0        93.6  2017-04-06T00:00:00      3   \n",
       "1757             5   3600000.0        39.0  2017-04-22T00:00:00      1   \n",
       "\n",
       "      ceiling_height  floors_total  living_area  floor is_apartment  ...  \\\n",
       "186             2.65           NaN        30.80      4          NaN  ...   \n",
       "237             2.65           NaN        20.75      1          NaN  ...   \n",
       "457             2.65           NaN        38.40     12          NaN  ...   \n",
       "671             2.65           NaN        47.10      8          NaN  ...   \n",
       "1757            2.65           NaN          NaN      9          NaN  ...   \n",
       "\n",
       "      kitchen_area  balcony    locality_name  airports_nearest  \\\n",
       "186          12.00        0  Санкт-Петербург           39197.0   \n",
       "237            NaN        0  Санкт-Петербург           22041.0   \n",
       "457          10.63        0  Санкт-Петербург           37364.0   \n",
       "671          16.80        0  Санкт-Петербург           22041.0   \n",
       "1757           NaN        0  Санкт-Петербург           22735.0   \n",
       "\n",
       "     city_centers_nearest  parks_around3000  parks_nearest  ponds_around3000  \\\n",
       "186               12373.0               1.0          123.0               0.0   \n",
       "237               17369.0               0.0            NaN               1.0   \n",
       "457                8322.0               2.0          309.0               2.0   \n",
       "671               17369.0               0.0            NaN               1.0   \n",
       "1757              11618.0               1.0          835.0               1.0   \n",
       "\n",
       "      ponds_nearest  days_exposition  \n",
       "186             NaN             49.0  \n",
       "237           374.0            251.0  \n",
       "457           706.0            727.0  \n",
       "671           374.0            123.0  \n",
       "1757          652.0             77.0  \n",
       "\n",
       "[5 rows x 22 columns]"
      ]
     },
     "execution_count": 15,
     "metadata": {},
     "output_type": "execute_result"
    }
   ],
   "source": [
    "data.loc[data['floors_total'].isna()].head() # изучим пропуски по столбцу этажность дома"
   ]
  },
  {
   "cell_type": "code",
   "execution_count": 16,
   "metadata": {},
   "outputs": [],
   "source": [
    "data.dropna(subset=['floors_total'], inplace=True) # удалим пропуски"
   ]
  },
  {
   "cell_type": "code",
   "execution_count": 17,
   "metadata": {},
   "outputs": [],
   "source": [
    "data['floors_total']=data['floors_total'].astype('int64') # Изменим тип данных на int"
   ]
  },
  {
   "cell_type": "markdown",
   "metadata": {},
   "source": [
    "                                    4.Столбец \"first_day_exposition\""
   ]
  },
  {
   "cell_type": "code",
   "execution_count": 18,
   "metadata": {},
   "outputs": [],
   "source": [
    "data['first_day_exposition'] = pd.to_datetime(data['first_day_exposition'], format='%Y-%m-%dT%H:%M:%S') # Преобразуем в удобный формат\n"
   ]
  },
  {
   "cell_type": "markdown",
   "metadata": {},
   "source": [
    "                                    5. Столбец \"rooms\""
   ]
  },
  {
   "cell_type": "code",
   "execution_count": 19,
   "metadata": {},
   "outputs": [
    {
     "data": {
      "text/plain": [
       "194"
      ]
     },
     "execution_count": 19,
     "metadata": {},
     "output_type": "execute_result"
    }
   ],
   "source": [
    "data.query('rooms == 0')['rooms'].count() # изучим нули в столбце комнаты"
   ]
  },
  {
   "cell_type": "code",
   "execution_count": 20,
   "metadata": {},
   "outputs": [
    {
     "data": {
      "text/html": [
       "<div>\n",
       "<style scoped>\n",
       "    .dataframe tbody tr th:only-of-type {\n",
       "        vertical-align: middle;\n",
       "    }\n",
       "\n",
       "    .dataframe tbody tr th {\n",
       "        vertical-align: top;\n",
       "    }\n",
       "\n",
       "    .dataframe thead th {\n",
       "        text-align: right;\n",
       "    }\n",
       "</style>\n",
       "<table border=\"1\" class=\"dataframe\">\n",
       "  <thead>\n",
       "    <tr style=\"text-align: right;\">\n",
       "      <th></th>\n",
       "      <th>total_images</th>\n",
       "      <th>last_price</th>\n",
       "      <th>total_area</th>\n",
       "      <th>first_day_exposition</th>\n",
       "      <th>rooms</th>\n",
       "      <th>ceiling_height</th>\n",
       "      <th>floors_total</th>\n",
       "      <th>living_area</th>\n",
       "      <th>floor</th>\n",
       "      <th>is_apartment</th>\n",
       "      <th>...</th>\n",
       "      <th>kitchen_area</th>\n",
       "      <th>balcony</th>\n",
       "      <th>locality_name</th>\n",
       "      <th>airports_nearest</th>\n",
       "      <th>city_centers_nearest</th>\n",
       "      <th>parks_around3000</th>\n",
       "      <th>parks_nearest</th>\n",
       "      <th>ponds_around3000</th>\n",
       "      <th>ponds_nearest</th>\n",
       "      <th>days_exposition</th>\n",
       "    </tr>\n",
       "  </thead>\n",
       "  <tbody>\n",
       "    <tr>\n",
       "      <th>144</th>\n",
       "      <td>1</td>\n",
       "      <td>2450000.0</td>\n",
       "      <td>27.00</td>\n",
       "      <td>2017-03-30</td>\n",
       "      <td>0</td>\n",
       "      <td>2.65</td>\n",
       "      <td>24</td>\n",
       "      <td>15.50</td>\n",
       "      <td>2</td>\n",
       "      <td>NaN</td>\n",
       "      <td>...</td>\n",
       "      <td>NaN</td>\n",
       "      <td>2</td>\n",
       "      <td>посёлок Мурино</td>\n",
       "      <td>NaN</td>\n",
       "      <td>NaN</td>\n",
       "      <td>NaN</td>\n",
       "      <td>NaN</td>\n",
       "      <td>NaN</td>\n",
       "      <td>NaN</td>\n",
       "      <td>181.0</td>\n",
       "    </tr>\n",
       "    <tr>\n",
       "      <th>349</th>\n",
       "      <td>4</td>\n",
       "      <td>2320000.0</td>\n",
       "      <td>25.00</td>\n",
       "      <td>2017-09-27</td>\n",
       "      <td>0</td>\n",
       "      <td>2.65</td>\n",
       "      <td>14</td>\n",
       "      <td>17.00</td>\n",
       "      <td>1</td>\n",
       "      <td>NaN</td>\n",
       "      <td>...</td>\n",
       "      <td>NaN</td>\n",
       "      <td>0</td>\n",
       "      <td>деревня Кудрово</td>\n",
       "      <td>NaN</td>\n",
       "      <td>NaN</td>\n",
       "      <td>NaN</td>\n",
       "      <td>NaN</td>\n",
       "      <td>NaN</td>\n",
       "      <td>NaN</td>\n",
       "      <td>45.0</td>\n",
       "    </tr>\n",
       "    <tr>\n",
       "      <th>440</th>\n",
       "      <td>8</td>\n",
       "      <td>2480000.0</td>\n",
       "      <td>27.11</td>\n",
       "      <td>2018-03-12</td>\n",
       "      <td>0</td>\n",
       "      <td>2.65</td>\n",
       "      <td>17</td>\n",
       "      <td>24.75</td>\n",
       "      <td>4</td>\n",
       "      <td>NaN</td>\n",
       "      <td>...</td>\n",
       "      <td>NaN</td>\n",
       "      <td>2</td>\n",
       "      <td>Санкт-Петербург</td>\n",
       "      <td>38171.0</td>\n",
       "      <td>15015.0</td>\n",
       "      <td>0.0</td>\n",
       "      <td>NaN</td>\n",
       "      <td>2.0</td>\n",
       "      <td>982.0</td>\n",
       "      <td>64.0</td>\n",
       "    </tr>\n",
       "    <tr>\n",
       "      <th>508</th>\n",
       "      <td>0</td>\n",
       "      <td>3375000.0</td>\n",
       "      <td>34.40</td>\n",
       "      <td>2017-03-28</td>\n",
       "      <td>0</td>\n",
       "      <td>2.65</td>\n",
       "      <td>26</td>\n",
       "      <td>24.30</td>\n",
       "      <td>19</td>\n",
       "      <td>NaN</td>\n",
       "      <td>...</td>\n",
       "      <td>NaN</td>\n",
       "      <td>1</td>\n",
       "      <td>посёлок Парголово</td>\n",
       "      <td>53115.0</td>\n",
       "      <td>19292.0</td>\n",
       "      <td>0.0</td>\n",
       "      <td>NaN</td>\n",
       "      <td>1.0</td>\n",
       "      <td>593.0</td>\n",
       "      <td>430.0</td>\n",
       "    </tr>\n",
       "    <tr>\n",
       "      <th>608</th>\n",
       "      <td>2</td>\n",
       "      <td>1850000.0</td>\n",
       "      <td>25.00</td>\n",
       "      <td>2019-02-20</td>\n",
       "      <td>0</td>\n",
       "      <td>2.65</td>\n",
       "      <td>10</td>\n",
       "      <td>NaN</td>\n",
       "      <td>7</td>\n",
       "      <td>NaN</td>\n",
       "      <td>...</td>\n",
       "      <td>NaN</td>\n",
       "      <td>0</td>\n",
       "      <td>посёлок Шушары</td>\n",
       "      <td>NaN</td>\n",
       "      <td>NaN</td>\n",
       "      <td>NaN</td>\n",
       "      <td>NaN</td>\n",
       "      <td>NaN</td>\n",
       "      <td>NaN</td>\n",
       "      <td>29.0</td>\n",
       "    </tr>\n",
       "    <tr>\n",
       "      <th>697</th>\n",
       "      <td>12</td>\n",
       "      <td>2500000.0</td>\n",
       "      <td>24.10</td>\n",
       "      <td>2017-12-01</td>\n",
       "      <td>0</td>\n",
       "      <td>2.75</td>\n",
       "      <td>25</td>\n",
       "      <td>17.50</td>\n",
       "      <td>21</td>\n",
       "      <td>NaN</td>\n",
       "      <td>...</td>\n",
       "      <td>NaN</td>\n",
       "      <td>0</td>\n",
       "      <td>деревня Кудрово</td>\n",
       "      <td>NaN</td>\n",
       "      <td>NaN</td>\n",
       "      <td>NaN</td>\n",
       "      <td>NaN</td>\n",
       "      <td>NaN</td>\n",
       "      <td>NaN</td>\n",
       "      <td>201.0</td>\n",
       "    </tr>\n",
       "    <tr>\n",
       "      <th>716</th>\n",
       "      <td>5</td>\n",
       "      <td>1500000.0</td>\n",
       "      <td>17.00</td>\n",
       "      <td>2017-06-07</td>\n",
       "      <td>0</td>\n",
       "      <td>2.70</td>\n",
       "      <td>9</td>\n",
       "      <td>12.00</td>\n",
       "      <td>1</td>\n",
       "      <td>NaN</td>\n",
       "      <td>...</td>\n",
       "      <td>NaN</td>\n",
       "      <td>0</td>\n",
       "      <td>посёлок Шушары</td>\n",
       "      <td>18654.0</td>\n",
       "      <td>29846.0</td>\n",
       "      <td>0.0</td>\n",
       "      <td>NaN</td>\n",
       "      <td>0.0</td>\n",
       "      <td>NaN</td>\n",
       "      <td>40.0</td>\n",
       "    </tr>\n",
       "    <tr>\n",
       "      <th>780</th>\n",
       "      <td>9</td>\n",
       "      <td>2600000.0</td>\n",
       "      <td>26.10</td>\n",
       "      <td>2018-02-20</td>\n",
       "      <td>0</td>\n",
       "      <td>2.65</td>\n",
       "      <td>18</td>\n",
       "      <td>NaN</td>\n",
       "      <td>8</td>\n",
       "      <td>NaN</td>\n",
       "      <td>...</td>\n",
       "      <td>NaN</td>\n",
       "      <td>1</td>\n",
       "      <td>посёлок Мурино</td>\n",
       "      <td>NaN</td>\n",
       "      <td>NaN</td>\n",
       "      <td>NaN</td>\n",
       "      <td>NaN</td>\n",
       "      <td>NaN</td>\n",
       "      <td>NaN</td>\n",
       "      <td>45.0</td>\n",
       "    </tr>\n",
       "    <tr>\n",
       "      <th>839</th>\n",
       "      <td>14</td>\n",
       "      <td>1900000.0</td>\n",
       "      <td>35.00</td>\n",
       "      <td>2017-04-14</td>\n",
       "      <td>0</td>\n",
       "      <td>2.70</td>\n",
       "      <td>5</td>\n",
       "      <td>15.00</td>\n",
       "      <td>3</td>\n",
       "      <td>False</td>\n",
       "      <td>...</td>\n",
       "      <td>NaN</td>\n",
       "      <td>1</td>\n",
       "      <td>поселок Новый Свет</td>\n",
       "      <td>NaN</td>\n",
       "      <td>NaN</td>\n",
       "      <td>NaN</td>\n",
       "      <td>NaN</td>\n",
       "      <td>NaN</td>\n",
       "      <td>NaN</td>\n",
       "      <td>7.0</td>\n",
       "    </tr>\n",
       "    <tr>\n",
       "      <th>946</th>\n",
       "      <td>5</td>\n",
       "      <td>2200000.0</td>\n",
       "      <td>23.00</td>\n",
       "      <td>2016-09-27</td>\n",
       "      <td>0</td>\n",
       "      <td>2.65</td>\n",
       "      <td>27</td>\n",
       "      <td>18.00</td>\n",
       "      <td>7</td>\n",
       "      <td>NaN</td>\n",
       "      <td>...</td>\n",
       "      <td>NaN</td>\n",
       "      <td>2</td>\n",
       "      <td>посёлок Мурино</td>\n",
       "      <td>NaN</td>\n",
       "      <td>NaN</td>\n",
       "      <td>NaN</td>\n",
       "      <td>NaN</td>\n",
       "      <td>NaN</td>\n",
       "      <td>NaN</td>\n",
       "      <td>483.0</td>\n",
       "    </tr>\n",
       "  </tbody>\n",
       "</table>\n",
       "<p>10 rows × 22 columns</p>\n",
       "</div>"
      ],
      "text/plain": [
       "     total_images  last_price  total_area first_day_exposition  rooms  \\\n",
       "144             1   2450000.0       27.00           2017-03-30      0   \n",
       "349             4   2320000.0       25.00           2017-09-27      0   \n",
       "440             8   2480000.0       27.11           2018-03-12      0   \n",
       "508             0   3375000.0       34.40           2017-03-28      0   \n",
       "608             2   1850000.0       25.00           2019-02-20      0   \n",
       "697            12   2500000.0       24.10           2017-12-01      0   \n",
       "716             5   1500000.0       17.00           2017-06-07      0   \n",
       "780             9   2600000.0       26.10           2018-02-20      0   \n",
       "839            14   1900000.0       35.00           2017-04-14      0   \n",
       "946             5   2200000.0       23.00           2016-09-27      0   \n",
       "\n",
       "     ceiling_height  floors_total  living_area  floor is_apartment  ...  \\\n",
       "144            2.65            24        15.50      2          NaN  ...   \n",
       "349            2.65            14        17.00      1          NaN  ...   \n",
       "440            2.65            17        24.75      4          NaN  ...   \n",
       "508            2.65            26        24.30     19          NaN  ...   \n",
       "608            2.65            10          NaN      7          NaN  ...   \n",
       "697            2.75            25        17.50     21          NaN  ...   \n",
       "716            2.70             9        12.00      1          NaN  ...   \n",
       "780            2.65            18          NaN      8          NaN  ...   \n",
       "839            2.70             5        15.00      3        False  ...   \n",
       "946            2.65            27        18.00      7          NaN  ...   \n",
       "\n",
       "     kitchen_area  balcony       locality_name  airports_nearest  \\\n",
       "144           NaN        2      посёлок Мурино               NaN   \n",
       "349           NaN        0     деревня Кудрово               NaN   \n",
       "440           NaN        2     Санкт-Петербург           38171.0   \n",
       "508           NaN        1   посёлок Парголово           53115.0   \n",
       "608           NaN        0      посёлок Шушары               NaN   \n",
       "697           NaN        0     деревня Кудрово               NaN   \n",
       "716           NaN        0      посёлок Шушары           18654.0   \n",
       "780           NaN        1      посёлок Мурино               NaN   \n",
       "839           NaN        1  поселок Новый Свет               NaN   \n",
       "946           NaN        2      посёлок Мурино               NaN   \n",
       "\n",
       "    city_centers_nearest  parks_around3000  parks_nearest  ponds_around3000  \\\n",
       "144                  NaN               NaN            NaN               NaN   \n",
       "349                  NaN               NaN            NaN               NaN   \n",
       "440              15015.0               0.0            NaN               2.0   \n",
       "508              19292.0               0.0            NaN               1.0   \n",
       "608                  NaN               NaN            NaN               NaN   \n",
       "697                  NaN               NaN            NaN               NaN   \n",
       "716              29846.0               0.0            NaN               0.0   \n",
       "780                  NaN               NaN            NaN               NaN   \n",
       "839                  NaN               NaN            NaN               NaN   \n",
       "946                  NaN               NaN            NaN               NaN   \n",
       "\n",
       "     ponds_nearest  days_exposition  \n",
       "144            NaN            181.0  \n",
       "349            NaN             45.0  \n",
       "440          982.0             64.0  \n",
       "508          593.0            430.0  \n",
       "608            NaN             29.0  \n",
       "697            NaN            201.0  \n",
       "716            NaN             40.0  \n",
       "780            NaN             45.0  \n",
       "839            NaN              7.0  \n",
       "946            NaN            483.0  \n",
       "\n",
       "[10 rows x 22 columns]"
      ]
     },
     "execution_count": 20,
     "metadata": {},
     "output_type": "execute_result"
    }
   ],
   "source": [
    "data.query('rooms == 0').head(10)"
   ]
  },
  {
   "cell_type": "markdown",
   "metadata": {},
   "source": [
    "*Допустим что это объекты - студии. так как в столбце  - кухня , в этих строках имеются пропуски. Оставим данные в столбце \"rooms\" в первоначальном варианте.*\n"
   ]
  },
  {
   "cell_type": "markdown",
   "metadata": {},
   "source": [
    "                                    6.Столбец \"living area\""
   ]
  },
  {
   "cell_type": "code",
   "execution_count": 21,
   "metadata": {
    "scrolled": true
   },
   "outputs": [
    {
     "data": {
      "text/plain": [
       "min         2.000000\n",
       "max       409.700000\n",
       "mean       34.462781\n",
       "median     30.000000\n",
       "Name: living_area, dtype: float64"
      ]
     },
     "execution_count": 21,
     "metadata": {},
     "output_type": "execute_result"
    }
   ],
   "source": [
    "data['living_area'].agg(['min','max','mean','median']) # изучим столбец -  жилая площадь"
   ]
  },
  {
   "cell_type": "code",
   "execution_count": 22,
   "metadata": {},
   "outputs": [
    {
     "data": {
      "text/html": [
       "<div>\n",
       "<style scoped>\n",
       "    .dataframe tbody tr th:only-of-type {\n",
       "        vertical-align: middle;\n",
       "    }\n",
       "\n",
       "    .dataframe tbody tr th {\n",
       "        vertical-align: top;\n",
       "    }\n",
       "\n",
       "    .dataframe thead th {\n",
       "        text-align: right;\n",
       "    }\n",
       "</style>\n",
       "<table border=\"1\" class=\"dataframe\">\n",
       "  <thead>\n",
       "    <tr style=\"text-align: right;\">\n",
       "      <th></th>\n",
       "      <th>total_images</th>\n",
       "      <th>last_price</th>\n",
       "      <th>total_area</th>\n",
       "      <th>first_day_exposition</th>\n",
       "      <th>rooms</th>\n",
       "      <th>ceiling_height</th>\n",
       "      <th>floors_total</th>\n",
       "      <th>living_area</th>\n",
       "      <th>floor</th>\n",
       "      <th>is_apartment</th>\n",
       "      <th>...</th>\n",
       "      <th>kitchen_area</th>\n",
       "      <th>balcony</th>\n",
       "      <th>locality_name</th>\n",
       "      <th>airports_nearest</th>\n",
       "      <th>city_centers_nearest</th>\n",
       "      <th>parks_around3000</th>\n",
       "      <th>parks_nearest</th>\n",
       "      <th>ponds_around3000</th>\n",
       "      <th>ponds_nearest</th>\n",
       "      <th>days_exposition</th>\n",
       "    </tr>\n",
       "  </thead>\n",
       "  <tbody>\n",
       "    <tr>\n",
       "      <th>3242</th>\n",
       "      <td>7</td>\n",
       "      <td>4440000.0</td>\n",
       "      <td>41.0</td>\n",
       "      <td>2017-07-02</td>\n",
       "      <td>1</td>\n",
       "      <td>2.65</td>\n",
       "      <td>17</td>\n",
       "      <td>3.0</td>\n",
       "      <td>17</td>\n",
       "      <td>NaN</td>\n",
       "      <td>...</td>\n",
       "      <td>11.0</td>\n",
       "      <td>0</td>\n",
       "      <td>Санкт-Петербург</td>\n",
       "      <td>19272.0</td>\n",
       "      <td>13073.0</td>\n",
       "      <td>0.0</td>\n",
       "      <td>NaN</td>\n",
       "      <td>0.0</td>\n",
       "      <td>NaN</td>\n",
       "      <td>216.0</td>\n",
       "    </tr>\n",
       "    <tr>\n",
       "      <th>13915</th>\n",
       "      <td>20</td>\n",
       "      <td>6350000.0</td>\n",
       "      <td>52.0</td>\n",
       "      <td>2018-02-06</td>\n",
       "      <td>2</td>\n",
       "      <td>3.00</td>\n",
       "      <td>6</td>\n",
       "      <td>2.0</td>\n",
       "      <td>2</td>\n",
       "      <td>NaN</td>\n",
       "      <td>...</td>\n",
       "      <td>9.0</td>\n",
       "      <td>0</td>\n",
       "      <td>Санкт-Петербург</td>\n",
       "      <td>32453.0</td>\n",
       "      <td>6521.0</td>\n",
       "      <td>0.0</td>\n",
       "      <td>NaN</td>\n",
       "      <td>1.0</td>\n",
       "      <td>1012.0</td>\n",
       "      <td>91.0</td>\n",
       "    </tr>\n",
       "    <tr>\n",
       "      <th>21758</th>\n",
       "      <td>0</td>\n",
       "      <td>2330000.0</td>\n",
       "      <td>23.0</td>\n",
       "      <td>2018-01-01</td>\n",
       "      <td>0</td>\n",
       "      <td>2.65</td>\n",
       "      <td>24</td>\n",
       "      <td>2.0</td>\n",
       "      <td>22</td>\n",
       "      <td>NaN</td>\n",
       "      <td>...</td>\n",
       "      <td>NaN</td>\n",
       "      <td>0</td>\n",
       "      <td>посёлок Мурино</td>\n",
       "      <td>NaN</td>\n",
       "      <td>NaN</td>\n",
       "      <td>NaN</td>\n",
       "      <td>NaN</td>\n",
       "      <td>NaN</td>\n",
       "      <td>NaN</td>\n",
       "      <td>66.0</td>\n",
       "    </tr>\n",
       "    <tr>\n",
       "      <th>23574</th>\n",
       "      <td>14</td>\n",
       "      <td>64990000.0</td>\n",
       "      <td>139.0</td>\n",
       "      <td>2015-11-24</td>\n",
       "      <td>3</td>\n",
       "      <td>3.00</td>\n",
       "      <td>8</td>\n",
       "      <td>3.0</td>\n",
       "      <td>8</td>\n",
       "      <td>NaN</td>\n",
       "      <td>...</td>\n",
       "      <td>16.0</td>\n",
       "      <td>1</td>\n",
       "      <td>Санкт-Петербург</td>\n",
       "      <td>33255.0</td>\n",
       "      <td>5975.0</td>\n",
       "      <td>1.0</td>\n",
       "      <td>630.0</td>\n",
       "      <td>3.0</td>\n",
       "      <td>100.0</td>\n",
       "      <td>280.0</td>\n",
       "    </tr>\n",
       "  </tbody>\n",
       "</table>\n",
       "<p>4 rows × 22 columns</p>\n",
       "</div>"
      ],
      "text/plain": [
       "       total_images  last_price  total_area first_day_exposition  rooms  \\\n",
       "3242              7   4440000.0        41.0           2017-07-02      1   \n",
       "13915            20   6350000.0        52.0           2018-02-06      2   \n",
       "21758             0   2330000.0        23.0           2018-01-01      0   \n",
       "23574            14  64990000.0       139.0           2015-11-24      3   \n",
       "\n",
       "       ceiling_height  floors_total  living_area  floor is_apartment  ...  \\\n",
       "3242             2.65            17          3.0     17          NaN  ...   \n",
       "13915            3.00             6          2.0      2          NaN  ...   \n",
       "21758            2.65            24          2.0     22          NaN  ...   \n",
       "23574            3.00             8          3.0      8          NaN  ...   \n",
       "\n",
       "       kitchen_area  balcony    locality_name  airports_nearest  \\\n",
       "3242           11.0        0  Санкт-Петербург           19272.0   \n",
       "13915           9.0        0  Санкт-Петербург           32453.0   \n",
       "21758           NaN        0   посёлок Мурино               NaN   \n",
       "23574          16.0        1  Санкт-Петербург           33255.0   \n",
       "\n",
       "      city_centers_nearest  parks_around3000  parks_nearest  ponds_around3000  \\\n",
       "3242               13073.0               0.0            NaN               0.0   \n",
       "13915               6521.0               0.0            NaN               1.0   \n",
       "21758                  NaN               NaN            NaN               NaN   \n",
       "23574               5975.0               1.0          630.0               3.0   \n",
       "\n",
       "       ponds_nearest  days_exposition  \n",
       "3242             NaN            216.0  \n",
       "13915         1012.0             91.0  \n",
       "21758            NaN             66.0  \n",
       "23574          100.0            280.0  \n",
       "\n",
       "[4 rows x 22 columns]"
      ]
     },
     "execution_count": 22,
     "metadata": {},
     "output_type": "execute_result"
    }
   ],
   "source": [
    "data.query('living_area < 5') # 4 квартиры с аномальными данными в столбце - жилая недвижимость. в целом это не повлияет на результаты исследования"
   ]
  },
  {
   "cell_type": "code",
   "execution_count": 23,
   "metadata": {},
   "outputs": [],
   "source": [
    "data.loc[data['living_area'] < 5, 'living_area'] = None # заменим аномальные значения на None"
   ]
  },
  {
   "cell_type": "code",
   "execution_count": 24,
   "metadata": {},
   "outputs": [
    {
     "data": {
      "text/plain": [
       "1874"
      ]
     },
     "execution_count": 24,
     "metadata": {},
     "output_type": "execute_result"
    }
   ],
   "source": [
    "data['living_area'].isna().sum() # посчитаем пропуски"
   ]
  },
  {
   "cell_type": "code",
   "execution_count": 25,
   "metadata": {
    "scrolled": true
   },
   "outputs": [
    {
     "data": {
      "text/html": [
       "<div>\n",
       "<style scoped>\n",
       "    .dataframe tbody tr th:only-of-type {\n",
       "        vertical-align: middle;\n",
       "    }\n",
       "\n",
       "    .dataframe tbody tr th {\n",
       "        vertical-align: top;\n",
       "    }\n",
       "\n",
       "    .dataframe thead th {\n",
       "        text-align: right;\n",
       "    }\n",
       "</style>\n",
       "<table border=\"1\" class=\"dataframe\">\n",
       "  <thead>\n",
       "    <tr style=\"text-align: right;\">\n",
       "      <th></th>\n",
       "      <th>total_images</th>\n",
       "      <th>last_price</th>\n",
       "      <th>total_area</th>\n",
       "      <th>first_day_exposition</th>\n",
       "      <th>rooms</th>\n",
       "      <th>ceiling_height</th>\n",
       "      <th>floors_total</th>\n",
       "      <th>living_area</th>\n",
       "      <th>floor</th>\n",
       "      <th>is_apartment</th>\n",
       "      <th>...</th>\n",
       "      <th>kitchen_area</th>\n",
       "      <th>balcony</th>\n",
       "      <th>locality_name</th>\n",
       "      <th>airports_nearest</th>\n",
       "      <th>city_centers_nearest</th>\n",
       "      <th>parks_around3000</th>\n",
       "      <th>parks_nearest</th>\n",
       "      <th>ponds_around3000</th>\n",
       "      <th>ponds_nearest</th>\n",
       "      <th>days_exposition</th>\n",
       "    </tr>\n",
       "  </thead>\n",
       "  <tbody>\n",
       "  </tbody>\n",
       "</table>\n",
       "<p>0 rows × 22 columns</p>\n",
       "</div>"
      ],
      "text/plain": [
       "Empty DataFrame\n",
       "Columns: [total_images, last_price, total_area, first_day_exposition, rooms, ceiling_height, floors_total, living_area, floor, is_apartment, studio, open_plan, kitchen_area, balcony, locality_name, airports_nearest, city_centers_nearest, parks_around3000, parks_nearest, ponds_around3000, ponds_nearest, days_exposition]\n",
       "Index: []\n",
       "\n",
       "[0 rows x 22 columns]"
      ]
     },
     "execution_count": 25,
     "metadata": {},
     "output_type": "execute_result"
    }
   ],
   "source": [
    "data.query('living_area < 5') # проверим результат замены на None"
   ]
  },
  {
   "cell_type": "markdown",
   "metadata": {},
   "source": [
    "*Пропуски оставим как есть, так как причины возникновения их может быть разнородной: незнание,ненужность и др.*"
   ]
  },
  {
   "cell_type": "markdown",
   "metadata": {},
   "source": [
    "                                  7.Столбцы (расстояния и окружности)"
   ]
  },
  {
   "cell_type": "markdown",
   "metadata": {},
   "source": [
    "*7.1 Просмотрим значения в столбце \"airports_nearest\"*"
   ]
  },
  {
   "cell_type": "code",
   "execution_count": 26,
   "metadata": {},
   "outputs": [
    {
     "data": {
      "text/plain": [
       "min           0.000000\n",
       "max       84869.000000\n",
       "mean      28788.008185\n",
       "median    26726.000000\n",
       "Name: airports_nearest, dtype: float64"
      ]
     },
     "execution_count": 26,
     "metadata": {},
     "output_type": "execute_result"
    }
   ],
   "source": [
    "data['airports_nearest'].agg(['min','max','mean','median']) "
   ]
  },
  {
   "cell_type": "code",
   "execution_count": 27,
   "metadata": {},
   "outputs": [
    {
     "data": {
      "text/html": [
       "<div>\n",
       "<style scoped>\n",
       "    .dataframe tbody tr th:only-of-type {\n",
       "        vertical-align: middle;\n",
       "    }\n",
       "\n",
       "    .dataframe tbody tr th {\n",
       "        vertical-align: top;\n",
       "    }\n",
       "\n",
       "    .dataframe thead th {\n",
       "        text-align: right;\n",
       "    }\n",
       "</style>\n",
       "<table border=\"1\" class=\"dataframe\">\n",
       "  <thead>\n",
       "    <tr style=\"text-align: right;\">\n",
       "      <th></th>\n",
       "      <th>total_images</th>\n",
       "      <th>last_price</th>\n",
       "      <th>total_area</th>\n",
       "      <th>first_day_exposition</th>\n",
       "      <th>rooms</th>\n",
       "      <th>ceiling_height</th>\n",
       "      <th>floors_total</th>\n",
       "      <th>living_area</th>\n",
       "      <th>floor</th>\n",
       "      <th>is_apartment</th>\n",
       "      <th>...</th>\n",
       "      <th>kitchen_area</th>\n",
       "      <th>balcony</th>\n",
       "      <th>locality_name</th>\n",
       "      <th>airports_nearest</th>\n",
       "      <th>city_centers_nearest</th>\n",
       "      <th>parks_around3000</th>\n",
       "      <th>parks_nearest</th>\n",
       "      <th>ponds_around3000</th>\n",
       "      <th>ponds_nearest</th>\n",
       "      <th>days_exposition</th>\n",
       "    </tr>\n",
       "  </thead>\n",
       "  <tbody>\n",
       "    <tr>\n",
       "      <th>21085</th>\n",
       "      <td>0</td>\n",
       "      <td>7000000.0</td>\n",
       "      <td>34.7</td>\n",
       "      <td>2018-09-23</td>\n",
       "      <td>1</td>\n",
       "      <td>2.7</td>\n",
       "      <td>9</td>\n",
       "      <td>19.8</td>\n",
       "      <td>3</td>\n",
       "      <td>NaN</td>\n",
       "      <td>...</td>\n",
       "      <td>6.0</td>\n",
       "      <td>2</td>\n",
       "      <td>Санкт-Петербург</td>\n",
       "      <td>0.0</td>\n",
       "      <td>22801.0</td>\n",
       "      <td>0.0</td>\n",
       "      <td>NaN</td>\n",
       "      <td>0.0</td>\n",
       "      <td>NaN</td>\n",
       "      <td>60.0</td>\n",
       "    </tr>\n",
       "  </tbody>\n",
       "</table>\n",
       "<p>1 rows × 22 columns</p>\n",
       "</div>"
      ],
      "text/plain": [
       "       total_images  last_price  total_area first_day_exposition  rooms  \\\n",
       "21085             0   7000000.0        34.7           2018-09-23      1   \n",
       "\n",
       "       ceiling_height  floors_total  living_area  floor is_apartment  ...  \\\n",
       "21085             2.7             9         19.8      3          NaN  ...   \n",
       "\n",
       "       kitchen_area  balcony    locality_name  airports_nearest  \\\n",
       "21085           6.0        2  Санкт-Петербург               0.0   \n",
       "\n",
       "      city_centers_nearest  parks_around3000  parks_nearest  ponds_around3000  \\\n",
       "21085              22801.0               0.0            NaN               0.0   \n",
       "\n",
       "       ponds_nearest  days_exposition  \n",
       "21085            NaN             60.0  \n",
       "\n",
       "[1 rows x 22 columns]"
      ]
     },
     "execution_count": 27,
     "metadata": {},
     "output_type": "execute_result"
    }
   ],
   "source": [
    "data.query('airports_nearest == 0')"
   ]
  },
  {
   "cell_type": "code",
   "execution_count": 28,
   "metadata": {},
   "outputs": [],
   "source": [
    "data.loc[data['airports_nearest'] == 0, 'airports_nearest'] = None # удалим аномальные нулевые значения, заменим их на None"
   ]
  },
  {
   "cell_type": "code",
   "execution_count": 29,
   "metadata": {},
   "outputs": [
    {
     "data": {
      "text/html": [
       "<div>\n",
       "<style scoped>\n",
       "    .dataframe tbody tr th:only-of-type {\n",
       "        vertical-align: middle;\n",
       "    }\n",
       "\n",
       "    .dataframe tbody tr th {\n",
       "        vertical-align: top;\n",
       "    }\n",
       "\n",
       "    .dataframe thead th {\n",
       "        text-align: right;\n",
       "    }\n",
       "</style>\n",
       "<table border=\"1\" class=\"dataframe\">\n",
       "  <thead>\n",
       "    <tr style=\"text-align: right;\">\n",
       "      <th></th>\n",
       "      <th>total_images</th>\n",
       "      <th>last_price</th>\n",
       "      <th>total_area</th>\n",
       "      <th>first_day_exposition</th>\n",
       "      <th>rooms</th>\n",
       "      <th>ceiling_height</th>\n",
       "      <th>floors_total</th>\n",
       "      <th>living_area</th>\n",
       "      <th>floor</th>\n",
       "      <th>is_apartment</th>\n",
       "      <th>...</th>\n",
       "      <th>kitchen_area</th>\n",
       "      <th>balcony</th>\n",
       "      <th>locality_name</th>\n",
       "      <th>airports_nearest</th>\n",
       "      <th>city_centers_nearest</th>\n",
       "      <th>parks_around3000</th>\n",
       "      <th>parks_nearest</th>\n",
       "      <th>ponds_around3000</th>\n",
       "      <th>ponds_nearest</th>\n",
       "      <th>days_exposition</th>\n",
       "    </tr>\n",
       "  </thead>\n",
       "  <tbody>\n",
       "  </tbody>\n",
       "</table>\n",
       "<p>0 rows × 22 columns</p>\n",
       "</div>"
      ],
      "text/plain": [
       "Empty DataFrame\n",
       "Columns: [total_images, last_price, total_area, first_day_exposition, rooms, ceiling_height, floors_total, living_area, floor, is_apartment, studio, open_plan, kitchen_area, balcony, locality_name, airports_nearest, city_centers_nearest, parks_around3000, parks_nearest, ponds_around3000, ponds_nearest, days_exposition]\n",
       "Index: []\n",
       "\n",
       "[0 rows x 22 columns]"
      ]
     },
     "execution_count": 29,
     "metadata": {},
     "output_type": "execute_result"
    }
   ],
   "source": [
    "data.query('airports_nearest == 0') # посмотрим результат"
   ]
  },
  {
   "cell_type": "code",
   "execution_count": 30,
   "metadata": {
    "scrolled": true
   },
   "outputs": [
    {
     "data": {
      "text/plain": [
       "6450.0"
      ]
     },
     "execution_count": 30,
     "metadata": {},
     "output_type": "execute_result"
    }
   ],
   "source": [
    "data['airports_nearest'].min() # хорошо , одна квартира находится на расстоянии 6,5км от ближайшего аэропорта"
   ]
  },
  {
   "cell_type": "markdown",
   "metadata": {},
   "source": [
    "*Оставим пропуски как есть, так как мы не можем логично заменить их на какие-либо расчетные данные.*"
   ]
  },
  {
   "cell_type": "markdown",
   "metadata": {},
   "source": [
    "*7.2 Посмотрим столбец city_centers_nearest.*"
   ]
  },
  {
   "cell_type": "code",
   "execution_count": 31,
   "metadata": {},
   "outputs": [
    {
     "data": {
      "text/plain": [
       "min         181.000000\n",
       "max       65968.000000\n",
       "mean      14185.084015\n",
       "median    13093.000000\n",
       "Name: city_centers_nearest, dtype: float64"
      ]
     },
     "execution_count": 31,
     "metadata": {},
     "output_type": "execute_result"
    }
   ],
   "source": [
    "data['city_centers_nearest'].agg(['min','max','mean','median']) "
   ]
  },
  {
   "cell_type": "markdown",
   "metadata": {},
   "source": [
    "*Оставим пропуски как есть, так как мы не можем корректно заменить их на какие-либо расчетные данные.*"
   ]
  },
  {
   "cell_type": "markdown",
   "metadata": {},
   "source": [
    "*7.3 Посмотрим столбец parks_nearest*"
   ]
  },
  {
   "cell_type": "code",
   "execution_count": 32,
   "metadata": {
    "scrolled": true
   },
   "outputs": [
    {
     "data": {
      "text/plain": [
       "min          1.00000\n",
       "max       3190.00000\n",
       "mean       490.55463\n",
       "median     455.00000\n",
       "Name: parks_nearest, dtype: float64"
      ]
     },
     "execution_count": 32,
     "metadata": {},
     "output_type": "execute_result"
    }
   ],
   "source": [
    "data['parks_nearest'].agg(['min','max','mean','median'])"
   ]
  },
  {
   "cell_type": "code",
   "execution_count": 33,
   "metadata": {},
   "outputs": [
    {
     "data": {
      "text/plain": [
       "15568"
      ]
     },
     "execution_count": 33,
     "metadata": {},
     "output_type": "execute_result"
    }
   ],
   "source": [
    "data['parks_nearest'].isna().sum()"
   ]
  },
  {
   "cell_type": "code",
   "execution_count": 34,
   "metadata": {},
   "outputs": [],
   "source": [
    "parks_near = data.pivot_table(index='last_price', values=['parks_around3000','parks_nearest'])"
   ]
  },
  {
   "cell_type": "code",
   "execution_count": 35,
   "metadata": {
    "scrolled": true
   },
   "outputs": [
    {
     "data": {
      "text/html": [
       "<div>\n",
       "<style scoped>\n",
       "    .dataframe tbody tr th:only-of-type {\n",
       "        vertical-align: middle;\n",
       "    }\n",
       "\n",
       "    .dataframe tbody tr th {\n",
       "        vertical-align: top;\n",
       "    }\n",
       "\n",
       "    .dataframe thead th {\n",
       "        text-align: right;\n",
       "    }\n",
       "</style>\n",
       "<table border=\"1\" class=\"dataframe\">\n",
       "  <thead>\n",
       "    <tr style=\"text-align: right;\">\n",
       "      <th></th>\n",
       "      <th>parks_around3000</th>\n",
       "      <th>parks_nearest</th>\n",
       "    </tr>\n",
       "    <tr>\n",
       "      <th>last_price</th>\n",
       "      <th></th>\n",
       "      <th></th>\n",
       "    </tr>\n",
       "  </thead>\n",
       "  <tbody>\n",
       "    <tr>\n",
       "      <th>12190.0</th>\n",
       "      <td>1.0</td>\n",
       "      <td>805.0</td>\n",
       "    </tr>\n",
       "    <tr>\n",
       "      <th>1190000.0</th>\n",
       "      <td>0.0</td>\n",
       "      <td>NaN</td>\n",
       "    </tr>\n",
       "    <tr>\n",
       "      <th>1200000.0</th>\n",
       "      <td>0.0</td>\n",
       "      <td>NaN</td>\n",
       "    </tr>\n",
       "    <tr>\n",
       "      <th>1350000.0</th>\n",
       "      <td>0.0</td>\n",
       "      <td>NaN</td>\n",
       "    </tr>\n",
       "    <tr>\n",
       "      <th>1400000.0</th>\n",
       "      <td>0.0</td>\n",
       "      <td>NaN</td>\n",
       "    </tr>\n",
       "    <tr>\n",
       "      <th>1500000.0</th>\n",
       "      <td>0.0</td>\n",
       "      <td>NaN</td>\n",
       "    </tr>\n",
       "    <tr>\n",
       "      <th>1550000.0</th>\n",
       "      <td>0.0</td>\n",
       "      <td>NaN</td>\n",
       "    </tr>\n",
       "    <tr>\n",
       "      <th>1600000.0</th>\n",
       "      <td>1.0</td>\n",
       "      <td>937.0</td>\n",
       "    </tr>\n",
       "    <tr>\n",
       "      <th>1650000.0</th>\n",
       "      <td>0.0</td>\n",
       "      <td>NaN</td>\n",
       "    </tr>\n",
       "    <tr>\n",
       "      <th>1686000.0</th>\n",
       "      <td>1.0</td>\n",
       "      <td>361.0</td>\n",
       "    </tr>\n",
       "  </tbody>\n",
       "</table>\n",
       "</div>"
      ],
      "text/plain": [
       "            parks_around3000  parks_nearest\n",
       "last_price                                 \n",
       "12190.0                  1.0          805.0\n",
       "1190000.0                0.0            NaN\n",
       "1200000.0                0.0            NaN\n",
       "1350000.0                0.0            NaN\n",
       "1400000.0                0.0            NaN\n",
       "1500000.0                0.0            NaN\n",
       "1550000.0                0.0            NaN\n",
       "1600000.0                1.0          937.0\n",
       "1650000.0                0.0            NaN\n",
       "1686000.0                1.0          361.0"
      ]
     },
     "execution_count": 35,
     "metadata": {},
     "output_type": "execute_result"
    }
   ],
   "source": [
    "parks_near.head(10)"
   ]
  },
  {
   "cell_type": "markdown",
   "metadata": {},
   "source": [
    "Можно предположить что объекты находятся на значительном удалении  от парков. Владельцы посчитали их неважными и необязательными. И мы видим что,в радиусе 3км наличие парков не указано. Оставим пропуски как есть, в виду отсутствия логичной замены качественными данными."
   ]
  },
  {
   "cell_type": "markdown",
   "metadata": {},
   "source": [
    "*7.4 Посмотрим столбец parks_around3000*"
   ]
  },
  {
   "cell_type": "code",
   "execution_count": 36,
   "metadata": {},
   "outputs": [
    {
     "data": {
      "text/plain": [
       "min       0.000000\n",
       "max       3.000000\n",
       "mean      0.611433\n",
       "median    0.000000\n",
       "Name: parks_around3000, dtype: float64"
      ]
     },
     "execution_count": 36,
     "metadata": {},
     "output_type": "execute_result"
    }
   ],
   "source": [
    "data['parks_around3000'].agg(['min','max','mean','median']) # изучим столбец parks_around3000"
   ]
  },
  {
   "cell_type": "code",
   "execution_count": 37,
   "metadata": {},
   "outputs": [
    {
     "data": {
      "text/plain": [
       "5508"
      ]
     },
     "execution_count": 37,
     "metadata": {},
     "output_type": "execute_result"
    }
   ],
   "source": [
    "data['parks_around3000'].isna().sum() # посчитаем отдельно пропуски для наглядности"
   ]
  },
  {
   "cell_type": "code",
   "execution_count": 38,
   "metadata": {},
   "outputs": [],
   "source": [
    "data['parks_around3000'] = data['parks_around3000'].fillna(0).astype('int') # заменим пропуски на ноль и тип данных на int"
   ]
  },
  {
   "cell_type": "code",
   "execution_count": 39,
   "metadata": {},
   "outputs": [
    {
     "name": "stdout",
     "output_type": "stream",
     "text": [
      "<class 'pandas.core.frame.DataFrame'>\n",
      "Int64Index: 23613 entries, 0 to 23698\n",
      "Data columns (total 22 columns):\n",
      " #   Column                Non-Null Count  Dtype         \n",
      "---  ------                --------------  -----         \n",
      " 0   total_images          23613 non-null  int64         \n",
      " 1   last_price            23613 non-null  float64       \n",
      " 2   total_area            23613 non-null  float64       \n",
      " 3   first_day_exposition  23613 non-null  datetime64[ns]\n",
      " 4   rooms                 23613 non-null  int64         \n",
      " 5   ceiling_height        23613 non-null  float64       \n",
      " 6   floors_total          23613 non-null  int64         \n",
      " 7   living_area           21739 non-null  float64       \n",
      " 8   floor                 23613 non-null  int64         \n",
      " 9   is_apartment          2775 non-null   object        \n",
      " 10  studio                23613 non-null  bool          \n",
      " 11  open_plan             23613 non-null  bool          \n",
      " 12  kitchen_area          21382 non-null  float64       \n",
      " 13  balcony               23613 non-null  int64         \n",
      " 14  locality_name         23565 non-null  object        \n",
      " 15  airports_nearest      18080 non-null  float64       \n",
      " 16  city_centers_nearest  18104 non-null  float64       \n",
      " 17  parks_around3000      23613 non-null  int64         \n",
      " 18  parks_nearest         8045 non-null   float64       \n",
      " 19  ponds_around3000      18105 non-null  float64       \n",
      " 20  ponds_nearest         9061 non-null   float64       \n",
      " 21  days_exposition       20441 non-null  float64       \n",
      "dtypes: bool(2), datetime64[ns](1), float64(11), int64(6), object(2)\n",
      "memory usage: 3.8+ MB\n"
     ]
    }
   ],
   "source": [
    "data.info()"
   ]
  },
  {
   "cell_type": "markdown",
   "metadata": {},
   "source": [
    "*В столбце \"парки в радиусе 3км\" можно заменить пропуски на нулевые значения, так как можно предположить что рядом с данными объектами парков нет и в связи этим владельцы квартир не заполнили данную колонку.*"
   ]
  },
  {
   "cell_type": "markdown",
   "metadata": {},
   "source": [
    "*7.5 Посмотрим столбец ponds_around3000*"
   ]
  },
  {
   "cell_type": "code",
   "execution_count": 40,
   "metadata": {},
   "outputs": [
    {
     "data": {
      "text/plain": [
       "min       0.0\n",
       "max       3.0\n",
       "median    1.0\n",
       "Name: ponds_around3000, dtype: float64"
      ]
     },
     "execution_count": 40,
     "metadata": {},
     "output_type": "execute_result"
    }
   ],
   "source": [
    "data['ponds_around3000'].agg(['min','max','median']) # изучим столбец ponds_around3000"
   ]
  },
  {
   "cell_type": "code",
   "execution_count": 41,
   "metadata": {},
   "outputs": [
    {
     "data": {
      "text/plain": [
       "5508"
      ]
     },
     "execution_count": 41,
     "metadata": {},
     "output_type": "execute_result"
    }
   ],
   "source": [
    "data['ponds_around3000'].isna().sum() # посчитаем пропуски"
   ]
  },
  {
   "cell_type": "code",
   "execution_count": 42,
   "metadata": {},
   "outputs": [],
   "source": [
    "data['ponds_around3000'] = data['ponds_around3000'].fillna(0).astype('int') # заменим на ноль и изменим тип данных на int"
   ]
  },
  {
   "cell_type": "markdown",
   "metadata": {},
   "source": [
    " *По аналогии со  столбцом \"парки в радиусе 3км\" в столбце \"пруды в радусе 3км\" можно заменить пропуски на нулевые значения, так как можно предположить что рядом с данными объектами парков нет и в связи этим владельцы квартир не заполнили данную колонку.*"
   ]
  },
  {
   "cell_type": "markdown",
   "metadata": {},
   "source": [
    "*7.6 Проведём исследование данных в колонке \"ponds_nearest\"*"
   ]
  },
  {
   "cell_type": "code",
   "execution_count": 43,
   "metadata": {},
   "outputs": [
    {
     "data": {
      "text/plain": [
       "min         13.0\n",
       "max       1344.0\n",
       "median     503.0\n",
       "Name: ponds_nearest, dtype: float64"
      ]
     },
     "execution_count": 43,
     "metadata": {},
     "output_type": "execute_result"
    }
   ],
   "source": [
    "data['ponds_nearest'].agg(['min','max','median'])"
   ]
  },
  {
   "cell_type": "code",
   "execution_count": 44,
   "metadata": {},
   "outputs": [
    {
     "data": {
      "text/plain": [
       "14552"
      ]
     },
     "execution_count": 44,
     "metadata": {},
     "output_type": "execute_result"
    }
   ],
   "source": [
    "data['ponds_nearest'].isna().sum()"
   ]
  },
  {
   "cell_type": "markdown",
   "metadata": {},
   "source": [
    "*Более 50% данных не имеют значений, это означает, что водоёмов по близости нет и такие данные заполнять какими-либо значениями не логично.*"
   ]
  },
  {
   "cell_type": "markdown",
   "metadata": {},
   "source": [
    "                                  8. Столбец \"locality_name\" удалим неявные дубликаты"
   ]
  },
  {
   "cell_type": "code",
   "execution_count": 45,
   "metadata": {},
   "outputs": [],
   "source": [
    "data.dropna(subset=['locality_name'], inplace=True) # удалить объекты ,где отсутствует назавание населенного пункта."
   ]
  },
  {
   "cell_type": "code",
   "execution_count": 46,
   "metadata": {},
   "outputs": [
    {
     "name": "stdout",
     "output_type": "stream",
     "text": [
      "305\n"
     ]
    },
    {
     "data": {
      "text/plain": [
       "array(['Санкт-Петербург', 'Шушары', 'Янино-1', 'Парголово', 'Мурино',\n",
       "       'Ломоносов', 'Сертолово', 'Петергоф', 'Пушкин', 'Кудрово',\n",
       "       'Коммунар', 'Колпино', 'Красный Бор', 'Гатчина', 'Федоровское',\n",
       "       'Выборг', 'Кронштадт', 'Кировск', 'Новое Девяткино',\n",
       "       'Металлострой', 'Лебяжье', 'Сиверский', 'Молодцово',\n",
       "       'Кузьмоловский', 'Новая Ропша', 'Павловск', 'Пикколово',\n",
       "       'Всеволожск', 'Волхов', 'Кингисепп', 'Приозерск', 'Сестрорецк',\n",
       "       'Куттузи', 'Аннино', 'Ефимовский', 'Плодовое', 'Заклинье',\n",
       "       'Торковичи', 'Первомайское', 'Красное Село', 'Понтонный',\n",
       "       'Сясьстрой', 'Старая', 'Лесколово', 'Новый Свет', 'Сланцы',\n",
       "       'Путилово', 'Ивангород', 'Шлиссельбург', 'Никольское',\n",
       "       'Зеленогорск', 'Сосновый Бор', 'Оржицы', 'Кальтино', 'Романовка',\n",
       "       'Бугры', 'Рощино', 'Кириши', 'Луга', 'Волосово', 'Отрадное',\n",
       "       'Павлово', 'Оредеж', 'Копорье', 'Молодежное', 'Тихвин', 'Победа',\n",
       "       'Нурма', 'Синявино', 'Тосно', 'Стрельна', 'Бокситогорск',\n",
       "       'Александровская', 'Лопухинка', 'Пикалево', 'Терволово',\n",
       "       'Советский', 'Подпорожье', 'Петровское', 'Токсово', 'Сельцо',\n",
       "       'Вырица', 'Кипень', 'Келози', 'Вартемяги', 'Тельмана',\n",
       "       'Севастьяново', 'Большая Ижора', 'Агалатово', 'Новогорелово',\n",
       "       'Лесогорский', 'Лаголово', 'Цвелодубово', 'Рахья', 'Белогорка',\n",
       "       'Заводской', 'Новоселье', 'Большие Колпаны', 'Горбунки', 'Батово',\n",
       "       'Заневка', 'Иссад', 'Приморск', 'Мистолово', 'Новая Ладога',\n",
       "       'Зимитицы', 'Барышево', 'Разметелево', 'имени Свердлова', 'Пеники',\n",
       "       'Рябово', 'Пудомяги', 'Корнево', 'Низино', 'Бегуницы', 'Поляны',\n",
       "       'Мга', 'Елизаветино', 'Кузнечное', 'Колтуши', 'Запорожское',\n",
       "       'Гостилицы', 'Малое Карлино', 'Мичуринское', 'имени Морозова',\n",
       "       'Песочный', 'Сосново', 'Аро', 'Ильичево', 'Тайцы', 'Малое Верево',\n",
       "       'Извара', 'Вещево', 'Паша', 'Калитино', 'Ульяновка', 'Чудской Бор',\n",
       "       'Дубровка', 'Мины', 'Войсковицы', 'Коркино', 'Ропша',\n",
       "       'Приладожский', 'Щеглово', 'Гаврилово', 'Лодейное Поле',\n",
       "       'Рабитицы', 'Никольский', 'Кузьмолово', 'Малые Колпаны',\n",
       "       'Петро-Славянка', 'Назия', 'Репино', 'Углово', 'Старая Малукса',\n",
       "       'Меньково', 'Старые Бегуницы', 'Саперный', 'Семрино', 'Глажево',\n",
       "       'Кобринское', 'Гарболово', 'Юкки', 'Приветнинское', 'Мануйлово',\n",
       "       'Пчева', 'Цвылево', 'Мельниково', 'Пудость', 'Усть-Луга',\n",
       "       'Светогорск', 'Любань', 'Селезнево', 'Каменногорск', 'Кривко',\n",
       "       'Глебычево', 'Парицы', 'Жилпоселок', 'Войскорово', 'Стеклянный',\n",
       "       'Важины', 'Мыза-Ивановка', 'Русско-Высоцкое', 'Форносово',\n",
       "       'Старая Ладога', 'Житково', 'Виллози', 'Лампово', 'Шпаньково',\n",
       "       'Лаврики', 'Сумино', 'Возрождение', 'Старосиверская', 'Кикерино',\n",
       "       'Старое Хинколово', 'Пригородный', 'Торфяное', 'Будогощь',\n",
       "       'Суходолье', 'Красная Долина', 'Хапо-Ое', 'Дружная Горка',\n",
       "       'Лисий Нос', 'Яльгелево', 'Рождествено', 'Старополье', 'Левашово',\n",
       "       'Сяськелево', 'Камышовка', 'Лесная Поляна', 'Хязельки',\n",
       "       'Жилгородок', 'Ялгино', 'Новый Учхоз', 'Гончарово', 'Почап',\n",
       "       'Саперное', 'Платформа 69-й километр', 'Каложицы', 'Фалилеево',\n",
       "       'Пельгора', 'Торошковичи', 'Белоостров', 'Алексеевка',\n",
       "       'Серебрянский', 'Лукаши', 'Тарасово', 'Кингисеппский', 'Ушаки',\n",
       "       'Котлы', 'Сижно', 'Торосово', 'Форт Красная Горка', 'Новолисино',\n",
       "       'Громово', 'Глинка', 'Старая Пустошь', 'Коммунары', 'Починок',\n",
       "       'Вознесенье', 'Разбегаево', 'Гладкое', 'Тесово-4', 'Бор',\n",
       "       'Коробицыно', 'Большая Вруда', 'Курковицы', 'Кобралово',\n",
       "       'Суоранда', 'Кондратьево', 'Счастье', 'Реброво', 'Тойворово',\n",
       "       'Семиозерье', 'Лесное', 'Совхозный', 'Ленинское', 'Суйда',\n",
       "       'Нижние Осельки', 'Свирь', 'Перово', 'Высоцк', 'Шум', 'Котельский',\n",
       "       'Лужайка', 'Большая Пустомержа', 'Красносельское', 'Вахнова Кара',\n",
       "       'Пижма', 'Кивеннапа Север', 'Ромашки', 'Каськово', 'Куровицы',\n",
       "       'Плоское', 'Кирпичное', 'Ям-Тесово', 'Раздолье', 'Терпилицы',\n",
       "       'Шугозеро', 'Ваганово', 'Пушное', 'Садко', 'Усть-Ижора',\n",
       "       'Выскатка', 'Свирьстрой', 'Кисельня', 'Трубников Бор',\n",
       "       'Высокоключевой', 'Пансионат Зеленый Бор', 'Ненимяки',\n",
       "       'Снегиревка', 'Рапполово', 'Пустынка', 'Большой Сабск', 'Русско',\n",
       "       'Лупполово', 'Большое Рейзино', 'Малая Романовка', 'Дружноселье',\n",
       "       'Пчевжа', 'Володарское', 'Нижняя', 'Тихковицы', 'Борисова Грива',\n",
       "       'Дзержинского'], dtype=object)"
      ]
     },
     "execution_count": 46,
     "metadata": {},
     "output_type": "execute_result"
    }
   ],
   "source": [
    "data['locality_name'] = data['locality_name'].str.replace('ё','е')\n",
    "data['locality_name'] = data['locality_name'].str.replace('поселок городского типа ','')\n",
    "data['locality_name'] = data['locality_name'].str.replace('городской поселок ','')\n",
    "data['locality_name'] = data['locality_name'].str.replace('поселок при железнодорожной станции ','')\n",
    "data['locality_name'] = data['locality_name'].str.replace('поселок станции ','')\n",
    "data['locality_name'] = data['locality_name'].str.replace('коттеджный поселок ','')\n",
    "data['locality_name'] = data['locality_name'].str.replace('поселок ','')\n",
    "data['locality_name'] = data['locality_name'].str.replace('деревня ','')\n",
    "data['locality_name'] = data['locality_name'].str.replace('садовое товарищество ','')\n",
    "data['locality_name'] = data['locality_name'].str.replace('село ','')\n",
    "data['locality_name'] = data['locality_name'].str.replace('садоводческое некоммерческое товарищество ','')\n",
    "print(len(data['locality_name'].unique())) \n",
    "data['locality_name'].unique() # просмотрим значения"
   ]
  },
  {
   "cell_type": "markdown",
   "metadata": {},
   "source": [
    "                                   9.Столбец \"is_apartment\" преабразуем тип столбца в bool"
   ]
  },
  {
   "cell_type": "code",
   "execution_count": 47,
   "metadata": {},
   "outputs": [
    {
     "data": {
      "text/plain": [
       "array([nan, False, True], dtype=object)"
      ]
     },
     "execution_count": 47,
     "metadata": {},
     "output_type": "execute_result"
    }
   ],
   "source": [
    "data['is_apartment'].unique() # отфильтрум уникальные значения"
   ]
  },
  {
   "cell_type": "code",
   "execution_count": 48,
   "metadata": {},
   "outputs": [],
   "source": [
    "data['is_apartment'] = data['is_apartment'].fillna(False) # заменим Nan на False"
   ]
  },
  {
   "cell_type": "code",
   "execution_count": 49,
   "metadata": {},
   "outputs": [
    {
     "data": {
      "text/plain": [
       "0"
      ]
     },
     "execution_count": 49,
     "metadata": {},
     "output_type": "execute_result"
    }
   ],
   "source": [
    "data['is_apartment'].isna().sum() # посчитаем пропущенные значения"
   ]
  },
  {
   "cell_type": "markdown",
   "metadata": {},
   "source": [
    "                              10. Столбец \"kitchen_area\""
   ]
  },
  {
   "cell_type": "code",
   "execution_count": 50,
   "metadata": {},
   "outputs": [
    {
     "data": {
      "text/plain": [
       "2222"
      ]
     },
     "execution_count": 50,
     "metadata": {},
     "output_type": "execute_result"
    }
   ],
   "source": [
    "data['kitchen_area'].isna().sum() # посчитаем пропущенные значения"
   ]
  },
  {
   "cell_type": "code",
   "execution_count": 51,
   "metadata": {},
   "outputs": [],
   "source": [
    "#data['kitchen_area'] = data['kitchen_area'].fillna(0) # Заполним нулевыми значениями. Скорее всего это студия."
   ]
  },
  {
   "cell_type": "markdown",
   "metadata": {},
   "source": [
    "Пропуски оставим как есть ,предполагая что это квартиры студии, либо из-за незнания данных владельцем, \n",
    "либо это необязательный столбец для заполнения. Нелогично заполнять пропуски расчетными данными, чтобы \n",
    "не искажать в дальнейшем результаты анализа."
   ]
  },
  {
   "cell_type": "markdown",
   "metadata": {},
   "source": [
    "*Подведем итоги. Мы с вами оставили,заменили пропуски на нули, Высоту потолков заменили на медианное значение , удалили строки, в которых отсутствует название локации,этаж квартиры. Изменили тип данных в столбцах.Очистили данные от неявных дубликатов. Теперь можно приступать к расчетам.*"
   ]
  },
  {
   "cell_type": "markdown",
   "metadata": {},
   "source": [
    "### Посчитайте и добавьте в таблицу новые столбцы"
   ]
  },
  {
   "cell_type": "markdown",
   "metadata": {},
   "source": [
    "Посчитаем цену одного квадратного метра"
   ]
  },
  {
   "cell_type": "code",
   "execution_count": 53,
   "metadata": {},
   "outputs": [],
   "source": [
    "data['price_one_square_meter'] = data['last_price']/data['total_area'] # Создадим столбец price_one_square_metr"
   ]
  },
  {
   "cell_type": "code",
   "execution_count": 54,
   "metadata": {},
   "outputs": [],
   "source": [
    "data['price_one_square_meter'] = data['price_one_square_meter'].astype('int') # для удобства приведем к целочисленному типу данных"
   ]
  },
  {
   "cell_type": "code",
   "execution_count": 55,
   "metadata": {},
   "outputs": [
    {
     "data": {
      "text/html": [
       "<div>\n",
       "<style scoped>\n",
       "    .dataframe tbody tr th:only-of-type {\n",
       "        vertical-align: middle;\n",
       "    }\n",
       "\n",
       "    .dataframe tbody tr th {\n",
       "        vertical-align: top;\n",
       "    }\n",
       "\n",
       "    .dataframe thead th {\n",
       "        text-align: right;\n",
       "    }\n",
       "</style>\n",
       "<table border=\"1\" class=\"dataframe\">\n",
       "  <thead>\n",
       "    <tr style=\"text-align: right;\">\n",
       "      <th></th>\n",
       "      <th>total_images</th>\n",
       "      <th>last_price</th>\n",
       "      <th>total_area</th>\n",
       "      <th>first_day_exposition</th>\n",
       "      <th>rooms</th>\n",
       "      <th>ceiling_height</th>\n",
       "      <th>floors_total</th>\n",
       "      <th>living_area</th>\n",
       "      <th>floor</th>\n",
       "      <th>is_apartment</th>\n",
       "      <th>...</th>\n",
       "      <th>balcony</th>\n",
       "      <th>locality_name</th>\n",
       "      <th>airports_nearest</th>\n",
       "      <th>city_centers_nearest</th>\n",
       "      <th>parks_around3000</th>\n",
       "      <th>parks_nearest</th>\n",
       "      <th>ponds_around3000</th>\n",
       "      <th>ponds_nearest</th>\n",
       "      <th>days_exposition</th>\n",
       "      <th>price_one_square_meter</th>\n",
       "    </tr>\n",
       "  </thead>\n",
       "  <tbody>\n",
       "    <tr>\n",
       "      <th>0</th>\n",
       "      <td>20</td>\n",
       "      <td>13000000.0</td>\n",
       "      <td>108.0</td>\n",
       "      <td>2019-03-07</td>\n",
       "      <td>3</td>\n",
       "      <td>2.70</td>\n",
       "      <td>16</td>\n",
       "      <td>51.0</td>\n",
       "      <td>8</td>\n",
       "      <td>False</td>\n",
       "      <td>...</td>\n",
       "      <td>0</td>\n",
       "      <td>Санкт-Петербург</td>\n",
       "      <td>18863.0</td>\n",
       "      <td>16028.0</td>\n",
       "      <td>1</td>\n",
       "      <td>482.0</td>\n",
       "      <td>2</td>\n",
       "      <td>755.0</td>\n",
       "      <td>NaN</td>\n",
       "      <td>120370</td>\n",
       "    </tr>\n",
       "    <tr>\n",
       "      <th>1</th>\n",
       "      <td>7</td>\n",
       "      <td>3350000.0</td>\n",
       "      <td>40.4</td>\n",
       "      <td>2018-12-04</td>\n",
       "      <td>1</td>\n",
       "      <td>2.65</td>\n",
       "      <td>11</td>\n",
       "      <td>18.6</td>\n",
       "      <td>1</td>\n",
       "      <td>False</td>\n",
       "      <td>...</td>\n",
       "      <td>2</td>\n",
       "      <td>Шушары</td>\n",
       "      <td>12817.0</td>\n",
       "      <td>18603.0</td>\n",
       "      <td>0</td>\n",
       "      <td>NaN</td>\n",
       "      <td>0</td>\n",
       "      <td>NaN</td>\n",
       "      <td>81.0</td>\n",
       "      <td>82920</td>\n",
       "    </tr>\n",
       "    <tr>\n",
       "      <th>2</th>\n",
       "      <td>10</td>\n",
       "      <td>5196000.0</td>\n",
       "      <td>56.0</td>\n",
       "      <td>2015-08-20</td>\n",
       "      <td>2</td>\n",
       "      <td>2.65</td>\n",
       "      <td>5</td>\n",
       "      <td>34.3</td>\n",
       "      <td>4</td>\n",
       "      <td>False</td>\n",
       "      <td>...</td>\n",
       "      <td>0</td>\n",
       "      <td>Санкт-Петербург</td>\n",
       "      <td>21741.0</td>\n",
       "      <td>13933.0</td>\n",
       "      <td>1</td>\n",
       "      <td>90.0</td>\n",
       "      <td>2</td>\n",
       "      <td>574.0</td>\n",
       "      <td>558.0</td>\n",
       "      <td>92785</td>\n",
       "    </tr>\n",
       "    <tr>\n",
       "      <th>3</th>\n",
       "      <td>0</td>\n",
       "      <td>64900000.0</td>\n",
       "      <td>159.0</td>\n",
       "      <td>2015-07-24</td>\n",
       "      <td>3</td>\n",
       "      <td>2.65</td>\n",
       "      <td>14</td>\n",
       "      <td>NaN</td>\n",
       "      <td>9</td>\n",
       "      <td>False</td>\n",
       "      <td>...</td>\n",
       "      <td>0</td>\n",
       "      <td>Санкт-Петербург</td>\n",
       "      <td>28098.0</td>\n",
       "      <td>6800.0</td>\n",
       "      <td>2</td>\n",
       "      <td>84.0</td>\n",
       "      <td>3</td>\n",
       "      <td>234.0</td>\n",
       "      <td>424.0</td>\n",
       "      <td>408176</td>\n",
       "    </tr>\n",
       "    <tr>\n",
       "      <th>4</th>\n",
       "      <td>2</td>\n",
       "      <td>10000000.0</td>\n",
       "      <td>100.0</td>\n",
       "      <td>2018-06-19</td>\n",
       "      <td>2</td>\n",
       "      <td>3.03</td>\n",
       "      <td>14</td>\n",
       "      <td>32.0</td>\n",
       "      <td>13</td>\n",
       "      <td>False</td>\n",
       "      <td>...</td>\n",
       "      <td>0</td>\n",
       "      <td>Санкт-Петербург</td>\n",
       "      <td>31856.0</td>\n",
       "      <td>8098.0</td>\n",
       "      <td>2</td>\n",
       "      <td>112.0</td>\n",
       "      <td>1</td>\n",
       "      <td>48.0</td>\n",
       "      <td>121.0</td>\n",
       "      <td>100000</td>\n",
       "    </tr>\n",
       "  </tbody>\n",
       "</table>\n",
       "<p>5 rows × 23 columns</p>\n",
       "</div>"
      ],
      "text/plain": [
       "   total_images  last_price  total_area first_day_exposition  rooms  \\\n",
       "0            20  13000000.0       108.0           2019-03-07      3   \n",
       "1             7   3350000.0        40.4           2018-12-04      1   \n",
       "2            10   5196000.0        56.0           2015-08-20      2   \n",
       "3             0  64900000.0       159.0           2015-07-24      3   \n",
       "4             2  10000000.0       100.0           2018-06-19      2   \n",
       "\n",
       "   ceiling_height  floors_total  living_area  floor  is_apartment  ...  \\\n",
       "0            2.70            16         51.0      8         False  ...   \n",
       "1            2.65            11         18.6      1         False  ...   \n",
       "2            2.65             5         34.3      4         False  ...   \n",
       "3            2.65            14          NaN      9         False  ...   \n",
       "4            3.03            14         32.0     13         False  ...   \n",
       "\n",
       "   balcony    locality_name  airports_nearest  city_centers_nearest  \\\n",
       "0        0  Санкт-Петербург           18863.0               16028.0   \n",
       "1        2           Шушары           12817.0               18603.0   \n",
       "2        0  Санкт-Петербург           21741.0               13933.0   \n",
       "3        0  Санкт-Петербург           28098.0                6800.0   \n",
       "4        0  Санкт-Петербург           31856.0                8098.0   \n",
       "\n",
       "  parks_around3000  parks_nearest  ponds_around3000  ponds_nearest  \\\n",
       "0                1          482.0                 2          755.0   \n",
       "1                0            NaN                 0            NaN   \n",
       "2                1           90.0                 2          574.0   \n",
       "3                2           84.0                 3          234.0   \n",
       "4                2          112.0                 1           48.0   \n",
       "\n",
       "   days_exposition  price_one_square_meter  \n",
       "0              NaN                  120370  \n",
       "1             81.0                   82920  \n",
       "2            558.0                   92785  \n",
       "3            424.0                  408176  \n",
       "4            121.0                  100000  \n",
       "\n",
       "[5 rows x 23 columns]"
      ]
     },
     "execution_count": 55,
     "metadata": {},
     "output_type": "execute_result"
    }
   ],
   "source": [
    "data.head()"
   ]
  },
  {
   "cell_type": "code",
   "execution_count": 56,
   "metadata": {},
   "outputs": [
    {
     "data": {
      "text/plain": [
       "99405.4"
      ]
     },
     "execution_count": 56,
     "metadata": {},
     "output_type": "execute_result"
    }
   ],
   "source": [
    "data['price_one_square_meter'].mean().round(1) # Средняя цена за кв.м  с учетом всех данных по г.Санкт - Петербургу и его окрестностях"
   ]
  },
  {
   "cell_type": "markdown",
   "metadata": {},
   "source": [
    "День недели, месяц и год публикации объявления "
   ]
  },
  {
   "cell_type": "code",
   "execution_count": 57,
   "metadata": {},
   "outputs": [],
   "source": [
    "data['weekday'] = data['first_day_exposition'].dt.weekday # создадим собственную функцию weekday_name\n",
    "def weekday_name(day):\n",
    "    if day == 0:\n",
    "        return 'понедельник'\n",
    "    if day == 1:\n",
    "        return 'вторник'\n",
    "    if day == 2:\n",
    "        return 'среда'\n",
    "    if day == 3:\n",
    "        return 'четверг'\n",
    "    if day == 4:\n",
    "        return 'пятница'\n",
    "    if day == 5:\n",
    "        return 'суббота'\n",
    "    if day == 6:\n",
    "        return 'воскресенье'\n",
    "    \n",
    "data['weekday'] = data['weekday'].apply(weekday_name)"
   ]
  },
  {
   "cell_type": "code",
   "execution_count": 58,
   "metadata": {},
   "outputs": [],
   "source": [
    "data['month_exposition']=data['first_day_exposition'].dt.month # создадим столбец month_exposition"
   ]
  },
  {
   "cell_type": "code",
   "execution_count": 59,
   "metadata": {},
   "outputs": [],
   "source": [
    "data['years_exposition']=data['first_day_exposition'].dt.year # создадим столбец years_exposition"
   ]
  },
  {
   "cell_type": "code",
   "execution_count": 60,
   "metadata": {},
   "outputs": [
    {
     "data": {
      "text/html": [
       "<div>\n",
       "<style scoped>\n",
       "    .dataframe tbody tr th:only-of-type {\n",
       "        vertical-align: middle;\n",
       "    }\n",
       "\n",
       "    .dataframe tbody tr th {\n",
       "        vertical-align: top;\n",
       "    }\n",
       "\n",
       "    .dataframe thead th {\n",
       "        text-align: right;\n",
       "    }\n",
       "</style>\n",
       "<table border=\"1\" class=\"dataframe\">\n",
       "  <thead>\n",
       "    <tr style=\"text-align: right;\">\n",
       "      <th></th>\n",
       "      <th>total_images</th>\n",
       "      <th>last_price</th>\n",
       "      <th>total_area</th>\n",
       "      <th>first_day_exposition</th>\n",
       "      <th>rooms</th>\n",
       "      <th>ceiling_height</th>\n",
       "      <th>floors_total</th>\n",
       "      <th>living_area</th>\n",
       "      <th>floor</th>\n",
       "      <th>is_apartment</th>\n",
       "      <th>...</th>\n",
       "      <th>city_centers_nearest</th>\n",
       "      <th>parks_around3000</th>\n",
       "      <th>parks_nearest</th>\n",
       "      <th>ponds_around3000</th>\n",
       "      <th>ponds_nearest</th>\n",
       "      <th>days_exposition</th>\n",
       "      <th>price_one_square_meter</th>\n",
       "      <th>weekday</th>\n",
       "      <th>month_exposition</th>\n",
       "      <th>years_exposition</th>\n",
       "    </tr>\n",
       "  </thead>\n",
       "  <tbody>\n",
       "    <tr>\n",
       "      <th>0</th>\n",
       "      <td>20</td>\n",
       "      <td>13000000.0</td>\n",
       "      <td>108.0</td>\n",
       "      <td>2019-03-07</td>\n",
       "      <td>3</td>\n",
       "      <td>2.70</td>\n",
       "      <td>16</td>\n",
       "      <td>51.0</td>\n",
       "      <td>8</td>\n",
       "      <td>False</td>\n",
       "      <td>...</td>\n",
       "      <td>16028.0</td>\n",
       "      <td>1</td>\n",
       "      <td>482.0</td>\n",
       "      <td>2</td>\n",
       "      <td>755.0</td>\n",
       "      <td>NaN</td>\n",
       "      <td>120370</td>\n",
       "      <td>четверг</td>\n",
       "      <td>3</td>\n",
       "      <td>2019</td>\n",
       "    </tr>\n",
       "    <tr>\n",
       "      <th>1</th>\n",
       "      <td>7</td>\n",
       "      <td>3350000.0</td>\n",
       "      <td>40.4</td>\n",
       "      <td>2018-12-04</td>\n",
       "      <td>1</td>\n",
       "      <td>2.65</td>\n",
       "      <td>11</td>\n",
       "      <td>18.6</td>\n",
       "      <td>1</td>\n",
       "      <td>False</td>\n",
       "      <td>...</td>\n",
       "      <td>18603.0</td>\n",
       "      <td>0</td>\n",
       "      <td>NaN</td>\n",
       "      <td>0</td>\n",
       "      <td>NaN</td>\n",
       "      <td>81.0</td>\n",
       "      <td>82920</td>\n",
       "      <td>вторник</td>\n",
       "      <td>12</td>\n",
       "      <td>2018</td>\n",
       "    </tr>\n",
       "    <tr>\n",
       "      <th>2</th>\n",
       "      <td>10</td>\n",
       "      <td>5196000.0</td>\n",
       "      <td>56.0</td>\n",
       "      <td>2015-08-20</td>\n",
       "      <td>2</td>\n",
       "      <td>2.65</td>\n",
       "      <td>5</td>\n",
       "      <td>34.3</td>\n",
       "      <td>4</td>\n",
       "      <td>False</td>\n",
       "      <td>...</td>\n",
       "      <td>13933.0</td>\n",
       "      <td>1</td>\n",
       "      <td>90.0</td>\n",
       "      <td>2</td>\n",
       "      <td>574.0</td>\n",
       "      <td>558.0</td>\n",
       "      <td>92785</td>\n",
       "      <td>четверг</td>\n",
       "      <td>8</td>\n",
       "      <td>2015</td>\n",
       "    </tr>\n",
       "    <tr>\n",
       "      <th>3</th>\n",
       "      <td>0</td>\n",
       "      <td>64900000.0</td>\n",
       "      <td>159.0</td>\n",
       "      <td>2015-07-24</td>\n",
       "      <td>3</td>\n",
       "      <td>2.65</td>\n",
       "      <td>14</td>\n",
       "      <td>NaN</td>\n",
       "      <td>9</td>\n",
       "      <td>False</td>\n",
       "      <td>...</td>\n",
       "      <td>6800.0</td>\n",
       "      <td>2</td>\n",
       "      <td>84.0</td>\n",
       "      <td>3</td>\n",
       "      <td>234.0</td>\n",
       "      <td>424.0</td>\n",
       "      <td>408176</td>\n",
       "      <td>пятница</td>\n",
       "      <td>7</td>\n",
       "      <td>2015</td>\n",
       "    </tr>\n",
       "    <tr>\n",
       "      <th>4</th>\n",
       "      <td>2</td>\n",
       "      <td>10000000.0</td>\n",
       "      <td>100.0</td>\n",
       "      <td>2018-06-19</td>\n",
       "      <td>2</td>\n",
       "      <td>3.03</td>\n",
       "      <td>14</td>\n",
       "      <td>32.0</td>\n",
       "      <td>13</td>\n",
       "      <td>False</td>\n",
       "      <td>...</td>\n",
       "      <td>8098.0</td>\n",
       "      <td>2</td>\n",
       "      <td>112.0</td>\n",
       "      <td>1</td>\n",
       "      <td>48.0</td>\n",
       "      <td>121.0</td>\n",
       "      <td>100000</td>\n",
       "      <td>вторник</td>\n",
       "      <td>6</td>\n",
       "      <td>2018</td>\n",
       "    </tr>\n",
       "  </tbody>\n",
       "</table>\n",
       "<p>5 rows × 26 columns</p>\n",
       "</div>"
      ],
      "text/plain": [
       "   total_images  last_price  total_area first_day_exposition  rooms  \\\n",
       "0            20  13000000.0       108.0           2019-03-07      3   \n",
       "1             7   3350000.0        40.4           2018-12-04      1   \n",
       "2            10   5196000.0        56.0           2015-08-20      2   \n",
       "3             0  64900000.0       159.0           2015-07-24      3   \n",
       "4             2  10000000.0       100.0           2018-06-19      2   \n",
       "\n",
       "   ceiling_height  floors_total  living_area  floor  is_apartment  ...  \\\n",
       "0            2.70            16         51.0      8         False  ...   \n",
       "1            2.65            11         18.6      1         False  ...   \n",
       "2            2.65             5         34.3      4         False  ...   \n",
       "3            2.65            14          NaN      9         False  ...   \n",
       "4            3.03            14         32.0     13         False  ...   \n",
       "\n",
       "   city_centers_nearest  parks_around3000  parks_nearest  ponds_around3000  \\\n",
       "0               16028.0                 1          482.0                 2   \n",
       "1               18603.0                 0            NaN                 0   \n",
       "2               13933.0                 1           90.0                 2   \n",
       "3                6800.0                 2           84.0                 3   \n",
       "4                8098.0                 2          112.0                 1   \n",
       "\n",
       "  ponds_nearest  days_exposition  price_one_square_meter  weekday  \\\n",
       "0         755.0              NaN                  120370  четверг   \n",
       "1           NaN             81.0                   82920  вторник   \n",
       "2         574.0            558.0                   92785  четверг   \n",
       "3         234.0            424.0                  408176  пятница   \n",
       "4          48.0            121.0                  100000  вторник   \n",
       "\n",
       "   month_exposition  years_exposition  \n",
       "0                 3              2019  \n",
       "1                12              2018  \n",
       "2                 8              2015  \n",
       "3                 7              2015  \n",
       "4                 6              2018  \n",
       "\n",
       "[5 rows x 26 columns]"
      ]
     },
     "execution_count": 60,
     "metadata": {},
     "output_type": "execute_result"
    }
   ],
   "source": [
    "data.head()"
   ]
  },
  {
   "cell_type": "code",
   "execution_count": 61,
   "metadata": {},
   "outputs": [],
   "source": [
    "def create_floor_category(row): # создадим функцию create_floor_category\n",
    "    floor = row['floor']\n",
    "    if floor == 1:\n",
    "        return 'первый'\n",
    "    if floor == row['floors_total']:\n",
    "        return 'последний'\n",
    "    else:\n",
    "        return 'другой'\n",
    "    \n",
    "    \n",
    "data['floor_category'] = data.apply(create_floor_category, axis=1) # Создадим столбец floor_category\n"
   ]
  },
  {
   "cell_type": "markdown",
   "metadata": {},
   "source": [
    "Расстояние до центра города в километрах "
   ]
  },
  {
   "cell_type": "code",
   "execution_count": 62,
   "metadata": {},
   "outputs": [],
   "source": [
    "data['city_centers_nearest_km'] = (data['city_centers_nearest']/1000) # Создадим столбец city_centers_nearest_km"
   ]
  },
  {
   "cell_type": "code",
   "execution_count": 63,
   "metadata": {
    "scrolled": true
   },
   "outputs": [
    {
     "data": {
      "text/html": [
       "<div>\n",
       "<style scoped>\n",
       "    .dataframe tbody tr th:only-of-type {\n",
       "        vertical-align: middle;\n",
       "    }\n",
       "\n",
       "    .dataframe tbody tr th {\n",
       "        vertical-align: top;\n",
       "    }\n",
       "\n",
       "    .dataframe thead th {\n",
       "        text-align: right;\n",
       "    }\n",
       "</style>\n",
       "<table border=\"1\" class=\"dataframe\">\n",
       "  <thead>\n",
       "    <tr style=\"text-align: right;\">\n",
       "      <th></th>\n",
       "      <th>total_images</th>\n",
       "      <th>last_price</th>\n",
       "      <th>total_area</th>\n",
       "      <th>first_day_exposition</th>\n",
       "      <th>rooms</th>\n",
       "      <th>ceiling_height</th>\n",
       "      <th>floors_total</th>\n",
       "      <th>living_area</th>\n",
       "      <th>floor</th>\n",
       "      <th>is_apartment</th>\n",
       "      <th>...</th>\n",
       "      <th>parks_nearest</th>\n",
       "      <th>ponds_around3000</th>\n",
       "      <th>ponds_nearest</th>\n",
       "      <th>days_exposition</th>\n",
       "      <th>price_one_square_meter</th>\n",
       "      <th>weekday</th>\n",
       "      <th>month_exposition</th>\n",
       "      <th>years_exposition</th>\n",
       "      <th>floor_category</th>\n",
       "      <th>city_centers_nearest_km</th>\n",
       "    </tr>\n",
       "  </thead>\n",
       "  <tbody>\n",
       "    <tr>\n",
       "      <th>0</th>\n",
       "      <td>20</td>\n",
       "      <td>13000000.0</td>\n",
       "      <td>108.0</td>\n",
       "      <td>2019-03-07</td>\n",
       "      <td>3</td>\n",
       "      <td>2.70</td>\n",
       "      <td>16</td>\n",
       "      <td>51.0</td>\n",
       "      <td>8</td>\n",
       "      <td>False</td>\n",
       "      <td>...</td>\n",
       "      <td>482.0</td>\n",
       "      <td>2</td>\n",
       "      <td>755.0</td>\n",
       "      <td>NaN</td>\n",
       "      <td>120370</td>\n",
       "      <td>четверг</td>\n",
       "      <td>3</td>\n",
       "      <td>2019</td>\n",
       "      <td>другой</td>\n",
       "      <td>16.028</td>\n",
       "    </tr>\n",
       "    <tr>\n",
       "      <th>1</th>\n",
       "      <td>7</td>\n",
       "      <td>3350000.0</td>\n",
       "      <td>40.4</td>\n",
       "      <td>2018-12-04</td>\n",
       "      <td>1</td>\n",
       "      <td>2.65</td>\n",
       "      <td>11</td>\n",
       "      <td>18.6</td>\n",
       "      <td>1</td>\n",
       "      <td>False</td>\n",
       "      <td>...</td>\n",
       "      <td>NaN</td>\n",
       "      <td>0</td>\n",
       "      <td>NaN</td>\n",
       "      <td>81.0</td>\n",
       "      <td>82920</td>\n",
       "      <td>вторник</td>\n",
       "      <td>12</td>\n",
       "      <td>2018</td>\n",
       "      <td>первый</td>\n",
       "      <td>18.603</td>\n",
       "    </tr>\n",
       "    <tr>\n",
       "      <th>2</th>\n",
       "      <td>10</td>\n",
       "      <td>5196000.0</td>\n",
       "      <td>56.0</td>\n",
       "      <td>2015-08-20</td>\n",
       "      <td>2</td>\n",
       "      <td>2.65</td>\n",
       "      <td>5</td>\n",
       "      <td>34.3</td>\n",
       "      <td>4</td>\n",
       "      <td>False</td>\n",
       "      <td>...</td>\n",
       "      <td>90.0</td>\n",
       "      <td>2</td>\n",
       "      <td>574.0</td>\n",
       "      <td>558.0</td>\n",
       "      <td>92785</td>\n",
       "      <td>четверг</td>\n",
       "      <td>8</td>\n",
       "      <td>2015</td>\n",
       "      <td>другой</td>\n",
       "      <td>13.933</td>\n",
       "    </tr>\n",
       "    <tr>\n",
       "      <th>3</th>\n",
       "      <td>0</td>\n",
       "      <td>64900000.0</td>\n",
       "      <td>159.0</td>\n",
       "      <td>2015-07-24</td>\n",
       "      <td>3</td>\n",
       "      <td>2.65</td>\n",
       "      <td>14</td>\n",
       "      <td>NaN</td>\n",
       "      <td>9</td>\n",
       "      <td>False</td>\n",
       "      <td>...</td>\n",
       "      <td>84.0</td>\n",
       "      <td>3</td>\n",
       "      <td>234.0</td>\n",
       "      <td>424.0</td>\n",
       "      <td>408176</td>\n",
       "      <td>пятница</td>\n",
       "      <td>7</td>\n",
       "      <td>2015</td>\n",
       "      <td>другой</td>\n",
       "      <td>6.800</td>\n",
       "    </tr>\n",
       "    <tr>\n",
       "      <th>4</th>\n",
       "      <td>2</td>\n",
       "      <td>10000000.0</td>\n",
       "      <td>100.0</td>\n",
       "      <td>2018-06-19</td>\n",
       "      <td>2</td>\n",
       "      <td>3.03</td>\n",
       "      <td>14</td>\n",
       "      <td>32.0</td>\n",
       "      <td>13</td>\n",
       "      <td>False</td>\n",
       "      <td>...</td>\n",
       "      <td>112.0</td>\n",
       "      <td>1</td>\n",
       "      <td>48.0</td>\n",
       "      <td>121.0</td>\n",
       "      <td>100000</td>\n",
       "      <td>вторник</td>\n",
       "      <td>6</td>\n",
       "      <td>2018</td>\n",
       "      <td>другой</td>\n",
       "      <td>8.098</td>\n",
       "    </tr>\n",
       "  </tbody>\n",
       "</table>\n",
       "<p>5 rows × 28 columns</p>\n",
       "</div>"
      ],
      "text/plain": [
       "   total_images  last_price  total_area first_day_exposition  rooms  \\\n",
       "0            20  13000000.0       108.0           2019-03-07      3   \n",
       "1             7   3350000.0        40.4           2018-12-04      1   \n",
       "2            10   5196000.0        56.0           2015-08-20      2   \n",
       "3             0  64900000.0       159.0           2015-07-24      3   \n",
       "4             2  10000000.0       100.0           2018-06-19      2   \n",
       "\n",
       "   ceiling_height  floors_total  living_area  floor  is_apartment  ...  \\\n",
       "0            2.70            16         51.0      8         False  ...   \n",
       "1            2.65            11         18.6      1         False  ...   \n",
       "2            2.65             5         34.3      4         False  ...   \n",
       "3            2.65            14          NaN      9         False  ...   \n",
       "4            3.03            14         32.0     13         False  ...   \n",
       "\n",
       "   parks_nearest  ponds_around3000  ponds_nearest  days_exposition  \\\n",
       "0          482.0                 2          755.0              NaN   \n",
       "1            NaN                 0            NaN             81.0   \n",
       "2           90.0                 2          574.0            558.0   \n",
       "3           84.0                 3          234.0            424.0   \n",
       "4          112.0                 1           48.0            121.0   \n",
       "\n",
       "  price_one_square_meter  weekday  month_exposition  years_exposition  \\\n",
       "0                 120370  четверг                 3              2019   \n",
       "1                  82920  вторник                12              2018   \n",
       "2                  92785  четверг                 8              2015   \n",
       "3                 408176  пятница                 7              2015   \n",
       "4                 100000  вторник                 6              2018   \n",
       "\n",
       "   floor_category  city_centers_nearest_km  \n",
       "0          другой                   16.028  \n",
       "1          первый                   18.603  \n",
       "2          другой                   13.933  \n",
       "3          другой                    6.800  \n",
       "4          другой                    8.098  \n",
       "\n",
       "[5 rows x 28 columns]"
      ]
     },
     "execution_count": 63,
     "metadata": {},
     "output_type": "execute_result"
    }
   ],
   "source": [
    "data.head()"
   ]
  },
  {
   "cell_type": "markdown",
   "metadata": {},
   "source": [
    "Чем ближе объект находится к центру города тем дороже стоит м2. И при этом не все так однозначно, есть исключения из правил."
   ]
  },
  {
   "cell_type": "markdown",
   "metadata": {},
   "source": [
    "### Проведите исследовательский анализ данных"
   ]
  },
  {
   "cell_type": "code",
   "execution_count": 64,
   "metadata": {},
   "outputs": [
    {
     "data": {
      "text/plain": [
       "array([[<AxesSubplot:title={'center':'total_area'}>]], dtype=object)"
      ]
     },
     "execution_count": 64,
     "metadata": {},
     "output_type": "execute_result"
    },
    {
     "data": {
      "image/png": "[encoded data removed]",
      "text/plain": [
       "<Figure size 432x288 with 1 Axes>"
      ]
     },
     "metadata": {
      "needs_background": "light"
     },
     "output_type": "display_data"
    }
   ],
   "source": [
    "data.hist(column='total_area',bins=300) # построим гистграмму для total_area"
   ]
  },
  {
   "cell_type": "code",
   "execution_count": 65,
   "metadata": {},
   "outputs": [
    {
     "name": "stdout",
     "output_type": "stream",
     "text": [
      "Диаграмма размаха площади квартиры\n"
     ]
    },
    {
     "data": {
      "image/png": "[encoded data removed]",
      "text/plain": [
       "<Figure size 720x360 with 1 Axes>"
      ]
     },
     "metadata": {
      "needs_background": "light"
     },
     "output_type": "display_data"
    }
   ],
   "source": [
    "print('Диаграмма размаха площади квартиры')\n",
    "data.boxplot(column=['total_area'], figsize=(10,5), grid=True)\n",
    "plt.ylabel('Площадь квартиры в метрах')\n",
    "plt.show()"
   ]
  },
  {
   "cell_type": "code",
   "execution_count": 66,
   "metadata": {},
   "outputs": [
    {
     "data": {
      "text/plain": [
       "count    23565.000000\n",
       "mean        60.322824\n",
       "std         35.657060\n",
       "min         12.000000\n",
       "25%         40.000000\n",
       "50%         52.000000\n",
       "75%         69.700000\n",
       "max        900.000000\n",
       "Name: total_area, dtype: float64"
      ]
     },
     "execution_count": 66,
     "metadata": {},
     "output_type": "execute_result"
    }
   ],
   "source": [
    "data['total_area'].describe()"
   ]
  },
  {
   "cell_type": "markdown",
   "metadata": {},
   "source": [
    "Нам интересно проанализировать объекты недвижости площадью до 100м2"
   ]
  },
  {
   "cell_type": "code",
   "execution_count": 67,
   "metadata": {},
   "outputs": [],
   "source": [
    "good_data = data.query('total_area < 100')"
   ]
  },
  {
   "cell_type": "code",
   "execution_count": 68,
   "metadata": {},
   "outputs": [
    {
     "name": "stdout",
     "output_type": "stream",
     "text": [
      "Диаграмма размаха площади квартиры до 100м2\n"
     ]
    },
    {
     "data": {
      "image/png": "[encoded data removed]",
      "text/plain": [
       "<Figure size 648x360 with 1 Axes>"
      ]
     },
     "metadata": {
      "needs_background": "light"
     },
     "output_type": "display_data"
    }
   ],
   "source": [
    "print('Диаграмма размаха площади квартиры до 100м2')\n",
    "good_data.boxplot(column=['total_area'], figsize=(9,5), grid=True)\n",
    "plt.ylabel('площадь квартиры в квадратных метрах')\n",
    "plt.show()"
   ]
  },
  {
   "cell_type": "code",
   "execution_count": 69,
   "metadata": {},
   "outputs": [
    {
     "data": {
      "image/png": "[encoded data removed]",
      "text/plain": [
       "<Figure size 1080x360 with 1 Axes>"
      ]
     },
     "metadata": {
      "needs_background": "light"
     },
     "output_type": "display_data"
    }
   ],
   "source": [
    "good_data.sort_values(by='total_area', ascending=True).plot(kind='hist', y='total_area',title='Распределение предложений квартир по площади',bins=100, figsize=(15,5), grid=True)\n",
    "\n",
    "plt.xlabel('Площадь квартиры в кв.метрах')\n",
    "plt.ylabel('Количество предложений')\n",
    "plt.show()"
   ]
  },
  {
   "cell_type": "markdown",
   "metadata": {},
   "source": [
    "Данные графики показывают что, на рынке недвижимости г.Санкт-Петербурга и его окрестностях, \n",
    "объекты недвижимости площадью от: 30-70м2 - 80% ,\n",
    "                                  70-100м2 - 15%,  \n",
    "                                  20-30м2  - 5%."
   ]
  },
  {
   "cell_type": "code",
   "execution_count": 70,
   "metadata": {
    "scrolled": true
   },
   "outputs": [
    {
     "data": {
      "image/png": "[encoded data removed]",
      "text/plain": [
       "<Figure size 432x288 with 1 Axes>"
      ]
     },
     "metadata": {
      "needs_background": "light"
     },
     "output_type": "display_data"
    }
   ],
   "source": [
    "data.hist(column='living_area',bins=100,range=(0,100)) # построим гистграмму для living_area\n",
    "plt.xlabel('Жилая площадь')\n",
    "plt.ylabel('Количество предложений')\n",
    "plt.show()"
   ]
  },
  {
   "cell_type": "markdown",
   "metadata": {},
   "source": [
    "Пиковые значения продаж, приходится на жилую площадь 17-18м2 и 30м2. Это получается 1,2-х комнатные квартиры"
   ]
  },
  {
   "cell_type": "code",
   "execution_count": 71,
   "metadata": {},
   "outputs": [
    {
     "data": {
      "image/png": "[encoded data removed]",
      "text/plain": [
       "<Figure size 432x288 with 1 Axes>"
      ]
     },
     "metadata": {
      "needs_background": "light"
     },
     "output_type": "display_data"
    }
   ],
   "source": [
    "data.hist(column='kitchen_area',bins=50,range=(0,70)) # построим гистграмму для kitchen_area\n",
    "plt.xlabel('площадь кухни')\n",
    "plt.ylabel('Количество предложений')\n",
    "plt.show()"
   ]
  },
  {
   "cell_type": "markdown",
   "metadata": {},
   "source": [
    "Значения  в районе нуля - предположим это студии, болле 2500 предложений, и в основном предлагаются кухни площадью от 5 до 15м2. Пиковые значения приходятся на предложения где кухни размером 8-10м2."
   ]
  },
  {
   "cell_type": "code",
   "execution_count": 72,
   "metadata": {},
   "outputs": [
    {
     "data": {
      "image/png": "[encoded data removed]",
      "text/plain": [
       "<Figure size 432x288 with 1 Axes>"
      ]
     },
     "metadata": {
      "needs_background": "light"
     },
     "output_type": "display_data"
    }
   ],
   "source": [
    "data['last_price'].hist(bins=10,range=(0,10000000)) # построим гистграмму для last_price\n",
    "plt.xlabel('цена')\n",
    "plt.ylabel('Количество предложений')\n",
    "plt.show()"
   ]
  },
  {
   "cell_type": "markdown",
   "metadata": {},
   "source": [
    " Гистограмма цены, значение в 10 млн.  Вывод- цена  квартир на рынке находится в диапазоне  3-4 млн руб."
   ]
  },
  {
   "cell_type": "code",
   "execution_count": 73,
   "metadata": {},
   "outputs": [
    {
     "data": {
      "image/png": "[encoded data removed]",
      "text/plain": [
       "<Figure size 432x288 with 1 Axes>"
      ]
     },
     "metadata": {
      "needs_background": "light"
     },
     "output_type": "display_data"
    }
   ],
   "source": [
    "data['rooms'].hist(bins=10,range=(0,10)) # построим гистграмму для rooms\n",
    "plt.xlabel('кол-во комнат')\n",
    "plt.ylabel('Количество предложений')\n",
    "plt.show()"
   ]
  },
  {
   "cell_type": "markdown",
   "metadata": {},
   "source": [
    "Объем 1,2 -х комантных квартир преобладает на рынке, и составляет по 8 тыс предложений. 3,4х комнатные квартиры составляют по 6тыс предложений."
   ]
  },
  {
   "cell_type": "code",
   "execution_count": 74,
   "metadata": {},
   "outputs": [
    {
     "data": {
      "image/png": "[encoded data removed]",
      "text/plain": [
       "<Figure size 432x288 with 1 Axes>"
      ]
     },
     "metadata": {
      "needs_background": "light"
     },
     "output_type": "display_data"
    }
   ],
   "source": [
    "data['ceiling_height'].hist(bins=10,range=(2,5)) # построим гистграмму для ceiling_height\n",
    "plt.xlabel('Высота потолков в метрах')\n",
    "plt.ylabel('Количество предложений')\n",
    "plt.show()"
   ]
  },
  {
   "cell_type": "markdown",
   "metadata": {},
   "source": [
    "Примерно 70% это около 15500 предложений, где высота потолка - 2,6-2,9 м. "
   ]
  },
  {
   "cell_type": "code",
   "execution_count": 75,
   "metadata": {},
   "outputs": [
    {
     "data": {
      "image/png": "[encoded data removed]",
      "text/plain": [
       "<Figure size 432x288 with 1 Axes>"
      ]
     },
     "metadata": {
      "needs_background": "light"
     },
     "output_type": "display_data"
    }
   ],
   "source": [
    "data['floor'].hist(bins=30,range=(1,30)) # построим гистграмму для floor\n",
    "plt.xlabel('Этаж')\n",
    "plt.ylabel('Количество предложений')\n",
    "plt.show()"
   ]
  },
  {
   "cell_type": "markdown",
   "metadata": {},
   "source": [
    "В основном предлагаются квартиры которые находятся со второго до 6 этажей."
   ]
  },
  {
   "cell_type": "code",
   "execution_count": 76,
   "metadata": {},
   "outputs": [
    {
     "data": {
      "image/png": "[encoded data removed]",
      "text/plain": [
       "<Figure size 648x360 with 1 Axes>"
      ]
     },
     "metadata": {
      "needs_background": "light"
     },
     "output_type": "display_data"
    }
   ],
   "source": [
    "(good_data\n",
    "     .pivot_table(index='floor_category', values='last_price').sort_values(by='last_price', ascending=True)\n",
    "     .plot(grid=True, figsize=(9, 5),linewidth=3, title='Зависимость цены от этажа расположения квартиры')  # построим гистграмму для floor_category\n",
    ")\n",
    "plt.xlabel('Этаж расположения квартиры')\n",
    "plt.ylabel('Цена')\n",
    "plt.show()"
   ]
  },
  {
   "cell_type": "markdown",
   "metadata": {},
   "source": [
    "*Наблюдается динамичный рост цен в зависмотси от типа этажа: на первом этаже самые низкие цены, затем выше цена на последних этажах, и в категориий \"другой\" цена самая высокая.Это связано с рисками, например, затопления на первых и последних этажах.*"
   ]
  },
  {
   "cell_type": "code",
   "execution_count": 77,
   "metadata": {
    "scrolled": true
   },
   "outputs": [
    {
     "data": {
      "image/png": "[encoded data removed]",
      "text/plain": [
       "<Figure size 432x288 with 1 Axes>"
      ]
     },
     "metadata": {
      "needs_background": "light"
     },
     "output_type": "display_data"
    }
   ],
   "source": [
    "data['floors_total'].hist(bins=30,range=(1,30)) # построим гистграмму для floors_total\n",
    "plt.xlabel('Этажность дома')\n",
    "plt.ylabel('Количество предложений')\n",
    "plt.show()"
   ]
  },
  {
   "cell_type": "markdown",
   "metadata": {},
   "source": [
    "На общем фоне выделяются большое количество предложений в 5ти этажных  и 9ти этажных домах. Жилой фонд Советских времен. "
   ]
  },
  {
   "cell_type": "code",
   "execution_count": 78,
   "metadata": {},
   "outputs": [
    {
     "data": {
      "image/png": "[encoded data removed]",
      "text/plain": [
       "<Figure size 432x288 with 1 Axes>"
      ]
     },
     "metadata": {
      "needs_background": "light"
     },
     "output_type": "display_data"
    },
    {
     "data": {
      "text/plain": [
       "count    18064\n",
       "mean     14192\n",
       "std       8613\n",
       "min        181\n",
       "25%       9238\n",
       "50%      13096\n",
       "75%      16285\n",
       "max      65968\n",
       "Name: city_centers_nearest, dtype: int64"
      ]
     },
     "execution_count": 78,
     "metadata": {},
     "output_type": "execute_result"
    }
   ],
   "source": [
    "data['city_centers_nearest'].hist(bins=30,range=(1,50000)) # построим гистграмму для city_centers_nearest\n",
    "plt.xlabel('удаленность от центра в метрах')\n",
    "plt.ylabel('Количество предложений')\n",
    "plt.show()\n",
    "\n",
    "data['city_centers_nearest'].describe().astype('int')"
   ]
  },
  {
   "cell_type": "markdown",
   "metadata": {},
   "source": [
    "*В основном предлагаются объекты недвижимости удаленные от центра на 13-17тысяч метров. Среднее значение это 14км. Самый удаленный объект от центра находится на расстоянии почти 66км.*"
   ]
  },
  {
   "cell_type": "code",
   "execution_count": 79,
   "metadata": {},
   "outputs": [
    {
     "data": {
      "image/png": "[encoded data removed]",
      "text/plain": [
       "<Figure size 432x288 with 1 Axes>"
      ]
     },
     "metadata": {
      "needs_background": "light"
     },
     "output_type": "display_data"
    },
    {
     "data": {
      "text/plain": [
       "count    18040\n",
       "mean     28798\n",
       "std      12631\n",
       "min       6450\n",
       "25%      18571\n",
       "50%      26757\n",
       "75%      37273\n",
       "max      84869\n",
       "Name: airports_nearest, dtype: int64"
      ]
     },
     "execution_count": 79,
     "metadata": {},
     "output_type": "execute_result"
    }
   ],
   "source": [
    "data['airports_nearest'].hist(bins=30,range=(1,50000)) # построим гистграмму для airports_nearest\n",
    "plt.xlabel('удаленность от центра аэропорта')\n",
    "plt.ylabel('Количество предложений')\n",
    "plt.show()\n",
    "\n",
    "data['airports_nearest'].describe().astype('int')"
   ]
  },
  {
   "cell_type": "markdown",
   "metadata": {},
   "source": [
    "*Основной объем предложений объектов недвижимости находится на расстоянии 10-40тыс. метров до ближайшего аэропорта. Среднее значение это 28,7км. Самый удаленный объект от аэропорта находится на расстоянии 84,8км.*"
   ]
  },
  {
   "cell_type": "code",
   "execution_count": 80,
   "metadata": {},
   "outputs": [
    {
     "data": {
      "image/png": "[encoded data removed]",
      "text/plain": [
       "<Figure size 432x288 with 1 Axes>"
      ]
     },
     "metadata": {
      "needs_background": "light"
     },
     "output_type": "display_data"
    },
    {
     "data": {
      "text/plain": [
       "count    8030\n",
       "mean      490\n",
       "std       341\n",
       "min         1\n",
       "25%       288\n",
       "50%       455\n",
       "75%       612\n",
       "max      3190\n",
       "Name: parks_nearest, dtype: int64"
      ]
     },
     "execution_count": 80,
     "metadata": {},
     "output_type": "execute_result"
    }
   ],
   "source": [
    "data['parks_nearest'].hist(bins=30,range=(1,3000)) # построим гистграмму для parks_nearest\n",
    "plt.xlabel('удаленность от парка')\n",
    "plt.ylabel('Количество предложений')\n",
    "plt.show()\n",
    "\n",
    "data['parks_nearest'].describe().astype('int')"
   ]
  },
  {
   "cell_type": "markdown",
   "metadata": {},
   "source": [
    "*Наибольшее количество предложений о продаже объектов недвижимости находится на расстоянии 500 метров до ближайшего парка. Среднее это 490м от парка. Есть объекты которые находятся в непосредственной близости с парком на расстоянии одного метра.*"
   ]
  },
  {
   "cell_type": "code",
   "execution_count": 81,
   "metadata": {},
   "outputs": [
    {
     "data": {
      "image/png": "[encoded data removed]",
      "text/plain": [
       "<Figure size 432x288 with 1 Axes>"
      ]
     },
     "metadata": {
      "needs_background": "light"
     },
     "output_type": "display_data"
    }
   ],
   "source": [
    "data['weekday'].hist(bins=30,range=(0,6)) # построим гистграмму для weekday\n",
    "plt.xlabel('день недели')\n",
    "plt.ylabel('Количество предложений')\n",
    "plt.show()\n"
   ]
  },
  {
   "cell_type": "markdown",
   "metadata": {},
   "source": [
    "*Предложения публикуются равномерно в рабочие дни, в два раза меньше - в выходные дни.*"
   ]
  },
  {
   "cell_type": "code",
   "execution_count": 82,
   "metadata": {},
   "outputs": [
    {
     "data": {
      "image/png": "[encoded data removed]",
      "text/plain": [
       "<Figure size 432x288 with 1 Axes>"
      ]
     },
     "metadata": {
      "needs_background": "light"
     },
     "output_type": "display_data"
    }
   ],
   "source": [
    "data['month_exposition'].hist(bins=30,range=(1,12)) # построим гистграмму для month_exposition\n",
    "plt.xlabel('месяц')\n",
    "plt.ylabel('Количество предложений')\n",
    "plt.show()"
   ]
  },
  {
   "cell_type": "markdown",
   "metadata": {},
   "source": [
    "Февраль, Март, Апрель - активные месяцы, на втором месте идут - сентябрь, октябрь,ноябрь по активности."
   ]
  },
  {
   "cell_type": "markdown",
   "metadata": {},
   "source": [
    "Изучим скорость продажи квартиры"
   ]
  },
  {
   "cell_type": "code",
   "execution_count": 83,
   "metadata": {},
   "outputs": [
    {
     "data": {
      "image/png": "[encoded data removed]",
      "text/plain": [
       "<Figure size 432x288 with 1 Axes>"
      ]
     },
     "metadata": {
      "needs_background": "light"
     },
     "output_type": "display_data"
    }
   ],
   "source": [
    "data['days_exposition'].hist(bins=30,range=(0,365)) # построим гистграмму для days_exposition\n",
    "plt.xlabel('количество-дней')\n",
    "plt.ylabel('Количество предложений')\n",
    "plt.show()"
   ]
  },
  {
   "cell_type": "markdown",
   "metadata": {},
   "source": [
    "Квартиры продаются в большинстве случаев до 60 дней, пиковые значения наблюдаются в интервале 40-50 дней."
   ]
  },
  {
   "cell_type": "code",
   "execution_count": 84,
   "metadata": {},
   "outputs": [
    {
     "data": {
      "text/plain": [
       "count    20394.000000\n",
       "mean       180.741395\n",
       "std        219.732782\n",
       "min          1.000000\n",
       "25%         45.000000\n",
       "50%         95.000000\n",
       "75%        231.000000\n",
       "max       1580.000000\n",
       "Name: days_exposition, dtype: float64"
      ]
     },
     "execution_count": 84,
     "metadata": {},
     "output_type": "execute_result"
    }
   ],
   "source": [
    "data['days_exposition'].describe() # столбец days_exposition"
   ]
  },
  {
   "cell_type": "code",
   "execution_count": 85,
   "metadata": {},
   "outputs": [
    {
     "data": {
      "text/plain": [
       "<AxesSubplot:>"
      ]
     },
     "execution_count": 85,
     "metadata": {},
     "output_type": "execute_result"
    },
    {
     "data": {
      "image/png": "[encoded data removed]",
      "text/plain": [
       "<Figure size 432x288 with 1 Axes>"
      ]
     },
     "metadata": {
      "needs_background": "light"
     },
     "output_type": "display_data"
    }
   ],
   "source": [
    "data.boxplot('days_exposition') # построим ящик с усами"
   ]
  },
  {
   "cell_type": "markdown",
   "metadata": {},
   "source": [
    "Данные о предложениях объектов недвижимости , которые продаются от 250 дней отбросим, чтобы получить корректные для анализа, результаты."
   ]
  },
  {
   "cell_type": "code",
   "execution_count": 86,
   "metadata": {},
   "outputs": [],
   "source": [
    "ok_data = data.query('days_exposition < 250') # создадим срез ok_data "
   ]
  },
  {
   "cell_type": "code",
   "execution_count": 87,
   "metadata": {},
   "outputs": [
    {
     "data": {
      "text/plain": [
       "mean      83.154745\n",
       "median    63.000000\n",
       "Name: days_exposition, dtype: float64"
      ]
     },
     "execution_count": 87,
     "metadata": {},
     "output_type": "execute_result"
    }
   ],
   "source": [
    "ok_data['days_exposition'].agg(['mean','median']) # найдем среднее и медиану"
   ]
  },
  {
   "cell_type": "markdown",
   "metadata": {},
   "source": [
    "Стандартные объекты недвижимости реализуются в интервале 2-3 месяца. Продажи за 1 день  - это очень быстрая,необычная продажа, для рынка недвижимости. И соответственно продажа за 1580 дней необычно долгая продажа. Продажи в течении первой недели, после выставления квартиры на продажу, можно считать, очень быстрыми. И квартиры которые продаются больше года можно считать долгими продажами."
   ]
  },
  {
   "cell_type": "markdown",
   "metadata": {},
   "source": [
    "Изучим зависимость цены от различных параметров:Общей площади"
   ]
  },
  {
   "cell_type": "code",
   "execution_count": 88,
   "metadata": {},
   "outputs": [
    {
     "data": {
      "image/png": "[encoded data removed]",
      "text/plain": [
       "<Figure size 864x360 with 1 Axes>"
      ]
     },
     "metadata": {
      "needs_background": "light"
     },
     "output_type": "display_data"
    }
   ],
   "source": [
    "# Создадим сводную таблицу и построим график\n",
    "(data\n",
    "    \n",
    "     .pivot_table(index='last_price', values=['total_area','living_area','kitchen_area','rooms',])\n",
    "     .plot(style='o',grid=True, figsize=(12, 5), title='График зависимости цены от общей площади,жилой площади,площади кухни, числа комнат, ')\n",
    ")\n",
    "plt.xlabel('Цена на момент снятия с публикации')\n",
    "plt.ylabel('число комнат\\n площадь кухни\\n жилая площадь\\n Общая площадь')\n",
    "plt.show()\n"
   ]
  },
  {
   "cell_type": "code",
   "execution_count": 89,
   "metadata": {},
   "outputs": [
    {
     "data": {
      "text/plain": [
       "('Корреляция по общей площади', 0.6536213939252808)"
      ]
     },
     "execution_count": 89,
     "metadata": {},
     "output_type": "execute_result"
    }
   ],
   "source": [
    "('Корреляция по общей площади', data['total_area'].corr(data['last_price']))"
   ]
  },
  {
   "cell_type": "code",
   "execution_count": 90,
   "metadata": {},
   "outputs": [
    {
     "data": {
      "text/plain": [
       "('Корреляция по жилой площади', 0.5671833278745027)"
      ]
     },
     "execution_count": 90,
     "metadata": {},
     "output_type": "execute_result"
    }
   ],
   "source": [
    "('Корреляция по жилой площади', data['living_area'].corr(data['last_price']))"
   ]
  },
  {
   "cell_type": "code",
   "execution_count": 91,
   "metadata": {},
   "outputs": [
    {
     "data": {
      "text/plain": [
       "('Корреляция по площади кухни', 0.5203617949655245)"
      ]
     },
     "execution_count": 91,
     "metadata": {},
     "output_type": "execute_result"
    }
   ],
   "source": [
    "('Корреляция по площади кухни', data['kitchen_area'].corr(data['last_price']))"
   ]
  },
  {
   "cell_type": "code",
   "execution_count": 92,
   "metadata": {},
   "outputs": [
    {
     "data": {
      "text/plain": [
       "('Корреляция по количеству комнат', 0.3631905485065752)"
      ]
     },
     "execution_count": 92,
     "metadata": {},
     "output_type": "execute_result"
    }
   ],
   "source": [
    "('Корреляция по количеству комнат', data['rooms'].corr(data['last_price']))"
   ]
  },
  {
   "cell_type": "markdown",
   "metadata": {},
   "source": [
    "Достаточно сильная прямо пропорциональная зависимость цены от общей и жилой площади квартиры. Завсимость цены от площади кухни и количества комнат также присутствует , при этом не является показательной."
   ]
  },
  {
   "cell_type": "code",
   "execution_count": 93,
   "metadata": {},
   "outputs": [
    {
     "data": {
      "text/plain": [
       "<AxesSubplot:title={'center':'Зависимость цены от этажа квартиры'}, xlabel='floor_category'>"
      ]
     },
     "execution_count": 93,
     "metadata": {},
     "output_type": "execute_result"
    },
    {
     "data": {
      "image/png": "[encoded data removed]",
      "text/plain": [
       "<Figure size 720x360 with 1 Axes>"
      ]
     },
     "metadata": {
      "needs_background": "light"
     },
     "output_type": "display_data"
    }
   ],
   "source": [
    "# Создадим сводную таблицу и построим график\n",
    "(data\n",
    "    .pivot_table(index='floor_category', values='last_price', aggfunc='median')\n",
    "    .plot(title='Зависимость цены от этажа квартиры', grid=True, figsize=(10,5))\n",
    ")\n"
   ]
  },
  {
   "cell_type": "markdown",
   "metadata": {},
   "source": [
    "* Зависимость очевидна, от того на каком этаже находится квартира. Исходя из графика подтверждается,что квартиры - самые дешевые, далее немного дороже(10%) квартиры на последнем этаже. И на всех других этажах - самые дорогие квартиры.*"
   ]
  },
  {
   "cell_type": "code",
   "execution_count": 94,
   "metadata": {
    "scrolled": true
   },
   "outputs": [
    {
     "data": {
      "image/png": "[encoded data removed]",
      "text/plain": [
       "<Figure size 720x360 with 1 Axes>"
      ]
     },
     "metadata": {
      "needs_background": "light"
     },
     "output_type": "display_data"
    }
   ],
   "source": [
    "# Создадим сводную таблицу и построим график\n",
    "(data\n",
    "    \n",
    "     .pivot_table(index='weekday', values=['last_price'])\n",
    "     .plot(grid=True, figsize=(10, 5),linewidth=3,title='Зависимость цены от даты размещения')\n",
    ")\n",
    "plt.xlabel('День размещения')\n",
    "plt.ylabel('Цена')\n",
    "\n",
    "plt.show()"
   ]
  },
  {
   "cell_type": "markdown",
   "metadata": {},
   "source": [
    "По субботам размещают объявления с самыми высокими ценами. В воскресенье и пятницу размещают объявления с самыми низкими ценами. "
   ]
  },
  {
   "cell_type": "code",
   "execution_count": 95,
   "metadata": {},
   "outputs": [
    {
     "data": {
      "image/png": "[encoded data removed]",
      "text/plain": [
       "<Figure size 720x360 with 1 Axes>"
      ]
     },
     "metadata": {
      "needs_background": "light"
     },
     "output_type": "display_data"
    }
   ],
   "source": [
    "# Создадим сводную таблицу и построим график\n",
    "(data\n",
    "    \n",
    "     .pivot_table(index='month_exposition', values=['last_price'])\n",
    "     .plot(grid=True, figsize=(10, 5),linewidth=3, title='Зависимость цены от месяца размещения')\n",
    ")\n",
    "plt.xlabel('Месяц размещения')\n",
    "plt.ylabel('Цена')\n",
    "\n",
    "plt.show()"
   ]
  },
  {
   "cell_type": "markdown",
   "metadata": {},
   "source": [
    "В апреле и сентябре цены на недвижимость очень высокие. Низкие цены наблюдаются в в первые два месяца года и затем в октябре. В летние месяцы стабильно цены устанавливают на среднем уровне."
   ]
  },
  {
   "cell_type": "code",
   "execution_count": 96,
   "metadata": {
    "scrolled": true
   },
   "outputs": [
    {
     "data": {
      "image/png": "[encoded data removed]",
      "text/plain": [
       "<Figure size 720x360 with 1 Axes>"
      ]
     },
     "metadata": {
      "needs_background": "light"
     },
     "output_type": "display_data"
    }
   ],
   "source": [
    "# построим график зависимости цены от года размещения при помощи сводной таблицы\n",
    "(data\n",
    "    \n",
    "     .pivot_table(index='years_exposition', values=['last_price'])\n",
    "     .plot(grid=True, figsize=(10, 5),linewidth=3,title='зависимость цены от года размещения')\n",
    "     \n",
    ")\n",
    "plt.xlabel('Год размещения')\n",
    "plt.ylabel('Цена')\n",
    "\n",
    "plt.show()"
   ]
  },
  {
   "cell_type": "code",
   "execution_count": 97,
   "metadata": {},
   "outputs": [
    {
     "data": {
      "image/png": "[encoded data removed]",
      "text/plain": [
       "<Figure size 720x360 with 1 Axes>"
      ]
     },
     "metadata": {
      "needs_background": "light"
     },
     "output_type": "display_data"
    }
   ],
   "source": [
    "# построим график зависимости цены за 1м2 от года размещения при помощи сводной таблицы\n",
    "(data\n",
    "    \n",
    "     .pivot_table(index='years_exposition', values=['price_one_square_meter'])\n",
    "     .plot(grid=True, figsize=(10, 5),linewidth=3,title='зависимость цены 1м2 от года размещения')\n",
    "     \n",
    ")\n",
    "plt.xlabel('Год размещения')\n",
    "plt.ylabel('Цена за 1 м2')\n",
    "\n",
    "plt.show()"
   ]
  },
  {
   "cell_type": "markdown",
   "metadata": {},
   "source": [
    "Графики цены квартиры и цены за 1м2 анм показывают что,  с 2014 года цены на недвижимость стремительное падение вплоть до 2015 года, это связано с кризисом 2014года (резкое падением цены на нефть и укрепление доллара относительно рубля) и постепенным восстановлением экономики от кризиса. 2015 год наблюдается умеренное снижение цен. С 2016 по 2018 год наблюдаем минимальное колебание цен надвижимость, цена за 1м2 находится в одном коридоре 50-70 тыс.рублей, цены на квартиры продолжают умеренно снижаться. Это связано с уменьшением площади продаваемых квартир, с целью снижения суммы общего чека для покупателя.Начиная с 2018 года наблюдается рост, возможные причины: отностительная стабильность в экномике, инфляция,изменения в закондательной базе и др."
   ]
  },
  {
   "cell_type": "markdown",
   "metadata": {},
   "source": [
    "      \tПосчитаем среднюю цену одного квадратного метра в 10 населённых пунктах с наибольшим числом объявлений"
   ]
  },
  {
   "cell_type": "code",
   "execution_count": 98,
   "metadata": {},
   "outputs": [
    {
     "data": {
      "text/html": [
       "<div>\n",
       "<style scoped>\n",
       "    .dataframe tbody tr th:only-of-type {\n",
       "        vertical-align: middle;\n",
       "    }\n",
       "\n",
       "    .dataframe tbody tr th {\n",
       "        vertical-align: top;\n",
       "    }\n",
       "\n",
       "    .dataframe thead th {\n",
       "        text-align: right;\n",
       "    }\n",
       "</style>\n",
       "<table border=\"1\" class=\"dataframe\">\n",
       "  <thead>\n",
       "    <tr style=\"text-align: right;\">\n",
       "      <th></th>\n",
       "      <th>count_adv</th>\n",
       "      <th>mean_price_meter</th>\n",
       "    </tr>\n",
       "    <tr>\n",
       "      <th>locality_name</th>\n",
       "      <th></th>\n",
       "      <th></th>\n",
       "    </tr>\n",
       "  </thead>\n",
       "  <tbody>\n",
       "    <tr>\n",
       "      <th>Санкт-Петербург</th>\n",
       "      <td>15651</td>\n",
       "      <td>114868</td>\n",
       "    </tr>\n",
       "    <tr>\n",
       "      <th>Мурино</th>\n",
       "      <td>586</td>\n",
       "      <td>86040</td>\n",
       "    </tr>\n",
       "    <tr>\n",
       "      <th>Кудрово</th>\n",
       "      <td>470</td>\n",
       "      <td>95260</td>\n",
       "    </tr>\n",
       "    <tr>\n",
       "      <th>Шушары</th>\n",
       "      <td>439</td>\n",
       "      <td>78550</td>\n",
       "    </tr>\n",
       "    <tr>\n",
       "      <th>Всеволожск</th>\n",
       "      <td>398</td>\n",
       "      <td>68654</td>\n",
       "    </tr>\n",
       "    <tr>\n",
       "      <th>Пушкин</th>\n",
       "      <td>369</td>\n",
       "      <td>103125</td>\n",
       "    </tr>\n",
       "    <tr>\n",
       "      <th>Колпино</th>\n",
       "      <td>338</td>\n",
       "      <td>75424</td>\n",
       "    </tr>\n",
       "    <tr>\n",
       "      <th>Парголово</th>\n",
       "      <td>327</td>\n",
       "      <td>90175</td>\n",
       "    </tr>\n",
       "    <tr>\n",
       "      <th>Гатчина</th>\n",
       "      <td>307</td>\n",
       "      <td>68745</td>\n",
       "    </tr>\n",
       "    <tr>\n",
       "      <th>Выборг</th>\n",
       "      <td>237</td>\n",
       "      <td>58141</td>\n",
       "    </tr>\n",
       "  </tbody>\n",
       "</table>\n",
       "</div>"
      ],
      "text/plain": [
       "                 count_adv  mean_price_meter\n",
       "locality_name                               \n",
       "Санкт-Петербург      15651            114868\n",
       "Мурино                 586             86040\n",
       "Кудрово                470             95260\n",
       "Шушары                 439             78550\n",
       "Всеволожск             398             68654\n",
       "Пушкин                 369            103125\n",
       "Колпино                338             75424\n",
       "Парголово              327             90175\n",
       "Гатчина                307             68745\n",
       "Выборг                 237             58141"
      ]
     },
     "execution_count": 98,
     "metadata": {},
     "output_type": "execute_result"
    }
   ],
   "source": [
    "top_10=data.pivot_table(index='locality_name',values='price_one_square_meter',aggfunc=('count','mean')) # создадим сводную таблицу\n",
    "top_10.columns = ['count_adv','mean_price_meter'] # переименуем столбцы\n",
    "(top_10.sort_values(by='count_adv',ascending=False)).astype('int').head(10) #  округлим до целого числа и выведем 10 строк"
   ]
  },
  {
   "cell_type": "markdown",
   "metadata": {},
   "source": [
    "Культурная столица России в большом отрыве от своих окрестностей. И это естественно и закономерно.\n",
    "Самая высокая цена за 1м2- 111тыс.руб в г.Санкт- Петербург . Самая низкая цена за 1м2 - 57тыс.руб в г.Выборг"
   ]
  },
  {
   "cell_type": "markdown",
   "metadata": {},
   "source": [
    "                          Опишите, как стоимость объектов зависит от расстояния до центра города."
   ]
  },
  {
   "cell_type": "code",
   "execution_count": 99,
   "metadata": {},
   "outputs": [
    {
     "data": {
      "text/plain": [
       "<AxesSubplot:xlabel='city_centers_nearest_km', ylabel='mean_price_for_km'>"
      ]
     },
     "execution_count": 99,
     "metadata": {},
     "output_type": "execute_result"
    },
    {
     "data": {
      "image/png": "[encoded data removed]",
      "text/plain": [
       "<Figure size 720x360 with 1 Axes>"
      ]
     },
     "metadata": {
      "needs_background": "light"
     },
     "output_type": "display_data"
    }
   ],
   "source": [
    "spb_city = data.query('locality_name == \"Санкт-Петербург\"') # сделаем срез квартир по г.Санкт -Петербург\n",
    "spb_city = spb_city.dropna(subset = ['city_centers_nearest'], inplace = False) #убираем  пропуски для дальнейшей работы \n",
    "spb_city['city_centers_nearest_km'] = spb_city['city_centers_nearest_km'].round() #окгруляем до целых чисел\n",
    "spb_city_mean_price_one_m = spb_city['price_one_square_meter'].mean() #средняя цена кв.м\n",
    "spb_city['mean_price_for_km'] = spb_city_mean_price_one_m / spb_city['city_centers_nearest_km'] #средняя цена для каждого км\n",
    "spb_city.plot(x='city_centers_nearest_km', y='mean_price_for_km', kind='scatter', figsize=(10, 5), grid=True)"
   ]
  },
  {
   "cell_type": "markdown",
   "metadata": {},
   "source": []
  },
  {
   "cell_type": "markdown",
   "metadata": {},
   "source": [
    "Подведем итоги:  Исходя из данного графика делаем вывод что, сильно заметна  зависимость в пределах 10км от центра, цена км снижается с 60 тысяч до 17тысяч. Далее при удалении от 10 км до 30 км , цена снижается всего с 17 тысяч до 3 тысяч, завимсимость в этой части графика незначительна."
   ]
  },
  {
   "cell_type": "markdown",
   "metadata": {},
   "source": [
    "### Общий вывод"
   ]
  },
  {
   "cell_type": "markdown",
   "metadata": {},
   "source": [
    "   Мы с вами завершили исследование объявлений о продаже квартир в г. Санкт- Петербурге и его окрестностях. В процессе работы \n",
    "познакомились с данными, изменили названия столбцов, удалили пропуски,заменили пропуски средним значением, добавили \n",
    "другие столбцы для работы над проектом. Также построили графики, гистограммы для наглядности исследования.\n",
    "  В результате исследования мы выяснили какие факторы больше всего влияют на стоимость квартиры. Изучив предоставленные данные можно сделать несколько выводов: самые дорогие квартиры находятся в Санкт-Петербурге, средняя цена квадратного метра равна 114848 руб, самыедешевые - в Выборге: 58141 за квадратный метр. Наибольшее влияние на цену оказывает общая площадь квартиры и ее приближенность к центру. Выяснили что на рынке недвижимости преобладают объявления по продаже 1,2 х комнатных квартир, что подтверждает общий тренд по стране в целом. Также узнали что среднестатистическая квартира продается в интервале 2-3 месяца."
   ]
  },
  {
   "cell_type": "markdown",
   "metadata": {},
   "source": []
  },
  {
   "cell_type": "markdown",
   "metadata": {},
   "source": [
    "**Чек-лист готовности проекта**\n",
    "\n",
    "Поставьте 'x' в выполненных пунктах. Далее нажмите Shift+Enter."
   ]
  },
  {
   "cell_type": "markdown",
   "metadata": {},
   "source": [
    "- [x]  открыт файл\n",
    "- [х]  файлы изучены (выведены первые строки, метод `info()`, гистограммы и т.д.)\n",
    "- [х]  определены пропущенные значения\n",
    "- [х]  заполнены пропущенные значения там, где это возможно\n",
    "- [x]  есть пояснение, какие пропущенные значения обнаружены\n",
    "- [x]  изменены типы данных\n",
    "- [x]  есть пояснение, в каких столбцах изменены типы и почему\n",
    "- [x]  устранены неявные дубликаты в названиях населённых пунктов\n",
    "- [x]  устранены редкие и выбивающиеся значения (аномалии) во всех столбцах\n",
    "- [x]  посчитано и добавлено в таблицу: цена одного квадратного метра\n",
    "- [x]  посчитано и добавлено в таблицу: день публикации объявления (0 - понедельник, 1 - вторник и т.д.)\n",
    "- [x]  посчитано и добавлено в таблицу: месяц публикации объявления\n",
    "- [x]  посчитано и добавлено в таблицу: год публикации объявления\n",
    "- [x]  посчитано и добавлено в таблицу: тип этажа квартиры (значения — «первый», «последний», «другой»)\n",
    "- [x]  посчитано и добавлено в таблицу: расстояние в км до центра города\n",
    "- [x]  изучены и описаны следующие параметры:\n",
    "        - общая площадь;\n",
    "        - жилая площадь;\n",
    "        - площадь кухни;\n",
    "        - цена объекта;\n",
    "        - количество комнат;\n",
    "        - высота потолков;\n",
    "        - этаж квартиры;\n",
    "        - тип этажа квартиры («первый», «последний», «другой»);\n",
    "        - общее количество этажей в доме;\n",
    "        - расстояние до центра города в метрах;\n",
    "        - расстояние до ближайшего аэропорта;\n",
    "        - расстояние до ближайшего парка;\n",
    "        - день и месяц публикации объявления\n",
    "- [x]  построены гистограммы для каждого параметра\n",
    "- [x]  выполнено задание: \"Изучите, как быстро продавались квартиры (столбец days_exposition). Этот параметр показывает, сколько дней «висело» каждое объявление.\n",
    "    - Постройте гистограмму.\n",
    "    - Посчитайте среднее и медиану.\n",
    "    - В ячейке типа markdown опишите, сколько обычно занимает продажа. Какие продажи можно считать быстрыми, а какие — необычно долгими?\"\n",
    "- [x]  выполнено задание: \"Какие факторы больше всего влияют на общую (полную) стоимость объекта? Постройте графики, которые покажут зависимость цены от указанных ниже параметров. Для подготовки данных перед визуализацией вы можете использовать сводные таблицы.\"\n",
    "        - общей площади;\n",
    "        - жилой площади;\n",
    "        - площади кухни;\n",
    "        - количество комнат;\n",
    "        - типа этажа, на котором расположена квартира (первый, последний, другой);\n",
    "        - даты размещения (день недели, месяц, год);\n",
    "- [x]  выполнено задание: \"Посчитайте среднюю цену одного квадратного метра в 10 населённых пунктах с наибольшим числом объявлений. Выделите населённые пункты с самой высокой и низкой стоимостью квадратного метра. Эти данные можно найти по имени в столбце `locality_name`.\"\n",
    "- [x]  выполнено задание: \"Ранее вы посчитали расстояние до центра в километрах. Теперь выделите квартиры в Санкт-Петербурге с помощью столбца `locality_name` и вычислите среднюю цену каждого километра. Опишите, как стоимость объектов зависит от расстояния до центра города.\"\n",
    "- [x]  в каждом этапе есть промежуточные выводы\n",
    "- [x]  есть общий вывод"
   ]
  },
  {
   "cell_type": "code",
   "execution_count": null,
   "metadata": {},
   "outputs": [],
   "source": []
  }
 ],
 "metadata": {
  "ExecuteTimeLog": [
   {
    "duration": 1006,
    "start_time": "2022-10-07T14:24:46.704Z"
   },
   {
    "duration": 653,
    "start_time": "2022-10-07T14:26:50.620Z"
   },
   {
    "duration": 109,
    "start_time": "2022-10-07T14:27:18.070Z"
   },
   {
    "duration": 93,
    "start_time": "2022-10-07T14:27:45.625Z"
   },
   {
    "duration": 106,
    "start_time": "2022-10-07T14:27:58.181Z"
   },
   {
    "duration": 183,
    "start_time": "2022-10-07T14:28:06.271Z"
   },
   {
    "duration": 135,
    "start_time": "2022-10-07T14:29:12.458Z"
   },
   {
    "duration": 132,
    "start_time": "2022-10-07T14:29:21.387Z"
   },
   {
    "duration": 92,
    "start_time": "2022-10-07T14:30:19.172Z"
   },
   {
    "duration": 104,
    "start_time": "2022-10-07T14:31:12.662Z"
   },
   {
    "duration": 101,
    "start_time": "2022-10-07T14:31:15.833Z"
   },
   {
    "duration": 41,
    "start_time": "2022-10-07T14:31:18.489Z"
   },
   {
    "duration": 117,
    "start_time": "2022-10-07T14:31:34.112Z"
   },
   {
    "duration": 95,
    "start_time": "2022-10-07T14:31:35.424Z"
   },
   {
    "duration": 38,
    "start_time": "2022-10-07T14:38:01.220Z"
   },
   {
    "duration": 25,
    "start_time": "2022-10-07T14:43:21.289Z"
   },
   {
    "duration": 2909,
    "start_time": "2022-10-07T15:03:59.617Z"
   },
   {
    "duration": 20,
    "start_time": "2022-10-07T15:49:33.723Z"
   },
   {
    "duration": 5,
    "start_time": "2022-10-07T15:53:15.621Z"
   },
   {
    "duration": 16,
    "start_time": "2022-10-07T16:23:00.987Z"
   },
   {
    "duration": 75,
    "start_time": "2022-10-07T16:25:38.541Z"
   },
   {
    "duration": 14,
    "start_time": "2022-10-07T16:28:11.721Z"
   },
   {
    "duration": 63,
    "start_time": "2022-10-10T07:20:54.996Z"
   },
   {
    "duration": 1284,
    "start_time": "2022-10-10T07:22:26.639Z"
   },
   {
    "duration": 220,
    "start_time": "2022-10-10T07:22:27.926Z"
   },
   {
    "duration": 83,
    "start_time": "2022-10-10T07:22:28.147Z"
   },
   {
    "duration": 22,
    "start_time": "2022-10-10T07:22:28.232Z"
   },
   {
    "duration": 63,
    "start_time": "2022-10-10T07:22:28.256Z"
   },
   {
    "duration": 1901,
    "start_time": "2022-10-10T07:22:28.320Z"
   },
   {
    "duration": 7,
    "start_time": "2022-10-10T07:22:30.224Z"
   },
   {
    "duration": 38,
    "start_time": "2022-10-10T07:22:30.233Z"
   },
   {
    "duration": 4,
    "start_time": "2022-10-10T07:22:30.273Z"
   },
   {
    "duration": 9,
    "start_time": "2022-10-10T07:22:51.964Z"
   },
   {
    "duration": 7,
    "start_time": "2022-10-10T08:01:32.860Z"
   },
   {
    "duration": 141,
    "start_time": "2022-10-10T08:07:19.386Z"
   },
   {
    "duration": 140,
    "start_time": "2022-10-10T08:08:07.828Z"
   },
   {
    "duration": 168,
    "start_time": "2022-10-10T08:08:34.784Z"
   },
   {
    "duration": 140,
    "start_time": "2022-10-10T08:23:11.917Z"
   },
   {
    "duration": 40,
    "start_time": "2022-10-10T08:25:52.432Z"
   },
   {
    "duration": 14,
    "start_time": "2022-10-10T08:26:45.542Z"
   },
   {
    "duration": 37,
    "start_time": "2022-10-10T08:26:54.444Z"
   },
   {
    "duration": 16,
    "start_time": "2022-10-10T09:49:12.604Z"
   },
   {
    "duration": 6,
    "start_time": "2022-10-10T09:49:15.402Z"
   },
   {
    "duration": 8,
    "start_time": "2022-10-10T09:59:59.152Z"
   },
   {
    "duration": 14,
    "start_time": "2022-10-10T10:10:49.792Z"
   },
   {
    "duration": 13,
    "start_time": "2022-10-10T10:11:02.035Z"
   },
   {
    "duration": 8,
    "start_time": "2022-10-10T10:11:49.128Z"
   },
   {
    "duration": 12,
    "start_time": "2022-10-10T10:11:55.332Z"
   },
   {
    "duration": 14,
    "start_time": "2022-10-10T10:12:50.593Z"
   },
   {
    "duration": 23,
    "start_time": "2022-10-10T10:14:36.331Z"
   },
   {
    "duration": 3,
    "start_time": "2022-10-10T10:19:16.062Z"
   },
   {
    "duration": 3,
    "start_time": "2022-10-10T10:22:26.422Z"
   },
   {
    "duration": 20,
    "start_time": "2022-10-10T10:22:45.432Z"
   },
   {
    "duration": 8,
    "start_time": "2022-10-10T10:26:30.679Z"
   },
   {
    "duration": 9,
    "start_time": "2022-10-10T10:27:41.610Z"
   },
   {
    "duration": 1062,
    "start_time": "2022-10-10T10:28:00.159Z"
   },
   {
    "duration": 103,
    "start_time": "2022-10-10T10:28:01.223Z"
   },
   {
    "duration": 72,
    "start_time": "2022-10-10T10:28:01.327Z"
   },
   {
    "duration": 34,
    "start_time": "2022-10-10T10:28:01.401Z"
   },
   {
    "duration": 68,
    "start_time": "2022-10-10T10:28:01.437Z"
   },
   {
    "duration": 1946,
    "start_time": "2022-10-10T10:28:01.507Z"
   },
   {
    "duration": 8,
    "start_time": "2022-10-10T10:28:03.455Z"
   },
   {
    "duration": 10,
    "start_time": "2022-10-10T10:28:03.465Z"
   },
   {
    "duration": 4,
    "start_time": "2022-10-10T10:28:03.476Z"
   },
   {
    "duration": 7,
    "start_time": "2022-10-10T10:28:03.482Z"
   },
   {
    "duration": 147,
    "start_time": "2022-10-10T10:28:03.490Z"
   },
   {
    "duration": 10,
    "start_time": "2022-10-10T10:28:03.639Z"
   },
   {
    "duration": 19,
    "start_time": "2022-10-10T10:28:03.650Z"
   },
   {
    "duration": 3,
    "start_time": "2022-10-10T10:28:03.672Z"
   },
   {
    "duration": 137,
    "start_time": "2022-10-10T10:28:03.676Z"
   },
   {
    "duration": 4,
    "start_time": "2022-10-10T10:28:20.173Z"
   },
   {
    "duration": 13,
    "start_time": "2022-10-10T10:28:35.322Z"
   },
   {
    "duration": 6,
    "start_time": "2022-10-10T10:29:47.895Z"
   },
   {
    "duration": 9,
    "start_time": "2022-10-10T10:32:08.880Z"
   },
   {
    "duration": 28,
    "start_time": "2022-10-10T10:58:58.917Z"
   },
   {
    "duration": 9,
    "start_time": "2022-10-10T11:02:38.649Z"
   },
   {
    "duration": 8,
    "start_time": "2022-10-10T11:09:47.337Z"
   },
   {
    "duration": 9,
    "start_time": "2022-10-10T11:10:03.042Z"
   },
   {
    "duration": 36,
    "start_time": "2022-10-10T11:13:50.097Z"
   },
   {
    "duration": 5,
    "start_time": "2022-10-10T11:16:52.248Z"
   },
   {
    "duration": 53,
    "start_time": "2022-10-10T11:17:11.663Z"
   },
   {
    "duration": 1211,
    "start_time": "2022-10-10T11:18:09.996Z"
   },
   {
    "duration": 107,
    "start_time": "2022-10-10T11:18:11.209Z"
   },
   {
    "duration": 70,
    "start_time": "2022-10-10T11:18:11.317Z"
   },
   {
    "duration": 31,
    "start_time": "2022-10-10T11:18:11.389Z"
   },
   {
    "duration": 53,
    "start_time": "2022-10-10T11:18:11.422Z"
   },
   {
    "duration": 1936,
    "start_time": "2022-10-10T11:18:11.477Z"
   },
   {
    "duration": 7,
    "start_time": "2022-10-10T11:18:13.415Z"
   },
   {
    "duration": 8,
    "start_time": "2022-10-10T11:18:13.424Z"
   },
   {
    "duration": 4,
    "start_time": "2022-10-10T11:18:13.433Z"
   },
   {
    "duration": 7,
    "start_time": "2022-10-10T11:18:13.439Z"
   },
   {
    "duration": 157,
    "start_time": "2022-10-10T11:18:13.448Z"
   },
   {
    "duration": 11,
    "start_time": "2022-10-10T11:18:13.609Z"
   },
   {
    "duration": 19,
    "start_time": "2022-10-10T11:18:13.622Z"
   },
   {
    "duration": 4,
    "start_time": "2022-10-10T11:18:13.644Z"
   },
   {
    "duration": 17,
    "start_time": "2022-10-10T11:18:13.649Z"
   },
   {
    "duration": 18,
    "start_time": "2022-10-10T11:18:13.668Z"
   },
   {
    "duration": 6,
    "start_time": "2022-10-10T11:18:13.708Z"
   },
   {
    "duration": 11,
    "start_time": "2022-10-10T11:18:13.715Z"
   },
   {
    "duration": 37,
    "start_time": "2022-10-10T11:18:13.728Z"
   },
   {
    "duration": 9,
    "start_time": "2022-10-10T11:18:13.766Z"
   },
   {
    "duration": 40,
    "start_time": "2022-10-10T11:18:13.777Z"
   },
   {
    "duration": 1122,
    "start_time": "2022-10-10T11:19:07.602Z"
   },
   {
    "duration": 92,
    "start_time": "2022-10-10T11:19:08.726Z"
   },
   {
    "duration": 71,
    "start_time": "2022-10-10T11:19:08.820Z"
   },
   {
    "duration": 31,
    "start_time": "2022-10-10T11:19:08.892Z"
   },
   {
    "duration": 67,
    "start_time": "2022-10-10T11:19:08.925Z"
   },
   {
    "duration": 1835,
    "start_time": "2022-10-10T11:19:08.994Z"
   },
   {
    "duration": 8,
    "start_time": "2022-10-10T11:19:10.831Z"
   },
   {
    "duration": 12,
    "start_time": "2022-10-10T11:19:10.840Z"
   },
   {
    "duration": 4,
    "start_time": "2022-10-10T11:19:10.854Z"
   },
   {
    "duration": 16,
    "start_time": "2022-10-10T11:19:10.859Z"
   },
   {
    "duration": 133,
    "start_time": "2022-10-10T11:19:10.877Z"
   },
   {
    "duration": 11,
    "start_time": "2022-10-10T11:19:11.012Z"
   },
   {
    "duration": 30,
    "start_time": "2022-10-10T11:19:11.024Z"
   },
   {
    "duration": 10,
    "start_time": "2022-10-10T11:19:11.057Z"
   },
   {
    "duration": 17,
    "start_time": "2022-10-10T11:19:11.068Z"
   },
   {
    "duration": 35,
    "start_time": "2022-10-10T11:19:11.087Z"
   },
   {
    "duration": 13,
    "start_time": "2022-10-10T11:19:11.123Z"
   },
   {
    "duration": 22,
    "start_time": "2022-10-10T11:19:11.137Z"
   },
   {
    "duration": 58,
    "start_time": "2022-10-10T11:19:11.160Z"
   },
   {
    "duration": 6,
    "start_time": "2022-10-10T11:19:11.220Z"
   },
   {
    "duration": 29,
    "start_time": "2022-10-10T11:19:11.227Z"
   },
   {
    "duration": 26,
    "start_time": "2022-10-10T11:20:32.077Z"
   },
   {
    "duration": 23,
    "start_time": "2022-10-10T11:30:30.660Z"
   },
   {
    "duration": 14,
    "start_time": "2022-10-10T11:31:51.567Z"
   },
   {
    "duration": 5,
    "start_time": "2022-10-10T11:33:48.897Z"
   },
   {
    "duration": 7,
    "start_time": "2022-10-10T11:35:35.349Z"
   },
   {
    "duration": 5,
    "start_time": "2022-10-10T11:35:58.166Z"
   },
   {
    "duration": 4,
    "start_time": "2022-10-10T11:41:03.895Z"
   },
   {
    "duration": 6,
    "start_time": "2022-10-10T11:41:33.879Z"
   },
   {
    "duration": 6,
    "start_time": "2022-10-10T11:54:24.186Z"
   },
   {
    "duration": 108,
    "start_time": "2022-10-10T11:56:37.768Z"
   },
   {
    "duration": 3,
    "start_time": "2022-10-10T12:16:54.551Z"
   },
   {
    "duration": 4,
    "start_time": "2022-10-10T12:16:59.028Z"
   },
   {
    "duration": 4,
    "start_time": "2022-10-10T12:17:13.171Z"
   },
   {
    "duration": 13,
    "start_time": "2022-10-10T12:27:47.495Z"
   },
   {
    "duration": 4,
    "start_time": "2022-10-10T12:28:45.118Z"
   },
   {
    "duration": 13,
    "start_time": "2022-10-10T12:28:48.054Z"
   },
   {
    "duration": 12,
    "start_time": "2022-10-10T12:29:25.888Z"
   },
   {
    "duration": 16,
    "start_time": "2022-10-10T12:32:10.543Z"
   },
   {
    "duration": 4,
    "start_time": "2022-10-10T12:33:33.264Z"
   },
   {
    "duration": 3,
    "start_time": "2022-10-10T12:34:32.186Z"
   },
   {
    "duration": 3,
    "start_time": "2022-10-10T12:38:31.436Z"
   },
   {
    "duration": 25,
    "start_time": "2022-10-10T12:42:50.345Z"
   },
   {
    "duration": 32,
    "start_time": "2022-10-10T12:43:32.122Z"
   },
   {
    "duration": 40,
    "start_time": "2022-10-10T12:45:52.524Z"
   },
   {
    "duration": 4,
    "start_time": "2022-10-10T13:02:02.250Z"
   },
   {
    "duration": 4,
    "start_time": "2022-10-10T13:12:32.077Z"
   },
   {
    "duration": 6,
    "start_time": "2022-10-10T13:26:05.478Z"
   },
   {
    "duration": 14,
    "start_time": "2022-10-10T13:26:41.625Z"
   },
   {
    "duration": 8,
    "start_time": "2022-10-10T13:27:12.082Z"
   },
   {
    "duration": 5,
    "start_time": "2022-10-10T13:29:30.743Z"
   },
   {
    "duration": 8,
    "start_time": "2022-10-10T13:29:32.233Z"
   },
   {
    "duration": 4,
    "start_time": "2022-10-10T13:29:48.952Z"
   },
   {
    "duration": 5,
    "start_time": "2022-10-10T14:00:40.188Z"
   },
   {
    "duration": 25,
    "start_time": "2022-10-10T14:01:39.461Z"
   },
   {
    "duration": 33,
    "start_time": "2022-10-10T14:03:37.411Z"
   },
   {
    "duration": 3,
    "start_time": "2022-10-10T14:05:26.886Z"
   },
   {
    "duration": 3,
    "start_time": "2022-10-10T14:05:28.312Z"
   },
   {
    "duration": 14,
    "start_time": "2022-10-10T14:05:37.154Z"
   },
   {
    "duration": 13,
    "start_time": "2022-10-10T14:05:46.410Z"
   },
   {
    "duration": 9,
    "start_time": "2022-10-10T14:07:11.147Z"
   },
   {
    "duration": 4,
    "start_time": "2022-10-10T14:07:32.406Z"
   },
   {
    "duration": 10,
    "start_time": "2022-10-10T14:09:05.325Z"
   },
   {
    "duration": 7,
    "start_time": "2022-10-10T14:09:17.536Z"
   },
   {
    "duration": 6,
    "start_time": "2022-10-10T14:15:23.892Z"
   },
   {
    "duration": 7,
    "start_time": "2022-10-10T14:28:32.959Z"
   },
   {
    "duration": 146,
    "start_time": "2022-10-10T14:29:28.741Z"
   },
   {
    "duration": 135,
    "start_time": "2022-10-10T14:32:15.701Z"
   },
   {
    "duration": 244,
    "start_time": "2022-10-10T14:44:21.038Z"
   },
   {
    "duration": 346,
    "start_time": "2022-10-10T14:44:43.578Z"
   },
   {
    "duration": 5,
    "start_time": "2022-10-10T14:45:57.705Z"
   },
   {
    "duration": 5,
    "start_time": "2022-10-10T14:46:22.291Z"
   },
   {
    "duration": 129,
    "start_time": "2022-10-10T14:50:52.072Z"
   },
   {
    "duration": 18,
    "start_time": "2022-10-10T15:08:36.568Z"
   },
   {
    "duration": 1135,
    "start_time": "2022-10-10T15:10:27.351Z"
   },
   {
    "duration": 95,
    "start_time": "2022-10-10T15:10:28.489Z"
   },
   {
    "duration": 70,
    "start_time": "2022-10-10T15:10:28.586Z"
   },
   {
    "duration": 23,
    "start_time": "2022-10-10T15:10:28.658Z"
   },
   {
    "duration": 65,
    "start_time": "2022-10-10T15:10:28.684Z"
   },
   {
    "duration": 1795,
    "start_time": "2022-10-10T15:10:28.750Z"
   },
   {
    "duration": 7,
    "start_time": "2022-10-10T15:10:30.546Z"
   },
   {
    "duration": 60,
    "start_time": "2022-10-10T15:10:30.554Z"
   },
   {
    "duration": 36,
    "start_time": "2022-10-10T15:10:30.616Z"
   },
   {
    "duration": 37,
    "start_time": "2022-10-10T15:10:30.653Z"
   },
   {
    "duration": 159,
    "start_time": "2022-10-10T15:10:30.691Z"
   },
   {
    "duration": 10,
    "start_time": "2022-10-10T15:10:30.852Z"
   },
   {
    "duration": 39,
    "start_time": "2022-10-10T15:10:30.864Z"
   },
   {
    "duration": 25,
    "start_time": "2022-10-10T15:10:30.906Z"
   },
   {
    "duration": 18,
    "start_time": "2022-10-10T15:10:30.933Z"
   },
   {
    "duration": 54,
    "start_time": "2022-10-10T15:10:30.953Z"
   },
   {
    "duration": 41,
    "start_time": "2022-10-10T15:10:31.009Z"
   },
   {
    "duration": 27,
    "start_time": "2022-10-10T15:10:31.052Z"
   },
   {
    "duration": 29,
    "start_time": "2022-10-10T15:10:31.081Z"
   },
   {
    "duration": 31,
    "start_time": "2022-10-10T15:10:31.112Z"
   },
   {
    "duration": 52,
    "start_time": "2022-10-10T15:10:31.145Z"
   },
   {
    "duration": 62,
    "start_time": "2022-10-10T15:10:31.198Z"
   },
   {
    "duration": 0,
    "start_time": "2022-10-10T15:10:31.262Z"
   },
   {
    "duration": 0,
    "start_time": "2022-10-10T15:10:31.263Z"
   },
   {
    "duration": 0,
    "start_time": "2022-10-10T15:10:31.263Z"
   },
   {
    "duration": 1,
    "start_time": "2022-10-10T15:10:31.264Z"
   },
   {
    "duration": 0,
    "start_time": "2022-10-10T15:10:31.265Z"
   },
   {
    "duration": 0,
    "start_time": "2022-10-10T15:10:31.266Z"
   },
   {
    "duration": 0,
    "start_time": "2022-10-10T15:10:31.267Z"
   },
   {
    "duration": 0,
    "start_time": "2022-10-10T15:10:31.268Z"
   },
   {
    "duration": 0,
    "start_time": "2022-10-10T15:10:31.269Z"
   },
   {
    "duration": 0,
    "start_time": "2022-10-10T15:10:31.270Z"
   },
   {
    "duration": 0,
    "start_time": "2022-10-10T15:10:31.271Z"
   },
   {
    "duration": 0,
    "start_time": "2022-10-10T15:10:31.272Z"
   },
   {
    "duration": 0,
    "start_time": "2022-10-10T15:10:31.273Z"
   },
   {
    "duration": 13,
    "start_time": "2022-10-10T15:10:32.079Z"
   },
   {
    "duration": 1329,
    "start_time": "2022-10-10T15:11:12.139Z"
   },
   {
    "duration": 9,
    "start_time": "2022-10-10T15:11:32.566Z"
   },
   {
    "duration": 7,
    "start_time": "2022-10-10T15:11:35.502Z"
   },
   {
    "duration": 9,
    "start_time": "2022-10-10T15:12:02.881Z"
   },
   {
    "duration": 5,
    "start_time": "2022-10-10T15:12:55.597Z"
   },
   {
    "duration": 3,
    "start_time": "2022-10-10T15:12:57.655Z"
   },
   {
    "duration": 11,
    "start_time": "2022-10-10T15:13:03.638Z"
   },
   {
    "duration": 1207,
    "start_time": "2022-10-10T15:13:14.891Z"
   },
   {
    "duration": 95,
    "start_time": "2022-10-10T15:13:16.100Z"
   },
   {
    "duration": 71,
    "start_time": "2022-10-10T15:13:16.196Z"
   },
   {
    "duration": 21,
    "start_time": "2022-10-10T15:13:16.270Z"
   },
   {
    "duration": 59,
    "start_time": "2022-10-10T15:13:16.293Z"
   },
   {
    "duration": 1819,
    "start_time": "2022-10-10T15:13:16.354Z"
   },
   {
    "duration": 7,
    "start_time": "2022-10-10T15:13:18.174Z"
   },
   {
    "duration": 14,
    "start_time": "2022-10-10T15:13:18.182Z"
   },
   {
    "duration": 4,
    "start_time": "2022-10-10T15:13:18.197Z"
   },
   {
    "duration": 12,
    "start_time": "2022-10-10T15:13:18.203Z"
   },
   {
    "duration": 148,
    "start_time": "2022-10-10T15:13:18.217Z"
   },
   {
    "duration": 21,
    "start_time": "2022-10-10T15:13:18.366Z"
   },
   {
    "duration": 26,
    "start_time": "2022-10-10T15:13:18.389Z"
   },
   {
    "duration": 10,
    "start_time": "2022-10-10T15:13:18.417Z"
   },
   {
    "duration": 15,
    "start_time": "2022-10-10T15:13:18.428Z"
   },
   {
    "duration": 24,
    "start_time": "2022-10-10T15:13:18.444Z"
   },
   {
    "duration": 27,
    "start_time": "2022-10-10T15:13:18.469Z"
   },
   {
    "duration": 4,
    "start_time": "2022-10-10T15:13:18.497Z"
   },
   {
    "duration": 10,
    "start_time": "2022-10-10T15:13:18.502Z"
   },
   {
    "duration": 8,
    "start_time": "2022-10-10T15:13:18.513Z"
   },
   {
    "duration": 9,
    "start_time": "2022-10-10T15:13:18.522Z"
   },
   {
    "duration": 65,
    "start_time": "2022-10-10T15:13:18.532Z"
   },
   {
    "duration": 0,
    "start_time": "2022-10-10T15:13:18.598Z"
   },
   {
    "duration": 0,
    "start_time": "2022-10-10T15:13:18.599Z"
   },
   {
    "duration": 0,
    "start_time": "2022-10-10T15:13:18.600Z"
   },
   {
    "duration": 0,
    "start_time": "2022-10-10T15:13:18.602Z"
   },
   {
    "duration": 0,
    "start_time": "2022-10-10T15:13:18.603Z"
   },
   {
    "duration": 0,
    "start_time": "2022-10-10T15:13:18.603Z"
   },
   {
    "duration": 0,
    "start_time": "2022-10-10T15:13:18.604Z"
   },
   {
    "duration": 0,
    "start_time": "2022-10-10T15:13:18.605Z"
   },
   {
    "duration": 0,
    "start_time": "2022-10-10T15:13:18.606Z"
   },
   {
    "duration": 0,
    "start_time": "2022-10-10T15:13:18.607Z"
   },
   {
    "duration": 0,
    "start_time": "2022-10-10T15:13:18.607Z"
   },
   {
    "duration": 0,
    "start_time": "2022-10-10T15:13:18.608Z"
   },
   {
    "duration": 0,
    "start_time": "2022-10-10T15:13:18.609Z"
   },
   {
    "duration": 10,
    "start_time": "2022-10-10T15:13:21.058Z"
   },
   {
    "duration": 1114,
    "start_time": "2022-10-10T15:13:43.538Z"
   },
   {
    "duration": 92,
    "start_time": "2022-10-10T15:13:44.654Z"
   },
   {
    "duration": 77,
    "start_time": "2022-10-10T15:13:44.747Z"
   },
   {
    "duration": 29,
    "start_time": "2022-10-10T15:13:44.826Z"
   },
   {
    "duration": 69,
    "start_time": "2022-10-10T15:13:44.857Z"
   },
   {
    "duration": 1786,
    "start_time": "2022-10-10T15:13:44.927Z"
   },
   {
    "duration": 7,
    "start_time": "2022-10-10T15:13:46.714Z"
   },
   {
    "duration": 8,
    "start_time": "2022-10-10T15:13:46.722Z"
   },
   {
    "duration": 2,
    "start_time": "2022-10-10T15:13:46.732Z"
   },
   {
    "duration": 8,
    "start_time": "2022-10-10T15:13:46.737Z"
   },
   {
    "duration": 146,
    "start_time": "2022-10-10T15:13:46.746Z"
   },
   {
    "duration": 18,
    "start_time": "2022-10-10T15:13:46.894Z"
   },
   {
    "duration": 19,
    "start_time": "2022-10-10T15:13:46.914Z"
   },
   {
    "duration": 3,
    "start_time": "2022-10-10T15:13:46.935Z"
   },
   {
    "duration": 9,
    "start_time": "2022-10-10T15:13:46.940Z"
   },
   {
    "duration": 24,
    "start_time": "2022-10-10T15:13:46.950Z"
   },
   {
    "duration": 36,
    "start_time": "2022-10-10T15:13:46.976Z"
   },
   {
    "duration": 3,
    "start_time": "2022-10-10T15:13:47.014Z"
   },
   {
    "duration": 11,
    "start_time": "2022-10-10T15:13:47.019Z"
   },
   {
    "duration": 9,
    "start_time": "2022-10-10T15:13:47.031Z"
   },
   {
    "duration": 9,
    "start_time": "2022-10-10T15:13:47.041Z"
   },
   {
    "duration": 67,
    "start_time": "2022-10-10T15:13:47.052Z"
   },
   {
    "duration": 0,
    "start_time": "2022-10-10T15:13:47.121Z"
   },
   {
    "duration": 0,
    "start_time": "2022-10-10T15:13:47.122Z"
   },
   {
    "duration": 0,
    "start_time": "2022-10-10T15:13:47.123Z"
   },
   {
    "duration": 0,
    "start_time": "2022-10-10T15:13:47.124Z"
   },
   {
    "duration": 0,
    "start_time": "2022-10-10T15:13:47.125Z"
   },
   {
    "duration": 0,
    "start_time": "2022-10-10T15:13:47.126Z"
   },
   {
    "duration": 0,
    "start_time": "2022-10-10T15:13:47.127Z"
   },
   {
    "duration": 0,
    "start_time": "2022-10-10T15:13:47.128Z"
   },
   {
    "duration": 0,
    "start_time": "2022-10-10T15:13:47.129Z"
   },
   {
    "duration": 0,
    "start_time": "2022-10-10T15:13:47.130Z"
   },
   {
    "duration": 0,
    "start_time": "2022-10-10T15:13:47.130Z"
   },
   {
    "duration": 0,
    "start_time": "2022-10-10T15:13:47.131Z"
   },
   {
    "duration": 0,
    "start_time": "2022-10-10T15:13:47.132Z"
   },
   {
    "duration": 5,
    "start_time": "2022-10-10T15:13:59.017Z"
   },
   {
    "duration": 5,
    "start_time": "2022-10-10T15:14:04.739Z"
   },
   {
    "duration": 5,
    "start_time": "2022-10-10T15:14:06.404Z"
   },
   {
    "duration": 4,
    "start_time": "2022-10-10T15:14:09.007Z"
   },
   {
    "duration": 4,
    "start_time": "2022-10-10T15:14:17.146Z"
   },
   {
    "duration": 5,
    "start_time": "2022-10-10T15:14:18.109Z"
   },
   {
    "duration": 5,
    "start_time": "2022-10-10T15:14:25.665Z"
   },
   {
    "duration": 4,
    "start_time": "2022-10-10T15:14:30.244Z"
   },
   {
    "duration": 7,
    "start_time": "2022-10-10T15:14:31.574Z"
   },
   {
    "duration": 12,
    "start_time": "2022-10-10T15:14:52.800Z"
   },
   {
    "duration": 5,
    "start_time": "2022-10-10T15:14:57.418Z"
   },
   {
    "duration": 7,
    "start_time": "2022-10-10T15:14:58.845Z"
   },
   {
    "duration": 1145,
    "start_time": "2022-10-10T15:15:07.596Z"
   },
   {
    "duration": 90,
    "start_time": "2022-10-10T15:15:08.743Z"
   },
   {
    "duration": 74,
    "start_time": "2022-10-10T15:15:08.834Z"
   },
   {
    "duration": 22,
    "start_time": "2022-10-10T15:15:08.910Z"
   },
   {
    "duration": 51,
    "start_time": "2022-10-10T15:15:08.935Z"
   },
   {
    "duration": 1801,
    "start_time": "2022-10-10T15:15:08.988Z"
   },
   {
    "duration": 9,
    "start_time": "2022-10-10T15:15:10.790Z"
   },
   {
    "duration": 9,
    "start_time": "2022-10-10T15:15:10.801Z"
   },
   {
    "duration": 4,
    "start_time": "2022-10-10T15:15:10.812Z"
   },
   {
    "duration": 8,
    "start_time": "2022-10-10T15:15:10.817Z"
   },
   {
    "duration": 155,
    "start_time": "2022-10-10T15:15:10.827Z"
   },
   {
    "duration": 10,
    "start_time": "2022-10-10T15:15:10.984Z"
   },
   {
    "duration": 31,
    "start_time": "2022-10-10T15:15:10.995Z"
   },
   {
    "duration": 3,
    "start_time": "2022-10-10T15:15:11.028Z"
   },
   {
    "duration": 5,
    "start_time": "2022-10-10T15:15:11.033Z"
   },
   {
    "duration": 14,
    "start_time": "2022-10-10T15:15:11.039Z"
   },
   {
    "duration": 23,
    "start_time": "2022-10-10T15:15:11.054Z"
   },
   {
    "duration": 3,
    "start_time": "2022-10-10T15:15:11.079Z"
   },
   {
    "duration": 27,
    "start_time": "2022-10-10T15:15:11.084Z"
   },
   {
    "duration": 9,
    "start_time": "2022-10-10T15:15:11.113Z"
   },
   {
    "duration": 9,
    "start_time": "2022-10-10T15:15:11.123Z"
   },
   {
    "duration": 91,
    "start_time": "2022-10-10T15:15:11.133Z"
   },
   {
    "duration": 0,
    "start_time": "2022-10-10T15:15:11.226Z"
   },
   {
    "duration": 0,
    "start_time": "2022-10-10T15:15:11.226Z"
   },
   {
    "duration": 0,
    "start_time": "2022-10-10T15:15:11.227Z"
   },
   {
    "duration": 0,
    "start_time": "2022-10-10T15:15:11.228Z"
   },
   {
    "duration": 0,
    "start_time": "2022-10-10T15:15:11.229Z"
   },
   {
    "duration": 0,
    "start_time": "2022-10-10T15:15:11.230Z"
   },
   {
    "duration": 0,
    "start_time": "2022-10-10T15:15:11.231Z"
   },
   {
    "duration": 0,
    "start_time": "2022-10-10T15:15:11.232Z"
   },
   {
    "duration": 0,
    "start_time": "2022-10-10T15:15:11.233Z"
   },
   {
    "duration": 0,
    "start_time": "2022-10-10T15:15:11.234Z"
   },
   {
    "duration": 0,
    "start_time": "2022-10-10T15:15:11.235Z"
   },
   {
    "duration": 0,
    "start_time": "2022-10-10T15:15:11.236Z"
   },
   {
    "duration": 0,
    "start_time": "2022-10-10T15:15:11.237Z"
   },
   {
    "duration": 1120,
    "start_time": "2022-10-10T15:17:38.877Z"
   },
   {
    "duration": 92,
    "start_time": "2022-10-10T15:17:39.999Z"
   },
   {
    "duration": 69,
    "start_time": "2022-10-10T15:17:40.093Z"
   },
   {
    "duration": 23,
    "start_time": "2022-10-10T15:17:40.164Z"
   },
   {
    "duration": 64,
    "start_time": "2022-10-10T15:17:40.189Z"
   },
   {
    "duration": 1842,
    "start_time": "2022-10-10T15:17:40.255Z"
   },
   {
    "duration": 6,
    "start_time": "2022-10-10T15:17:42.099Z"
   },
   {
    "duration": 9,
    "start_time": "2022-10-10T15:17:42.107Z"
   },
   {
    "duration": 3,
    "start_time": "2022-10-10T15:17:42.117Z"
   },
   {
    "duration": 8,
    "start_time": "2022-10-10T15:17:42.122Z"
   },
   {
    "duration": 148,
    "start_time": "2022-10-10T15:17:42.131Z"
   },
   {
    "duration": 10,
    "start_time": "2022-10-10T15:17:42.281Z"
   },
   {
    "duration": 31,
    "start_time": "2022-10-10T15:17:42.292Z"
   },
   {
    "duration": 3,
    "start_time": "2022-10-10T15:17:42.326Z"
   },
   {
    "duration": 8,
    "start_time": "2022-10-10T15:17:42.331Z"
   },
   {
    "duration": 14,
    "start_time": "2022-10-10T15:17:42.341Z"
   },
   {
    "duration": 22,
    "start_time": "2022-10-10T15:17:42.357Z"
   },
   {
    "duration": 4,
    "start_time": "2022-10-10T15:17:42.381Z"
   },
   {
    "duration": 6,
    "start_time": "2022-10-10T15:17:42.408Z"
   },
   {
    "duration": 8,
    "start_time": "2022-10-10T15:17:42.416Z"
   },
   {
    "duration": 8,
    "start_time": "2022-10-10T15:17:42.426Z"
   },
   {
    "duration": 5,
    "start_time": "2022-10-10T15:17:42.435Z"
   },
   {
    "duration": 11,
    "start_time": "2022-10-10T15:17:42.442Z"
   },
   {
    "duration": 8,
    "start_time": "2022-10-10T15:17:42.454Z"
   },
   {
    "duration": 223,
    "start_time": "2022-10-10T15:17:42.464Z"
   },
   {
    "duration": 19,
    "start_time": "2022-10-10T15:17:42.690Z"
   },
   {
    "duration": 21,
    "start_time": "2022-10-10T15:17:42.711Z"
   },
   {
    "duration": 27,
    "start_time": "2022-10-10T15:17:42.734Z"
   },
   {
    "duration": 45,
    "start_time": "2022-10-10T15:17:42.763Z"
   },
   {
    "duration": 0,
    "start_time": "2022-10-10T15:17:42.810Z"
   },
   {
    "duration": 0,
    "start_time": "2022-10-10T15:17:42.811Z"
   },
   {
    "duration": 0,
    "start_time": "2022-10-10T15:17:42.812Z"
   },
   {
    "duration": 1107,
    "start_time": "2022-10-10T15:18:05.086Z"
   },
   {
    "duration": 91,
    "start_time": "2022-10-10T15:18:06.195Z"
   },
   {
    "duration": 71,
    "start_time": "2022-10-10T15:18:06.289Z"
   },
   {
    "duration": 22,
    "start_time": "2022-10-10T15:18:06.362Z"
   },
   {
    "duration": 62,
    "start_time": "2022-10-10T15:18:06.386Z"
   },
   {
    "duration": 1795,
    "start_time": "2022-10-10T15:18:06.450Z"
   },
   {
    "duration": 7,
    "start_time": "2022-10-10T15:18:08.246Z"
   },
   {
    "duration": 15,
    "start_time": "2022-10-10T15:18:08.254Z"
   },
   {
    "duration": 4,
    "start_time": "2022-10-10T15:18:08.270Z"
   },
   {
    "duration": 8,
    "start_time": "2022-10-10T15:18:08.275Z"
   },
   {
    "duration": 138,
    "start_time": "2022-10-10T15:18:08.284Z"
   },
   {
    "duration": 10,
    "start_time": "2022-10-10T15:18:08.424Z"
   },
   {
    "duration": 19,
    "start_time": "2022-10-10T15:18:08.437Z"
   },
   {
    "duration": 3,
    "start_time": "2022-10-10T15:18:08.458Z"
   },
   {
    "duration": 6,
    "start_time": "2022-10-10T15:18:08.462Z"
   },
   {
    "duration": 44,
    "start_time": "2022-10-10T15:18:08.470Z"
   },
   {
    "duration": 22,
    "start_time": "2022-10-10T15:18:08.516Z"
   },
   {
    "duration": 9,
    "start_time": "2022-10-10T15:18:08.539Z"
   },
   {
    "duration": 8,
    "start_time": "2022-10-10T15:18:08.550Z"
   },
   {
    "duration": 13,
    "start_time": "2022-10-10T15:18:08.559Z"
   },
   {
    "duration": 18,
    "start_time": "2022-10-10T15:18:08.573Z"
   },
   {
    "duration": 5,
    "start_time": "2022-10-10T15:18:08.593Z"
   },
   {
    "duration": 11,
    "start_time": "2022-10-10T15:18:08.608Z"
   },
   {
    "duration": 8,
    "start_time": "2022-10-10T15:18:08.620Z"
   },
   {
    "duration": 147,
    "start_time": "2022-10-10T15:18:08.629Z"
   },
   {
    "duration": 5,
    "start_time": "2022-10-10T15:18:08.778Z"
   },
   {
    "duration": 30,
    "start_time": "2022-10-10T15:18:08.784Z"
   },
   {
    "duration": 8,
    "start_time": "2022-10-10T15:18:08.815Z"
   },
   {
    "duration": 11,
    "start_time": "2022-10-10T15:18:08.825Z"
   },
   {
    "duration": 28,
    "start_time": "2022-10-10T15:18:08.838Z"
   },
   {
    "duration": 15,
    "start_time": "2022-10-10T15:18:08.868Z"
   },
   {
    "duration": 12,
    "start_time": "2022-10-10T15:18:40.968Z"
   },
   {
    "duration": 12,
    "start_time": "2022-10-10T15:19:37.266Z"
   },
   {
    "duration": 43,
    "start_time": "2022-10-11T08:29:16.347Z"
   },
   {
    "duration": 42,
    "start_time": "2022-10-11T08:31:31.926Z"
   },
   {
    "duration": 8,
    "start_time": "2022-10-11T08:31:37.161Z"
   },
   {
    "duration": 113,
    "start_time": "2022-10-11T08:31:37.171Z"
   },
   {
    "duration": 74,
    "start_time": "2022-10-11T08:31:37.286Z"
   },
   {
    "duration": 26,
    "start_time": "2022-10-11T08:31:37.362Z"
   },
   {
    "duration": 52,
    "start_time": "2022-10-11T08:31:37.401Z"
   },
   {
    "duration": 1749,
    "start_time": "2022-10-11T08:31:37.455Z"
   },
   {
    "duration": 5,
    "start_time": "2022-10-11T08:31:39.206Z"
   },
   {
    "duration": 12,
    "start_time": "2022-10-11T08:31:39.213Z"
   },
   {
    "duration": 5,
    "start_time": "2022-10-11T08:31:39.226Z"
   },
   {
    "duration": 12,
    "start_time": "2022-10-11T08:31:39.232Z"
   },
   {
    "duration": 157,
    "start_time": "2022-10-11T08:31:39.246Z"
   },
   {
    "duration": 8,
    "start_time": "2022-10-11T08:31:39.404Z"
   },
   {
    "duration": 19,
    "start_time": "2022-10-11T08:31:39.413Z"
   },
   {
    "duration": 3,
    "start_time": "2022-10-11T08:31:39.434Z"
   },
   {
    "duration": 9,
    "start_time": "2022-10-11T08:31:39.439Z"
   },
   {
    "duration": 16,
    "start_time": "2022-10-11T08:31:39.450Z"
   },
   {
    "duration": 49,
    "start_time": "2022-10-11T08:31:39.468Z"
   },
   {
    "duration": 3,
    "start_time": "2022-10-11T08:31:39.519Z"
   },
   {
    "duration": 28,
    "start_time": "2022-10-11T08:31:39.523Z"
   },
   {
    "duration": 19,
    "start_time": "2022-10-11T08:31:39.553Z"
   },
   {
    "duration": 14,
    "start_time": "2022-10-11T08:31:39.574Z"
   },
   {
    "duration": 6,
    "start_time": "2022-10-11T08:31:39.590Z"
   },
   {
    "duration": 13,
    "start_time": "2022-10-11T08:31:39.598Z"
   },
   {
    "duration": 9,
    "start_time": "2022-10-11T08:31:39.613Z"
   },
   {
    "duration": 128,
    "start_time": "2022-10-11T08:31:39.623Z"
   },
   {
    "duration": 6,
    "start_time": "2022-10-11T08:31:39.752Z"
   },
   {
    "duration": 11,
    "start_time": "2022-10-11T08:31:39.759Z"
   },
   {
    "duration": 9,
    "start_time": "2022-10-11T08:31:39.772Z"
   },
   {
    "duration": 20,
    "start_time": "2022-10-11T08:31:39.782Z"
   },
   {
    "duration": 3,
    "start_time": "2022-10-11T08:31:39.804Z"
   },
   {
    "duration": 14,
    "start_time": "2022-10-11T08:31:39.808Z"
   },
   {
    "duration": 4,
    "start_time": "2022-10-11T09:07:24.300Z"
   },
   {
    "duration": 29,
    "start_time": "2022-10-11T09:07:34.396Z"
   },
   {
    "duration": 6,
    "start_time": "2022-10-11T09:07:58.225Z"
   },
   {
    "duration": 11,
    "start_time": "2022-10-11T09:08:26.239Z"
   },
   {
    "duration": 21,
    "start_time": "2022-10-11T09:09:16.325Z"
   },
   {
    "duration": 241,
    "start_time": "2022-10-11T09:09:30.625Z"
   },
   {
    "duration": 5,
    "start_time": "2022-10-11T09:10:06.851Z"
   },
   {
    "duration": 22,
    "start_time": "2022-10-11T09:10:14.654Z"
   },
   {
    "duration": 472,
    "start_time": "2022-10-11T09:10:53.765Z"
   },
   {
    "duration": 103,
    "start_time": "2022-10-11T09:11:15.992Z"
   },
   {
    "duration": 9,
    "start_time": "2022-10-11T09:11:39.375Z"
   },
   {
    "duration": 9,
    "start_time": "2022-10-11T09:12:02.831Z"
   },
   {
    "duration": 221,
    "start_time": "2022-10-11T09:12:33.305Z"
   },
   {
    "duration": 337,
    "start_time": "2022-10-11T09:12:43.327Z"
   },
   {
    "duration": 422,
    "start_time": "2022-10-11T09:13:19.458Z"
   },
   {
    "duration": 247,
    "start_time": "2022-10-11T09:26:04.587Z"
   },
   {
    "duration": 540,
    "start_time": "2022-10-11T09:26:09.363Z"
   },
   {
    "duration": 211,
    "start_time": "2022-10-11T09:26:22.864Z"
   },
   {
    "duration": 221,
    "start_time": "2022-10-11T09:32:49.472Z"
   },
   {
    "duration": 213,
    "start_time": "2022-10-11T09:33:04.364Z"
   },
   {
    "duration": 166,
    "start_time": "2022-10-11T09:33:19.479Z"
   },
   {
    "duration": 255,
    "start_time": "2022-10-11T09:38:54.481Z"
   },
   {
    "duration": 198,
    "start_time": "2022-10-11T09:39:07.911Z"
   },
   {
    "duration": 224,
    "start_time": "2022-10-11T09:39:26.817Z"
   },
   {
    "duration": 359,
    "start_time": "2022-10-11T09:39:33.570Z"
   },
   {
    "duration": 223,
    "start_time": "2022-10-11T09:40:24.720Z"
   },
   {
    "duration": 116,
    "start_time": "2022-10-11T09:41:48.523Z"
   },
   {
    "duration": 148,
    "start_time": "2022-10-11T09:42:04.461Z"
   },
   {
    "duration": 49,
    "start_time": "2022-10-11T09:44:20.386Z"
   },
   {
    "duration": 129,
    "start_time": "2022-10-11T09:46:41.603Z"
   },
   {
    "duration": 115,
    "start_time": "2022-10-11T09:47:06.937Z"
   },
   {
    "duration": 140,
    "start_time": "2022-10-11T09:54:11.160Z"
   },
   {
    "duration": 121,
    "start_time": "2022-10-11T09:54:16.973Z"
   },
   {
    "duration": 95,
    "start_time": "2022-10-11T09:57:07.512Z"
   },
   {
    "duration": 127,
    "start_time": "2022-10-11T10:00:57.198Z"
   },
   {
    "duration": 227,
    "start_time": "2022-10-11T10:01:05.183Z"
   },
   {
    "duration": 148,
    "start_time": "2022-10-11T10:02:17.623Z"
   },
   {
    "duration": 153,
    "start_time": "2022-10-11T10:02:32.672Z"
   },
   {
    "duration": 150,
    "start_time": "2022-10-11T10:02:45.031Z"
   },
   {
    "duration": 46,
    "start_time": "2022-10-11T10:04:52.820Z"
   },
   {
    "duration": 21,
    "start_time": "2022-10-11T10:05:59.082Z"
   },
   {
    "duration": 123,
    "start_time": "2022-10-11T10:06:40.233Z"
   },
   {
    "duration": 133,
    "start_time": "2022-10-11T10:06:52.951Z"
   },
   {
    "duration": 128,
    "start_time": "2022-10-11T10:07:09.324Z"
   },
   {
    "duration": 119,
    "start_time": "2022-10-11T10:07:14.668Z"
   },
   {
    "duration": 136,
    "start_time": "2022-10-11T10:07:41.521Z"
   },
   {
    "duration": 316,
    "start_time": "2022-10-11T10:07:47.835Z"
   },
   {
    "duration": 116,
    "start_time": "2022-10-11T10:07:53.909Z"
   },
   {
    "duration": 98,
    "start_time": "2022-10-11T10:08:55.227Z"
   },
   {
    "duration": 98,
    "start_time": "2022-10-11T10:13:43.561Z"
   },
   {
    "duration": 2138,
    "start_time": "2022-10-11T10:14:14.502Z"
   },
   {
    "duration": 1447,
    "start_time": "2022-10-11T10:14:21.128Z"
   },
   {
    "duration": 119,
    "start_time": "2022-10-11T10:14:48.440Z"
   },
   {
    "duration": 135,
    "start_time": "2022-10-11T10:15:06.574Z"
   },
   {
    "duration": 103,
    "start_time": "2022-10-11T10:18:56.640Z"
   },
   {
    "duration": 137,
    "start_time": "2022-10-11T10:23:33.939Z"
   },
   {
    "duration": 133,
    "start_time": "2022-10-11T10:29:32.811Z"
   },
   {
    "duration": 3110,
    "start_time": "2022-10-11T10:35:00.926Z"
   },
   {
    "duration": 152,
    "start_time": "2022-10-11T10:35:20.994Z"
   },
   {
    "duration": 152,
    "start_time": "2022-10-11T10:36:23.783Z"
   },
   {
    "duration": 119,
    "start_time": "2022-10-11T10:36:48.641Z"
   },
   {
    "duration": 149,
    "start_time": "2022-10-11T10:37:11.629Z"
   },
   {
    "duration": 41,
    "start_time": "2022-10-11T10:38:52.547Z"
   },
   {
    "duration": 20,
    "start_time": "2022-10-11T10:40:57.292Z"
   },
   {
    "duration": 148,
    "start_time": "2022-10-11T10:42:20.487Z"
   },
   {
    "duration": 132,
    "start_time": "2022-10-11T10:42:32.275Z"
   },
   {
    "duration": 3189,
    "start_time": "2022-10-11T10:47:13.716Z"
   },
   {
    "duration": 5,
    "start_time": "2022-10-11T10:48:01.829Z"
   },
   {
    "duration": 5,
    "start_time": "2022-10-11T10:48:03.863Z"
   },
   {
    "duration": 22,
    "start_time": "2022-10-11T10:48:07.993Z"
   },
   {
    "duration": 141,
    "start_time": "2022-10-11T10:48:30.496Z"
   },
   {
    "duration": 128,
    "start_time": "2022-10-11T10:48:48.258Z"
   },
   {
    "duration": 141,
    "start_time": "2022-10-11T11:00:52.915Z"
   },
   {
    "duration": 151,
    "start_time": "2022-10-11T11:01:41.912Z"
   },
   {
    "duration": 72,
    "start_time": "2022-10-11T11:04:53.689Z"
   },
   {
    "duration": 9,
    "start_time": "2022-10-11T11:05:55.432Z"
   },
   {
    "duration": 125,
    "start_time": "2022-10-11T11:10:43.560Z"
   },
   {
    "duration": 8,
    "start_time": "2022-10-11T11:16:50.734Z"
   },
   {
    "duration": 10,
    "start_time": "2022-10-11T11:18:05.726Z"
   },
   {
    "duration": 7,
    "start_time": "2022-10-11T11:18:07.602Z"
   },
   {
    "duration": 237,
    "start_time": "2022-10-11T11:48:35.476Z"
   },
   {
    "duration": 208,
    "start_time": "2022-10-11T11:55:05.449Z"
   },
   {
    "duration": 242,
    "start_time": "2022-10-11T11:56:11.408Z"
   },
   {
    "duration": 5,
    "start_time": "2022-10-11T11:56:14.775Z"
   },
   {
    "duration": 5,
    "start_time": "2022-10-11T11:56:15.924Z"
   },
   {
    "duration": 5,
    "start_time": "2022-10-11T11:56:16.656Z"
   },
   {
    "duration": 6,
    "start_time": "2022-10-11T11:56:17.225Z"
   },
   {
    "duration": 204,
    "start_time": "2022-10-11T11:56:46.585Z"
   },
   {
    "duration": 6,
    "start_time": "2022-10-11T11:56:53.248Z"
   },
   {
    "duration": 6,
    "start_time": "2022-10-11T11:56:54.965Z"
   },
   {
    "duration": 5,
    "start_time": "2022-10-11T11:56:56.201Z"
   },
   {
    "duration": 5,
    "start_time": "2022-10-11T11:56:57.584Z"
   },
   {
    "duration": 216,
    "start_time": "2022-10-11T11:57:13.251Z"
   },
   {
    "duration": 4,
    "start_time": "2022-10-11T11:57:20.848Z"
   },
   {
    "duration": 5,
    "start_time": "2022-10-11T11:57:22.253Z"
   },
   {
    "duration": 6,
    "start_time": "2022-10-11T11:57:24.139Z"
   },
   {
    "duration": 6,
    "start_time": "2022-10-11T11:57:25.335Z"
   },
   {
    "duration": 15,
    "start_time": "2022-10-11T12:02:21.585Z"
   },
   {
    "duration": 153,
    "start_time": "2022-10-11T12:03:26.956Z"
   },
   {
    "duration": 14,
    "start_time": "2022-10-11T12:13:53.018Z"
   },
   {
    "duration": 152,
    "start_time": "2022-10-11T12:14:10.211Z"
   },
   {
    "duration": 60,
    "start_time": "2022-10-11T12:30:52.146Z"
   },
   {
    "duration": 146,
    "start_time": "2022-10-11T12:36:49.177Z"
   },
   {
    "duration": 165,
    "start_time": "2022-10-11T12:42:08.297Z"
   },
   {
    "duration": 56,
    "start_time": "2022-10-11T12:49:07.939Z"
   },
   {
    "duration": 13,
    "start_time": "2022-10-11T12:56:39.843Z"
   },
   {
    "duration": 8,
    "start_time": "2022-10-11T13:03:11.026Z"
   },
   {
    "duration": 11,
    "start_time": "2022-10-11T13:03:54.491Z"
   },
   {
    "duration": 11,
    "start_time": "2022-10-11T13:04:37.604Z"
   },
   {
    "duration": 21,
    "start_time": "2022-10-11T13:06:12.153Z"
   },
   {
    "duration": 11,
    "start_time": "2022-10-11T13:08:24.569Z"
   },
   {
    "duration": 9,
    "start_time": "2022-10-11T13:08:38.262Z"
   },
   {
    "duration": 19,
    "start_time": "2022-10-11T13:09:03.297Z"
   },
   {
    "duration": 9,
    "start_time": "2022-10-11T13:10:59.350Z"
   },
   {
    "duration": 28,
    "start_time": "2022-10-11T13:12:06.287Z"
   },
   {
    "duration": 20,
    "start_time": "2022-10-11T13:15:27.023Z"
   },
   {
    "duration": 20,
    "start_time": "2022-10-11T13:16:14.692Z"
   },
   {
    "duration": 9,
    "start_time": "2022-10-11T13:26:23.108Z"
   },
   {
    "duration": 14,
    "start_time": "2022-10-11T13:26:28.847Z"
   },
   {
    "duration": 8,
    "start_time": "2022-10-11T13:47:10.352Z"
   },
   {
    "duration": 1184,
    "start_time": "2022-10-11T13:48:33.243Z"
   },
   {
    "duration": 854,
    "start_time": "2022-10-11T13:48:53.186Z"
   },
   {
    "duration": 20,
    "start_time": "2022-10-11T13:49:31.203Z"
   },
   {
    "duration": 22,
    "start_time": "2022-10-11T13:51:11.154Z"
   },
   {
    "duration": 27,
    "start_time": "2022-10-11T13:51:26.757Z"
   },
   {
    "duration": 25,
    "start_time": "2022-10-11T13:52:57.747Z"
   },
   {
    "duration": 22,
    "start_time": "2022-10-11T13:53:27.843Z"
   },
   {
    "duration": 20,
    "start_time": "2022-10-11T13:53:31.943Z"
   },
   {
    "duration": 9,
    "start_time": "2022-10-11T13:54:48.051Z"
   },
   {
    "duration": 10,
    "start_time": "2022-10-11T13:58:09.268Z"
   },
   {
    "duration": 312,
    "start_time": "2022-10-11T13:58:20.683Z"
   },
   {
    "duration": 48,
    "start_time": "2022-10-11T13:58:58.369Z"
   },
   {
    "duration": 11,
    "start_time": "2022-10-11T14:00:40.210Z"
   },
   {
    "duration": 170,
    "start_time": "2022-10-11T14:12:30.270Z"
   },
   {
    "duration": 5,
    "start_time": "2022-10-11T14:13:20.115Z"
   },
   {
    "duration": 5,
    "start_time": "2022-10-11T14:13:34.657Z"
   },
   {
    "duration": 5,
    "start_time": "2022-10-11T14:14:04.898Z"
   },
   {
    "duration": 5,
    "start_time": "2022-10-11T14:14:18.243Z"
   },
   {
    "duration": 7,
    "start_time": "2022-10-11T14:14:33.902Z"
   },
   {
    "duration": 9,
    "start_time": "2022-10-11T14:19:08.466Z"
   },
   {
    "duration": 9,
    "start_time": "2022-10-11T14:19:27.006Z"
   },
   {
    "duration": 1145,
    "start_time": "2022-10-11T14:21:30.225Z"
   },
   {
    "duration": 15,
    "start_time": "2022-10-11T14:32:45.992Z"
   },
   {
    "duration": 1088,
    "start_time": "2022-10-11T14:33:32.381Z"
   },
   {
    "duration": 80,
    "start_time": "2022-10-11T14:33:33.471Z"
   },
   {
    "duration": 71,
    "start_time": "2022-10-11T14:33:33.553Z"
   },
   {
    "duration": 23,
    "start_time": "2022-10-11T14:33:33.625Z"
   },
   {
    "duration": 64,
    "start_time": "2022-10-11T14:33:33.649Z"
   },
   {
    "duration": 1952,
    "start_time": "2022-10-11T14:33:33.715Z"
   },
   {
    "duration": 7,
    "start_time": "2022-10-11T14:33:35.669Z"
   },
   {
    "duration": 9,
    "start_time": "2022-10-11T14:33:35.677Z"
   },
   {
    "duration": 14,
    "start_time": "2022-10-11T14:33:35.687Z"
   },
   {
    "duration": 9,
    "start_time": "2022-10-11T14:33:35.702Z"
   },
   {
    "duration": 139,
    "start_time": "2022-10-11T14:33:35.713Z"
   },
   {
    "duration": 11,
    "start_time": "2022-10-11T14:33:35.853Z"
   },
   {
    "duration": 37,
    "start_time": "2022-10-11T14:33:35.866Z"
   },
   {
    "duration": 4,
    "start_time": "2022-10-11T14:33:35.906Z"
   },
   {
    "duration": 27,
    "start_time": "2022-10-11T14:33:35.911Z"
   },
   {
    "duration": 27,
    "start_time": "2022-10-11T14:33:35.940Z"
   },
   {
    "duration": 27,
    "start_time": "2022-10-11T14:33:35.969Z"
   },
   {
    "duration": 12,
    "start_time": "2022-10-11T14:33:35.998Z"
   },
   {
    "duration": 9,
    "start_time": "2022-10-11T14:33:36.012Z"
   },
   {
    "duration": 17,
    "start_time": "2022-10-11T14:33:36.023Z"
   },
   {
    "duration": 18,
    "start_time": "2022-10-11T14:33:36.041Z"
   },
   {
    "duration": 6,
    "start_time": "2022-10-11T14:33:36.061Z"
   },
   {
    "duration": 17,
    "start_time": "2022-10-11T14:33:36.068Z"
   },
   {
    "duration": 10,
    "start_time": "2022-10-11T14:33:36.086Z"
   },
   {
    "duration": 124,
    "start_time": "2022-10-11T14:33:36.098Z"
   },
   {
    "duration": 5,
    "start_time": "2022-10-11T14:33:36.224Z"
   },
   {
    "duration": 22,
    "start_time": "2022-10-11T14:33:36.231Z"
   },
   {
    "duration": 6,
    "start_time": "2022-10-11T14:33:36.254Z"
   },
   {
    "duration": 5,
    "start_time": "2022-10-11T14:33:36.261Z"
   },
   {
    "duration": 8,
    "start_time": "2022-10-11T14:33:36.268Z"
   },
   {
    "duration": 6,
    "start_time": "2022-10-11T14:33:36.277Z"
   },
   {
    "duration": 12,
    "start_time": "2022-10-11T14:33:36.284Z"
   },
   {
    "duration": 23,
    "start_time": "2022-10-11T14:33:36.297Z"
   },
   {
    "duration": 4,
    "start_time": "2022-10-11T14:33:36.321Z"
   },
   {
    "duration": 14,
    "start_time": "2022-10-11T14:33:36.326Z"
   },
   {
    "duration": 5,
    "start_time": "2022-10-11T14:33:36.341Z"
   },
   {
    "duration": 5,
    "start_time": "2022-10-11T14:33:36.347Z"
   },
   {
    "duration": 19,
    "start_time": "2022-10-11T14:33:36.354Z"
   },
   {
    "duration": 288,
    "start_time": "2022-10-11T14:33:36.375Z"
   },
   {
    "duration": 5,
    "start_time": "2022-10-11T14:33:36.664Z"
   },
   {
    "duration": 29,
    "start_time": "2022-10-11T14:33:36.673Z"
   },
   {
    "duration": 470,
    "start_time": "2022-10-11T14:33:36.703Z"
   },
   {
    "duration": 120,
    "start_time": "2022-10-11T14:33:37.174Z"
   },
   {
    "duration": 10,
    "start_time": "2022-10-11T14:33:37.296Z"
   },
   {
    "duration": 9,
    "start_time": "2022-10-11T14:33:37.307Z"
   },
   {
    "duration": 220,
    "start_time": "2022-10-11T14:33:37.317Z"
   },
   {
    "duration": 310,
    "start_time": "2022-10-11T14:33:37.539Z"
   },
   {
    "duration": 229,
    "start_time": "2022-10-11T14:33:37.851Z"
   },
   {
    "duration": 198,
    "start_time": "2022-10-11T14:33:38.081Z"
   },
   {
    "duration": 124,
    "start_time": "2022-10-11T14:33:38.281Z"
   },
   {
    "duration": 126,
    "start_time": "2022-10-11T14:33:38.407Z"
   },
   {
    "duration": 144,
    "start_time": "2022-10-11T14:33:38.534Z"
   },
   {
    "duration": 175,
    "start_time": "2022-10-11T14:33:38.680Z"
   },
   {
    "duration": 130,
    "start_time": "2022-10-11T14:33:38.857Z"
   },
   {
    "duration": 181,
    "start_time": "2022-10-11T14:33:38.988Z"
   },
   {
    "duration": 254,
    "start_time": "2022-10-11T14:33:39.170Z"
   },
   {
    "duration": 144,
    "start_time": "2022-10-11T14:33:39.426Z"
   },
   {
    "duration": 142,
    "start_time": "2022-10-11T14:33:39.572Z"
   },
   {
    "duration": 146,
    "start_time": "2022-10-11T14:33:39.715Z"
   },
   {
    "duration": 140,
    "start_time": "2022-10-11T14:33:39.862Z"
   },
   {
    "duration": 162,
    "start_time": "2022-10-11T14:33:40.003Z"
   },
   {
    "duration": 9,
    "start_time": "2022-10-11T14:33:40.166Z"
   },
   {
    "duration": 115,
    "start_time": "2022-10-11T14:33:40.176Z"
   },
   {
    "duration": 8,
    "start_time": "2022-10-11T14:33:40.299Z"
   },
   {
    "duration": 22,
    "start_time": "2022-10-11T14:33:40.309Z"
   },
   {
    "duration": 220,
    "start_time": "2022-10-11T14:33:40.332Z"
   },
   {
    "duration": 6,
    "start_time": "2022-10-11T14:33:40.554Z"
   },
   {
    "duration": 10,
    "start_time": "2022-10-11T14:33:40.561Z"
   },
   {
    "duration": 12,
    "start_time": "2022-10-11T14:33:40.572Z"
   },
   {
    "duration": 16,
    "start_time": "2022-10-11T14:33:40.586Z"
   },
   {
    "duration": 144,
    "start_time": "2022-10-11T14:33:40.603Z"
   },
   {
    "duration": 162,
    "start_time": "2022-10-11T14:33:40.748Z"
   },
   {
    "duration": 160,
    "start_time": "2022-10-11T14:33:40.912Z"
   },
   {
    "duration": 157,
    "start_time": "2022-10-11T14:33:41.074Z"
   },
   {
    "duration": 21,
    "start_time": "2022-10-11T14:33:41.233Z"
   },
   {
    "duration": 19,
    "start_time": "2022-10-11T14:33:41.256Z"
   },
   {
    "duration": 111,
    "start_time": "2022-10-11T14:33:41.277Z"
   },
   {
    "duration": 26,
    "start_time": "2022-10-11T14:35:08.959Z"
   },
   {
    "duration": 8,
    "start_time": "2022-10-11T14:35:23.127Z"
   },
   {
    "duration": 4,
    "start_time": "2022-10-11T14:36:20.424Z"
   },
   {
    "duration": 9,
    "start_time": "2022-10-11T14:37:40.916Z"
   },
   {
    "duration": 8,
    "start_time": "2022-10-11T14:37:48.500Z"
   },
   {
    "duration": 103,
    "start_time": "2022-10-11T14:39:47.587Z"
   },
   {
    "duration": 6,
    "start_time": "2022-10-11T14:43:09.543Z"
   },
   {
    "duration": 21,
    "start_time": "2022-10-11T14:44:06.182Z"
   },
   {
    "duration": 4,
    "start_time": "2022-10-11T14:45:01.072Z"
   },
   {
    "duration": 22,
    "start_time": "2022-10-11T14:45:02.145Z"
   },
   {
    "duration": 4,
    "start_time": "2022-10-11T14:48:01.223Z"
   },
   {
    "duration": 5,
    "start_time": "2022-10-11T14:50:00.364Z"
   },
   {
    "duration": 8,
    "start_time": "2022-10-11T14:55:45.171Z"
   },
   {
    "duration": 7,
    "start_time": "2022-10-11T14:55:50.623Z"
   },
   {
    "duration": 12,
    "start_time": "2022-10-11T14:57:11.990Z"
   },
   {
    "duration": 1566,
    "start_time": "2022-10-11T14:58:40.235Z"
   },
   {
    "duration": 12,
    "start_time": "2022-10-11T14:59:05.939Z"
   },
   {
    "duration": 12,
    "start_time": "2022-10-11T15:01:47.536Z"
   },
   {
    "duration": 205,
    "start_time": "2022-10-11T15:03:45.225Z"
   },
   {
    "duration": 11,
    "start_time": "2022-10-11T15:04:51.525Z"
   },
   {
    "duration": 10,
    "start_time": "2022-10-11T15:05:59.327Z"
   },
   {
    "duration": 9,
    "start_time": "2022-10-11T15:06:42.210Z"
   },
   {
    "duration": 6,
    "start_time": "2022-10-11T15:09:20.398Z"
   },
   {
    "duration": 173,
    "start_time": "2022-10-11T15:10:14.923Z"
   },
   {
    "duration": 180,
    "start_time": "2022-10-11T15:18:53.136Z"
   },
   {
    "duration": 164,
    "start_time": "2022-10-11T15:23:57.864Z"
   },
   {
    "duration": 315,
    "start_time": "2022-10-11T15:24:15.707Z"
   },
   {
    "duration": 173,
    "start_time": "2022-10-11T15:24:50.923Z"
   },
   {
    "duration": 194,
    "start_time": "2022-10-11T15:25:55.301Z"
   },
   {
    "duration": 175,
    "start_time": "2022-10-11T15:26:08.166Z"
   },
   {
    "duration": 174,
    "start_time": "2022-10-11T15:27:02.691Z"
   },
   {
    "duration": 169,
    "start_time": "2022-10-11T15:27:25.636Z"
   },
   {
    "duration": 9,
    "start_time": "2022-10-11T15:28:21.860Z"
   },
   {
    "duration": 50,
    "start_time": "2022-10-11T16:25:26.872Z"
   },
   {
    "duration": 1474,
    "start_time": "2022-10-11T18:06:37.066Z"
   },
   {
    "duration": 298,
    "start_time": "2022-10-11T18:06:38.542Z"
   },
   {
    "duration": 98,
    "start_time": "2022-10-11T18:06:38.841Z"
   },
   {
    "duration": 51,
    "start_time": "2022-10-11T18:06:38.941Z"
   },
   {
    "duration": 102,
    "start_time": "2022-10-11T18:06:38.994Z"
   },
   {
    "duration": 2337,
    "start_time": "2022-10-11T18:06:39.098Z"
   },
   {
    "duration": 10,
    "start_time": "2022-10-11T18:06:41.437Z"
   },
   {
    "duration": 16,
    "start_time": "2022-10-11T18:06:41.449Z"
   },
   {
    "duration": 6,
    "start_time": "2022-10-11T18:06:41.488Z"
   },
   {
    "duration": 25,
    "start_time": "2022-10-11T18:06:41.498Z"
   },
   {
    "duration": 213,
    "start_time": "2022-10-11T18:06:41.525Z"
   },
   {
    "duration": 13,
    "start_time": "2022-10-11T18:06:41.740Z"
   },
   {
    "duration": 45,
    "start_time": "2022-10-11T18:06:41.755Z"
   },
   {
    "duration": 6,
    "start_time": "2022-10-11T18:06:41.802Z"
   },
   {
    "duration": 24,
    "start_time": "2022-10-11T18:06:41.810Z"
   },
   {
    "duration": 48,
    "start_time": "2022-10-11T18:06:41.837Z"
   },
   {
    "duration": 81,
    "start_time": "2022-10-11T18:06:41.887Z"
   },
   {
    "duration": 51,
    "start_time": "2022-10-11T18:06:41.973Z"
   },
   {
    "duration": 75,
    "start_time": "2022-10-11T18:06:42.027Z"
   },
   {
    "duration": 21,
    "start_time": "2022-10-11T18:06:42.108Z"
   },
   {
    "duration": 29,
    "start_time": "2022-10-11T18:06:42.131Z"
   },
   {
    "duration": 23,
    "start_time": "2022-10-11T18:06:42.162Z"
   },
   {
    "duration": 33,
    "start_time": "2022-10-11T18:06:42.188Z"
   },
   {
    "duration": 11,
    "start_time": "2022-10-11T18:06:42.223Z"
   },
   {
    "duration": 194,
    "start_time": "2022-10-11T18:06:42.237Z"
   },
   {
    "duration": 7,
    "start_time": "2022-10-11T18:06:42.434Z"
   },
   {
    "duration": 11,
    "start_time": "2022-10-11T18:06:42.443Z"
   },
   {
    "duration": 6,
    "start_time": "2022-10-11T18:06:42.460Z"
   },
   {
    "duration": 7,
    "start_time": "2022-10-11T18:06:42.491Z"
   },
   {
    "duration": 6,
    "start_time": "2022-10-11T18:06:42.500Z"
   },
   {
    "duration": 8,
    "start_time": "2022-10-11T18:06:42.508Z"
   },
   {
    "duration": 5,
    "start_time": "2022-10-11T18:06:42.519Z"
   },
   {
    "duration": 63,
    "start_time": "2022-10-11T18:06:42.526Z"
   },
   {
    "duration": 4,
    "start_time": "2022-10-11T18:06:42.592Z"
   },
   {
    "duration": 23,
    "start_time": "2022-10-11T18:06:42.598Z"
   },
   {
    "duration": 6,
    "start_time": "2022-10-11T18:06:42.623Z"
   },
   {
    "duration": 7,
    "start_time": "2022-10-11T18:06:42.631Z"
   },
   {
    "duration": 55,
    "start_time": "2022-10-11T18:06:42.639Z"
   },
   {
    "duration": 292,
    "start_time": "2022-10-11T18:06:42.697Z"
   },
   {
    "duration": 6,
    "start_time": "2022-10-11T18:06:42.992Z"
   },
   {
    "duration": 32,
    "start_time": "2022-10-11T18:06:43.000Z"
   },
   {
    "duration": 524,
    "start_time": "2022-10-11T18:06:43.033Z"
   },
   {
    "duration": 141,
    "start_time": "2022-10-11T18:06:43.559Z"
   },
   {
    "duration": 13,
    "start_time": "2022-10-11T18:06:43.702Z"
   },
   {
    "duration": 11,
    "start_time": "2022-10-11T18:06:43.717Z"
   },
   {
    "duration": 312,
    "start_time": "2022-10-11T18:06:43.730Z"
   },
   {
    "duration": 386,
    "start_time": "2022-10-11T18:06:44.043Z"
   },
   {
    "duration": 384,
    "start_time": "2022-10-11T18:06:44.432Z"
   },
   {
    "duration": 236,
    "start_time": "2022-10-11T18:06:44.818Z"
   },
   {
    "duration": 236,
    "start_time": "2022-10-11T18:06:45.056Z"
   },
   {
    "duration": 203,
    "start_time": "2022-10-11T18:06:45.294Z"
   },
   {
    "duration": 204,
    "start_time": "2022-10-11T18:06:45.499Z"
   },
   {
    "duration": 219,
    "start_time": "2022-10-11T18:06:45.705Z"
   },
   {
    "duration": 141,
    "start_time": "2022-10-11T18:06:45.928Z"
   },
   {
    "duration": 209,
    "start_time": "2022-10-11T18:06:46.071Z"
   },
   {
    "duration": 362,
    "start_time": "2022-10-11T18:06:46.282Z"
   },
   {
    "duration": 220,
    "start_time": "2022-10-11T18:06:46.646Z"
   },
   {
    "duration": 212,
    "start_time": "2022-10-11T18:06:46.869Z"
   },
   {
    "duration": 223,
    "start_time": "2022-10-11T18:06:47.083Z"
   },
   {
    "duration": 260,
    "start_time": "2022-10-11T18:06:47.309Z"
   },
   {
    "duration": 217,
    "start_time": "2022-10-11T18:06:47.571Z"
   },
   {
    "duration": 11,
    "start_time": "2022-10-11T18:06:47.790Z"
   },
   {
    "duration": 205,
    "start_time": "2022-10-11T18:06:47.803Z"
   },
   {
    "duration": 11,
    "start_time": "2022-10-11T18:06:48.011Z"
   },
   {
    "duration": 9,
    "start_time": "2022-10-11T18:06:48.025Z"
   },
   {
    "duration": 414,
    "start_time": "2022-10-11T18:06:48.036Z"
   },
   {
    "duration": 8,
    "start_time": "2022-10-11T18:06:48.453Z"
   },
   {
    "duration": 24,
    "start_time": "2022-10-11T18:06:48.464Z"
   },
   {
    "duration": 11,
    "start_time": "2022-10-11T18:06:48.490Z"
   },
   {
    "duration": 13,
    "start_time": "2022-10-11T18:06:48.503Z"
   },
   {
    "duration": 257,
    "start_time": "2022-10-11T18:06:48.519Z"
   },
   {
    "duration": 278,
    "start_time": "2022-10-11T18:06:48.778Z"
   },
   {
    "duration": 293,
    "start_time": "2022-10-11T18:06:49.059Z"
   },
   {
    "duration": 268,
    "start_time": "2022-10-11T18:06:49.355Z"
   },
   {
    "duration": 34,
    "start_time": "2022-10-11T18:06:49.627Z"
   },
   {
    "duration": 317,
    "start_time": "2022-10-11T18:06:49.664Z"
   },
   {
    "duration": 25,
    "start_time": "2022-10-11T21:15:44.188Z"
   },
   {
    "duration": 1365,
    "start_time": "2022-10-11T21:15:52.564Z"
   },
   {
    "duration": 120,
    "start_time": "2022-10-11T21:15:53.931Z"
   },
   {
    "duration": 101,
    "start_time": "2022-10-11T21:15:54.053Z"
   },
   {
    "duration": 53,
    "start_time": "2022-10-11T21:15:54.157Z"
   },
   {
    "duration": 95,
    "start_time": "2022-10-11T21:15:54.219Z"
   },
   {
    "duration": 2417,
    "start_time": "2022-10-11T21:15:54.317Z"
   },
   {
    "duration": 8,
    "start_time": "2022-10-11T21:15:56.736Z"
   },
   {
    "duration": 18,
    "start_time": "2022-10-11T21:15:56.746Z"
   },
   {
    "duration": 26,
    "start_time": "2022-10-11T21:15:56.766Z"
   },
   {
    "duration": 25,
    "start_time": "2022-10-11T21:15:56.796Z"
   },
   {
    "duration": 193,
    "start_time": "2022-10-11T21:15:56.822Z"
   },
   {
    "duration": 14,
    "start_time": "2022-10-11T21:15:57.017Z"
   },
   {
    "duration": 27,
    "start_time": "2022-10-11T21:15:57.032Z"
   },
   {
    "duration": 6,
    "start_time": "2022-10-11T21:15:57.061Z"
   },
   {
    "duration": 30,
    "start_time": "2022-10-11T21:15:57.070Z"
   },
   {
    "duration": 25,
    "start_time": "2022-10-11T21:15:57.101Z"
   },
   {
    "duration": 32,
    "start_time": "2022-10-11T21:15:57.128Z"
   },
   {
    "duration": 17,
    "start_time": "2022-10-11T21:15:57.162Z"
   },
   {
    "duration": 11,
    "start_time": "2022-10-11T21:15:57.181Z"
   },
   {
    "duration": 22,
    "start_time": "2022-10-11T21:15:57.202Z"
   },
   {
    "duration": 12,
    "start_time": "2022-10-11T21:15:57.226Z"
   },
   {
    "duration": 7,
    "start_time": "2022-10-11T21:15:57.240Z"
   },
   {
    "duration": 16,
    "start_time": "2022-10-11T21:15:57.249Z"
   },
   {
    "duration": 32,
    "start_time": "2022-10-11T21:15:57.267Z"
   },
   {
    "duration": 176,
    "start_time": "2022-10-11T21:15:57.304Z"
   },
   {
    "duration": 10,
    "start_time": "2022-10-11T21:15:57.491Z"
   },
   {
    "duration": 13,
    "start_time": "2022-10-11T21:15:57.503Z"
   },
   {
    "duration": 6,
    "start_time": "2022-10-11T21:15:57.522Z"
   },
   {
    "duration": 7,
    "start_time": "2022-10-11T21:15:57.530Z"
   },
   {
    "duration": 6,
    "start_time": "2022-10-11T21:15:57.539Z"
   },
   {
    "duration": 49,
    "start_time": "2022-10-11T21:15:57.548Z"
   },
   {
    "duration": 5,
    "start_time": "2022-10-11T21:15:57.605Z"
   },
   {
    "duration": 21,
    "start_time": "2022-10-11T21:15:57.611Z"
   },
   {
    "duration": 35,
    "start_time": "2022-10-11T21:15:57.634Z"
   },
   {
    "duration": 17,
    "start_time": "2022-10-11T21:15:57.671Z"
   },
   {
    "duration": 38,
    "start_time": "2022-10-11T21:15:57.690Z"
   },
   {
    "duration": 6,
    "start_time": "2022-10-11T21:15:57.731Z"
   },
   {
    "duration": 9,
    "start_time": "2022-10-11T21:15:57.739Z"
   },
   {
    "duration": 29,
    "start_time": "2022-10-11T21:15:57.750Z"
   },
   {
    "duration": 329,
    "start_time": "2022-10-11T21:15:57.781Z"
   },
   {
    "duration": 6,
    "start_time": "2022-10-11T21:15:58.112Z"
   },
   {
    "duration": 42,
    "start_time": "2022-10-11T21:15:58.120Z"
   },
   {
    "duration": 676,
    "start_time": "2022-10-11T21:15:58.165Z"
   },
   {
    "duration": 186,
    "start_time": "2022-10-11T21:15:58.843Z"
   },
   {
    "duration": 10,
    "start_time": "2022-10-11T21:15:59.032Z"
   },
   {
    "duration": 17,
    "start_time": "2022-10-11T21:15:59.045Z"
   },
   {
    "duration": 342,
    "start_time": "2022-10-11T21:15:59.064Z"
   },
   {
    "duration": 421,
    "start_time": "2022-10-11T21:15:59.408Z"
   },
   {
    "duration": 304,
    "start_time": "2022-10-11T21:15:59.831Z"
   },
   {
    "duration": 266,
    "start_time": "2022-10-11T21:16:00.137Z"
   },
   {
    "duration": 172,
    "start_time": "2022-10-11T21:16:00.405Z"
   },
   {
    "duration": 225,
    "start_time": "2022-10-11T21:16:00.579Z"
   },
   {
    "duration": 175,
    "start_time": "2022-10-11T21:16:00.806Z"
   },
   {
    "duration": 192,
    "start_time": "2022-10-11T21:16:00.983Z"
   },
   {
    "duration": 155,
    "start_time": "2022-10-11T21:16:01.177Z"
   },
   {
    "duration": 209,
    "start_time": "2022-10-11T21:16:01.335Z"
   },
   {
    "duration": 352,
    "start_time": "2022-10-11T21:16:01.546Z"
   },
   {
    "duration": 213,
    "start_time": "2022-10-11T21:16:01.909Z"
   },
   {
    "duration": 248,
    "start_time": "2022-10-11T21:16:02.123Z"
   },
   {
    "duration": 206,
    "start_time": "2022-10-11T21:16:02.373Z"
   },
   {
    "duration": 227,
    "start_time": "2022-10-11T21:16:02.581Z"
   },
   {
    "duration": 206,
    "start_time": "2022-10-11T21:16:02.812Z"
   },
   {
    "duration": 11,
    "start_time": "2022-10-11T21:16:03.020Z"
   },
   {
    "duration": 202,
    "start_time": "2022-10-11T21:16:03.033Z"
   },
   {
    "duration": 9,
    "start_time": "2022-10-11T21:16:03.237Z"
   },
   {
    "duration": 11,
    "start_time": "2022-10-11T21:16:03.247Z"
   },
   {
    "duration": 310,
    "start_time": "2022-10-11T21:16:03.260Z"
   },
   {
    "duration": 20,
    "start_time": "2022-10-11T21:16:03.572Z"
   },
   {
    "duration": 13,
    "start_time": "2022-10-11T21:16:03.594Z"
   },
   {
    "duration": 16,
    "start_time": "2022-10-11T21:16:03.611Z"
   },
   {
    "duration": 11,
    "start_time": "2022-10-11T21:16:03.629Z"
   },
   {
    "duration": 213,
    "start_time": "2022-10-11T21:16:03.642Z"
   },
   {
    "duration": 239,
    "start_time": "2022-10-11T21:16:03.857Z"
   },
   {
    "duration": 240,
    "start_time": "2022-10-11T21:16:04.099Z"
   },
   {
    "duration": 215,
    "start_time": "2022-10-11T21:16:04.340Z"
   },
   {
    "duration": 45,
    "start_time": "2022-10-11T21:16:04.557Z"
   },
   {
    "duration": 330,
    "start_time": "2022-10-11T21:16:04.604Z"
   },
   {
    "duration": 57,
    "start_time": "2022-10-12T07:23:59.993Z"
   },
   {
    "duration": 1345,
    "start_time": "2022-10-12T07:24:11.609Z"
   },
   {
    "duration": 330,
    "start_time": "2022-10-12T07:24:12.956Z"
   },
   {
    "duration": 78,
    "start_time": "2022-10-12T07:24:13.288Z"
   },
   {
    "duration": 30,
    "start_time": "2022-10-12T07:24:13.367Z"
   },
   {
    "duration": 66,
    "start_time": "2022-10-12T07:24:13.399Z"
   },
   {
    "duration": 2017,
    "start_time": "2022-10-12T07:24:13.467Z"
   },
   {
    "duration": 7,
    "start_time": "2022-10-12T07:24:15.486Z"
   },
   {
    "duration": 30,
    "start_time": "2022-10-12T07:24:15.495Z"
   },
   {
    "duration": 3,
    "start_time": "2022-10-12T07:24:15.527Z"
   },
   {
    "duration": 10,
    "start_time": "2022-10-12T07:24:15.532Z"
   },
   {
    "duration": 153,
    "start_time": "2022-10-12T07:24:15.544Z"
   },
   {
    "duration": 12,
    "start_time": "2022-10-12T07:24:15.699Z"
   },
   {
    "duration": 22,
    "start_time": "2022-10-12T07:24:15.713Z"
   },
   {
    "duration": 4,
    "start_time": "2022-10-12T07:24:15.738Z"
   },
   {
    "duration": 7,
    "start_time": "2022-10-12T07:24:15.744Z"
   },
   {
    "duration": 14,
    "start_time": "2022-10-12T07:24:15.752Z"
   },
   {
    "duration": 34,
    "start_time": "2022-10-12T07:24:15.796Z"
   },
   {
    "duration": 3,
    "start_time": "2022-10-12T07:24:15.831Z"
   },
   {
    "duration": 6,
    "start_time": "2022-10-12T07:24:15.836Z"
   },
   {
    "duration": 8,
    "start_time": "2022-10-12T07:24:15.843Z"
   },
   {
    "duration": 9,
    "start_time": "2022-10-12T07:24:15.852Z"
   },
   {
    "duration": 33,
    "start_time": "2022-10-12T07:24:15.863Z"
   },
   {
    "duration": 25,
    "start_time": "2022-10-12T07:24:15.899Z"
   },
   {
    "duration": 8,
    "start_time": "2022-10-12T07:24:15.925Z"
   },
   {
    "duration": 135,
    "start_time": "2022-10-12T07:24:15.935Z"
   },
   {
    "duration": 5,
    "start_time": "2022-10-12T07:24:16.071Z"
   },
   {
    "duration": 18,
    "start_time": "2022-10-12T07:24:16.077Z"
   },
   {
    "duration": 10,
    "start_time": "2022-10-12T07:24:16.097Z"
   },
   {
    "duration": 10,
    "start_time": "2022-10-12T07:24:16.108Z"
   },
   {
    "duration": 12,
    "start_time": "2022-10-12T07:24:16.120Z"
   },
   {
    "duration": 15,
    "start_time": "2022-10-12T07:24:16.133Z"
   },
   {
    "duration": 3,
    "start_time": "2022-10-12T07:24:16.150Z"
   },
   {
    "duration": 6,
    "start_time": "2022-10-12T07:24:16.155Z"
   },
   {
    "duration": 35,
    "start_time": "2022-10-12T07:24:16.162Z"
   },
   {
    "duration": 8,
    "start_time": "2022-10-12T07:24:16.199Z"
   },
   {
    "duration": 17,
    "start_time": "2022-10-12T07:24:16.209Z"
   },
   {
    "duration": 5,
    "start_time": "2022-10-12T07:24:16.228Z"
   },
   {
    "duration": 8,
    "start_time": "2022-10-12T07:24:16.234Z"
   },
   {
    "duration": 21,
    "start_time": "2022-10-12T07:24:16.244Z"
   },
   {
    "duration": 299,
    "start_time": "2022-10-12T07:24:16.266Z"
   },
   {
    "duration": 6,
    "start_time": "2022-10-12T07:24:16.570Z"
   },
   {
    "duration": 49,
    "start_time": "2022-10-12T07:24:16.578Z"
   },
   {
    "duration": 531,
    "start_time": "2022-10-12T07:24:16.629Z"
   },
   {
    "duration": 125,
    "start_time": "2022-10-12T07:24:17.162Z"
   },
   {
    "duration": 10,
    "start_time": "2022-10-12T07:24:17.295Z"
   },
   {
    "duration": 23,
    "start_time": "2022-10-12T07:24:17.307Z"
   },
   {
    "duration": 231,
    "start_time": "2022-10-12T07:24:17.332Z"
   },
   {
    "duration": 355,
    "start_time": "2022-10-12T07:24:17.565Z"
   },
   {
    "duration": 266,
    "start_time": "2022-10-12T07:24:17.922Z"
   },
   {
    "duration": 206,
    "start_time": "2022-10-12T07:24:18.190Z"
   },
   {
    "duration": 137,
    "start_time": "2022-10-12T07:24:18.397Z"
   },
   {
    "duration": 141,
    "start_time": "2022-10-12T07:24:18.536Z"
   },
   {
    "duration": 156,
    "start_time": "2022-10-12T07:24:18.679Z"
   },
   {
    "duration": 166,
    "start_time": "2022-10-12T07:24:18.837Z"
   },
   {
    "duration": 123,
    "start_time": "2022-10-12T07:24:19.005Z"
   },
   {
    "duration": 181,
    "start_time": "2022-10-12T07:24:19.130Z"
   },
   {
    "duration": 276,
    "start_time": "2022-10-12T07:24:19.313Z"
   },
   {
    "duration": 191,
    "start_time": "2022-10-12T07:24:19.595Z"
   },
   {
    "duration": 204,
    "start_time": "2022-10-12T07:24:19.787Z"
   },
   {
    "duration": 166,
    "start_time": "2022-10-12T07:24:19.995Z"
   },
   {
    "duration": 164,
    "start_time": "2022-10-12T07:24:20.163Z"
   },
   {
    "duration": 187,
    "start_time": "2022-10-12T07:24:20.329Z"
   },
   {
    "duration": 9,
    "start_time": "2022-10-12T07:24:20.518Z"
   },
   {
    "duration": 137,
    "start_time": "2022-10-12T07:24:20.529Z"
   },
   {
    "duration": 9,
    "start_time": "2022-10-12T07:24:20.668Z"
   },
   {
    "duration": 18,
    "start_time": "2022-10-12T07:24:20.678Z"
   },
   {
    "duration": 264,
    "start_time": "2022-10-12T07:24:20.698Z"
   },
   {
    "duration": 5,
    "start_time": "2022-10-12T07:24:20.964Z"
   },
   {
    "duration": 7,
    "start_time": "2022-10-12T07:24:20.971Z"
   },
   {
    "duration": 16,
    "start_time": "2022-10-12T07:24:20.980Z"
   },
   {
    "duration": 6,
    "start_time": "2022-10-12T07:24:20.998Z"
   },
   {
    "duration": 190,
    "start_time": "2022-10-12T07:24:21.006Z"
   },
   {
    "duration": 212,
    "start_time": "2022-10-12T07:24:21.198Z"
   },
   {
    "duration": 182,
    "start_time": "2022-10-12T07:24:21.413Z"
   },
   {
    "duration": 173,
    "start_time": "2022-10-12T07:24:21.598Z"
   },
   {
    "duration": 34,
    "start_time": "2022-10-12T07:24:21.774Z"
   },
   {
    "duration": 215,
    "start_time": "2022-10-12T07:24:21.810Z"
   },
   {
    "duration": 292,
    "start_time": "2022-10-12T07:42:24.704Z"
   },
   {
    "duration": 335,
    "start_time": "2022-10-12T07:42:31.589Z"
   },
   {
    "duration": 474,
    "start_time": "2022-10-12T07:42:39.195Z"
   },
   {
    "duration": 124,
    "start_time": "2022-10-12T07:42:48.912Z"
   },
   {
    "duration": 599,
    "start_time": "2022-10-12T07:42:56.567Z"
   },
   {
    "duration": 2,
    "start_time": "2022-10-12T07:49:09.590Z"
   },
   {
    "duration": 1185,
    "start_time": "2022-10-12T07:49:21.205Z"
   },
   {
    "duration": 87,
    "start_time": "2022-10-12T07:49:22.392Z"
   },
   {
    "duration": 74,
    "start_time": "2022-10-12T07:49:22.481Z"
   },
   {
    "duration": 44,
    "start_time": "2022-10-12T07:49:22.557Z"
   },
   {
    "duration": 64,
    "start_time": "2022-10-12T07:49:22.603Z"
   },
   {
    "duration": 1931,
    "start_time": "2022-10-12T07:49:22.669Z"
   },
   {
    "duration": 7,
    "start_time": "2022-10-12T07:49:24.602Z"
   },
   {
    "duration": 16,
    "start_time": "2022-10-12T07:49:24.610Z"
   },
   {
    "duration": 4,
    "start_time": "2022-10-12T07:49:24.627Z"
   },
   {
    "duration": 9,
    "start_time": "2022-10-12T07:49:24.632Z"
   },
   {
    "duration": 157,
    "start_time": "2022-10-12T07:49:24.643Z"
   },
   {
    "duration": 14,
    "start_time": "2022-10-12T07:49:24.802Z"
   },
   {
    "duration": 35,
    "start_time": "2022-10-12T07:49:24.819Z"
   },
   {
    "duration": 6,
    "start_time": "2022-10-12T07:49:24.857Z"
   },
   {
    "duration": 37,
    "start_time": "2022-10-12T07:49:24.865Z"
   },
   {
    "duration": 25,
    "start_time": "2022-10-12T07:49:24.904Z"
   },
   {
    "duration": 26,
    "start_time": "2022-10-12T07:49:24.930Z"
   },
   {
    "duration": 10,
    "start_time": "2022-10-12T07:49:24.957Z"
   },
   {
    "duration": 7,
    "start_time": "2022-10-12T07:49:24.969Z"
   },
   {
    "duration": 17,
    "start_time": "2022-10-12T07:49:24.978Z"
   },
   {
    "duration": 10,
    "start_time": "2022-10-12T07:49:24.997Z"
   },
   {
    "duration": 7,
    "start_time": "2022-10-12T07:49:25.008Z"
   },
   {
    "duration": 19,
    "start_time": "2022-10-12T07:49:25.017Z"
   },
   {
    "duration": 8,
    "start_time": "2022-10-12T07:49:25.038Z"
   },
   {
    "duration": 138,
    "start_time": "2022-10-12T07:49:25.048Z"
   },
   {
    "duration": 8,
    "start_time": "2022-10-12T07:49:25.188Z"
   },
   {
    "duration": 11,
    "start_time": "2022-10-12T07:49:25.198Z"
   },
   {
    "duration": 10,
    "start_time": "2022-10-12T07:49:25.211Z"
   },
   {
    "duration": 9,
    "start_time": "2022-10-12T07:49:25.223Z"
   },
   {
    "duration": 10,
    "start_time": "2022-10-12T07:49:25.233Z"
   },
   {
    "duration": 9,
    "start_time": "2022-10-12T07:49:25.245Z"
   },
   {
    "duration": 10,
    "start_time": "2022-10-12T07:49:25.256Z"
   },
   {
    "duration": 32,
    "start_time": "2022-10-12T07:49:25.267Z"
   },
   {
    "duration": 4,
    "start_time": "2022-10-12T07:49:25.301Z"
   },
   {
    "duration": 12,
    "start_time": "2022-10-12T07:49:25.306Z"
   },
   {
    "duration": 6,
    "start_time": "2022-10-12T07:49:25.319Z"
   },
   {
    "duration": 19,
    "start_time": "2022-10-12T07:49:25.326Z"
   },
   {
    "duration": 22,
    "start_time": "2022-10-12T07:49:25.347Z"
   },
   {
    "duration": 281,
    "start_time": "2022-10-12T07:49:25.370Z"
   },
   {
    "duration": 5,
    "start_time": "2022-10-12T07:49:25.652Z"
   },
   {
    "duration": 34,
    "start_time": "2022-10-12T07:49:25.663Z"
   },
   {
    "duration": 469,
    "start_time": "2022-10-12T07:49:25.699Z"
   },
   {
    "duration": 119,
    "start_time": "2022-10-12T07:49:26.170Z"
   },
   {
    "duration": 13,
    "start_time": "2022-10-12T07:49:26.290Z"
   },
   {
    "duration": 8,
    "start_time": "2022-10-12T07:49:26.304Z"
   },
   {
    "duration": 259,
    "start_time": "2022-10-12T07:49:26.314Z"
   },
   {
    "duration": 399,
    "start_time": "2022-10-12T07:49:26.575Z"
   },
   {
    "duration": 262,
    "start_time": "2022-10-12T07:49:26.975Z"
   },
   {
    "duration": 230,
    "start_time": "2022-10-12T07:49:27.239Z"
   },
   {
    "duration": 140,
    "start_time": "2022-10-12T07:49:27.471Z"
   },
   {
    "duration": 159,
    "start_time": "2022-10-12T07:49:27.612Z"
   },
   {
    "duration": 189,
    "start_time": "2022-10-12T07:49:27.773Z"
   },
   {
    "duration": 231,
    "start_time": "2022-10-12T07:49:27.964Z"
   },
   {
    "duration": 128,
    "start_time": "2022-10-12T07:49:28.196Z"
   },
   {
    "duration": 172,
    "start_time": "2022-10-12T07:49:28.325Z"
   },
   {
    "duration": 274,
    "start_time": "2022-10-12T07:49:28.499Z"
   },
   {
    "duration": 206,
    "start_time": "2022-10-12T07:49:28.775Z"
   },
   {
    "duration": 161,
    "start_time": "2022-10-12T07:49:28.983Z"
   },
   {
    "duration": 163,
    "start_time": "2022-10-12T07:49:29.146Z"
   },
   {
    "duration": 176,
    "start_time": "2022-10-12T07:49:29.311Z"
   },
   {
    "duration": 179,
    "start_time": "2022-10-12T07:49:29.488Z"
   },
   {
    "duration": 11,
    "start_time": "2022-10-12T07:49:29.669Z"
   },
   {
    "duration": 173,
    "start_time": "2022-10-12T07:49:29.681Z"
   },
   {
    "duration": 7,
    "start_time": "2022-10-12T07:49:29.856Z"
   },
   {
    "duration": 8,
    "start_time": "2022-10-12T07:49:29.865Z"
   },
   {
    "duration": 253,
    "start_time": "2022-10-12T07:49:29.875Z"
   },
   {
    "duration": 7,
    "start_time": "2022-10-12T07:49:30.129Z"
   },
   {
    "duration": 25,
    "start_time": "2022-10-12T07:49:30.137Z"
   },
   {
    "duration": 24,
    "start_time": "2022-10-12T07:49:30.163Z"
   },
   {
    "duration": 27,
    "start_time": "2022-10-12T07:49:30.189Z"
   },
   {
    "duration": 169,
    "start_time": "2022-10-12T07:49:30.217Z"
   },
   {
    "duration": 174,
    "start_time": "2022-10-12T07:49:30.395Z"
   },
   {
    "duration": 174,
    "start_time": "2022-10-12T07:49:30.570Z"
   },
   {
    "duration": 212,
    "start_time": "2022-10-12T07:49:30.746Z"
   },
   {
    "duration": 22,
    "start_time": "2022-10-12T07:49:30.959Z"
   },
   {
    "duration": 224,
    "start_time": "2022-10-12T07:49:30.983Z"
   },
   {
    "duration": 4,
    "start_time": "2022-10-12T07:50:02.189Z"
   },
   {
    "duration": 1206,
    "start_time": "2022-10-12T07:50:06.867Z"
   },
   {
    "duration": 95,
    "start_time": "2022-10-12T07:50:08.075Z"
   },
   {
    "duration": 80,
    "start_time": "2022-10-12T07:50:08.172Z"
   },
   {
    "duration": 27,
    "start_time": "2022-10-12T07:50:08.253Z"
   },
   {
    "duration": 77,
    "start_time": "2022-10-12T07:50:08.282Z"
   },
   {
    "duration": 2016,
    "start_time": "2022-10-12T07:50:08.360Z"
   },
   {
    "duration": 9,
    "start_time": "2022-10-12T07:50:10.378Z"
   },
   {
    "duration": 10,
    "start_time": "2022-10-12T07:50:10.388Z"
   },
   {
    "duration": 3,
    "start_time": "2022-10-12T07:50:10.400Z"
   },
   {
    "duration": 10,
    "start_time": "2022-10-12T07:50:10.405Z"
   },
   {
    "duration": 163,
    "start_time": "2022-10-12T07:50:10.417Z"
   },
   {
    "duration": 18,
    "start_time": "2022-10-12T07:50:10.582Z"
   },
   {
    "duration": 24,
    "start_time": "2022-10-12T07:50:10.602Z"
   },
   {
    "duration": 4,
    "start_time": "2022-10-12T07:50:10.629Z"
   },
   {
    "duration": 5,
    "start_time": "2022-10-12T07:50:10.635Z"
   },
   {
    "duration": 16,
    "start_time": "2022-10-12T07:50:10.642Z"
   },
   {
    "duration": 63,
    "start_time": "2022-10-12T07:50:10.659Z"
   },
   {
    "duration": 4,
    "start_time": "2022-10-12T07:50:10.726Z"
   },
   {
    "duration": 14,
    "start_time": "2022-10-12T07:50:10.731Z"
   },
   {
    "duration": 15,
    "start_time": "2022-10-12T07:50:10.747Z"
   },
   {
    "duration": 12,
    "start_time": "2022-10-12T07:50:10.764Z"
   },
   {
    "duration": 18,
    "start_time": "2022-10-12T07:50:10.778Z"
   },
   {
    "duration": 13,
    "start_time": "2022-10-12T07:50:10.798Z"
   },
   {
    "duration": 12,
    "start_time": "2022-10-12T07:50:10.812Z"
   },
   {
    "duration": 156,
    "start_time": "2022-10-12T07:50:10.826Z"
   },
   {
    "duration": 13,
    "start_time": "2022-10-12T07:50:10.983Z"
   },
   {
    "duration": 8,
    "start_time": "2022-10-12T07:50:10.997Z"
   },
   {
    "duration": 6,
    "start_time": "2022-10-12T07:50:11.007Z"
   },
   {
    "duration": 6,
    "start_time": "2022-10-12T07:50:11.015Z"
   },
   {
    "duration": 6,
    "start_time": "2022-10-12T07:50:11.023Z"
   },
   {
    "duration": 8,
    "start_time": "2022-10-12T07:50:11.030Z"
   },
   {
    "duration": 5,
    "start_time": "2022-10-12T07:50:11.040Z"
   },
   {
    "duration": 57,
    "start_time": "2022-10-12T07:50:11.046Z"
   },
   {
    "duration": 7,
    "start_time": "2022-10-12T07:50:11.105Z"
   },
   {
    "duration": 14,
    "start_time": "2022-10-12T07:50:11.114Z"
   },
   {
    "duration": 5,
    "start_time": "2022-10-12T07:50:11.130Z"
   },
   {
    "duration": 7,
    "start_time": "2022-10-12T07:50:11.137Z"
   },
   {
    "duration": 21,
    "start_time": "2022-10-12T07:50:11.146Z"
   },
   {
    "duration": 260,
    "start_time": "2022-10-12T07:50:11.194Z"
   },
   {
    "duration": 5,
    "start_time": "2022-10-12T07:50:11.455Z"
   },
   {
    "duration": 38,
    "start_time": "2022-10-12T07:50:11.464Z"
   },
   {
    "duration": 547,
    "start_time": "2022-10-12T07:50:11.504Z"
   },
   {
    "duration": 123,
    "start_time": "2022-10-12T07:50:12.052Z"
   },
   {
    "duration": 21,
    "start_time": "2022-10-12T07:50:12.177Z"
   },
   {
    "duration": 11,
    "start_time": "2022-10-12T07:50:12.200Z"
   },
   {
    "duration": 236,
    "start_time": "2022-10-12T07:50:12.213Z"
   },
   {
    "duration": 329,
    "start_time": "2022-10-12T07:50:12.451Z"
   },
   {
    "duration": 291,
    "start_time": "2022-10-12T07:50:12.782Z"
   },
   {
    "duration": 216,
    "start_time": "2022-10-12T07:50:13.075Z"
   },
   {
    "duration": 149,
    "start_time": "2022-10-12T07:50:13.295Z"
   },
   {
    "duration": 156,
    "start_time": "2022-10-12T07:50:13.446Z"
   },
   {
    "duration": 157,
    "start_time": "2022-10-12T07:50:13.604Z"
   },
   {
    "duration": 183,
    "start_time": "2022-10-12T07:50:13.763Z"
   },
   {
    "duration": 132,
    "start_time": "2022-10-12T07:50:13.949Z"
   },
   {
    "duration": 170,
    "start_time": "2022-10-12T07:50:14.083Z"
   },
   {
    "duration": 269,
    "start_time": "2022-10-12T07:50:14.255Z"
   },
   {
    "duration": 155,
    "start_time": "2022-10-12T07:50:14.525Z"
   },
   {
    "duration": 162,
    "start_time": "2022-10-12T07:50:14.681Z"
   },
   {
    "duration": 169,
    "start_time": "2022-10-12T07:50:14.845Z"
   },
   {
    "duration": 167,
    "start_time": "2022-10-12T07:50:15.016Z"
   },
   {
    "duration": 179,
    "start_time": "2022-10-12T07:50:15.184Z"
   },
   {
    "duration": 9,
    "start_time": "2022-10-12T07:50:15.365Z"
   },
   {
    "duration": 145,
    "start_time": "2022-10-12T07:50:15.376Z"
   },
   {
    "duration": 8,
    "start_time": "2022-10-12T07:50:15.523Z"
   },
   {
    "duration": 8,
    "start_time": "2022-10-12T07:50:15.533Z"
   },
   {
    "duration": 257,
    "start_time": "2022-10-12T07:50:15.543Z"
   },
   {
    "duration": 5,
    "start_time": "2022-10-12T07:50:15.802Z"
   },
   {
    "duration": 17,
    "start_time": "2022-10-12T07:50:15.809Z"
   },
   {
    "duration": 16,
    "start_time": "2022-10-12T07:50:15.827Z"
   },
   {
    "duration": 6,
    "start_time": "2022-10-12T07:50:15.844Z"
   },
   {
    "duration": 165,
    "start_time": "2022-10-12T07:50:15.851Z"
   },
   {
    "duration": 177,
    "start_time": "2022-10-12T07:50:16.018Z"
   },
   {
    "duration": 181,
    "start_time": "2022-10-12T07:50:16.196Z"
   },
   {
    "duration": 214,
    "start_time": "2022-10-12T07:50:16.379Z"
   },
   {
    "duration": 30,
    "start_time": "2022-10-12T07:50:16.595Z"
   },
   {
    "duration": 242,
    "start_time": "2022-10-12T07:50:16.627Z"
   },
   {
    "duration": 165,
    "start_time": "2022-10-12T07:56:40.928Z"
   },
   {
    "duration": 128,
    "start_time": "2022-10-12T07:56:43.916Z"
   },
   {
    "duration": 1261,
    "start_time": "2022-10-12T07:58:05.079Z"
   },
   {
    "duration": 107,
    "start_time": "2022-10-12T07:58:06.342Z"
   },
   {
    "duration": 109,
    "start_time": "2022-10-12T07:58:06.450Z"
   },
   {
    "duration": 33,
    "start_time": "2022-10-12T07:58:06.562Z"
   },
   {
    "duration": 91,
    "start_time": "2022-10-12T07:58:06.597Z"
   },
   {
    "duration": 2020,
    "start_time": "2022-10-12T07:58:06.696Z"
   },
   {
    "duration": 7,
    "start_time": "2022-10-12T07:58:08.718Z"
   },
   {
    "duration": 11,
    "start_time": "2022-10-12T07:58:08.727Z"
   },
   {
    "duration": 4,
    "start_time": "2022-10-12T07:58:08.739Z"
   },
   {
    "duration": 9,
    "start_time": "2022-10-12T07:58:08.747Z"
   },
   {
    "duration": 195,
    "start_time": "2022-10-12T07:58:08.758Z"
   },
   {
    "duration": 11,
    "start_time": "2022-10-12T07:58:08.954Z"
   },
   {
    "duration": 34,
    "start_time": "2022-10-12T07:58:08.967Z"
   },
   {
    "duration": 4,
    "start_time": "2022-10-12T07:58:09.002Z"
   },
   {
    "duration": 14,
    "start_time": "2022-10-12T07:58:09.009Z"
   },
   {
    "duration": 31,
    "start_time": "2022-10-12T07:58:09.025Z"
   },
   {
    "duration": 43,
    "start_time": "2022-10-12T07:58:09.058Z"
   },
   {
    "duration": 3,
    "start_time": "2022-10-12T07:58:09.105Z"
   },
   {
    "duration": 15,
    "start_time": "2022-10-12T07:58:09.109Z"
   },
   {
    "duration": 15,
    "start_time": "2022-10-12T07:58:09.126Z"
   },
   {
    "duration": 10,
    "start_time": "2022-10-12T07:58:09.143Z"
   },
   {
    "duration": 13,
    "start_time": "2022-10-12T07:58:09.155Z"
   },
   {
    "duration": 29,
    "start_time": "2022-10-12T07:58:09.169Z"
   },
   {
    "duration": 10,
    "start_time": "2022-10-12T07:58:09.200Z"
   },
   {
    "duration": 150,
    "start_time": "2022-10-12T07:58:09.212Z"
   },
   {
    "duration": 6,
    "start_time": "2022-10-12T07:58:09.364Z"
   },
   {
    "duration": 8,
    "start_time": "2022-10-12T07:58:09.372Z"
   },
   {
    "duration": 6,
    "start_time": "2022-10-12T07:58:09.396Z"
   },
   {
    "duration": 11,
    "start_time": "2022-10-12T07:58:09.403Z"
   },
   {
    "duration": 6,
    "start_time": "2022-10-12T07:58:09.416Z"
   },
   {
    "duration": 7,
    "start_time": "2022-10-12T07:58:09.424Z"
   },
   {
    "duration": 7,
    "start_time": "2022-10-12T07:58:09.433Z"
   },
   {
    "duration": 25,
    "start_time": "2022-10-12T07:58:09.442Z"
   },
   {
    "duration": 6,
    "start_time": "2022-10-12T07:58:09.495Z"
   },
   {
    "duration": 26,
    "start_time": "2022-10-12T07:58:09.503Z"
   },
   {
    "duration": 6,
    "start_time": "2022-10-12T07:58:09.531Z"
   },
   {
    "duration": 6,
    "start_time": "2022-10-12T07:58:09.539Z"
   },
   {
    "duration": 55,
    "start_time": "2022-10-12T07:58:09.547Z"
   },
   {
    "duration": 290,
    "start_time": "2022-10-12T07:58:09.604Z"
   },
   {
    "duration": 6,
    "start_time": "2022-10-12T07:58:09.895Z"
   },
   {
    "duration": 44,
    "start_time": "2022-10-12T07:58:09.904Z"
   },
   {
    "duration": 485,
    "start_time": "2022-10-12T07:58:09.950Z"
   },
   {
    "duration": 127,
    "start_time": "2022-10-12T07:58:10.437Z"
   },
   {
    "duration": 9,
    "start_time": "2022-10-12T07:58:10.565Z"
   },
   {
    "duration": 24,
    "start_time": "2022-10-12T07:58:10.576Z"
   },
   {
    "duration": 229,
    "start_time": "2022-10-12T07:58:10.602Z"
   },
   {
    "duration": 332,
    "start_time": "2022-10-12T07:58:10.833Z"
   },
   {
    "duration": 260,
    "start_time": "2022-10-12T07:58:11.167Z"
   },
   {
    "duration": 267,
    "start_time": "2022-10-12T07:58:11.429Z"
   },
   {
    "duration": 164,
    "start_time": "2022-10-12T07:58:11.697Z"
   },
   {
    "duration": 155,
    "start_time": "2022-10-12T07:58:11.863Z"
   },
   {
    "duration": 182,
    "start_time": "2022-10-12T07:58:12.020Z"
   },
   {
    "duration": 178,
    "start_time": "2022-10-12T07:58:12.204Z"
   },
   {
    "duration": 116,
    "start_time": "2022-10-12T07:58:12.384Z"
   },
   {
    "duration": 180,
    "start_time": "2022-10-12T07:58:12.503Z"
   },
   {
    "duration": 306,
    "start_time": "2022-10-12T07:58:12.684Z"
   },
   {
    "duration": 169,
    "start_time": "2022-10-12T07:58:12.992Z"
   },
   {
    "duration": 239,
    "start_time": "2022-10-12T07:58:13.163Z"
   },
   {
    "duration": 184,
    "start_time": "2022-10-12T07:58:13.404Z"
   },
   {
    "duration": 209,
    "start_time": "2022-10-12T07:58:13.590Z"
   },
   {
    "duration": 230,
    "start_time": "2022-10-12T07:58:13.802Z"
   },
   {
    "duration": 11,
    "start_time": "2022-10-12T07:58:14.034Z"
   },
   {
    "duration": 136,
    "start_time": "2022-10-12T07:58:14.047Z"
   },
   {
    "duration": 16,
    "start_time": "2022-10-12T07:58:14.185Z"
   },
   {
    "duration": 24,
    "start_time": "2022-10-12T07:58:14.202Z"
   },
   {
    "duration": 251,
    "start_time": "2022-10-12T07:58:14.228Z"
   },
   {
    "duration": 16,
    "start_time": "2022-10-12T07:58:14.481Z"
   },
   {
    "duration": 7,
    "start_time": "2022-10-12T07:58:14.499Z"
   },
   {
    "duration": 7,
    "start_time": "2022-10-12T07:58:14.508Z"
   },
   {
    "duration": 6,
    "start_time": "2022-10-12T07:58:14.516Z"
   },
   {
    "duration": 191,
    "start_time": "2022-10-12T07:58:14.524Z"
   },
   {
    "duration": 187,
    "start_time": "2022-10-12T07:58:14.717Z"
   },
   {
    "duration": 210,
    "start_time": "2022-10-12T07:58:14.906Z"
   },
   {
    "duration": 171,
    "start_time": "2022-10-12T07:58:15.118Z"
   },
   {
    "duration": 24,
    "start_time": "2022-10-12T07:58:15.291Z"
   },
   {
    "duration": 296,
    "start_time": "2022-10-12T07:58:15.317Z"
   },
   {
    "duration": 1246,
    "start_time": "2022-10-12T07:59:02.876Z"
   },
   {
    "duration": 99,
    "start_time": "2022-10-12T07:59:04.125Z"
   },
   {
    "duration": 92,
    "start_time": "2022-10-12T07:59:04.226Z"
   },
   {
    "duration": 41,
    "start_time": "2022-10-12T07:59:04.322Z"
   },
   {
    "duration": 89,
    "start_time": "2022-10-12T07:59:04.365Z"
   },
   {
    "duration": 2580,
    "start_time": "2022-10-12T07:59:04.456Z"
   },
   {
    "duration": 10,
    "start_time": "2022-10-12T07:59:07.039Z"
   },
   {
    "duration": 16,
    "start_time": "2022-10-12T07:59:07.051Z"
   },
   {
    "duration": 5,
    "start_time": "2022-10-12T07:59:07.070Z"
   },
   {
    "duration": 12,
    "start_time": "2022-10-12T07:59:07.079Z"
   },
   {
    "duration": 171,
    "start_time": "2022-10-12T07:59:07.096Z"
   },
   {
    "duration": 11,
    "start_time": "2022-10-12T07:59:07.269Z"
   },
   {
    "duration": 43,
    "start_time": "2022-10-12T07:59:07.282Z"
   },
   {
    "duration": 4,
    "start_time": "2022-10-12T07:59:07.327Z"
   },
   {
    "duration": 13,
    "start_time": "2022-10-12T07:59:07.333Z"
   },
   {
    "duration": 17,
    "start_time": "2022-10-12T07:59:07.348Z"
   },
   {
    "duration": 44,
    "start_time": "2022-10-12T07:59:07.367Z"
   },
   {
    "duration": 5,
    "start_time": "2022-10-12T07:59:07.413Z"
   },
   {
    "duration": 7,
    "start_time": "2022-10-12T07:59:07.420Z"
   },
   {
    "duration": 11,
    "start_time": "2022-10-12T07:59:07.429Z"
   },
   {
    "duration": 15,
    "start_time": "2022-10-12T07:59:07.442Z"
   },
   {
    "duration": 43,
    "start_time": "2022-10-12T07:59:07.459Z"
   },
   {
    "duration": 24,
    "start_time": "2022-10-12T07:59:07.505Z"
   },
   {
    "duration": 10,
    "start_time": "2022-10-12T07:59:07.531Z"
   },
   {
    "duration": 150,
    "start_time": "2022-10-12T07:59:07.542Z"
   },
   {
    "duration": 9,
    "start_time": "2022-10-12T07:59:07.694Z"
   },
   {
    "duration": 7,
    "start_time": "2022-10-12T07:59:07.705Z"
   },
   {
    "duration": 6,
    "start_time": "2022-10-12T07:59:07.716Z"
   },
   {
    "duration": 13,
    "start_time": "2022-10-12T07:59:07.723Z"
   },
   {
    "duration": 9,
    "start_time": "2022-10-12T07:59:07.738Z"
   },
   {
    "duration": 10,
    "start_time": "2022-10-12T07:59:07.749Z"
   },
   {
    "duration": 10,
    "start_time": "2022-10-12T07:59:07.761Z"
   },
   {
    "duration": 47,
    "start_time": "2022-10-12T07:59:07.800Z"
   },
   {
    "duration": 5,
    "start_time": "2022-10-12T07:59:07.849Z"
   },
   {
    "duration": 20,
    "start_time": "2022-10-12T07:59:07.856Z"
   },
   {
    "duration": 21,
    "start_time": "2022-10-12T07:59:07.878Z"
   },
   {
    "duration": 10,
    "start_time": "2022-10-12T07:59:07.902Z"
   },
   {
    "duration": 35,
    "start_time": "2022-10-12T07:59:07.914Z"
   },
   {
    "duration": 330,
    "start_time": "2022-10-12T07:59:07.952Z"
   },
   {
    "duration": 5,
    "start_time": "2022-10-12T07:59:08.284Z"
   },
   {
    "duration": 28,
    "start_time": "2022-10-12T07:59:08.291Z"
   },
   {
    "duration": 515,
    "start_time": "2022-10-12T07:59:08.321Z"
   },
   {
    "duration": 140,
    "start_time": "2022-10-12T07:59:08.837Z"
   },
   {
    "duration": 17,
    "start_time": "2022-10-12T07:59:08.979Z"
   },
   {
    "duration": 10,
    "start_time": "2022-10-12T07:59:08.998Z"
   },
   {
    "duration": 235,
    "start_time": "2022-10-12T07:59:09.010Z"
   },
   {
    "duration": 338,
    "start_time": "2022-10-12T07:59:09.247Z"
   },
   {
    "duration": 242,
    "start_time": "2022-10-12T07:59:09.587Z"
   },
   {
    "duration": 219,
    "start_time": "2022-10-12T07:59:09.830Z"
   },
   {
    "duration": 165,
    "start_time": "2022-10-12T07:59:10.051Z"
   },
   {
    "duration": 168,
    "start_time": "2022-10-12T07:59:10.218Z"
   },
   {
    "duration": 161,
    "start_time": "2022-10-12T07:59:10.388Z"
   },
   {
    "duration": 179,
    "start_time": "2022-10-12T07:59:10.551Z"
   },
   {
    "duration": 135,
    "start_time": "2022-10-12T07:59:10.732Z"
   },
   {
    "duration": 169,
    "start_time": "2022-10-12T07:59:10.869Z"
   },
   {
    "duration": 312,
    "start_time": "2022-10-12T07:59:11.039Z"
   },
   {
    "duration": 197,
    "start_time": "2022-10-12T07:59:11.353Z"
   },
   {
    "duration": 201,
    "start_time": "2022-10-12T07:59:11.552Z"
   },
   {
    "duration": 171,
    "start_time": "2022-10-12T07:59:11.755Z"
   },
   {
    "duration": 187,
    "start_time": "2022-10-12T07:59:11.927Z"
   },
   {
    "duration": 186,
    "start_time": "2022-10-12T07:59:12.115Z"
   },
   {
    "duration": 11,
    "start_time": "2022-10-12T07:59:12.303Z"
   },
   {
    "duration": 155,
    "start_time": "2022-10-12T07:59:12.316Z"
   },
   {
    "duration": 7,
    "start_time": "2022-10-12T07:59:12.473Z"
   },
   {
    "duration": 24,
    "start_time": "2022-10-12T07:59:12.482Z"
   },
   {
    "duration": 249,
    "start_time": "2022-10-12T07:59:12.508Z"
   },
   {
    "duration": 6,
    "start_time": "2022-10-12T07:59:12.759Z"
   },
   {
    "duration": 8,
    "start_time": "2022-10-12T07:59:12.767Z"
   },
   {
    "duration": 23,
    "start_time": "2022-10-12T07:59:12.801Z"
   },
   {
    "duration": 35,
    "start_time": "2022-10-12T07:59:12.827Z"
   },
   {
    "duration": 182,
    "start_time": "2022-10-12T07:59:12.864Z"
   },
   {
    "duration": 198,
    "start_time": "2022-10-12T07:59:13.049Z"
   },
   {
    "duration": 187,
    "start_time": "2022-10-12T07:59:13.249Z"
   },
   {
    "duration": 284,
    "start_time": "2022-10-12T07:59:13.438Z"
   },
   {
    "duration": 23,
    "start_time": "2022-10-12T07:59:13.724Z"
   },
   {
    "duration": 252,
    "start_time": "2022-10-12T07:59:13.749Z"
   },
   {
    "duration": 226,
    "start_time": "2022-10-12T08:04:09.530Z"
   },
   {
    "duration": 114,
    "start_time": "2022-10-12T08:04:18.510Z"
   },
   {
    "duration": 9,
    "start_time": "2022-10-12T08:10:27.059Z"
   },
   {
    "duration": 9,
    "start_time": "2022-10-12T08:15:17.109Z"
   },
   {
    "duration": 1228,
    "start_time": "2022-10-12T08:16:30.191Z"
   },
   {
    "duration": 93,
    "start_time": "2022-10-12T08:16:31.422Z"
   },
   {
    "duration": 92,
    "start_time": "2022-10-12T08:16:31.517Z"
   },
   {
    "duration": 26,
    "start_time": "2022-10-12T08:16:31.611Z"
   },
   {
    "duration": 60,
    "start_time": "2022-10-12T08:16:31.639Z"
   },
   {
    "duration": 2027,
    "start_time": "2022-10-12T08:16:31.705Z"
   },
   {
    "duration": 9,
    "start_time": "2022-10-12T08:16:33.735Z"
   },
   {
    "duration": 13,
    "start_time": "2022-10-12T08:16:33.746Z"
   },
   {
    "duration": 4,
    "start_time": "2022-10-12T08:16:33.761Z"
   },
   {
    "duration": 6,
    "start_time": "2022-10-12T08:16:33.768Z"
   },
   {
    "duration": 147,
    "start_time": "2022-10-12T08:16:33.776Z"
   },
   {
    "duration": 10,
    "start_time": "2022-10-12T08:16:33.925Z"
   },
   {
    "duration": 22,
    "start_time": "2022-10-12T08:16:33.936Z"
   },
   {
    "duration": 5,
    "start_time": "2022-10-12T08:16:33.960Z"
   },
   {
    "duration": 44,
    "start_time": "2022-10-12T08:16:33.966Z"
   },
   {
    "duration": 24,
    "start_time": "2022-10-12T08:16:34.012Z"
   },
   {
    "duration": 28,
    "start_time": "2022-10-12T08:16:34.038Z"
   },
   {
    "duration": 6,
    "start_time": "2022-10-12T08:16:34.068Z"
   },
   {
    "duration": 6,
    "start_time": "2022-10-12T08:16:34.076Z"
   },
   {
    "duration": 7,
    "start_time": "2022-10-12T08:16:34.083Z"
   },
   {
    "duration": 17,
    "start_time": "2022-10-12T08:16:34.097Z"
   },
   {
    "duration": 8,
    "start_time": "2022-10-12T08:16:34.115Z"
   },
   {
    "duration": 11,
    "start_time": "2022-10-12T08:16:34.125Z"
   },
   {
    "duration": 7,
    "start_time": "2022-10-12T08:16:34.137Z"
   },
   {
    "duration": 143,
    "start_time": "2022-10-12T08:16:34.146Z"
   },
   {
    "duration": 20,
    "start_time": "2022-10-12T08:16:34.290Z"
   },
   {
    "duration": 7,
    "start_time": "2022-10-12T08:16:34.312Z"
   },
   {
    "duration": 7,
    "start_time": "2022-10-12T08:16:34.323Z"
   },
   {
    "duration": 10,
    "start_time": "2022-10-12T08:16:34.331Z"
   },
   {
    "duration": 9,
    "start_time": "2022-10-12T08:16:34.343Z"
   },
   {
    "duration": 8,
    "start_time": "2022-10-12T08:16:34.353Z"
   },
   {
    "duration": 9,
    "start_time": "2022-10-12T08:16:34.362Z"
   },
   {
    "duration": 38,
    "start_time": "2022-10-12T08:16:34.373Z"
   },
   {
    "duration": 5,
    "start_time": "2022-10-12T08:16:34.413Z"
   },
   {
    "duration": 16,
    "start_time": "2022-10-12T08:16:34.420Z"
   },
   {
    "duration": 6,
    "start_time": "2022-10-12T08:16:34.438Z"
   },
   {
    "duration": 5,
    "start_time": "2022-10-12T08:16:34.446Z"
   },
   {
    "duration": 53,
    "start_time": "2022-10-12T08:16:34.452Z"
   },
   {
    "duration": 313,
    "start_time": "2022-10-12T08:16:34.509Z"
   },
   {
    "duration": 6,
    "start_time": "2022-10-12T08:16:34.824Z"
   },
   {
    "duration": 35,
    "start_time": "2022-10-12T08:16:34.833Z"
   },
   {
    "duration": 510,
    "start_time": "2022-10-12T08:16:34.870Z"
   },
   {
    "duration": 134,
    "start_time": "2022-10-12T08:16:35.382Z"
   },
   {
    "duration": 9,
    "start_time": "2022-10-12T08:16:35.517Z"
   },
   {
    "duration": 9,
    "start_time": "2022-10-12T08:16:35.528Z"
   },
   {
    "duration": 240,
    "start_time": "2022-10-12T08:16:35.539Z"
   },
   {
    "duration": 353,
    "start_time": "2022-10-12T08:16:35.780Z"
   },
   {
    "duration": 254,
    "start_time": "2022-10-12T08:16:36.136Z"
   },
   {
    "duration": 251,
    "start_time": "2022-10-12T08:16:36.395Z"
   },
   {
    "duration": 163,
    "start_time": "2022-10-12T08:16:36.648Z"
   },
   {
    "duration": 170,
    "start_time": "2022-10-12T08:16:36.813Z"
   },
   {
    "duration": 166,
    "start_time": "2022-10-12T08:16:36.985Z"
   },
   {
    "duration": 208,
    "start_time": "2022-10-12T08:16:37.153Z"
   },
   {
    "duration": 116,
    "start_time": "2022-10-12T08:16:37.363Z"
   },
   {
    "duration": 166,
    "start_time": "2022-10-12T08:16:37.481Z"
   },
   {
    "duration": 283,
    "start_time": "2022-10-12T08:16:37.649Z"
   },
   {
    "duration": 180,
    "start_time": "2022-10-12T08:16:37.934Z"
   },
   {
    "duration": 9,
    "start_time": "2022-10-12T08:16:38.116Z"
   },
   {
    "duration": 164,
    "start_time": "2022-10-12T08:16:38.127Z"
   },
   {
    "duration": 174,
    "start_time": "2022-10-12T08:16:38.295Z"
   },
   {
    "duration": 160,
    "start_time": "2022-10-12T08:16:38.470Z"
   },
   {
    "duration": 186,
    "start_time": "2022-10-12T08:16:38.632Z"
   },
   {
    "duration": 13,
    "start_time": "2022-10-12T08:16:38.819Z"
   },
   {
    "duration": 144,
    "start_time": "2022-10-12T08:16:38.833Z"
   },
   {
    "duration": 7,
    "start_time": "2022-10-12T08:16:38.978Z"
   },
   {
    "duration": 8,
    "start_time": "2022-10-12T08:16:38.999Z"
   },
   {
    "duration": 228,
    "start_time": "2022-10-12T08:16:39.009Z"
   },
   {
    "duration": 6,
    "start_time": "2022-10-12T08:16:39.239Z"
   },
   {
    "duration": 6,
    "start_time": "2022-10-12T08:16:39.246Z"
   },
   {
    "duration": 6,
    "start_time": "2022-10-12T08:16:39.253Z"
   },
   {
    "duration": 7,
    "start_time": "2022-10-12T08:16:39.260Z"
   },
   {
    "duration": 181,
    "start_time": "2022-10-12T08:16:39.269Z"
   },
   {
    "duration": 181,
    "start_time": "2022-10-12T08:16:39.452Z"
   },
   {
    "duration": 180,
    "start_time": "2022-10-12T08:16:39.635Z"
   },
   {
    "duration": 166,
    "start_time": "2022-10-12T08:16:39.817Z"
   },
   {
    "duration": 40,
    "start_time": "2022-10-12T08:16:39.985Z"
   },
   {
    "duration": 193,
    "start_time": "2022-10-12T08:16:40.027Z"
   },
   {
    "duration": 1238,
    "start_time": "2022-10-12T08:17:25.282Z"
   },
   {
    "duration": 127,
    "start_time": "2022-10-12T08:17:26.525Z"
   },
   {
    "duration": 99,
    "start_time": "2022-10-12T08:17:26.654Z"
   },
   {
    "duration": 45,
    "start_time": "2022-10-12T08:17:26.756Z"
   },
   {
    "duration": 115,
    "start_time": "2022-10-12T08:17:26.803Z"
   },
   {
    "duration": 2153,
    "start_time": "2022-10-12T08:17:26.920Z"
   },
   {
    "duration": 7,
    "start_time": "2022-10-12T08:17:29.075Z"
   },
   {
    "duration": 37,
    "start_time": "2022-10-12T08:17:29.084Z"
   },
   {
    "duration": 8,
    "start_time": "2022-10-12T08:17:29.122Z"
   },
   {
    "duration": 22,
    "start_time": "2022-10-12T08:17:29.132Z"
   },
   {
    "duration": 154,
    "start_time": "2022-10-12T08:17:29.156Z"
   },
   {
    "duration": 12,
    "start_time": "2022-10-12T08:17:29.314Z"
   },
   {
    "duration": 29,
    "start_time": "2022-10-12T08:17:29.328Z"
   },
   {
    "duration": 9,
    "start_time": "2022-10-12T08:17:29.358Z"
   },
   {
    "duration": 28,
    "start_time": "2022-10-12T08:17:29.369Z"
   },
   {
    "duration": 42,
    "start_time": "2022-10-12T08:17:29.398Z"
   },
   {
    "duration": 42,
    "start_time": "2022-10-12T08:17:29.444Z"
   },
   {
    "duration": 12,
    "start_time": "2022-10-12T08:17:29.488Z"
   },
   {
    "duration": 33,
    "start_time": "2022-10-12T08:17:29.502Z"
   },
   {
    "duration": 20,
    "start_time": "2022-10-12T08:17:29.537Z"
   },
   {
    "duration": 12,
    "start_time": "2022-10-12T08:17:29.560Z"
   },
   {
    "duration": 10,
    "start_time": "2022-10-12T08:17:29.574Z"
   },
   {
    "duration": 40,
    "start_time": "2022-10-12T08:17:29.586Z"
   },
   {
    "duration": 9,
    "start_time": "2022-10-12T08:17:29.628Z"
   },
   {
    "duration": 140,
    "start_time": "2022-10-12T08:17:29.639Z"
   },
   {
    "duration": 18,
    "start_time": "2022-10-12T08:17:29.781Z"
   },
   {
    "duration": 8,
    "start_time": "2022-10-12T08:17:29.808Z"
   },
   {
    "duration": 9,
    "start_time": "2022-10-12T08:17:29.820Z"
   },
   {
    "duration": 9,
    "start_time": "2022-10-12T08:17:29.831Z"
   },
   {
    "duration": 6,
    "start_time": "2022-10-12T08:17:29.842Z"
   },
   {
    "duration": 8,
    "start_time": "2022-10-12T08:17:29.850Z"
   },
   {
    "duration": 8,
    "start_time": "2022-10-12T08:17:29.860Z"
   },
   {
    "duration": 49,
    "start_time": "2022-10-12T08:17:29.870Z"
   },
   {
    "duration": 22,
    "start_time": "2022-10-12T08:17:29.921Z"
   },
   {
    "duration": 17,
    "start_time": "2022-10-12T08:17:29.945Z"
   },
   {
    "duration": 5,
    "start_time": "2022-10-12T08:17:29.964Z"
   },
   {
    "duration": 11,
    "start_time": "2022-10-12T08:17:29.971Z"
   },
   {
    "duration": 37,
    "start_time": "2022-10-12T08:17:29.984Z"
   },
   {
    "duration": 311,
    "start_time": "2022-10-12T08:17:30.023Z"
   },
   {
    "duration": 6,
    "start_time": "2022-10-12T08:17:30.339Z"
   },
   {
    "duration": 79,
    "start_time": "2022-10-12T08:17:30.347Z"
   },
   {
    "duration": 608,
    "start_time": "2022-10-12T08:17:30.428Z"
   },
   {
    "duration": 152,
    "start_time": "2022-10-12T08:17:31.038Z"
   },
   {
    "duration": 16,
    "start_time": "2022-10-12T08:17:31.192Z"
   },
   {
    "duration": 34,
    "start_time": "2022-10-12T08:17:31.210Z"
   },
   {
    "duration": 249,
    "start_time": "2022-10-12T08:17:31.246Z"
   },
   {
    "duration": 349,
    "start_time": "2022-10-12T08:17:31.503Z"
   },
   {
    "duration": 294,
    "start_time": "2022-10-12T08:17:31.855Z"
   },
   {
    "duration": 317,
    "start_time": "2022-10-12T08:17:32.151Z"
   },
   {
    "duration": 177,
    "start_time": "2022-10-12T08:17:32.469Z"
   },
   {
    "duration": 172,
    "start_time": "2022-10-12T08:17:32.648Z"
   },
   {
    "duration": 226,
    "start_time": "2022-10-12T08:17:32.822Z"
   },
   {
    "duration": 280,
    "start_time": "2022-10-12T08:17:33.050Z"
   },
   {
    "duration": 133,
    "start_time": "2022-10-12T08:17:33.331Z"
   },
   {
    "duration": 179,
    "start_time": "2022-10-12T08:17:33.465Z"
   },
   {
    "duration": 402,
    "start_time": "2022-10-12T08:17:33.645Z"
   },
   {
    "duration": 226,
    "start_time": "2022-10-12T08:17:34.048Z"
   },
   {
    "duration": 26,
    "start_time": "2022-10-12T08:17:34.276Z"
   },
   {
    "duration": 194,
    "start_time": "2022-10-12T08:17:34.304Z"
   },
   {
    "duration": 212,
    "start_time": "2022-10-12T08:17:34.504Z"
   },
   {
    "duration": 172,
    "start_time": "2022-10-12T08:17:34.718Z"
   },
   {
    "duration": 215,
    "start_time": "2022-10-12T08:17:34.894Z"
   },
   {
    "duration": 10,
    "start_time": "2022-10-12T08:17:35.111Z"
   },
   {
    "duration": 150,
    "start_time": "2022-10-12T08:17:35.123Z"
   },
   {
    "duration": 7,
    "start_time": "2022-10-12T08:17:35.275Z"
   },
   {
    "duration": 38,
    "start_time": "2022-10-12T08:17:35.284Z"
   },
   {
    "duration": 265,
    "start_time": "2022-10-12T08:17:35.324Z"
   },
   {
    "duration": 6,
    "start_time": "2022-10-12T08:17:35.596Z"
   },
   {
    "duration": 10,
    "start_time": "2022-10-12T08:17:35.603Z"
   },
   {
    "duration": 23,
    "start_time": "2022-10-12T08:17:35.616Z"
   },
   {
    "duration": 28,
    "start_time": "2022-10-12T08:17:35.640Z"
   },
   {
    "duration": 191,
    "start_time": "2022-10-12T08:17:35.669Z"
   },
   {
    "duration": 184,
    "start_time": "2022-10-12T08:17:35.861Z"
   },
   {
    "duration": 193,
    "start_time": "2022-10-12T08:17:36.047Z"
   },
   {
    "duration": 188,
    "start_time": "2022-10-12T08:17:36.242Z"
   },
   {
    "duration": 23,
    "start_time": "2022-10-12T08:17:36.432Z"
   },
   {
    "duration": 267,
    "start_time": "2022-10-12T08:17:36.456Z"
   },
   {
    "duration": 149,
    "start_time": "2022-10-12T08:39:54.019Z"
   },
   {
    "duration": 229,
    "start_time": "2022-10-12T08:40:20.773Z"
   },
   {
    "duration": 242,
    "start_time": "2022-10-12T08:40:56.234Z"
   },
   {
    "duration": 200,
    "start_time": "2022-10-12T08:41:07.791Z"
   },
   {
    "duration": 358,
    "start_time": "2022-10-12T08:49:43.975Z"
   },
   {
    "duration": 184,
    "start_time": "2022-10-12T08:49:53.238Z"
   },
   {
    "duration": 1237,
    "start_time": "2022-10-12T09:07:44.122Z"
   },
   {
    "duration": 94,
    "start_time": "2022-10-12T09:07:45.361Z"
   },
   {
    "duration": 84,
    "start_time": "2022-10-12T09:07:45.456Z"
   },
   {
    "duration": 27,
    "start_time": "2022-10-12T09:07:45.542Z"
   },
   {
    "duration": 74,
    "start_time": "2022-10-12T09:07:45.572Z"
   },
   {
    "duration": 2084,
    "start_time": "2022-10-12T09:07:45.648Z"
   },
   {
    "duration": 8,
    "start_time": "2022-10-12T09:07:47.734Z"
   },
   {
    "duration": 10,
    "start_time": "2022-10-12T09:07:47.744Z"
   },
   {
    "duration": 3,
    "start_time": "2022-10-12T09:07:47.756Z"
   },
   {
    "duration": 8,
    "start_time": "2022-10-12T09:07:47.761Z"
   },
   {
    "duration": 171,
    "start_time": "2022-10-12T09:07:47.770Z"
   },
   {
    "duration": 11,
    "start_time": "2022-10-12T09:07:47.943Z"
   },
   {
    "duration": 44,
    "start_time": "2022-10-12T09:07:47.956Z"
   },
   {
    "duration": 7,
    "start_time": "2022-10-12T09:07:48.005Z"
   },
   {
    "duration": 10,
    "start_time": "2022-10-12T09:07:48.015Z"
   },
   {
    "duration": 21,
    "start_time": "2022-10-12T09:07:48.027Z"
   },
   {
    "duration": 28,
    "start_time": "2022-10-12T09:07:48.050Z"
   },
   {
    "duration": 3,
    "start_time": "2022-10-12T09:07:48.080Z"
   },
   {
    "duration": 6,
    "start_time": "2022-10-12T09:07:48.095Z"
   },
   {
    "duration": 20,
    "start_time": "2022-10-12T09:07:48.103Z"
   },
   {
    "duration": 10,
    "start_time": "2022-10-12T09:07:48.125Z"
   },
   {
    "duration": 6,
    "start_time": "2022-10-12T09:07:48.136Z"
   },
   {
    "duration": 13,
    "start_time": "2022-10-12T09:07:48.143Z"
   },
   {
    "duration": 8,
    "start_time": "2022-10-12T09:07:48.157Z"
   },
   {
    "duration": 158,
    "start_time": "2022-10-12T09:07:48.167Z"
   },
   {
    "duration": 5,
    "start_time": "2022-10-12T09:07:48.327Z"
   },
   {
    "duration": 8,
    "start_time": "2022-10-12T09:07:48.334Z"
   },
   {
    "duration": 10,
    "start_time": "2022-10-12T09:07:48.343Z"
   },
   {
    "duration": 13,
    "start_time": "2022-10-12T09:07:48.355Z"
   },
   {
    "duration": 6,
    "start_time": "2022-10-12T09:07:48.369Z"
   },
   {
    "duration": 22,
    "start_time": "2022-10-12T09:07:48.376Z"
   },
   {
    "duration": 13,
    "start_time": "2022-10-12T09:07:48.399Z"
   },
   {
    "duration": 32,
    "start_time": "2022-10-12T09:07:48.414Z"
   },
   {
    "duration": 6,
    "start_time": "2022-10-12T09:07:48.448Z"
   },
   {
    "duration": 12,
    "start_time": "2022-10-12T09:07:48.455Z"
   },
   {
    "duration": 5,
    "start_time": "2022-10-12T09:07:48.468Z"
   },
   {
    "duration": 31,
    "start_time": "2022-10-12T09:07:48.474Z"
   },
   {
    "duration": 24,
    "start_time": "2022-10-12T09:07:48.508Z"
   },
   {
    "duration": 259,
    "start_time": "2022-10-12T09:07:48.533Z"
   },
   {
    "duration": 10,
    "start_time": "2022-10-12T09:07:48.797Z"
   },
   {
    "duration": 34,
    "start_time": "2022-10-12T09:07:48.812Z"
   },
   {
    "duration": 507,
    "start_time": "2022-10-12T09:07:48.848Z"
   },
   {
    "duration": 123,
    "start_time": "2022-10-12T09:07:49.357Z"
   },
   {
    "duration": 27,
    "start_time": "2022-10-12T09:07:49.482Z"
   },
   {
    "duration": 11,
    "start_time": "2022-10-12T09:07:49.511Z"
   },
   {
    "duration": 216,
    "start_time": "2022-10-12T09:07:49.523Z"
   },
   {
    "duration": 345,
    "start_time": "2022-10-12T09:07:49.741Z"
   },
   {
    "duration": 251,
    "start_time": "2022-10-12T09:07:50.088Z"
   },
   {
    "duration": 223,
    "start_time": "2022-10-12T09:07:50.340Z"
   },
   {
    "duration": 147,
    "start_time": "2022-10-12T09:07:50.565Z"
   },
   {
    "duration": 170,
    "start_time": "2022-10-12T09:07:50.714Z"
   },
   {
    "duration": 159,
    "start_time": "2022-10-12T09:07:50.886Z"
   },
   {
    "duration": 180,
    "start_time": "2022-10-12T09:07:51.047Z"
   },
   {
    "duration": 133,
    "start_time": "2022-10-12T09:07:51.228Z"
   },
   {
    "duration": 172,
    "start_time": "2022-10-12T09:07:51.363Z"
   },
   {
    "duration": 292,
    "start_time": "2022-10-12T09:07:51.536Z"
   },
   {
    "duration": 185,
    "start_time": "2022-10-12T09:07:51.830Z"
   },
   {
    "duration": 169,
    "start_time": "2022-10-12T09:07:52.017Z"
   },
   {
    "duration": 165,
    "start_time": "2022-10-12T09:07:52.188Z"
   },
   {
    "duration": 157,
    "start_time": "2022-10-12T09:07:52.354Z"
   },
   {
    "duration": 175,
    "start_time": "2022-10-12T09:07:52.513Z"
   },
   {
    "duration": 20,
    "start_time": "2022-10-12T09:07:52.690Z"
   },
   {
    "duration": 137,
    "start_time": "2022-10-12T09:07:52.711Z"
   },
   {
    "duration": 10,
    "start_time": "2022-10-12T09:07:52.850Z"
   },
   {
    "duration": 15,
    "start_time": "2022-10-12T09:07:52.862Z"
   },
   {
    "duration": 271,
    "start_time": "2022-10-12T09:07:52.879Z"
   },
   {
    "duration": 6,
    "start_time": "2022-10-12T09:07:53.152Z"
   },
   {
    "duration": 7,
    "start_time": "2022-10-12T09:07:53.160Z"
   },
   {
    "duration": 6,
    "start_time": "2022-10-12T09:07:53.169Z"
   },
   {
    "duration": 31,
    "start_time": "2022-10-12T09:07:53.176Z"
   },
   {
    "duration": 171,
    "start_time": "2022-10-12T09:07:53.209Z"
   },
   {
    "duration": 191,
    "start_time": "2022-10-12T09:07:53.382Z"
   },
   {
    "duration": 183,
    "start_time": "2022-10-12T09:07:53.575Z"
   },
   {
    "duration": 179,
    "start_time": "2022-10-12T09:07:53.760Z"
   },
   {
    "duration": 22,
    "start_time": "2022-10-12T09:07:53.942Z"
   },
   {
    "duration": 207,
    "start_time": "2022-10-12T09:07:53.966Z"
   },
   {
    "duration": 50,
    "start_time": "2022-10-12T09:50:53.025Z"
   },
   {
    "duration": 1385,
    "start_time": "2022-10-12T09:51:07.093Z"
   },
   {
    "duration": 542,
    "start_time": "2022-10-12T09:51:08.480Z"
   },
   {
    "duration": 78,
    "start_time": "2022-10-12T09:51:09.024Z"
   },
   {
    "duration": 26,
    "start_time": "2022-10-12T09:51:09.104Z"
   },
   {
    "duration": 70,
    "start_time": "2022-10-12T09:51:09.132Z"
   },
   {
    "duration": 2001,
    "start_time": "2022-10-12T09:51:09.204Z"
   },
   {
    "duration": 7,
    "start_time": "2022-10-12T09:51:11.207Z"
   },
   {
    "duration": 12,
    "start_time": "2022-10-12T09:51:11.216Z"
   },
   {
    "duration": 4,
    "start_time": "2022-10-12T09:51:11.230Z"
   },
   {
    "duration": 14,
    "start_time": "2022-10-12T09:51:11.237Z"
   },
   {
    "duration": 169,
    "start_time": "2022-10-12T09:51:11.253Z"
   },
   {
    "duration": 129,
    "start_time": "2022-10-12T09:51:11.424Z"
   },
   {
    "duration": 0,
    "start_time": "2022-10-12T09:51:11.557Z"
   },
   {
    "duration": 0,
    "start_time": "2022-10-12T09:51:11.559Z"
   },
   {
    "duration": 0,
    "start_time": "2022-10-12T09:51:11.560Z"
   },
   {
    "duration": 0,
    "start_time": "2022-10-12T09:51:11.561Z"
   },
   {
    "duration": 0,
    "start_time": "2022-10-12T09:51:11.563Z"
   },
   {
    "duration": 0,
    "start_time": "2022-10-12T09:51:11.565Z"
   },
   {
    "duration": 0,
    "start_time": "2022-10-12T09:51:11.566Z"
   },
   {
    "duration": 0,
    "start_time": "2022-10-12T09:51:11.568Z"
   },
   {
    "duration": 0,
    "start_time": "2022-10-12T09:51:11.569Z"
   },
   {
    "duration": 0,
    "start_time": "2022-10-12T09:51:11.598Z"
   },
   {
    "duration": 0,
    "start_time": "2022-10-12T09:51:11.600Z"
   },
   {
    "duration": 0,
    "start_time": "2022-10-12T09:51:11.601Z"
   },
   {
    "duration": 0,
    "start_time": "2022-10-12T09:51:11.602Z"
   },
   {
    "duration": 0,
    "start_time": "2022-10-12T09:51:11.604Z"
   },
   {
    "duration": 0,
    "start_time": "2022-10-12T09:51:11.605Z"
   },
   {
    "duration": 0,
    "start_time": "2022-10-12T09:51:11.605Z"
   },
   {
    "duration": 0,
    "start_time": "2022-10-12T09:51:11.607Z"
   },
   {
    "duration": 0,
    "start_time": "2022-10-12T09:51:11.608Z"
   },
   {
    "duration": 0,
    "start_time": "2022-10-12T09:51:11.609Z"
   },
   {
    "duration": 0,
    "start_time": "2022-10-12T09:51:11.610Z"
   },
   {
    "duration": 0,
    "start_time": "2022-10-12T09:51:11.611Z"
   },
   {
    "duration": 0,
    "start_time": "2022-10-12T09:51:11.613Z"
   },
   {
    "duration": 0,
    "start_time": "2022-10-12T09:51:11.613Z"
   },
   {
    "duration": 0,
    "start_time": "2022-10-12T09:51:11.615Z"
   },
   {
    "duration": 0,
    "start_time": "2022-10-12T09:51:11.616Z"
   },
   {
    "duration": 0,
    "start_time": "2022-10-12T09:51:11.617Z"
   },
   {
    "duration": 0,
    "start_time": "2022-10-12T09:51:11.618Z"
   },
   {
    "duration": 0,
    "start_time": "2022-10-12T09:51:11.619Z"
   },
   {
    "duration": 0,
    "start_time": "2022-10-12T09:51:11.620Z"
   },
   {
    "duration": 0,
    "start_time": "2022-10-12T09:51:11.621Z"
   },
   {
    "duration": 0,
    "start_time": "2022-10-12T09:51:11.622Z"
   },
   {
    "duration": 0,
    "start_time": "2022-10-12T09:51:11.624Z"
   },
   {
    "duration": 0,
    "start_time": "2022-10-12T09:51:11.625Z"
   },
   {
    "duration": 0,
    "start_time": "2022-10-12T09:51:11.626Z"
   },
   {
    "duration": 0,
    "start_time": "2022-10-12T09:51:11.627Z"
   },
   {
    "duration": 0,
    "start_time": "2022-10-12T09:51:11.628Z"
   },
   {
    "duration": 0,
    "start_time": "2022-10-12T09:51:11.630Z"
   },
   {
    "duration": 0,
    "start_time": "2022-10-12T09:51:11.631Z"
   },
   {
    "duration": 0,
    "start_time": "2022-10-12T09:51:11.632Z"
   },
   {
    "duration": 0,
    "start_time": "2022-10-12T09:51:11.633Z"
   },
   {
    "duration": 0,
    "start_time": "2022-10-12T09:51:11.697Z"
   },
   {
    "duration": 1,
    "start_time": "2022-10-12T09:51:11.698Z"
   },
   {
    "duration": 0,
    "start_time": "2022-10-12T09:51:11.700Z"
   },
   {
    "duration": 0,
    "start_time": "2022-10-12T09:51:11.701Z"
   },
   {
    "duration": 0,
    "start_time": "2022-10-12T09:51:11.702Z"
   },
   {
    "duration": 0,
    "start_time": "2022-10-12T09:51:11.703Z"
   },
   {
    "duration": 0,
    "start_time": "2022-10-12T09:51:11.704Z"
   },
   {
    "duration": 0,
    "start_time": "2022-10-12T09:51:11.706Z"
   },
   {
    "duration": 0,
    "start_time": "2022-10-12T09:51:11.706Z"
   },
   {
    "duration": 0,
    "start_time": "2022-10-12T09:51:11.708Z"
   },
   {
    "duration": 0,
    "start_time": "2022-10-12T09:51:11.709Z"
   },
   {
    "duration": 0,
    "start_time": "2022-10-12T09:51:11.710Z"
   },
   {
    "duration": 0,
    "start_time": "2022-10-12T09:51:11.712Z"
   },
   {
    "duration": 0,
    "start_time": "2022-10-12T09:51:11.713Z"
   },
   {
    "duration": 0,
    "start_time": "2022-10-12T09:51:11.715Z"
   },
   {
    "duration": 0,
    "start_time": "2022-10-12T09:51:11.716Z"
   },
   {
    "duration": 0,
    "start_time": "2022-10-12T09:51:11.718Z"
   },
   {
    "duration": 0,
    "start_time": "2022-10-12T09:51:11.719Z"
   },
   {
    "duration": 0,
    "start_time": "2022-10-12T09:51:11.720Z"
   },
   {
    "duration": 0,
    "start_time": "2022-10-12T09:51:11.721Z"
   },
   {
    "duration": 0,
    "start_time": "2022-10-12T09:51:11.723Z"
   },
   {
    "duration": 0,
    "start_time": "2022-10-12T09:51:11.724Z"
   },
   {
    "duration": 0,
    "start_time": "2022-10-12T09:51:11.725Z"
   },
   {
    "duration": 0,
    "start_time": "2022-10-12T09:51:11.726Z"
   },
   {
    "duration": 1198,
    "start_time": "2022-10-12T09:51:35.927Z"
   },
   {
    "duration": 95,
    "start_time": "2022-10-12T09:51:37.127Z"
   },
   {
    "duration": 78,
    "start_time": "2022-10-12T09:51:37.224Z"
   },
   {
    "duration": 27,
    "start_time": "2022-10-12T09:51:37.304Z"
   },
   {
    "duration": 80,
    "start_time": "2022-10-12T09:51:37.333Z"
   },
   {
    "duration": 2058,
    "start_time": "2022-10-12T09:51:37.415Z"
   },
   {
    "duration": 8,
    "start_time": "2022-10-12T09:51:39.474Z"
   },
   {
    "duration": 10,
    "start_time": "2022-10-12T09:51:39.484Z"
   },
   {
    "duration": 6,
    "start_time": "2022-10-12T09:51:39.495Z"
   },
   {
    "duration": 17,
    "start_time": "2022-10-12T09:51:39.503Z"
   },
   {
    "duration": 163,
    "start_time": "2022-10-12T09:51:39.522Z"
   },
   {
    "duration": 127,
    "start_time": "2022-10-12T09:51:39.687Z"
   },
   {
    "duration": 0,
    "start_time": "2022-10-12T09:51:39.817Z"
   },
   {
    "duration": 0,
    "start_time": "2022-10-12T09:51:39.818Z"
   },
   {
    "duration": 0,
    "start_time": "2022-10-12T09:51:39.819Z"
   },
   {
    "duration": 0,
    "start_time": "2022-10-12T09:51:39.820Z"
   },
   {
    "duration": 0,
    "start_time": "2022-10-12T09:51:39.821Z"
   },
   {
    "duration": 0,
    "start_time": "2022-10-12T09:51:39.822Z"
   },
   {
    "duration": 0,
    "start_time": "2022-10-12T09:51:39.824Z"
   },
   {
    "duration": 0,
    "start_time": "2022-10-12T09:51:39.825Z"
   },
   {
    "duration": 0,
    "start_time": "2022-10-12T09:51:39.826Z"
   },
   {
    "duration": 0,
    "start_time": "2022-10-12T09:51:39.826Z"
   },
   {
    "duration": 0,
    "start_time": "2022-10-12T09:51:39.828Z"
   },
   {
    "duration": 0,
    "start_time": "2022-10-12T09:51:39.828Z"
   },
   {
    "duration": 0,
    "start_time": "2022-10-12T09:51:39.830Z"
   },
   {
    "duration": 0,
    "start_time": "2022-10-12T09:51:39.830Z"
   },
   {
    "duration": 0,
    "start_time": "2022-10-12T09:51:39.831Z"
   },
   {
    "duration": 0,
    "start_time": "2022-10-12T09:51:39.832Z"
   },
   {
    "duration": 0,
    "start_time": "2022-10-12T09:51:39.833Z"
   },
   {
    "duration": 0,
    "start_time": "2022-10-12T09:51:39.834Z"
   },
   {
    "duration": 0,
    "start_time": "2022-10-12T09:51:39.835Z"
   },
   {
    "duration": 0,
    "start_time": "2022-10-12T09:51:39.836Z"
   },
   {
    "duration": 0,
    "start_time": "2022-10-12T09:51:39.837Z"
   },
   {
    "duration": 0,
    "start_time": "2022-10-12T09:51:39.838Z"
   },
   {
    "duration": 0,
    "start_time": "2022-10-12T09:51:39.839Z"
   },
   {
    "duration": 0,
    "start_time": "2022-10-12T09:51:39.840Z"
   },
   {
    "duration": 0,
    "start_time": "2022-10-12T09:51:39.841Z"
   },
   {
    "duration": 0,
    "start_time": "2022-10-12T09:51:39.842Z"
   },
   {
    "duration": 0,
    "start_time": "2022-10-12T09:51:39.842Z"
   },
   {
    "duration": 0,
    "start_time": "2022-10-12T09:51:39.843Z"
   },
   {
    "duration": 0,
    "start_time": "2022-10-12T09:51:39.844Z"
   },
   {
    "duration": 0,
    "start_time": "2022-10-12T09:51:39.846Z"
   },
   {
    "duration": 0,
    "start_time": "2022-10-12T09:51:39.847Z"
   },
   {
    "duration": 0,
    "start_time": "2022-10-12T09:51:39.897Z"
   },
   {
    "duration": 0,
    "start_time": "2022-10-12T09:51:39.899Z"
   },
   {
    "duration": 0,
    "start_time": "2022-10-12T09:51:39.900Z"
   },
   {
    "duration": 0,
    "start_time": "2022-10-12T09:51:39.901Z"
   },
   {
    "duration": 0,
    "start_time": "2022-10-12T09:51:39.901Z"
   },
   {
    "duration": 0,
    "start_time": "2022-10-12T09:51:39.902Z"
   },
   {
    "duration": 0,
    "start_time": "2022-10-12T09:51:39.903Z"
   },
   {
    "duration": 0,
    "start_time": "2022-10-12T09:51:39.904Z"
   },
   {
    "duration": 0,
    "start_time": "2022-10-12T09:51:39.906Z"
   },
   {
    "duration": 0,
    "start_time": "2022-10-12T09:51:39.907Z"
   },
   {
    "duration": 0,
    "start_time": "2022-10-12T09:51:39.908Z"
   },
   {
    "duration": 0,
    "start_time": "2022-10-12T09:51:39.909Z"
   },
   {
    "duration": 0,
    "start_time": "2022-10-12T09:51:39.910Z"
   },
   {
    "duration": 0,
    "start_time": "2022-10-12T09:51:39.911Z"
   },
   {
    "duration": 0,
    "start_time": "2022-10-12T09:51:39.912Z"
   },
   {
    "duration": 0,
    "start_time": "2022-10-12T09:51:39.912Z"
   },
   {
    "duration": 0,
    "start_time": "2022-10-12T09:51:39.913Z"
   },
   {
    "duration": 0,
    "start_time": "2022-10-12T09:51:39.914Z"
   },
   {
    "duration": 0,
    "start_time": "2022-10-12T09:51:39.915Z"
   },
   {
    "duration": 0,
    "start_time": "2022-10-12T09:51:39.916Z"
   },
   {
    "duration": 0,
    "start_time": "2022-10-12T09:51:39.917Z"
   },
   {
    "duration": 0,
    "start_time": "2022-10-12T09:51:39.919Z"
   },
   {
    "duration": 0,
    "start_time": "2022-10-12T09:51:39.920Z"
   },
   {
    "duration": 0,
    "start_time": "2022-10-12T09:51:39.921Z"
   },
   {
    "duration": 0,
    "start_time": "2022-10-12T09:51:39.922Z"
   },
   {
    "duration": 0,
    "start_time": "2022-10-12T09:51:39.923Z"
   },
   {
    "duration": 0,
    "start_time": "2022-10-12T09:51:39.925Z"
   },
   {
    "duration": 0,
    "start_time": "2022-10-12T09:51:39.926Z"
   },
   {
    "duration": 0,
    "start_time": "2022-10-12T09:51:39.927Z"
   },
   {
    "duration": 0,
    "start_time": "2022-10-12T09:51:39.928Z"
   },
   {
    "duration": 0,
    "start_time": "2022-10-12T09:51:39.929Z"
   },
   {
    "duration": 0,
    "start_time": "2022-10-12T09:51:39.930Z"
   },
   {
    "duration": 0,
    "start_time": "2022-10-12T09:51:39.931Z"
   },
   {
    "duration": 9,
    "start_time": "2022-10-12T09:53:11.027Z"
   },
   {
    "duration": 97,
    "start_time": "2022-10-12T09:53:28.366Z"
   },
   {
    "duration": 28,
    "start_time": "2022-10-12T09:53:33.497Z"
   },
   {
    "duration": 9,
    "start_time": "2022-10-12T09:56:09.586Z"
   },
   {
    "duration": 29,
    "start_time": "2022-10-12T09:57:23.168Z"
   },
   {
    "duration": 11,
    "start_time": "2022-10-12T10:09:38.538Z"
   },
   {
    "duration": 45,
    "start_time": "2022-10-12T10:09:51.974Z"
   },
   {
    "duration": 11,
    "start_time": "2022-10-12T10:10:43.522Z"
   },
   {
    "duration": 10,
    "start_time": "2022-10-12T10:11:05.549Z"
   },
   {
    "duration": 5,
    "start_time": "2022-10-12T10:14:10.331Z"
   },
   {
    "duration": 23,
    "start_time": "2022-10-12T10:14:23.793Z"
   },
   {
    "duration": 3,
    "start_time": "2022-10-12T10:16:36.562Z"
   },
   {
    "duration": 178,
    "start_time": "2022-10-12T10:20:53.713Z"
   },
   {
    "duration": 187,
    "start_time": "2022-10-12T10:29:37.474Z"
   },
   {
    "duration": 174,
    "start_time": "2022-10-12T10:29:46.696Z"
   },
   {
    "duration": 162,
    "start_time": "2022-10-12T10:30:10.938Z"
   },
   {
    "duration": 164,
    "start_time": "2022-10-12T10:30:52.020Z"
   },
   {
    "duration": 36,
    "start_time": "2022-10-12T10:36:30.060Z"
   },
   {
    "duration": 12,
    "start_time": "2022-10-12T10:53:52.519Z"
   },
   {
    "duration": 6,
    "start_time": "2022-10-12T10:54:34.416Z"
   },
   {
    "duration": 10,
    "start_time": "2022-10-12T10:56:40.545Z"
   },
   {
    "duration": 8,
    "start_time": "2022-10-12T11:03:47.309Z"
   },
   {
    "duration": 9,
    "start_time": "2022-10-12T11:04:07.459Z"
   },
   {
    "duration": 6,
    "start_time": "2022-10-12T11:11:10.025Z"
   },
   {
    "duration": 7,
    "start_time": "2022-10-12T11:11:21.271Z"
   },
   {
    "duration": 158,
    "start_time": "2022-10-12T11:11:24.280Z"
   },
   {
    "duration": 5,
    "start_time": "2022-10-12T11:11:26.783Z"
   },
   {
    "duration": 4,
    "start_time": "2022-10-12T11:11:28.736Z"
   },
   {
    "duration": 166,
    "start_time": "2022-10-12T11:11:29.848Z"
   },
   {
    "duration": 14,
    "start_time": "2022-10-12T11:12:08.445Z"
   },
   {
    "duration": 9,
    "start_time": "2022-10-12T11:12:19.527Z"
   },
   {
    "duration": 5,
    "start_time": "2022-10-12T11:12:22.681Z"
   },
   {
    "duration": 15,
    "start_time": "2022-10-12T11:12:32.140Z"
   },
   {
    "duration": 7,
    "start_time": "2022-10-12T11:12:49.434Z"
   },
   {
    "duration": 5,
    "start_time": "2022-10-12T11:12:50.387Z"
   },
   {
    "duration": 32,
    "start_time": "2022-10-12T11:13:42.896Z"
   },
   {
    "duration": 8,
    "start_time": "2022-10-12T11:21:59.911Z"
   },
   {
    "duration": 47,
    "start_time": "2022-10-12T11:23:40.530Z"
   },
   {
    "duration": 26,
    "start_time": "2022-10-12T11:24:00.796Z"
   },
   {
    "duration": 4,
    "start_time": "2022-10-12T11:43:02.085Z"
   },
   {
    "duration": 5,
    "start_time": "2022-10-12T11:43:27.082Z"
   },
   {
    "duration": 18,
    "start_time": "2022-10-12T11:44:03.211Z"
   },
   {
    "duration": 101,
    "start_time": "2022-10-12T11:51:09.357Z"
   },
   {
    "duration": 19,
    "start_time": "2022-10-12T11:57:55.633Z"
   },
   {
    "duration": 107,
    "start_time": "2022-10-12T12:15:19.025Z"
   },
   {
    "duration": 8,
    "start_time": "2022-10-12T12:16:11.572Z"
   },
   {
    "duration": 5,
    "start_time": "2022-10-12T12:22:29.511Z"
   },
   {
    "duration": 17,
    "start_time": "2022-10-12T12:23:46.591Z"
   },
   {
    "duration": 18,
    "start_time": "2022-10-12T12:24:46.971Z"
   },
   {
    "duration": 8,
    "start_time": "2022-10-12T12:24:53.571Z"
   },
   {
    "duration": 15,
    "start_time": "2022-10-12T12:24:56.137Z"
   },
   {
    "duration": 17,
    "start_time": "2022-10-12T12:25:00.641Z"
   },
   {
    "duration": 17,
    "start_time": "2022-10-12T12:25:02.717Z"
   },
   {
    "duration": 5,
    "start_time": "2022-10-12T12:25:44.686Z"
   },
   {
    "duration": 104,
    "start_time": "2022-10-12T12:30:04.593Z"
   },
   {
    "duration": 85,
    "start_time": "2022-10-12T12:32:07.820Z"
   },
   {
    "duration": 8,
    "start_time": "2022-10-12T12:34:08.042Z"
   },
   {
    "duration": 8,
    "start_time": "2022-10-12T12:41:49.822Z"
   },
   {
    "duration": 4,
    "start_time": "2022-10-12T12:42:32.259Z"
   },
   {
    "duration": 9,
    "start_time": "2022-10-12T12:51:14.213Z"
   },
   {
    "duration": 94,
    "start_time": "2022-10-12T12:51:28.191Z"
   },
   {
    "duration": 9,
    "start_time": "2022-10-12T12:52:01.056Z"
   },
   {
    "duration": 9,
    "start_time": "2022-10-12T12:52:10.697Z"
   },
   {
    "duration": 9,
    "start_time": "2022-10-12T12:52:16.834Z"
   },
   {
    "duration": 9,
    "start_time": "2022-10-12T12:54:08.577Z"
   },
   {
    "duration": 13,
    "start_time": "2022-10-12T12:54:13.142Z"
   },
   {
    "duration": 10,
    "start_time": "2022-10-12T14:01:38.266Z"
   },
   {
    "duration": 11,
    "start_time": "2022-10-12T14:07:00.634Z"
   },
   {
    "duration": 9,
    "start_time": "2022-10-12T14:08:04.307Z"
   },
   {
    "duration": 17,
    "start_time": "2022-10-12T14:19:10.239Z"
   },
   {
    "duration": 13,
    "start_time": "2022-10-12T14:20:45.161Z"
   },
   {
    "duration": 9,
    "start_time": "2022-10-12T14:21:46.425Z"
   },
   {
    "duration": 4,
    "start_time": "2022-10-12T14:21:50.418Z"
   },
   {
    "duration": 4,
    "start_time": "2022-10-12T14:21:53.253Z"
   },
   {
    "duration": 5,
    "start_time": "2022-10-12T14:22:40.354Z"
   },
   {
    "duration": 4,
    "start_time": "2022-10-12T14:22:48.661Z"
   },
   {
    "duration": 5,
    "start_time": "2022-10-12T14:22:49.932Z"
   },
   {
    "duration": 8,
    "start_time": "2022-10-12T14:25:35.633Z"
   },
   {
    "duration": 6,
    "start_time": "2022-10-12T14:25:46.777Z"
   },
   {
    "duration": 12,
    "start_time": "2022-10-12T14:25:58.826Z"
   },
   {
    "duration": 235,
    "start_time": "2022-10-12T14:28:39.034Z"
   },
   {
    "duration": 9,
    "start_time": "2022-10-12T14:29:40.335Z"
   },
   {
    "duration": 5,
    "start_time": "2022-10-12T14:30:53.695Z"
   },
   {
    "duration": 5,
    "start_time": "2022-10-12T14:31:09.005Z"
   },
   {
    "duration": 5,
    "start_time": "2022-10-12T14:33:06.546Z"
   },
   {
    "duration": 8,
    "start_time": "2022-10-12T14:33:45.804Z"
   },
   {
    "duration": 24,
    "start_time": "2022-10-12T14:40:40.448Z"
   },
   {
    "duration": 2060,
    "start_time": "2022-10-12T14:41:55.027Z"
   },
   {
    "duration": 7,
    "start_time": "2022-10-12T14:42:03.205Z"
   },
   {
    "duration": 1362,
    "start_time": "2022-10-12T14:42:14.746Z"
   },
   {
    "duration": 6,
    "start_time": "2022-10-12T14:42:19.339Z"
   },
   {
    "duration": 5,
    "start_time": "2022-10-12T14:42:53.896Z"
   },
   {
    "duration": 9,
    "start_time": "2022-10-12T14:50:10.385Z"
   },
   {
    "duration": 5,
    "start_time": "2022-10-12T14:50:19.446Z"
   },
   {
    "duration": 10,
    "start_time": "2022-10-12T14:53:53.249Z"
   },
   {
    "duration": 146,
    "start_time": "2022-10-12T14:53:55.542Z"
   },
   {
    "duration": 6,
    "start_time": "2022-10-12T14:54:00.113Z"
   },
   {
    "duration": 6,
    "start_time": "2022-10-12T14:54:01.727Z"
   },
   {
    "duration": 5,
    "start_time": "2022-10-12T14:54:03.787Z"
   },
   {
    "duration": 6,
    "start_time": "2022-10-12T14:54:12.253Z"
   },
   {
    "duration": 3,
    "start_time": "2022-10-12T14:54:22.159Z"
   },
   {
    "duration": 4,
    "start_time": "2022-10-12T14:54:41.190Z"
   },
   {
    "duration": 4,
    "start_time": "2022-10-12T14:54:42.250Z"
   },
   {
    "duration": 26,
    "start_time": "2022-10-12T14:54:43.530Z"
   },
   {
    "duration": 4,
    "start_time": "2022-10-12T14:54:46.149Z"
   },
   {
    "duration": 20,
    "start_time": "2022-10-12T14:54:49.971Z"
   },
   {
    "duration": 9,
    "start_time": "2022-10-12T14:54:51.221Z"
   },
   {
    "duration": 8,
    "start_time": "2022-10-12T14:54:51.773Z"
   },
   {
    "duration": 25,
    "start_time": "2022-10-12T14:54:54.365Z"
   },
   {
    "duration": 379,
    "start_time": "2022-10-12T14:54:56.309Z"
   },
   {
    "duration": 14,
    "start_time": "2022-10-12T14:54:58.493Z"
   },
   {
    "duration": 286,
    "start_time": "2022-10-12T14:55:11.851Z"
   },
   {
    "duration": 14,
    "start_time": "2022-10-12T14:55:14.077Z"
   },
   {
    "duration": 26,
    "start_time": "2022-10-12T14:55:39.014Z"
   },
   {
    "duration": 4,
    "start_time": "2022-10-12T14:55:51.679Z"
   },
   {
    "duration": 28,
    "start_time": "2022-10-12T14:55:55.968Z"
   },
   {
    "duration": 515,
    "start_time": "2022-10-12T14:56:12.353Z"
   },
   {
    "duration": 133,
    "start_time": "2022-10-12T14:56:15.334Z"
   },
   {
    "duration": 9,
    "start_time": "2022-10-12T14:56:18.265Z"
   },
   {
    "duration": 8,
    "start_time": "2022-10-12T14:56:20.757Z"
   },
   {
    "duration": 125,
    "start_time": "2022-10-12T14:56:22.092Z"
   },
   {
    "duration": 450,
    "start_time": "2022-10-12T14:56:24.817Z"
   },
   {
    "duration": 276,
    "start_time": "2022-10-12T14:56:31.144Z"
   },
   {
    "duration": 231,
    "start_time": "2022-10-12T14:56:35.614Z"
   },
   {
    "duration": 88,
    "start_time": "2022-10-12T15:04:24.965Z"
   },
   {
    "duration": 147,
    "start_time": "2022-10-12T15:08:56.918Z"
   },
   {
    "duration": 155,
    "start_time": "2022-10-12T15:09:02.514Z"
   },
   {
    "duration": 148,
    "start_time": "2022-10-12T15:09:12.618Z"
   },
   {
    "duration": 168,
    "start_time": "2022-10-12T15:09:15.383Z"
   },
   {
    "duration": 145,
    "start_time": "2022-10-12T15:09:18.507Z"
   },
   {
    "duration": 120,
    "start_time": "2022-10-12T15:09:47.986Z"
   },
   {
    "duration": 123,
    "start_time": "2022-10-12T15:10:10.912Z"
   },
   {
    "duration": 115,
    "start_time": "2022-10-12T15:10:21.199Z"
   },
   {
    "duration": 133,
    "start_time": "2022-10-12T15:11:31.153Z"
   },
   {
    "duration": 110,
    "start_time": "2022-10-12T15:14:29.992Z"
   },
   {
    "duration": 85,
    "start_time": "2022-10-12T15:14:48.697Z"
   },
   {
    "duration": 175,
    "start_time": "2022-10-12T15:16:31.590Z"
   },
   {
    "duration": 286,
    "start_time": "2022-10-12T15:16:50.458Z"
   },
   {
    "duration": 260,
    "start_time": "2022-10-12T15:18:34.780Z"
   },
   {
    "duration": 259,
    "start_time": "2022-10-12T15:19:31.657Z"
   },
   {
    "duration": 222,
    "start_time": "2022-10-12T15:19:57.379Z"
   },
   {
    "duration": 165,
    "start_time": "2022-10-12T15:20:51.873Z"
   },
   {
    "duration": 174,
    "start_time": "2022-10-12T15:21:27.857Z"
   },
   {
    "duration": 164,
    "start_time": "2022-10-12T15:22:05.081Z"
   },
   {
    "duration": 185,
    "start_time": "2022-10-12T15:24:31.508Z"
   },
   {
    "duration": 251,
    "start_time": "2022-10-12T15:34:56.605Z"
   },
   {
    "duration": 190,
    "start_time": "2022-10-12T15:35:20.646Z"
   },
   {
    "duration": 203,
    "start_time": "2022-10-12T15:35:55.183Z"
   },
   {
    "duration": 163,
    "start_time": "2022-10-12T15:36:43.846Z"
   },
   {
    "duration": 343,
    "start_time": "2022-10-12T15:42:58.760Z"
   },
   {
    "duration": 180,
    "start_time": "2022-10-12T15:43:44.872Z"
   },
   {
    "duration": 156,
    "start_time": "2022-10-12T15:47:20.478Z"
   },
   {
    "duration": 167,
    "start_time": "2022-10-12T15:48:04.104Z"
   },
   {
    "duration": 168,
    "start_time": "2022-10-12T15:50:57.048Z"
   },
   {
    "duration": 178,
    "start_time": "2022-10-12T15:51:11.729Z"
   },
   {
    "duration": 169,
    "start_time": "2022-10-12T15:51:40.028Z"
   },
   {
    "duration": 190,
    "start_time": "2022-10-12T15:52:01.757Z"
   },
   {
    "duration": 178,
    "start_time": "2022-10-12T15:52:21.647Z"
   },
   {
    "duration": 178,
    "start_time": "2022-10-12T15:53:06.352Z"
   },
   {
    "duration": 165,
    "start_time": "2022-10-12T15:56:21.148Z"
   },
   {
    "duration": 188,
    "start_time": "2022-10-12T15:56:36.185Z"
   },
   {
    "duration": 199,
    "start_time": "2022-10-12T15:56:50.934Z"
   },
   {
    "duration": 10,
    "start_time": "2022-10-12T15:57:02.396Z"
   },
   {
    "duration": 131,
    "start_time": "2022-10-12T15:57:05.071Z"
   },
   {
    "duration": 10,
    "start_time": "2022-10-12T15:57:09.101Z"
   },
   {
    "duration": 10,
    "start_time": "2022-10-12T15:57:10.555Z"
   },
   {
    "duration": 258,
    "start_time": "2022-10-12T15:57:33.438Z"
   },
   {
    "duration": 5,
    "start_time": "2022-10-12T15:57:37.311Z"
   },
   {
    "duration": 5,
    "start_time": "2022-10-12T15:57:38.295Z"
   },
   {
    "duration": 6,
    "start_time": "2022-10-12T15:57:38.900Z"
   },
   {
    "duration": 6,
    "start_time": "2022-10-12T15:57:39.437Z"
   },
   {
    "duration": 330,
    "start_time": "2022-10-12T15:57:44.473Z"
   },
   {
    "duration": 179,
    "start_time": "2022-10-12T15:58:49.470Z"
   },
   {
    "duration": 175,
    "start_time": "2022-10-12T15:58:53.041Z"
   },
   {
    "duration": 178,
    "start_time": "2022-10-12T15:59:00.535Z"
   },
   {
    "duration": 22,
    "start_time": "2022-10-12T15:59:07.045Z"
   },
   {
    "duration": 233,
    "start_time": "2022-10-12T15:59:11.909Z"
   },
   {
    "duration": 161,
    "start_time": "2022-10-12T16:02:29.776Z"
   },
   {
    "duration": 171,
    "start_time": "2022-10-12T16:05:31.352Z"
   },
   {
    "duration": 11,
    "start_time": "2022-10-12T16:06:03.628Z"
   },
   {
    "duration": 164,
    "start_time": "2022-10-12T16:06:07.171Z"
   },
   {
    "duration": 19,
    "start_time": "2022-10-12T16:17:10.338Z"
   },
   {
    "duration": 23,
    "start_time": "2022-10-12T16:17:43.870Z"
   },
   {
    "duration": 11,
    "start_time": "2022-10-12T16:18:23.141Z"
   },
   {
    "duration": 8,
    "start_time": "2022-10-12T16:18:45.537Z"
   },
   {
    "duration": 9,
    "start_time": "2022-10-12T16:19:00.268Z"
   },
   {
    "duration": 21,
    "start_time": "2022-10-12T16:20:32.989Z"
   },
   {
    "duration": 106,
    "start_time": "2022-10-12T16:30:07.245Z"
   },
   {
    "duration": 155,
    "start_time": "2022-10-12T16:30:23.968Z"
   },
   {
    "duration": 179,
    "start_time": "2022-10-12T16:34:30.573Z"
   },
   {
    "duration": 149,
    "start_time": "2022-10-12T16:34:37.626Z"
   },
   {
    "duration": 161,
    "start_time": "2022-10-12T16:34:41.345Z"
   },
   {
    "duration": 163,
    "start_time": "2022-10-12T16:34:53.097Z"
   },
   {
    "duration": 183,
    "start_time": "2022-10-12T17:21:02.721Z"
   },
   {
    "duration": 199,
    "start_time": "2022-10-12T17:22:26.965Z"
   },
   {
    "duration": 190,
    "start_time": "2022-10-12T17:26:10.588Z"
   },
   {
    "duration": 196,
    "start_time": "2022-10-12T17:26:26.762Z"
   },
   {
    "duration": 1221,
    "start_time": "2022-10-12T21:11:58.740Z"
   },
   {
    "duration": 88,
    "start_time": "2022-10-12T21:11:59.963Z"
   },
   {
    "duration": 89,
    "start_time": "2022-10-12T21:12:00.053Z"
   },
   {
    "duration": 34,
    "start_time": "2022-10-12T21:12:00.144Z"
   },
   {
    "duration": 78,
    "start_time": "2022-10-12T21:12:00.181Z"
   },
   {
    "duration": 2322,
    "start_time": "2022-10-12T21:12:00.268Z"
   },
   {
    "duration": 7,
    "start_time": "2022-10-12T21:12:02.593Z"
   },
   {
    "duration": 45,
    "start_time": "2022-10-12T21:12:02.602Z"
   },
   {
    "duration": 25,
    "start_time": "2022-10-12T21:12:02.648Z"
   },
   {
    "duration": 27,
    "start_time": "2022-10-12T21:12:02.675Z"
   },
   {
    "duration": 178,
    "start_time": "2022-10-12T21:12:02.704Z"
   },
   {
    "duration": 6,
    "start_time": "2022-10-12T21:12:02.884Z"
   },
   {
    "duration": 21,
    "start_time": "2022-10-12T21:12:02.892Z"
   },
   {
    "duration": 196,
    "start_time": "2022-10-12T21:12:02.917Z"
   },
   {
    "duration": 27,
    "start_time": "2022-10-12T21:12:03.115Z"
   },
   {
    "duration": 15,
    "start_time": "2022-10-12T21:12:03.155Z"
   },
   {
    "duration": 24,
    "start_time": "2022-10-12T21:12:03.171Z"
   },
   {
    "duration": 38,
    "start_time": "2022-10-12T21:12:03.197Z"
   },
   {
    "duration": 50,
    "start_time": "2022-10-12T21:12:03.237Z"
   },
   {
    "duration": 51,
    "start_time": "2022-10-12T21:12:03.289Z"
   },
   {
    "duration": 9,
    "start_time": "2022-10-12T21:12:03.342Z"
   },
   {
    "duration": 56,
    "start_time": "2022-10-12T21:12:03.353Z"
   },
   {
    "duration": 11,
    "start_time": "2022-10-12T21:12:03.410Z"
   },
   {
    "duration": 29,
    "start_time": "2022-10-12T21:12:03.423Z"
   },
   {
    "duration": 40,
    "start_time": "2022-10-12T21:12:03.453Z"
   },
   {
    "duration": 15,
    "start_time": "2022-10-12T21:12:03.495Z"
   },
   {
    "duration": 45,
    "start_time": "2022-10-12T21:12:03.512Z"
   },
   {
    "duration": 22,
    "start_time": "2022-10-12T21:12:03.559Z"
   },
   {
    "duration": 39,
    "start_time": "2022-10-12T21:12:03.583Z"
   },
   {
    "duration": 24,
    "start_time": "2022-10-12T21:12:03.624Z"
   },
   {
    "duration": 33,
    "start_time": "2022-10-12T21:12:03.649Z"
   },
   {
    "duration": 27,
    "start_time": "2022-10-12T21:12:03.684Z"
   },
   {
    "duration": 13,
    "start_time": "2022-10-12T21:12:03.712Z"
   },
   {
    "duration": 28,
    "start_time": "2022-10-12T21:12:03.727Z"
   },
   {
    "duration": 34,
    "start_time": "2022-10-12T21:12:03.760Z"
   },
   {
    "duration": 56,
    "start_time": "2022-10-12T21:12:03.796Z"
   },
   {
    "duration": 31,
    "start_time": "2022-10-12T21:12:03.855Z"
   },
   {
    "duration": 31,
    "start_time": "2022-10-12T21:12:03.888Z"
   },
   {
    "duration": 32,
    "start_time": "2022-10-12T21:12:03.921Z"
   },
   {
    "duration": 25,
    "start_time": "2022-10-12T21:12:03.955Z"
   },
   {
    "duration": 15,
    "start_time": "2022-10-12T21:12:03.986Z"
   },
   {
    "duration": 25,
    "start_time": "2022-10-12T21:12:04.003Z"
   },
   {
    "duration": 43,
    "start_time": "2022-10-12T21:12:04.030Z"
   },
   {
    "duration": 35,
    "start_time": "2022-10-12T21:12:04.076Z"
   },
   {
    "duration": 52,
    "start_time": "2022-10-12T21:12:04.113Z"
   },
   {
    "duration": 167,
    "start_time": "2022-10-12T21:12:04.167Z"
   },
   {
    "duration": 6,
    "start_time": "2022-10-12T21:12:04.335Z"
   },
   {
    "duration": 8,
    "start_time": "2022-10-12T21:12:04.359Z"
   },
   {
    "duration": 34,
    "start_time": "2022-10-12T21:12:04.373Z"
   },
   {
    "duration": 18,
    "start_time": "2022-10-12T21:12:04.409Z"
   },
   {
    "duration": 20,
    "start_time": "2022-10-12T21:12:04.428Z"
   },
   {
    "duration": 39,
    "start_time": "2022-10-12T21:12:04.450Z"
   },
   {
    "duration": 25,
    "start_time": "2022-10-12T21:12:04.491Z"
   },
   {
    "duration": 55,
    "start_time": "2022-10-12T21:12:04.518Z"
   },
   {
    "duration": 26,
    "start_time": "2022-10-12T21:12:04.574Z"
   },
   {
    "duration": 29,
    "start_time": "2022-10-12T21:12:04.602Z"
   },
   {
    "duration": 32,
    "start_time": "2022-10-12T21:12:04.633Z"
   },
   {
    "duration": 9,
    "start_time": "2022-10-12T21:12:04.673Z"
   },
   {
    "duration": 46,
    "start_time": "2022-10-12T21:12:04.684Z"
   },
   {
    "duration": 357,
    "start_time": "2022-10-12T21:12:04.732Z"
   },
   {
    "duration": 4,
    "start_time": "2022-10-12T21:12:05.091Z"
   },
   {
    "duration": 35,
    "start_time": "2022-10-12T21:12:05.097Z"
   },
   {
    "duration": 746,
    "start_time": "2022-10-12T21:12:05.134Z"
   },
   {
    "duration": 248,
    "start_time": "2022-10-12T21:12:05.882Z"
   },
   {
    "duration": 37,
    "start_time": "2022-10-12T21:12:06.132Z"
   },
   {
    "duration": 8,
    "start_time": "2022-10-12T21:12:06.172Z"
   },
   {
    "duration": 127,
    "start_time": "2022-10-12T21:12:06.182Z"
   },
   {
    "duration": 377,
    "start_time": "2022-10-12T21:12:06.311Z"
   },
   {
    "duration": 303,
    "start_time": "2022-10-12T21:12:06.690Z"
   },
   {
    "duration": 234,
    "start_time": "2022-10-12T21:12:06.994Z"
   },
   {
    "duration": 158,
    "start_time": "2022-10-12T21:12:07.230Z"
   },
   {
    "duration": 183,
    "start_time": "2022-10-12T21:12:07.390Z"
   },
   {
    "duration": 164,
    "start_time": "2022-10-12T21:12:07.575Z"
   },
   {
    "duration": 180,
    "start_time": "2022-10-12T21:12:07.741Z"
   },
   {
    "duration": 319,
    "start_time": "2022-10-12T21:12:07.923Z"
   },
   {
    "duration": 185,
    "start_time": "2022-10-12T21:12:08.245Z"
   },
   {
    "duration": 192,
    "start_time": "2022-10-12T21:12:08.433Z"
   },
   {
    "duration": 211,
    "start_time": "2022-10-12T21:12:08.627Z"
   },
   {
    "duration": 227,
    "start_time": "2022-10-12T21:12:08.840Z"
   },
   {
    "duration": 196,
    "start_time": "2022-10-12T21:12:09.069Z"
   },
   {
    "duration": 160,
    "start_time": "2022-10-12T21:12:09.266Z"
   },
   {
    "duration": 202,
    "start_time": "2022-10-12T21:12:09.428Z"
   },
   {
    "duration": 9,
    "start_time": "2022-10-12T21:12:09.632Z"
   },
   {
    "duration": 151,
    "start_time": "2022-10-12T21:12:09.643Z"
   },
   {
    "duration": 8,
    "start_time": "2022-10-12T21:12:09.796Z"
   },
   {
    "duration": 12,
    "start_time": "2022-10-12T21:12:09.805Z"
   },
   {
    "duration": 271,
    "start_time": "2022-10-12T21:12:09.818Z"
   },
   {
    "duration": 6,
    "start_time": "2022-10-12T21:12:10.091Z"
   },
   {
    "duration": 8,
    "start_time": "2022-10-12T21:12:10.098Z"
   },
   {
    "duration": 8,
    "start_time": "2022-10-12T21:12:10.108Z"
   },
   {
    "duration": 5,
    "start_time": "2022-10-12T21:12:10.118Z"
   },
   {
    "duration": 200,
    "start_time": "2022-10-12T21:12:10.125Z"
   },
   {
    "duration": 209,
    "start_time": "2022-10-12T21:12:10.327Z"
   },
   {
    "duration": 205,
    "start_time": "2022-10-12T21:12:10.538Z"
   },
   {
    "duration": 342,
    "start_time": "2022-10-12T21:12:10.745Z"
   },
   {
    "duration": 193,
    "start_time": "2022-10-12T21:12:11.089Z"
   },
   {
    "duration": 34,
    "start_time": "2022-10-12T21:12:11.284Z"
   },
   {
    "duration": 269,
    "start_time": "2022-10-12T21:12:11.320Z"
   },
   {
    "duration": 22,
    "start_time": "2022-10-12T21:14:56.179Z"
   },
   {
    "duration": 1264,
    "start_time": "2022-10-12T21:15:06.119Z"
   },
   {
    "duration": 90,
    "start_time": "2022-10-12T21:15:07.385Z"
   },
   {
    "duration": 112,
    "start_time": "2022-10-12T21:15:07.477Z"
   },
   {
    "duration": 28,
    "start_time": "2022-10-12T21:15:07.592Z"
   },
   {
    "duration": 82,
    "start_time": "2022-10-12T21:15:07.622Z"
   },
   {
    "duration": 2245,
    "start_time": "2022-10-12T21:15:07.705Z"
   },
   {
    "duration": 13,
    "start_time": "2022-10-12T21:15:09.955Z"
   },
   {
    "duration": 18,
    "start_time": "2022-10-12T21:15:09.969Z"
   },
   {
    "duration": 7,
    "start_time": "2022-10-12T21:15:09.989Z"
   },
   {
    "duration": 13,
    "start_time": "2022-10-12T21:15:09.999Z"
   },
   {
    "duration": 175,
    "start_time": "2022-10-12T21:15:10.014Z"
   },
   {
    "duration": 6,
    "start_time": "2022-10-12T21:15:10.191Z"
   },
   {
    "duration": 6,
    "start_time": "2022-10-12T21:15:10.198Z"
   },
   {
    "duration": 188,
    "start_time": "2022-10-12T21:15:10.206Z"
   },
   {
    "duration": 28,
    "start_time": "2022-10-12T21:15:10.396Z"
   },
   {
    "duration": 13,
    "start_time": "2022-10-12T21:15:10.426Z"
   },
   {
    "duration": 16,
    "start_time": "2022-10-12T21:15:10.453Z"
   },
   {
    "duration": 14,
    "start_time": "2022-10-12T21:15:10.471Z"
   },
   {
    "duration": 28,
    "start_time": "2022-10-12T21:15:10.487Z"
   },
   {
    "duration": 119,
    "start_time": "2022-10-12T21:15:10.517Z"
   },
   {
    "duration": 9,
    "start_time": "2022-10-12T21:15:10.639Z"
   },
   {
    "duration": 58,
    "start_time": "2022-10-12T21:15:10.650Z"
   },
   {
    "duration": 4,
    "start_time": "2022-10-12T21:15:10.710Z"
   },
   {
    "duration": 12,
    "start_time": "2022-10-12T21:15:10.715Z"
   },
   {
    "duration": 34,
    "start_time": "2022-10-12T21:15:10.729Z"
   },
   {
    "duration": 8,
    "start_time": "2022-10-12T21:15:10.772Z"
   },
   {
    "duration": 26,
    "start_time": "2022-10-12T21:15:10.782Z"
   },
   {
    "duration": 5,
    "start_time": "2022-10-12T21:15:10.812Z"
   },
   {
    "duration": 42,
    "start_time": "2022-10-12T21:15:10.819Z"
   },
   {
    "duration": 7,
    "start_time": "2022-10-12T21:15:10.868Z"
   },
   {
    "duration": 15,
    "start_time": "2022-10-12T21:15:10.877Z"
   },
   {
    "duration": 11,
    "start_time": "2022-10-12T21:15:10.894Z"
   },
   {
    "duration": 10,
    "start_time": "2022-10-12T21:15:10.907Z"
   },
   {
    "duration": 17,
    "start_time": "2022-10-12T21:15:10.919Z"
   },
   {
    "duration": 24,
    "start_time": "2022-10-12T21:15:10.938Z"
   },
   {
    "duration": 10,
    "start_time": "2022-10-12T21:15:10.964Z"
   },
   {
    "duration": 5,
    "start_time": "2022-10-12T21:15:10.976Z"
   },
   {
    "duration": 8,
    "start_time": "2022-10-12T21:15:10.983Z"
   },
   {
    "duration": 18,
    "start_time": "2022-10-12T21:15:10.993Z"
   },
   {
    "duration": 7,
    "start_time": "2022-10-12T21:15:11.013Z"
   },
   {
    "duration": 7,
    "start_time": "2022-10-12T21:15:11.022Z"
   },
   {
    "duration": 17,
    "start_time": "2022-10-12T21:15:11.054Z"
   },
   {
    "duration": 16,
    "start_time": "2022-10-12T21:15:11.073Z"
   },
   {
    "duration": 6,
    "start_time": "2022-10-12T21:15:11.092Z"
   },
   {
    "duration": 14,
    "start_time": "2022-10-12T21:15:11.100Z"
   },
   {
    "duration": 168,
    "start_time": "2022-10-12T21:15:11.116Z"
   },
   {
    "duration": 6,
    "start_time": "2022-10-12T21:15:11.286Z"
   },
   {
    "duration": 26,
    "start_time": "2022-10-12T21:15:11.294Z"
   },
   {
    "duration": 13,
    "start_time": "2022-10-12T21:15:11.322Z"
   },
   {
    "duration": 22,
    "start_time": "2022-10-12T21:15:11.337Z"
   },
   {
    "duration": 33,
    "start_time": "2022-10-12T21:15:11.361Z"
   },
   {
    "duration": 30,
    "start_time": "2022-10-12T21:15:11.396Z"
   },
   {
    "duration": 7,
    "start_time": "2022-10-12T21:15:11.429Z"
   },
   {
    "duration": 41,
    "start_time": "2022-10-12T21:15:11.438Z"
   },
   {
    "duration": 69,
    "start_time": "2022-10-12T21:15:11.481Z"
   },
   {
    "duration": 59,
    "start_time": "2022-10-12T21:15:11.552Z"
   },
   {
    "duration": 50,
    "start_time": "2022-10-12T21:15:11.614Z"
   },
   {
    "duration": 32,
    "start_time": "2022-10-12T21:15:11.666Z"
   },
   {
    "duration": 28,
    "start_time": "2022-10-12T21:15:11.700Z"
   },
   {
    "duration": 46,
    "start_time": "2022-10-12T21:15:11.729Z"
   },
   {
    "duration": 358,
    "start_time": "2022-10-12T21:15:11.776Z"
   },
   {
    "duration": 4,
    "start_time": "2022-10-12T21:15:12.136Z"
   },
   {
    "duration": 58,
    "start_time": "2022-10-12T21:15:12.141Z"
   },
   {
    "duration": 569,
    "start_time": "2022-10-12T21:15:12.201Z"
   },
   {
    "duration": 255,
    "start_time": "2022-10-12T21:15:12.772Z"
   },
   {
    "duration": 10,
    "start_time": "2022-10-12T21:15:13.029Z"
   },
   {
    "duration": 34,
    "start_time": "2022-10-12T21:15:13.041Z"
   },
   {
    "duration": 143,
    "start_time": "2022-10-12T21:15:13.076Z"
   },
   {
    "duration": 373,
    "start_time": "2022-10-12T21:15:13.220Z"
   },
   {
    "duration": 305,
    "start_time": "2022-10-12T21:15:13.595Z"
   },
   {
    "duration": 246,
    "start_time": "2022-10-12T21:15:13.902Z"
   },
   {
    "duration": 155,
    "start_time": "2022-10-12T21:15:14.150Z"
   },
   {
    "duration": 172,
    "start_time": "2022-10-12T21:15:14.308Z"
   },
   {
    "duration": 170,
    "start_time": "2022-10-12T21:15:14.482Z"
   },
   {
    "duration": 209,
    "start_time": "2022-10-12T21:15:14.654Z"
   },
   {
    "duration": 324,
    "start_time": "2022-10-12T21:15:14.873Z"
   },
   {
    "duration": 189,
    "start_time": "2022-10-12T21:15:15.199Z"
   },
   {
    "duration": 201,
    "start_time": "2022-10-12T21:15:15.390Z"
   },
   {
    "duration": 202,
    "start_time": "2022-10-12T21:15:15.593Z"
   },
   {
    "duration": 206,
    "start_time": "2022-10-12T21:15:15.797Z"
   },
   {
    "duration": 208,
    "start_time": "2022-10-12T21:15:16.005Z"
   },
   {
    "duration": 175,
    "start_time": "2022-10-12T21:15:16.219Z"
   },
   {
    "duration": 204,
    "start_time": "2022-10-12T21:15:16.396Z"
   },
   {
    "duration": 9,
    "start_time": "2022-10-12T21:15:16.602Z"
   },
   {
    "duration": 165,
    "start_time": "2022-10-12T21:15:16.612Z"
   },
   {
    "duration": 8,
    "start_time": "2022-10-12T21:15:16.779Z"
   },
   {
    "duration": 20,
    "start_time": "2022-10-12T21:15:16.788Z"
   },
   {
    "duration": 307,
    "start_time": "2022-10-12T21:15:16.810Z"
   },
   {
    "duration": 7,
    "start_time": "2022-10-12T21:15:17.119Z"
   },
   {
    "duration": 17,
    "start_time": "2022-10-12T21:15:17.128Z"
   },
   {
    "duration": 14,
    "start_time": "2022-10-12T21:15:17.158Z"
   },
   {
    "duration": 22,
    "start_time": "2022-10-12T21:15:17.175Z"
   },
   {
    "duration": 184,
    "start_time": "2022-10-12T21:15:17.200Z"
   },
   {
    "duration": 221,
    "start_time": "2022-10-12T21:15:17.385Z"
   },
   {
    "duration": 239,
    "start_time": "2022-10-12T21:15:17.608Z"
   },
   {
    "duration": 374,
    "start_time": "2022-10-12T21:15:17.854Z"
   },
   {
    "duration": 192,
    "start_time": "2022-10-12T21:15:18.230Z"
   },
   {
    "duration": 33,
    "start_time": "2022-10-12T21:15:18.424Z"
   },
   {
    "duration": 231,
    "start_time": "2022-10-12T21:15:18.459Z"
   }
  ],
  "kernelspec": {
   "display_name": "Python 3 (ipykernel)",
   "language": "python",
   "name": "python3"
  },
  "language_info": {
   "codemirror_mode": {
    "name": "ipython",
    "version": 3
   },
   "file_extension": ".py",
   "mimetype": "text/x-python",
   "name": "python",
   "nbconvert_exporter": "python",
   "pygments_lexer": "ipython3",
   "version": "3.9.13"
  },
  "toc": {
   "base_numbering": 1,
   "nav_menu": {},
   "number_sections": true,
   "sideBar": true,
   "skip_h1_title": true,
   "title_cell": "Table of Contents",
   "title_sidebar": "Contents",
   "toc_cell": false,
   "toc_position": {},
   "toc_section_display": true,
   "toc_window_display": false
  }
 },
 "nbformat": 4,
 "nbformat_minor": 2
}
